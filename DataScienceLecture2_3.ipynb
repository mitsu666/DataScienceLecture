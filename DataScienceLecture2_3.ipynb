{
  "nbformat": 4,
  "nbformat_minor": 0,
  "metadata": {
    "colab": {
      "name": "DataScienceLecture2_3.ipynb",
      "provenance": [],
      "collapsed_sections": [],
      "include_colab_link": true
    },
    "kernelspec": {
      "name": "python3",
      "display_name": "Python 3"
    }
  },
  "cells": [
    {
      "cell_type": "markdown",
      "metadata": {
        "id": "view-in-github",
        "colab_type": "text"
      },
      "source": [
        "<a href=\"https://colab.research.google.com/github/mitsu666/DataScienceLecture/blob/master/DataScienceLecture2_3.ipynb\" target=\"_parent\"><img src=\"https://colab.research.google.com/assets/colab-badge.svg\" alt=\"Open In Colab\"/></a>"
      ]
    },
    {
      "cell_type": "markdown",
      "metadata": {
        "id": "_prLT9tf_E3u",
        "colab_type": "text"
      },
      "source": [
        "#5. 制御構造"
      ]
    },
    {
      "cell_type": "markdown",
      "metadata": {
        "id": "9X8aiXCL_H_I",
        "colab_type": "text"
      },
      "source": [
        "##5.1. IF ,ELSE,ELIF"
      ]
    },
    {
      "cell_type": "markdown",
      "metadata": {
        "id": "04pT6y0v_LYc",
        "colab_type": "text"
      },
      "source": [
        "###5.1.1 IF の基本構文"
      ]
    },
    {
      "cell_type": "code",
      "metadata": {
        "id": "5-hyD-jO_BW-",
        "colab_type": "code",
        "outputId": "9113d9b6-9d74-4ffd-bd9b-9d7033ebfd1e",
        "colab": {
          "base_uri": "https://localhost:8080/",
          "height": 35
        }
      },
      "source": [
        "#if 大小比較\n",
        "age = 22\n",
        "#20歳以上かどうか判定\n",
        "if age>=20:\n",
        "  print ('成人年齢') #TABあけてます。\n",
        "  \n",
        "#if 同じかどうか\n",
        "if age==20:\n",
        "  print ('20歳です') #TABあけてます。"
      ],
      "execution_count": 0,
      "outputs": [
        {
          "output_type": "stream",
          "text": [
            "成人年齢\n"
          ],
          "name": "stdout"
        }
      ]
    },
    {
      "cell_type": "code",
      "metadata": {
        "id": "1Zjy2yVX_OdZ",
        "colab_type": "code",
        "outputId": "d4599a8f-330b-4aa1-f3b8-24c39a2f2c98",
        "colab": {
          "base_uri": "https://localhost:8080/",
          "height": 53
        }
      },
      "source": [
        "# if \n",
        "hantei = True\n",
        "if hantei:\n",
        "  print ('正しい')\n",
        "else:\n",
        "  print ('正しくない')\n",
        "  \n",
        "age =24\n",
        "if age>20:\n",
        "  print('成人')\n",
        "else:\n",
        "  print('未成年')"
      ],
      "execution_count": 0,
      "outputs": [
        {
          "output_type": "stream",
          "text": [
            "正しい\n",
            "成人\n"
          ],
          "name": "stdout"
        }
      ]
    },
    {
      "cell_type": "code",
      "metadata": {
        "id": "iflXzV8W_XLj",
        "colab_type": "code",
        "outputId": "40797ffa-97ab-4a0a-b831-a5798ee897c0",
        "colab": {
          "base_uri": "https://localhost:8080/",
          "height": 35
        }
      },
      "source": [
        "#ifを入れ子\n",
        "if hantei:\n",
        "  if age>=20:\n",
        "    print('正しい成人')\n",
        "  else:\n",
        "    print('正しくない成人')\n",
        "    \n",
        "# True False は if hantei==Trueと書く必要がない\n",
        "# 比較はif a==0のように2つつける"
      ],
      "execution_count": 0,
      "outputs": [
        {
          "output_type": "stream",
          "text": [
            "正しい成人\n"
          ],
          "name": "stdout"
        }
      ]
    },
    {
      "cell_type": "code",
      "metadata": {
        "id": "oIkvyUcD_Z0N",
        "colab_type": "code",
        "outputId": "713a0167-1c8a-420b-9db0-d9f9e1206244",
        "colab": {
          "base_uri": "https://localhost:8080/",
          "height": 35
        }
      },
      "source": [
        "age = 12 \n",
        "if age >=20:\n",
        "  print (\"20歳以上\")\n",
        "elif age>=13:\n",
        "  print (\"13歳以上\")\n",
        "else:\n",
        "  print (\"12歳以下\")"
      ],
      "execution_count": 0,
      "outputs": [
        {
          "output_type": "stream",
          "text": [
            "12歳以下\n"
          ],
          "name": "stdout"
        }
      ]
    },
    {
      "cell_type": "markdown",
      "metadata": {
        "id": "PWnEUGMs_hON",
        "colab_type": "text"
      },
      "source": [
        "###5.1.4  比較演算子\n"
      ]
    },
    {
      "cell_type": "markdown",
      "metadata": {
        "id": "b0H-_QtH_pvD",
        "colab_type": "text"
      },
      "source": [
        "###5.1.5 複数の比較"
      ]
    },
    {
      "cell_type": "code",
      "metadata": {
        "id": "q3jP2eDN_e3x",
        "colab_type": "code",
        "outputId": "e793b1f1-c125-4841-c0ef-90e5096f1ac3",
        "colab": {
          "base_uri": "https://localhost:8080/",
          "height": 35
        }
      },
      "source": [
        "age = 23\n",
        "gender = 'M'\n",
        "\n",
        "#複数の条件は各々の条件をカッコで括る\n",
        "if (age >=20) & (gender=='M'):\n",
        "  print ('成人男性です')\n",
        "elif (age>=20) & (gender=='F'):\n",
        "  print ('成人女性')\n",
        "else:\n",
        "  print('未成年です')"
      ],
      "execution_count": 0,
      "outputs": [
        {
          "output_type": "stream",
          "text": [
            "成人男性です\n"
          ],
          "name": "stdout"
        }
      ]
    },
    {
      "cell_type": "markdown",
      "metadata": {
        "id": "u6QAkGjs_wDk",
        "colab_type": "text"
      },
      "source": [
        "##5.2. WHILE 構文* あまり私は使わない"
      ]
    },
    {
      "cell_type": "markdown",
      "metadata": {
        "id": "yoPboLME_0Mi",
        "colab_type": "text"
      },
      "source": [
        "###5.2.1 基本構文"
      ]
    },
    {
      "cell_type": "code",
      "metadata": {
        "id": "tXAUELK4_ttL",
        "colab_type": "code",
        "outputId": "505d672b-2c58-46de-956f-97fedc997a1d",
        "colab": {
          "base_uri": "https://localhost:8080/",
          "height": 215
        }
      },
      "source": [
        "#numが10で以下である場合はずっと回る\n",
        "num = 0\n",
        "while num <=10:\n",
        "  print (num)\n",
        "  num +=1"
      ],
      "execution_count": 0,
      "outputs": [
        {
          "output_type": "stream",
          "text": [
            "0\n",
            "1\n",
            "2\n",
            "3\n",
            "4\n",
            "5\n",
            "6\n",
            "7\n",
            "8\n",
            "9\n",
            "10\n"
          ],
          "name": "stdout"
        }
      ]
    },
    {
      "cell_type": "markdown",
      "metadata": {
        "id": "-5ccXcNL_5ge",
        "colab_type": "text"
      },
      "source": [
        "###5.2.2 BREAK"
      ]
    },
    {
      "cell_type": "code",
      "metadata": {
        "id": "SfXohmcy_25s",
        "colab_type": "code",
        "outputId": "51d54f1d-ff45-4874-89ab-27a4c36bbbc4",
        "colab": {
          "base_uri": "https://localhost:8080/",
          "height": 71
        }
      },
      "source": [
        "#特殊な条件まで回る\n",
        "while True:\n",
        "  #input関数は外部入力を受ける\n",
        "  letter = input()\n",
        "  if letter == 'Exit':\n",
        "    break\n",
        "  else:\n",
        "    print (\"終了するには「Exit」と入力してください\")"
      ],
      "execution_count": 0,
      "outputs": [
        {
          "output_type": "stream",
          "text": [
            "www\n",
            "終了するには「Exit」と入力してください\n",
            "Exit\n"
          ],
          "name": "stdout"
        }
      ]
    },
    {
      "cell_type": "markdown",
      "metadata": {
        "id": "Cy8Siy8HAADD",
        "colab_type": "text"
      },
      "source": [
        "##5.3 FORによる反復 "
      ]
    },
    {
      "cell_type": "markdown",
      "metadata": {
        "id": "yoc3MY4dADDv",
        "colab_type": "text"
      },
      "source": [
        "###5.3.1 リストを用いた繰り返し"
      ]
    },
    {
      "cell_type": "code",
      "metadata": {
        "id": "cbnpiOtQ_8RX",
        "colab_type": "code",
        "outputId": "218b543d-2b8d-45f3-8375-c9dbe14a257f",
        "colab": {
          "base_uri": "https://localhost:8080/",
          "height": 197
        }
      },
      "source": [
        "#数値リスト作成\n",
        "nums = [0,1,2,3,4,5,6,7,8,9]\n",
        "for i in nums:\n",
        "  print (i)"
      ],
      "execution_count": 0,
      "outputs": [
        {
          "output_type": "stream",
          "text": [
            "0\n",
            "1\n",
            "2\n",
            "3\n",
            "4\n",
            "5\n",
            "6\n",
            "7\n",
            "8\n",
            "9\n"
          ],
          "name": "stdout"
        }
      ]
    },
    {
      "cell_type": "code",
      "metadata": {
        "id": "SMmQ995UAGOR",
        "colab_type": "code",
        "outputId": "6bcca7bf-c08d-40e7-86d9-63e41046e5dc",
        "colab": {
          "base_uri": "https://localhost:8080/",
          "height": 89
        }
      },
      "source": [
        "#文字列リストを作成\n",
        "pref = ['東京都','神奈川県','埼玉県','千葉県']\n",
        "for p in pref:\n",
        "  print('pの値',p)"
      ],
      "execution_count": 0,
      "outputs": [
        {
          "output_type": "stream",
          "text": [
            "pの値 東京都\n",
            "pの値 神奈川県\n",
            "pの値 埼玉県\n",
            "pの値 千葉県\n"
          ],
          "name": "stdout"
        }
      ]
    },
    {
      "cell_type": "code",
      "metadata": {
        "id": "U6QOKaGQAI3h",
        "colab_type": "code",
        "outputId": "9fdddd06-e04d-462c-e2f6-38ca8703351c",
        "colab": {
          "base_uri": "https://localhost:8080/",
          "height": 107
        }
      },
      "source": [
        "#　文字列をforで処理すると１度に１字ずつ生成される。\n",
        "word = 'おもてなし'\n",
        "for letter in word:\n",
        "  print(letter)"
      ],
      "execution_count": 0,
      "outputs": [
        {
          "output_type": "stream",
          "text": [
            "お\n",
            "も\n",
            "て\n",
            "な\n",
            "し\n"
          ],
          "name": "stdout"
        }
      ]
    },
    {
      "cell_type": "markdown",
      "metadata": {
        "id": "raSF52kFAM_b",
        "colab_type": "text"
      },
      "source": [
        "###5.3.2 辞書を用いた繰り返し"
      ]
    },
    {
      "cell_type": "code",
      "metadata": {
        "id": "pODqSFFrAK-3",
        "colab_type": "code",
        "outputId": "d475fcbc-995a-4a96-c0df-3a00ca870837",
        "colab": {
          "base_uri": "https://localhost:8080/",
          "height": 89
        }
      },
      "source": [
        "#辞書をforで処理するとキーが返される。\n",
        "peech = {'Kanako':'red','Momoka':'green','Reni':'purple','Akari':'blue'}\n",
        "\n",
        "for member in peech:  #またはfor member in peech .keys()\n",
        "  print(member)\n",
        "#少し前のももクロ。出典Wikipedia。"
      ],
      "execution_count": 0,
      "outputs": [
        {
          "output_type": "stream",
          "text": [
            "Kanako\n",
            "Momoka\n",
            "Reni\n",
            "Akari\n"
          ],
          "name": "stdout"
        }
      ]
    },
    {
      "cell_type": "code",
      "metadata": {
        "id": "yXCr5sgdAQFy",
        "colab_type": "code",
        "outputId": "e1b62cb3-3edb-4c69-b341-b8cac60a876c",
        "colab": {
          "base_uri": "https://localhost:8080/",
          "height": 89
        }
      },
      "source": [
        "#値を反復処理したい場合\n",
        "for value in peech.values():\n",
        "  print(value)"
      ],
      "execution_count": 0,
      "outputs": [
        {
          "output_type": "stream",
          "text": [
            "red\n",
            "green\n",
            "purple\n",
            "blue\n"
          ],
          "name": "stdout"
        }
      ]
    },
    {
      "cell_type": "code",
      "metadata": {
        "id": "TFh2hg1oAS3m",
        "colab_type": "code",
        "outputId": "e18a8160-ece0-4fc7-f452-8512f7aa1ac6",
        "colab": {
          "base_uri": "https://localhost:8080/",
          "height": 89
        }
      },
      "source": [
        "#キーと値の両方をタプルの形で返す場合。\n",
        "for item in peech.items():\n",
        "  print(item)"
      ],
      "execution_count": 0,
      "outputs": [
        {
          "output_type": "stream",
          "text": [
            "('Kanako', 'red')\n",
            "('Momoka', 'green')\n",
            "('Reni', 'purple')\n",
            "('Akari', 'blue')\n"
          ],
          "name": "stdout"
        }
      ]
    },
    {
      "cell_type": "code",
      "metadata": {
        "id": "gxG6fjVmAUrr",
        "colab_type": "code",
        "outputId": "19b4c24f-bc2a-40ef-b17b-4388fe2bdc4a",
        "colab": {
          "base_uri": "https://localhost:8080/",
          "height": 89
        }
      },
      "source": [
        "#　items()が返す個々のタプルについて、第１の値（キー）をmember、第２の値（値）をcolorに代入する。\n",
        "for member,color in peech.items():\n",
        "  print('member',member,'has the color',color)"
      ],
      "execution_count": 0,
      "outputs": [
        {
          "output_type": "stream",
          "text": [
            "member Kanako has the color red\n",
            "member Momoka has the color green\n",
            "member Reni has the color purple\n",
            "member Akari has the color blue\n"
          ],
          "name": "stdout"
        }
      ]
    },
    {
      "cell_type": "markdown",
      "metadata": {
        "id": "58_fVxNyAbkd",
        "colab_type": "text"
      },
      "source": [
        "###5.3.3 ZIP()を使った複数のシーケンスの反復処理"
      ]
    },
    {
      "cell_type": "code",
      "metadata": {
        "id": "rdAlqsxhAXng",
        "colab_type": "code",
        "outputId": "260b2ba3-1f30-4348-dca9-51e44aa4e51e",
        "colab": {
          "base_uri": "https://localhost:8080/",
          "height": 71
        }
      },
      "source": [
        "#リスト作成\n",
        "month=['10月','11月','12月']\n",
        "month_old=['神無月','霜月','師走']\n",
        "month_en=['October','November','December']\n",
        "\n",
        "#3つ並列でループさせる。\n",
        "for m1,m2,m3 in zip(month,month_old,month_en):\n",
        "  print(m1,m2,m3)"
      ],
      "execution_count": 0,
      "outputs": [
        {
          "output_type": "stream",
          "text": [
            "10月 神無月 October\n",
            "11月 霜月 November\n",
            "12月 師走 December\n"
          ],
          "name": "stdout"
        }
      ]
    },
    {
      "cell_type": "markdown",
      "metadata": {
        "id": "tV4B5V_FAhjJ",
        "colab_type": "text"
      },
      "source": [
        "###5.3.4 RANGE()によるループ"
      ]
    },
    {
      "cell_type": "code",
      "metadata": {
        "id": "QSDksfjnAfj8",
        "colab_type": "code",
        "outputId": "99d6405f-e3bc-4160-c609-aeb52f44314e",
        "colab": {
          "base_uri": "https://localhost:8080/",
          "height": 197
        }
      },
      "source": [
        "#数値リスト作成\n",
        "nums = [0,1,2,3,4,5,6,7,8,9]\n",
        "for i in nums:\n",
        "  print (i)"
      ],
      "execution_count": 0,
      "outputs": [
        {
          "output_type": "stream",
          "text": [
            "0\n",
            "1\n",
            "2\n",
            "3\n",
            "4\n",
            "5\n",
            "6\n",
            "7\n",
            "8\n",
            "9\n"
          ],
          "name": "stdout"
        }
      ]
    },
    {
      "cell_type": "code",
      "metadata": {
        "id": "T3C6iyJQAkNO",
        "colab_type": "code",
        "outputId": "afc5e337-1cf0-4b74-e127-8af9e0b5f859",
        "colab": {
          "base_uri": "https://localhost:8080/",
          "height": 233
        }
      },
      "source": [
        "#　rande()関数を使えば以下のように連続した整数のリストのような振る舞いができる。\n",
        "print (range(0,10))\n",
        "for x in range(0,10):\n",
        "  print(x)\n",
        "list(range(0,10))"
      ],
      "execution_count": 0,
      "outputs": [
        {
          "output_type": "stream",
          "text": [
            "range(0, 10)\n",
            "0\n",
            "1\n",
            "2\n",
            "3\n",
            "4\n",
            "5\n",
            "6\n",
            "7\n",
            "8\n",
            "9\n"
          ],
          "name": "stdout"
        },
        {
          "output_type": "execute_result",
          "data": {
            "text/plain": [
              "[0, 1, 2, 3, 4, 5, 6, 7, 8, 9]"
            ]
          },
          "metadata": {
            "tags": []
          },
          "execution_count": 19
        }
      ]
    },
    {
      "cell_type": "code",
      "metadata": {
        "id": "ALfbaS0mAmWr",
        "colab_type": "code",
        "outputId": "58fd54e8-9d4a-4a0f-b472-9e7fb5397ce6",
        "colab": {
          "base_uri": "https://localhost:8080/",
          "height": 89
        }
      },
      "source": [
        "#range(start,end,stepby)\n",
        "#2から-1まで1つずつ減らす\n",
        "for x in range(2, -1, -1):\n",
        "  print(x)\n",
        "\n",
        "list(range(2,  -1, -1))\n",
        "\n",
        "list(range(0, 11, 2))"
      ],
      "execution_count": 0,
      "outputs": [
        {
          "output_type": "stream",
          "text": [
            "2\n",
            "1\n",
            "0\n"
          ],
          "name": "stdout"
        },
        {
          "output_type": "execute_result",
          "data": {
            "text/plain": [
              "[0, 2, 4, 6, 8, 10]"
            ]
          },
          "metadata": {
            "tags": []
          },
          "execution_count": 20
        }
      ]
    },
    {
      "cell_type": "code",
      "metadata": {
        "id": "OElQRf8DA2su",
        "colab_type": "code",
        "colab": {}
      },
      "source": [
        ""
      ],
      "execution_count": 0,
      "outputs": []
    }
  ]
}
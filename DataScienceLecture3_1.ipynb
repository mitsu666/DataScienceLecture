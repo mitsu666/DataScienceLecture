{
  "nbformat": 4,
  "nbformat_minor": 0,
  "metadata": {
    "colab": {
      "name": "DataScienceLecture3_1",
      "provenance": [],
      "collapsed_sections": [],
      "include_colab_link": true
    },
    "kernelspec": {
      "name": "python3",
      "display_name": "Python 3"
    }
  },
  "cells": [
    {
      "cell_type": "markdown",
      "metadata": {
        "id": "view-in-github",
        "colab_type": "text"
      },
      "source": [
        "<a href=\"https://colab.research.google.com/github/mitsu666/DataScienceLecture/blob/master/DataScienceLecture3_1.ipynb\" target=\"_parent\"><img src=\"https://colab.research.google.com/assets/colab-badge.svg\" alt=\"Open In Colab\"/></a>"
      ]
    },
    {
      "cell_type": "markdown",
      "metadata": {
        "id": "NetsB68jsrAb",
        "colab_type": "text"
      },
      "source": [
        "#1. Numpy基礎"
      ]
    },
    {
      "cell_type": "markdown",
      "metadata": {
        "id": "c2n6GCZMsy_u",
        "colab_type": "text"
      },
      "source": [
        "##1.1. NUMPY配列オブジェクト"
      ]
    },
    {
      "cell_type": "code",
      "metadata": {
        "id": "gCOtM3sasZ6W",
        "colab_type": "code",
        "colab": {}
      },
      "source": [
        "#numpyモジュールをインポートする\n",
        "import numpy as np"
      ],
      "execution_count": 0,
      "outputs": []
    },
    {
      "cell_type": "markdown",
      "metadata": {
        "id": "c5W3HNk-uTV_",
        "colab_type": "text"
      },
      "source": [
        "###1.1.1. NDARRAYの生成"
      ]
    },
    {
      "cell_type": "markdown",
      "metadata": {
        "id": "Ai1qIJRbtPwq",
        "colab_type": "text"
      },
      "source": [
        "####リストで作成"
      ]
    },
    {
      "cell_type": "code",
      "metadata": {
        "id": "31KDvqoos2qa",
        "colab_type": "code",
        "colab": {}
      },
      "source": [
        "#引数にリスト\n",
        "arr = np.array([1,2,3,4,3.14,9.99])"
      ],
      "execution_count": 0,
      "outputs": []
    },
    {
      "cell_type": "code",
      "metadata": {
        "id": "Sngsh2a1s8Jp",
        "colab_type": "code",
        "colab": {
          "base_uri": "https://localhost:8080/",
          "height": 71
        },
        "outputId": "bdd39ae3-74df-4a1f-e10a-5fcfe5cb40fb"
      },
      "source": [
        "print (arr)\n",
        "#type調べる\n",
        "print (type(arr))\n",
        "#サイズを調べる(shapeというアトリビュートを参照する)\n",
        "print (arr.shape)"
      ],
      "execution_count": 3,
      "outputs": [
        {
          "output_type": "stream",
          "text": [
            "[1.   2.   3.   4.   3.14 9.99]\n",
            "<class 'numpy.ndarray'>\n",
            "(6,)\n"
          ],
          "name": "stdout"
        }
      ]
    },
    {
      "cell_type": "code",
      "metadata": {
        "id": "j2ev3edIs_zj",
        "colab_type": "code",
        "colab": {
          "base_uri": "https://localhost:8080/",
          "height": 71
        },
        "outputId": "365fd496-8a0a-497a-9182-0fcd32d8df05"
      },
      "source": [
        "#リストの中にリストを持つケース。ネスト構造の内側のシーケンス同士の要素数が一致する場合に、ndarrayの多次元配列が生成される。\n",
        "data2=[[1,2,3,4],[5,6,7,8]]\n",
        "arr2=np.array(data2)\n",
        "#中身確認\n",
        "print (arr2)\n",
        "#同じようにshape確認\n",
        "print (arr2.shape)"
      ],
      "execution_count": 4,
      "outputs": [
        {
          "output_type": "stream",
          "text": [
            "[[1 2 3 4]\n",
            " [5 6 7 8]]\n",
            "(2, 4)\n"
          ],
          "name": "stdout"
        }
      ]
    },
    {
      "cell_type": "code",
      "metadata": {
        "id": "00LaDMNptCrj",
        "colab_type": "code",
        "colab": {
          "base_uri": "https://localhost:8080/",
          "height": 71
        },
        "outputId": "ecfc0960-18e6-40c1-aeb6-3f55fed26c99"
      },
      "source": [
        "#何次元配列か？\n",
        "print (arr2.ndim)\n",
        "#次元の要素数それぞれ\n",
        "print (arr2.shape)\n",
        "#変数の型は？\n",
        "print (arr2.dtype)"
      ],
      "execution_count": 5,
      "outputs": [
        {
          "output_type": "stream",
          "text": [
            "2\n",
            "(2, 4)\n",
            "int64\n"
          ],
          "name": "stdout"
        }
      ]
    },
    {
      "cell_type": "markdown",
      "metadata": {
        "id": "aygMqxw4tVAX",
        "colab_type": "text"
      },
      "source": [
        "####ZEROで作成"
      ]
    },
    {
      "cell_type": "code",
      "metadata": {
        "id": "R-mb1agetF-t",
        "colab_type": "code",
        "colab": {
          "base_uri": "https://localhost:8080/",
          "height": 35
        },
        "outputId": "a966fef4-05eb-4e4b-f4d2-6c55c7318c5d"
      },
      "source": [
        "#要素10個がすべて0の1次元配列作成\n",
        "print (np.zeros(10))"
      ],
      "execution_count": 6,
      "outputs": [
        {
          "output_type": "stream",
          "text": [
            "[0. 0. 0. 0. 0. 0. 0. 0. 0. 0.]\n"
          ],
          "name": "stdout"
        }
      ]
    },
    {
      "cell_type": "code",
      "metadata": {
        "id": "PhLZQT1utZF7",
        "colab_type": "code",
        "colab": {
          "base_uri": "https://localhost:8080/",
          "height": 89
        },
        "outputId": "753e457c-f7bb-40a8-837c-a407d35588fd"
      },
      "source": [
        "#4×2 要素すべてが0である配列作成\n",
        "print (np.zeros((4,2)))"
      ],
      "execution_count": 7,
      "outputs": [
        {
          "output_type": "stream",
          "text": [
            "[[0. 0.]\n",
            " [0. 0.]\n",
            " [0. 0.]\n",
            " [0. 0.]]\n"
          ],
          "name": "stdout"
        }
      ]
    },
    {
      "cell_type": "markdown",
      "metadata": {
        "id": "vKCGdsLwthdY",
        "colab_type": "text"
      },
      "source": [
        "####ONESで生成"
      ]
    },
    {
      "cell_type": "code",
      "metadata": {
        "id": "YNTsCVZqtbtV",
        "colab_type": "code",
        "colab": {
          "base_uri": "https://localhost:8080/",
          "height": 35
        },
        "outputId": "7f77d411-079c-438e-c2f1-93a89dfd7348"
      },
      "source": [
        "#np.onesはすべての要素を１にする。\n",
        "print (np.ones(10))"
      ],
      "execution_count": 8,
      "outputs": [
        {
          "output_type": "stream",
          "text": [
            "[1. 1. 1. 1. 1. 1. 1. 1. 1. 1.]\n"
          ],
          "name": "stdout"
        }
      ]
    },
    {
      "cell_type": "code",
      "metadata": {
        "id": "RYIrm5a0tlHV",
        "colab_type": "code",
        "colab": {
          "base_uri": "https://localhost:8080/",
          "height": 89
        },
        "outputId": "02bd81fd-ac80-41e1-b50c-8493b0bbfacc"
      },
      "source": [
        "#4×2要素すべて1\n",
        "print (np.ones((4,2)))"
      ],
      "execution_count": 9,
      "outputs": [
        {
          "output_type": "stream",
          "text": [
            "[[1. 1.]\n",
            " [1. 1.]\n",
            " [1. 1.]\n",
            " [1. 1.]]\n"
          ],
          "name": "stdout"
        }
      ]
    },
    {
      "cell_type": "markdown",
      "metadata": {
        "id": "Yi7ptKvmtpV5",
        "colab_type": "text"
      },
      "source": [
        "####EMPTYで生成"
      ]
    },
    {
      "cell_type": "code",
      "metadata": {
        "id": "bK9nXC80tnDg",
        "colab_type": "code",
        "colab": {
          "base_uri": "https://localhost:8080/",
          "height": 35
        },
        "outputId": "8afecd98-a2fd-4e6d-ae71-33a22d28882b"
      },
      "source": [
        "#np.emptyは要素を初期化せず戻してくれる。\n",
        "print (np.empty(2))"
      ],
      "execution_count": 10,
      "outputs": [
        {
          "output_type": "stream",
          "text": [
            "[2.5468499e-316 9.8813129e-324]\n"
          ],
          "name": "stdout"
        }
      ]
    },
    {
      "cell_type": "code",
      "metadata": {
        "id": "bq1uglK1tswg",
        "colab_type": "code",
        "colab": {
          "base_uri": "https://localhost:8080/",
          "height": 143
        },
        "outputId": "001f04c9-cf03-4ccc-e80d-3edd254a59ac"
      },
      "source": [
        "#3次元配列\n",
        "print (np.empty((2,3,2)))"
      ],
      "execution_count": 11,
      "outputs": [
        {
          "output_type": "stream",
          "text": [
            "[[[3.86800911e-316 0.00000000e+000]\n",
            "  [4.11556683e-321 2.66943076e-316]\n",
            "  [6.89934492e-310 6.89934492e-310]]\n",
            "\n",
            " [[6.89934492e-310 6.89934492e-310]\n",
            "  [0.00000000e+000 1.97626258e-323]\n",
            "  [1.90979621e-313 0.00000000e+000]]]\n"
          ],
          "name": "stdout"
        }
      ]
    },
    {
      "cell_type": "markdown",
      "metadata": {
        "id": "z954yvpztw32",
        "colab_type": "text"
      },
      "source": [
        "####ARANGEで生成"
      ]
    },
    {
      "cell_type": "code",
      "metadata": {
        "id": "PbCIncSXtvHv",
        "colab_type": "code",
        "colab": {
          "base_uri": "https://localhost:8080/",
          "height": 35
        },
        "outputId": "cd6a4a0b-4c11-416e-edba-07fc93530b33"
      },
      "source": [
        "#arange\n",
        "print (np.arange(15))"
      ],
      "execution_count": 12,
      "outputs": [
        {
          "output_type": "stream",
          "text": [
            "[ 0  1  2  3  4  5  6  7  8  9 10 11 12 13 14]\n"
          ],
          "name": "stdout"
        }
      ]
    },
    {
      "cell_type": "code",
      "metadata": {
        "id": "efaE7OZet0av",
        "colab_type": "code",
        "colab": {
          "base_uri": "https://localhost:8080/",
          "height": 35
        },
        "outputId": "d02b3c60-58c7-40c3-b34a-2082d570d723"
      },
      "source": [
        "#rangeオブジェクトから生成\n",
        "print (np.array(range(15)))"
      ],
      "execution_count": 13,
      "outputs": [
        {
          "output_type": "stream",
          "text": [
            "[ 0  1  2  3  4  5  6  7  8  9 10 11 12 13 14]\n"
          ],
          "name": "stdout"
        }
      ]
    },
    {
      "cell_type": "code",
      "metadata": {
        "id": "ROwTwNmCt2Pb",
        "colab_type": "code",
        "colab": {
          "base_uri": "https://localhost:8080/",
          "height": 53
        },
        "outputId": "0bb0d226-92c4-47f8-9e51-87949421078b"
      },
      "source": [
        "#同じかどうか\n",
        "print (np.arange(15)==np.array(range(15)))"
      ],
      "execution_count": 14,
      "outputs": [
        {
          "output_type": "stream",
          "text": [
            "[ True  True  True  True  True  True  True  True  True  True  True  True\n",
            "  True  True  True]\n"
          ],
          "name": "stdout"
        }
      ]
    },
    {
      "cell_type": "code",
      "metadata": {
        "id": "wK06L00nt4Z6",
        "colab_type": "code",
        "colab": {
          "base_uri": "https://localhost:8080/",
          "height": 107
        },
        "outputId": "e5702a5a-807a-4d18-c5a6-f2e812224704"
      },
      "source": [
        "#2次元配列を作成\n",
        "print (np.arange(15).reshape(5,3))"
      ],
      "execution_count": 15,
      "outputs": [
        {
          "output_type": "stream",
          "text": [
            "[[ 0  1  2]\n",
            " [ 3  4  5]\n",
            " [ 6  7  8]\n",
            " [ 9 10 11]\n",
            " [12 13 14]]\n"
          ],
          "name": "stdout"
        }
      ]
    },
    {
      "cell_type": "markdown",
      "metadata": {
        "id": "JMSo1iJct9nl",
        "colab_type": "text"
      },
      "source": [
        "####NDARRAY生成方法まとめ"
      ]
    },
    {
      "cell_type": "code",
      "metadata": {
        "id": "hj7etqamt8EK",
        "colab_type": "code",
        "colab": {
          "base_uri": "https://localhost:8080/",
          "height": 53
        },
        "outputId": "f3b4b03e-3035-4c5d-a8d8-e35a2d9abe8f"
      },
      "source": [
        "#リストから作成\n",
        "print (np.array([0,1,2]))\n",
        "#タプルから作成\n",
        "print (np.array((3,4,4,)))"
      ],
      "execution_count": 16,
      "outputs": [
        {
          "output_type": "stream",
          "text": [
            "[0 1 2]\n",
            "[3 4 4]\n"
          ],
          "name": "stdout"
        }
      ]
    },
    {
      "cell_type": "code",
      "metadata": {
        "id": "1SEhvNbEuA2d",
        "colab_type": "code",
        "colab": {
          "base_uri": "https://localhost:8080/",
          "height": 89
        },
        "outputId": "15b010b8-694e-4580-d3d1-ae99ddaca7cc"
      },
      "source": [
        "#arangeで作成\n",
        "print (np.arange(15))\n",
        "#arangeで2次元配列作成\n",
        "print (np.arange(15).reshape(3,5))"
      ],
      "execution_count": 17,
      "outputs": [
        {
          "output_type": "stream",
          "text": [
            "[ 0  1  2  3  4  5  6  7  8  9 10 11 12 13 14]\n",
            "[[ 0  1  2  3  4]\n",
            " [ 5  6  7  8  9]\n",
            " [10 11 12 13 14]]\n"
          ],
          "name": "stdout"
        }
      ]
    },
    {
      "cell_type": "code",
      "metadata": {
        "id": "MD5bqR6suCpE",
        "colab_type": "code",
        "colab": {
          "base_uri": "https://localhost:8080/",
          "height": 593
        },
        "outputId": "e4778eca-a0c5-41ab-bdc6-70fb369e1aaa"
      },
      "source": [
        "#ones\n",
        "print (np.ones((3,4)))\n",
        "#ones_like np配列を引数として受け取り同じ形ですべて1にする\n",
        "print (np.ones_like(np.arange(15).reshape(3,5)))\n",
        "\n",
        "#zeros\n",
        "print (np.zeros((3,4)))\n",
        "#ones_like np配列を引数として受け取り同じ形ですべて1にする\n",
        "print (np.zeros_like(np.arange(15).reshape(3,5)))\n",
        "\n",
        "#empty\n",
        "print (np.empty((10,2)))\n",
        "#ones_like np配列を引数として受け取り同じ形ですべて1にする\n",
        "print (np.empty_like(np.arange(20).reshape(10,2)))"
      ],
      "execution_count": 18,
      "outputs": [
        {
          "output_type": "stream",
          "text": [
            "[[1. 1. 1. 1.]\n",
            " [1. 1. 1. 1.]\n",
            " [1. 1. 1. 1.]]\n",
            "[[1 1 1 1 1]\n",
            " [1 1 1 1 1]\n",
            " [1 1 1 1 1]]\n",
            "[[0. 0. 0. 0.]\n",
            " [0. 0. 0. 0.]\n",
            " [0. 0. 0. 0.]]\n",
            "[[0 0 0 0 0]\n",
            " [0 0 0 0 0]\n",
            " [0 0 0 0 0]]\n",
            "[[2.92881324e-316 5.38531554e-322]\n",
            " [0.00000000e+000 0.00000000e+000]\n",
            " [0.00000000e+000 1.16095484e-028]\n",
            " [3.68423986e+180 5.56218858e+180]\n",
            " [1.54722523e+262 7.48952651e+247]\n",
            " [8.76739466e+252 8.89489936e+252]\n",
            " [1.17149199e+214 1.14428494e+243]\n",
            " [1.35617218e+248 2.78225511e+296]\n",
            " [7.67127212e+151 2.77620488e+184]\n",
            " [3.67150196e+228 1.48121964e+295]]\n",
            "[[           59279840                 109]\n",
            " [                  0                   0]\n",
            " [                  0 4189022085447885435]\n",
            " [7308332238530945570 7310875413622977646]\n",
            " [8529661999317328428 8315171456806384225]\n",
            " [8391088104661531170 8391166427719365231]\n",
            " [7809635628709671535 8243121639893263731]\n",
            " [8319104478871053663 9041884596516319081]\n",
            " [6879089467297178156 7366237998127805555]\n",
            " [8026363953081969761 9022734504215998069]]\n"
          ],
          "name": "stdout"
        }
      ]
    },
    {
      "cell_type": "code",
      "metadata": {
        "id": "zw_boztWuFFe",
        "colab_type": "code",
        "colab": {
          "base_uri": "https://localhost:8080/",
          "height": 71
        },
        "outputId": "fb5bfde0-d23f-4f51-848f-9d9ccdfeb0d5"
      },
      "source": [
        "#単位行列の生成\n",
        "print (np.identity(3))"
      ],
      "execution_count": 19,
      "outputs": [
        {
          "output_type": "stream",
          "text": [
            "[[1. 0. 0.]\n",
            " [0. 1. 0.]\n",
            " [0. 0. 1.]]\n"
          ],
          "name": "stdout"
        }
      ]
    },
    {
      "cell_type": "markdown",
      "metadata": {
        "id": "CYij57n3ug1N",
        "colab_type": "text"
      },
      "source": [
        "###1.1.2. NDARRAYのデータ型"
      ]
    },
    {
      "cell_type": "code",
      "metadata": {
        "id": "w04y0O8luG_U",
        "colab_type": "code",
        "colab": {}
      },
      "source": [
        "#dtypeを明示する\n",
        "arr1 = np.array([1,3,5],dtype=np.float64)\n",
        "\n",
        "#dtypeを明示する\n",
        "arr2 = np.array([1,3,5],dtype=np.int64)"
      ],
      "execution_count": 0,
      "outputs": []
    },
    {
      "cell_type": "code",
      "metadata": {
        "id": "U1OOI5Yyuj6x",
        "colab_type": "code",
        "colab": {
          "base_uri": "https://localhost:8080/",
          "height": 53
        },
        "outputId": "f7cb74b0-8ea6-431f-d4ad-ce28a4eed46b"
      },
      "source": [
        "print (arr1.dtype)\n",
        "print (arr2.dtype)"
      ],
      "execution_count": 21,
      "outputs": [
        {
          "output_type": "stream",
          "text": [
            "float64\n",
            "int64\n"
          ],
          "name": "stdout"
        }
      ]
    },
    {
      "cell_type": "code",
      "metadata": {
        "id": "d1l-BBQWunfn",
        "colab_type": "code",
        "colab": {
          "base_uri": "https://localhost:8080/",
          "height": 35
        },
        "outputId": "3f5fa5cc-a804-4bb2-f35d-0bf224152fc2"
      },
      "source": [
        "#dtype = 整数\n",
        "arr=np.array([1,2,3,4,5])\n",
        "print (arr.dtype)"
      ],
      "execution_count": 22,
      "outputs": [
        {
          "output_type": "stream",
          "text": [
            "int64\n"
          ],
          "name": "stdout"
        }
      ]
    },
    {
      "cell_type": "code",
      "metadata": {
        "id": "de-CR6IGuqok",
        "colab_type": "code",
        "colab": {
          "base_uri": "https://localhost:8080/",
          "height": 35
        },
        "outputId": "42f91250-3b6f-4d85-c04d-b876f4218083"
      },
      "source": [
        "#float型に変換\n",
        "float_arr=arr.astype(np.float64)\n",
        "print (float_arr.dtype)"
      ],
      "execution_count": 23,
      "outputs": [
        {
          "output_type": "stream",
          "text": [
            "float64\n"
          ],
          "name": "stdout"
        }
      ]
    },
    {
      "cell_type": "code",
      "metadata": {
        "id": "loE8IB6Nusx6",
        "colab_type": "code",
        "colab": {
          "base_uri": "https://localhost:8080/",
          "height": 53
        },
        "outputId": "30ffc31f-2e5d-4154-8259-888031475fbf"
      },
      "source": [
        "#小数型を整数型に変換する場合、小数部は次のように切り捨てられる。\n",
        "arr=np.array([3.7,-1.2,-2.6,-.5,12.9,10.1])\n",
        "print (arr)\n",
        "#整数型に変換\n",
        "print (arr.astype(np.int32))"
      ],
      "execution_count": 24,
      "outputs": [
        {
          "output_type": "stream",
          "text": [
            "[ 3.7 -1.2 -2.6 -0.5 12.9 10.1]\n",
            "[ 3 -1 -2  0 12 10]\n"
          ],
          "name": "stdout"
        }
      ]
    },
    {
      "cell_type": "code",
      "metadata": {
        "id": "kE4bvmJBuuZe",
        "colab_type": "code",
        "colab": {
          "base_uri": "https://localhost:8080/",
          "height": 35
        },
        "outputId": "4291971d-37e4-412d-af9e-409de6299d16"
      },
      "source": [
        "#数値が文字列として格納されている場合は、astypeを用いる。\n",
        "#浮動小数点を表す文字列を格納する\n",
        "numeric_strings = np.array(['3.14','1.732','1.414'],dtype=np.string_)\n",
        "#確認\n",
        "print (numeric_strings)"
      ],
      "execution_count": 25,
      "outputs": [
        {
          "output_type": "stream",
          "text": [
            "[b'3.14' b'1.732' b'1.414']\n"
          ],
          "name": "stdout"
        }
      ]
    },
    {
      "cell_type": "code",
      "metadata": {
        "id": "Q5kfErCeuwZ8",
        "colab_type": "code",
        "colab": {
          "base_uri": "https://localhost:8080/",
          "height": 35
        },
        "outputId": "2cf4a45a-fc1c-4978-d5b0-41aa083688bf"
      },
      "source": [
        "#文字列to数値変換\n",
        "print (numeric_strings.astype(np.float))"
      ],
      "execution_count": 26,
      "outputs": [
        {
          "output_type": "stream",
          "text": [
            "[3.14  1.732 1.414]\n"
          ],
          "name": "stdout"
        }
      ]
    },
    {
      "cell_type": "code",
      "metadata": {
        "id": "qERU7ziQuzPb",
        "colab_type": "code",
        "colab": {}
      },
      "source": [
        "#型名以外にも、型コードを指定することもできる。\n",
        "empty_unit32=np.empty(8,dtype='u4')"
      ],
      "execution_count": 0,
      "outputs": []
    },
    {
      "cell_type": "code",
      "metadata": {
        "id": "4aZp2iAbu1Pt",
        "colab_type": "code",
        "colab": {
          "base_uri": "https://localhost:8080/",
          "height": 35
        },
        "outputId": "d6ee9de3-9653-4aa8-db25-d3242ed1182f"
      },
      "source": [
        "print (empty_unit32)"
      ],
      "execution_count": 28,
      "outputs": [
        {
          "output_type": "stream",
          "text": [
            "[1 0 1 0 1 0 0 0]\n"
          ],
          "name": "stdout"
        }
      ]
    },
    {
      "cell_type": "markdown",
      "metadata": {
        "id": "6Az-osICu55l",
        "colab_type": "text"
      },
      "source": [
        "###1.1.3. NDARRAYの算術演算"
      ]
    },
    {
      "cell_type": "markdown",
      "metadata": {
        "id": "UnNau6UJu9Q4",
        "colab_type": "text"
      },
      "source": [
        "####加減乗除"
      ]
    },
    {
      "cell_type": "code",
      "metadata": {
        "id": "zz4-yzffu3Ru",
        "colab_type": "code",
        "colab": {
          "base_uri": "https://localhost:8080/",
          "height": 53
        },
        "outputId": "318853ee-afbd-41bb-f75c-7bd77a2ad238"
      },
      "source": [
        "#簡単なnumpy配列を作成\n",
        "arr = np.array([[0,4,4],[3,1,1]])\n",
        "print (arr)"
      ],
      "execution_count": 29,
      "outputs": [
        {
          "output_type": "stream",
          "text": [
            "[[0 4 4]\n",
            " [3 1 1]]\n"
          ],
          "name": "stdout"
        }
      ]
    },
    {
      "cell_type": "code",
      "metadata": {
        "id": "iOGWnC2vu_ua",
        "colab_type": "code",
        "colab": {
          "base_uri": "https://localhost:8080/",
          "height": 197
        },
        "outputId": "4bd30481-dfba-410e-9afd-3571a609cd49"
      },
      "source": [
        "#加算1 ある定数との加法\n",
        "print (arr+4)\n",
        "#加算2 arr同志の加法\n",
        "print (arr+arr)\n",
        "#減法1 加法と同じ\n",
        "print (arr-4)\n",
        "#減法2 \n",
        "print (arr-arr)\n",
        "#乗法1\n",
        "print (arr*3)"
      ],
      "execution_count": 30,
      "outputs": [
        {
          "output_type": "stream",
          "text": [
            "[[4 8 8]\n",
            " [7 5 5]]\n",
            "[[0 8 8]\n",
            " [6 2 2]]\n",
            "[[-4  0  0]\n",
            " [-1 -3 -3]]\n",
            "[[0 0 0]\n",
            " [0 0 0]]\n",
            "[[ 0 12 12]\n",
            " [ 9  3  3]]\n"
          ],
          "name": "stdout"
        }
      ]
    },
    {
      "cell_type": "code",
      "metadata": {
        "id": "UA7rsekfvB59",
        "colab_type": "code",
        "colab": {
          "base_uri": "https://localhost:8080/",
          "height": 161
        },
        "outputId": "6ca7c191-3a79-483a-91a5-ed2aac956985"
      },
      "source": [
        "#乗法2 \n",
        "print (arr*arr)\n",
        "#除法1\n",
        "print (arr/4)\n",
        "#除法2\n",
        "print (arr/arr)"
      ],
      "execution_count": 31,
      "outputs": [
        {
          "output_type": "stream",
          "text": [
            "[[ 0 16 16]\n",
            " [ 9  1  1]]\n",
            "[[0.   1.   1.  ]\n",
            " [0.75 0.25 0.25]]\n",
            "[[nan  1.  1.]\n",
            " [ 1.  1.  1.]]\n"
          ],
          "name": "stdout"
        },
        {
          "output_type": "stream",
          "text": [
            "/usr/local/lib/python3.6/dist-packages/ipykernel_launcher.py:5: RuntimeWarning: invalid value encountered in true_divide\n",
            "  \"\"\"\n"
          ],
          "name": "stderr"
        }
      ]
    },
    {
      "cell_type": "markdown",
      "metadata": {
        "id": "AEJic8mqvF7r",
        "colab_type": "text"
      },
      "source": [
        "####真偽判定"
      ]
    },
    {
      "cell_type": "code",
      "metadata": {
        "id": "Ak9fWQxvvD8x",
        "colab_type": "code",
        "colab": {
          "base_uri": "https://localhost:8080/",
          "height": 89
        },
        "outputId": "2852f16b-87bc-4a65-d184-00a5be91ccf0"
      },
      "source": [
        "#ndaray間を比較したときに、その結果は同様素数の真偽値配列として戻される。\n",
        "#適用なnumpy配列作成\n",
        "arr2=np.array([[21.,19.,32.],[23.,44.,6.]])\n",
        "\n",
        "print (arr2)\n",
        "\n",
        "#20以上か\n",
        "arr2>=20"
      ],
      "execution_count": 32,
      "outputs": [
        {
          "output_type": "stream",
          "text": [
            "[[21. 19. 32.]\n",
            " [23. 44.  6.]]\n"
          ],
          "name": "stdout"
        },
        {
          "output_type": "execute_result",
          "data": {
            "text/plain": [
              "array([[ True, False,  True],\n",
              "       [ True,  True, False]])"
            ]
          },
          "metadata": {
            "tags": []
          },
          "execution_count": 32
        }
      ]
    },
    {
      "cell_type": "markdown",
      "metadata": {
        "id": "i1QobkxuvKrl",
        "colab_type": "text"
      },
      "source": [
        "###1.1.4. インデックス参照とスライシングの基礎"
      ]
    },
    {
      "cell_type": "code",
      "metadata": {
        "id": "kKRtaC1RvIfW",
        "colab_type": "code",
        "colab": {
          "base_uri": "https://localhost:8080/",
          "height": 53
        },
        "outputId": "b25fce60-374e-41ed-99bb-522dd5f8bd29"
      },
      "source": [
        "#表面上Pythonのリストと同じような振る舞いをする。\n",
        "arr=np.arange(10)\n",
        "print (arr)\n",
        "#3番地を指定\n",
        "print (arr[3])"
      ],
      "execution_count": 33,
      "outputs": [
        {
          "output_type": "stream",
          "text": [
            "[0 1 2 3 4 5 6 7 8 9]\n",
            "3\n"
          ],
          "name": "stdout"
        }
      ]
    },
    {
      "cell_type": "code",
      "metadata": {
        "id": "RCe7lArLvNpv",
        "colab_type": "code",
        "colab": {
          "base_uri": "https://localhost:8080/",
          "height": 35
        },
        "outputId": "9a4c137a-0418-42b7-8004-3d79f4bf7270"
      },
      "source": [
        "#3番地に100を代入\n",
        "arr[3]=100\n",
        "print (arr)"
      ],
      "execution_count": 34,
      "outputs": [
        {
          "output_type": "stream",
          "text": [
            "[  0   1   2 100   4   5   6   7   8   9]\n"
          ],
          "name": "stdout"
        }
      ]
    },
    {
      "cell_type": "code",
      "metadata": {
        "id": "PNARudi0vPYj",
        "colab_type": "code",
        "colab": {
          "base_uri": "https://localhost:8080/",
          "height": 125
        },
        "outputId": "569bfefe-1529-4c20-8e3c-5179a0c977e7"
      },
      "source": [
        "#2次元配列\n",
        "arr2d = np.array([[1,2,3],[4,5,6],[7,8,9]])\n",
        "\n",
        "#3行3列配列確認\n",
        "print (arr2d)\n",
        "\n",
        "#一番上の行のみ取得\n",
        "print ('一番上',arr2d[0])\n",
        "#真ん中の行のみ取得\n",
        "print ('真ん中',arr2d[1])\n",
        "#一番下の行のみ取得\n",
        "print ('一番下',arr2d[2])"
      ],
      "execution_count": 35,
      "outputs": [
        {
          "output_type": "stream",
          "text": [
            "[[1 2 3]\n",
            " [4 5 6]\n",
            " [7 8 9]]\n",
            "一番上 [1 2 3]\n",
            "真ん中 [4 5 6]\n",
            "一番下 [7 8 9]\n"
          ],
          "name": "stdout"
        }
      ]
    },
    {
      "cell_type": "code",
      "metadata": {
        "id": "PZEythcUvTzW",
        "colab_type": "code",
        "colab": {
          "base_uri": "https://localhost:8080/",
          "height": 53
        },
        "outputId": "26eb7505-0b91-4192-a7c7-9477f42be9f0"
      },
      "source": [
        "#1番上の行の真ん中の列にアクセスするには段階的な指定をする\n",
        "#0番目の1番目\n",
        "print (arr2d[0][1])\n",
        "\n",
        "#もう少し簡単にすると、インデックスのコンマ区切りリストを使うことができる。\n",
        "print (arr2d[0,2])"
      ],
      "execution_count": 36,
      "outputs": [
        {
          "output_type": "stream",
          "text": [
            "2\n",
            "3\n"
          ],
          "name": "stdout"
        }
      ]
    },
    {
      "cell_type": "markdown",
      "metadata": {
        "id": "JuJHkpn6vX1P",
        "colab_type": "text"
      },
      "source": [
        "####スライス参照"
      ]
    },
    {
      "cell_type": "code",
      "metadata": {
        "id": "hyq5kktTvWB8",
        "colab_type": "code",
        "colab": {
          "base_uri": "https://localhost:8080/",
          "height": 53
        },
        "outputId": "bd5924e9-5d65-4fd8-e5c8-1cb4b5006b3e"
      },
      "source": [
        "l = [0,1,2,3,4,5]\n",
        "#1番地から\n",
        "print (l[1:])\n",
        "#3番地まで\n",
        "print (l[:3])"
      ],
      "execution_count": 37,
      "outputs": [
        {
          "output_type": "stream",
          "text": [
            "[1, 2, 3, 4, 5]\n",
            "[0, 1, 2]\n"
          ],
          "name": "stdout"
        }
      ]
    },
    {
      "cell_type": "code",
      "metadata": {
        "id": "zi3t03TDvav0",
        "colab_type": "code",
        "colab": {
          "base_uri": "https://localhost:8080/",
          "height": 53
        },
        "outputId": "67dbe337-3dd2-4b58-867c-45562c0ef257"
      },
      "source": [
        "#1次元配列作成\n",
        "arr = [31,14,56,7,8,2,0]\n",
        "print (arr)\n",
        "\n",
        "#リストと同じ :　でスライス参照\n",
        "arr[1:6]"
      ],
      "execution_count": 38,
      "outputs": [
        {
          "output_type": "stream",
          "text": [
            "[31, 14, 56, 7, 8, 2, 0]\n"
          ],
          "name": "stdout"
        },
        {
          "output_type": "execute_result",
          "data": {
            "text/plain": [
              "[14, 56, 7, 8, 2]"
            ]
          },
          "metadata": {
            "tags": []
          },
          "execution_count": 38
        }
      ]
    },
    {
      "cell_type": "code",
      "metadata": {
        "id": "DS3182XfvdQp",
        "colab_type": "code",
        "colab": {
          "base_uri": "https://localhost:8080/",
          "height": 107
        },
        "outputId": "fce50183-5105-49af-d0dd-49f247593e0a"
      },
      "source": [
        "#arr2dを用いて２次元配列のスライシングをする。\n",
        "arr2d = np.array([[1, 2, 3],\n",
        "       [4, 5, 6],\n",
        "       [7, 8, 9]])\n",
        "\n",
        "print (arr2d)\n",
        "\n",
        "#「arr2dの最初の2行を切り出す」と理解するとわかりやすい。\n",
        "print (arr2d[:2])"
      ],
      "execution_count": 39,
      "outputs": [
        {
          "output_type": "stream",
          "text": [
            "[[1 2 3]\n",
            " [4 5 6]\n",
            " [7 8 9]]\n",
            "[[1 2 3]\n",
            " [4 5 6]]\n"
          ],
          "name": "stdout"
        }
      ]
    },
    {
      "cell_type": "code",
      "metadata": {
        "id": "4bck4EJlvfJ_",
        "colab_type": "code",
        "colab": {
          "base_uri": "https://localhost:8080/",
          "height": 107
        },
        "outputId": "30fdce94-6076-431e-8c0a-7f81217de29b"
      },
      "source": [
        "#①最初から2行目までかつ最初から1列目まで\n",
        "print ('①',arr2d[:2,:1])\n",
        "#②最初から2行目までかつ1列目から最後まで\n",
        "print ('②',arr2d[:2,1:])\n",
        "#③2行目から最後までかつ1列目から最後まで\n",
        "print ('③',arr2d[2:,1:])"
      ],
      "execution_count": 40,
      "outputs": [
        {
          "output_type": "stream",
          "text": [
            "① [[1]\n",
            " [4]]\n",
            "② [[2 3]\n",
            " [5 6]]\n",
            "③ [[8 9]]\n"
          ],
          "name": "stdout"
        }
      ]
    },
    {
      "cell_type": "code",
      "metadata": {
        "id": "0F7_iI1BviM_",
        "colab_type": "code",
        "colab": {
          "base_uri": "https://localhost:8080/",
          "height": 35
        },
        "outputId": "9de8ac1c-3bdd-45c8-8006-ac9b3c6d09e3"
      },
      "source": [
        "#2行面（1番地）かつ最初から2列目まで\n",
        "print (arr2d[1, :2])"
      ],
      "execution_count": 41,
      "outputs": [
        {
          "output_type": "stream",
          "text": [
            "[4 5]\n"
          ],
          "name": "stdout"
        }
      ]
    },
    {
      "cell_type": "code",
      "metadata": {
        "id": "FjDbVCLsvjy7",
        "colab_type": "code",
        "colab": {
          "base_uri": "https://localhost:8080/",
          "height": 71
        },
        "outputId": "8b4839dd-b3a5-4525-b194-da9b07aaa778"
      },
      "source": [
        "#すべての行かつ最初から1列目まで\n",
        "print (arr2d[:,:1])"
      ],
      "execution_count": 42,
      "outputs": [
        {
          "output_type": "stream",
          "text": [
            "[[1]\n",
            " [4]\n",
            " [7]]\n"
          ],
          "name": "stdout"
        }
      ]
    },
    {
      "cell_type": "code",
      "metadata": {
        "id": "RC0iFcuevqGF",
        "colab_type": "code",
        "colab": {
          "base_uri": "https://localhost:8080/",
          "height": 71
        },
        "outputId": "755e0478-77b9-47d1-9f16-e91379db4d26"
      },
      "source": [
        "#スライス表記へのスカラー値の代入は、その範囲の要素すべてに対する代入を意味する。\n",
        "arr2d[:2,1:] = 0\n",
        "print (arr2d)"
      ],
      "execution_count": 43,
      "outputs": [
        {
          "output_type": "stream",
          "text": [
            "[[1 0 0]\n",
            " [4 0 0]\n",
            " [7 8 9]]\n"
          ],
          "name": "stdout"
        }
      ]
    },
    {
      "cell_type": "code",
      "metadata": {
        "id": "AoeJRpCzvr4z",
        "colab_type": "code",
        "colab": {
          "base_uri": "https://localhost:8080/",
          "height": 53
        },
        "outputId": "ffaceffc-3fa0-4343-ef15-42b6b521838c"
      },
      "source": [
        "#arr_sliceというnumpyオブジェクトにarrの3番地から7番地を代入\n",
        "arr_slice=arr[3:7]\n",
        "print (arr_slice)\n",
        "\n",
        "#arr_sliceの先頭に9999を代入する\n",
        "arr_slice[0]=9999\n",
        "\n",
        "#元のarrに代入されている\n",
        "print (arr)"
      ],
      "execution_count": 44,
      "outputs": [
        {
          "output_type": "stream",
          "text": [
            "[7, 8, 2, 0]\n",
            "[31, 14, 56, 7, 8, 2, 0]\n"
          ],
          "name": "stdout"
        }
      ]
    },
    {
      "cell_type": "markdown",
      "metadata": {
        "id": "1PglY0OawJZd",
        "colab_type": "text"
      },
      "source": [
        "####より高度な参照*"
      ]
    },
    {
      "cell_type": "code",
      "metadata": {
        "id": "D8XEtTfiv3jA",
        "colab_type": "code",
        "colab": {
          "base_uri": "https://localhost:8080/",
          "height": 323
        },
        "outputId": "f0ab3f01-bdd0-4f0a-d513-35650092ad91"
      },
      "source": [
        "#3次元配列作成\n",
        "arr3d=np.array([[[1,2,3],[4,5,6]],[[7,8,9],[10,11,12]]])\n",
        "print (arr3d)\n",
        "print (arr3d[0])\n",
        "\n",
        "#arr3d[0]に値を代入することができる。スカラー値、ndarrayのどちらも指定可能である。\n",
        "old_values=arr3d[0].copy()\n",
        "arr3d[0]=100\n",
        "print (arr3d)\n",
        "\n",
        "#元に戻す\n",
        "arr3d[0]=old_values\n",
        "print (arr3d)"
      ],
      "execution_count": 48,
      "outputs": [
        {
          "output_type": "stream",
          "text": [
            "[[[ 1  2  3]\n",
            "  [ 4  5  6]]\n",
            "\n",
            " [[ 7  8  9]\n",
            "  [10 11 12]]]\n",
            "[[1 2 3]\n",
            " [4 5 6]]\n",
            "[[[100 100 100]\n",
            "  [100 100 100]]\n",
            "\n",
            " [[  7   8   9]\n",
            "  [ 10  11  12]]]\n",
            "[[[ 1  2  3]\n",
            "  [ 4  5  6]]\n",
            "\n",
            " [[ 7  8  9]\n",
            "  [10 11 12]]]\n"
          ],
          "name": "stdout"
        }
      ]
    },
    {
      "cell_type": "markdown",
      "metadata": {
        "id": "jTtwRs_vwSKz",
        "colab_type": "text"
      },
      "source": [
        "###1.1.5. ブールインデックス参照"
      ]
    },
    {
      "cell_type": "code",
      "metadata": {
        "id": "qfLr6sa6wQWE",
        "colab_type": "code",
        "colab": {
          "base_uri": "https://localhost:8080/",
          "height": 323
        },
        "outputId": "d1bc6517-cc5f-4405-87dd-80bbf28e98b0"
      },
      "source": [
        "#アジア諸国\n",
        "countries = np.array(['日本' ,'インド' ,'インドネシア','韓国', 'サウジアラビア','シンガポール', 'タイ',\n",
        "'中国','トルコ', 'パキスタン','バングラデシュ', 'フィリピン','香港', 'マレーシア'])\n",
        "\n",
        "print (countries)\n",
        "\n",
        "#GDP/一人当たりGDP (100万ドル)\n",
        "data = np.array([[4892255,38313],\n",
        "                [1281330,1085],\n",
        "                [510504,2246],\n",
        "                [931405,19343],\n",
        "                [475094\t,18853],\n",
        "                 [188261\t,40793],\n",
        "                  [272429\t,4043],\n",
        "                  [4416104,\t3360],\n",
        "                  [730325\t,9881],\n",
        "                  [146068\t,825],\n",
        "                  [79568\t,497],\n",
        "                  [167479\t,1854],\n",
        "                  [215354\t,30843],\n",
        "                  [221437\t,8197]])\n",
        "print (data)\n",
        "print (data.shape)"
      ],
      "execution_count": 49,
      "outputs": [
        {
          "output_type": "stream",
          "text": [
            "['日本' 'インド' 'インドネシア' '韓国' 'サウジアラビア' 'シンガポール' 'タイ' '中国' 'トルコ' 'パキスタン'\n",
            " 'バングラデシュ' 'フィリピン' '香港' 'マレーシア']\n",
            "[[4892255   38313]\n",
            " [1281330    1085]\n",
            " [ 510504    2246]\n",
            " [ 931405   19343]\n",
            " [ 475094   18853]\n",
            " [ 188261   40793]\n",
            " [ 272429    4043]\n",
            " [4416104    3360]\n",
            " [ 730325    9881]\n",
            " [ 146068     825]\n",
            " [  79568     497]\n",
            " [ 167479    1854]\n",
            " [ 215354   30843]\n",
            " [ 221437    8197]]\n",
            "(14, 2)\n"
          ],
          "name": "stdout"
        }
      ]
    },
    {
      "cell_type": "code",
      "metadata": {
        "id": "wq315rNfwV7Y",
        "colab_type": "code",
        "colab": {
          "base_uri": "https://localhost:8080/",
          "height": 53
        },
        "outputId": "ee0c159e-71ab-4b8f-9126-74ba8cc942db"
      },
      "source": [
        "#'data'から'日本'に対応する行を全て抜き出すことを考える。\n",
        "print (countries=='日本')"
      ],
      "execution_count": 50,
      "outputs": [
        {
          "output_type": "stream",
          "text": [
            "[ True False False False False False False False False False False False\n",
            " False False]\n"
          ],
          "name": "stdout"
        }
      ]
    },
    {
      "cell_type": "code",
      "metadata": {
        "id": "KHzcMp7MwZPD",
        "colab_type": "code",
        "colab": {
          "base_uri": "https://localhost:8080/",
          "height": 35
        },
        "outputId": "d18c4eb1-8260-4c0e-9936-2960ec5aca29"
      },
      "source": [
        "#Trueのところだけ抜き出す\n",
        "data[countries=='日本']\n",
        "#約4.8兆ドル=500兆円(アベノミクスでは600兆円をめざしているらしいが))"
      ],
      "execution_count": 51,
      "outputs": [
        {
          "output_type": "execute_result",
          "data": {
            "text/plain": [
              "array([[4892255,   38313]])"
            ]
          },
          "metadata": {
            "tags": []
          },
          "execution_count": 51
        }
      ]
    },
    {
      "cell_type": "code",
      "metadata": {
        "id": "U6HgPXS1wbCx",
        "colab_type": "code",
        "colab": {
          "base_uri": "https://localhost:8080/",
          "height": 53
        },
        "outputId": "d08fd4df-3913-474c-b611-45e35d5a929b"
      },
      "source": [
        "#列のスライスやインデックスも同時に指定することができる。\n",
        "#1行目(0番地目)から\n",
        "print (data[countries =='日本',0:])\n",
        "#2行目(1番地目)のみ（ひとりあたりGDP)\n",
        "print (data[countries=='日本',1])"
      ],
      "execution_count": 52,
      "outputs": [
        {
          "output_type": "stream",
          "text": [
            "[[4892255   38313]]\n",
            "[38313]\n"
          ],
          "name": "stdout"
        }
      ]
    },
    {
      "cell_type": "code",
      "metadata": {
        "id": "m7xtsNnkwc-k",
        "colab_type": "code",
        "colab": {
          "base_uri": "https://localhost:8080/",
          "height": 287
        },
        "outputId": "1d910d8e-6eea-49fc-cd82-e9748abb3571"
      },
      "source": [
        "#not日本か？\n",
        "print (countries != '日本')\n",
        "\n",
        "#日本以外\n",
        "print (data[~(countries == '日本')])"
      ],
      "execution_count": 53,
      "outputs": [
        {
          "output_type": "stream",
          "text": [
            "[False  True  True  True  True  True  True  True  True  True  True  True\n",
            "  True  True]\n",
            "[[1281330    1085]\n",
            " [ 510504    2246]\n",
            " [ 931405   19343]\n",
            " [ 475094   18853]\n",
            " [ 188261   40793]\n",
            " [ 272429    4043]\n",
            " [4416104    3360]\n",
            " [ 730325    9881]\n",
            " [ 146068     825]\n",
            " [  79568     497]\n",
            " [ 167479    1854]\n",
            " [ 215354   30843]\n",
            " [ 221437    8197]]\n"
          ],
          "name": "stdout"
        }
      ]
    },
    {
      "cell_type": "code",
      "metadata": {
        "id": "E34SGVK4whiU",
        "colab_type": "code",
        "colab": {
          "base_uri": "https://localhost:8080/",
          "height": 89
        },
        "outputId": "00aa1e58-3ba5-44bd-d7f8-23a5e829b39a"
      },
      "source": [
        "#日本 or シンガポール\n",
        "mask=(countries == '日本') | (countries == 'シンガポール')\n",
        "print (mask)\n",
        "\n",
        "#日本とシンガポールのGDP/一人あたりGDP\n",
        "print (data[mask])\n",
        "#一人あたり2009年時点で抜かれている"
      ],
      "execution_count": 54,
      "outputs": [
        {
          "output_type": "stream",
          "text": [
            "[ True False False False False  True False False False False False False\n",
            " False False]\n",
            "[[4892255   38313]\n",
            " [ 188261   40793]]\n"
          ],
          "name": "stdout"
        }
      ]
    },
    {
      "cell_type": "code",
      "metadata": {
        "id": "cb5xHiJzwmyv",
        "colab_type": "code",
        "colab": {
          "base_uri": "https://localhost:8080/",
          "height": 521
        },
        "outputId": "8a46bf90-bd7e-4547-d350-419662f3a0a7"
      },
      "source": [
        "#１兆ドル超えの国を0にしてみる\n",
        "data[data>1000000]=0\n",
        "print (data)\n",
        "\n",
        "#特定の行や列に対する操作も、１次元の真偽値配列を使うことができる。\n",
        "data[countries != '日本'] = 0\n",
        "print (data)"
      ],
      "execution_count": 55,
      "outputs": [
        {
          "output_type": "stream",
          "text": [
            "[[     0  38313]\n",
            " [     0   1085]\n",
            " [510504   2246]\n",
            " [931405  19343]\n",
            " [475094  18853]\n",
            " [188261  40793]\n",
            " [272429   4043]\n",
            " [     0   3360]\n",
            " [730325   9881]\n",
            " [146068    825]\n",
            " [ 79568    497]\n",
            " [167479   1854]\n",
            " [215354  30843]\n",
            " [221437   8197]]\n",
            "[[    0 38313]\n",
            " [    0     0]\n",
            " [    0     0]\n",
            " [    0     0]\n",
            " [    0     0]\n",
            " [    0     0]\n",
            " [    0     0]\n",
            " [    0     0]\n",
            " [    0     0]\n",
            " [    0     0]\n",
            " [    0     0]\n",
            " [    0     0]\n",
            " [    0     0]\n",
            " [    0     0]]\n"
          ],
          "name": "stdout"
        }
      ]
    },
    {
      "cell_type": "markdown",
      "metadata": {
        "id": "oZznIDu6wrkb",
        "colab_type": "text"
      },
      "source": [
        "####実務ではこう使う"
      ]
    },
    {
      "cell_type": "code",
      "metadata": {
        "id": "PnT0lCTIwoyH",
        "colab_type": "code",
        "colab": {}
      },
      "source": [
        "#年齢配列と名前配列を定義\n",
        "age = np.array([[20,21,18,34]])\n",
        "name = np.array([['A','B','C','D']])"
      ],
      "execution_count": 0,
      "outputs": []
    },
    {
      "cell_type": "code",
      "metadata": {
        "id": "eqb8L1egwvOs",
        "colab_type": "code",
        "colab": {
          "base_uri": "https://localhost:8080/",
          "height": 71
        },
        "outputId": "04f43efa-cc9e-459e-cfca-d8ae56317e0a"
      },
      "source": [
        "#成人しているのは？\n",
        "print (name[age>=20])\n",
        "#未成年は？\n",
        "print (name[~(age>=20)])\n",
        "#Cの年齢20にする\n",
        "age[name=='C'] = 20 \n",
        "print (age)"
      ],
      "execution_count": 57,
      "outputs": [
        {
          "output_type": "stream",
          "text": [
            "['A' 'B' 'D']\n",
            "['C']\n",
            "[[20 21 20 34]]\n"
          ],
          "name": "stdout"
        }
      ]
    },
    {
      "cell_type": "markdown",
      "metadata": {
        "id": "e0mCS-wxwyq9",
        "colab_type": "text"
      },
      "source": [
        "###1.1.6. 行と列の入れ替え*"
      ]
    },
    {
      "cell_type": "code",
      "metadata": {
        "id": "dtKz7iVcww1d",
        "colab_type": "code",
        "colab": {
          "base_uri": "https://localhost:8080/",
          "height": 251
        },
        "outputId": "39b9ef86-814f-4f48-ee0d-70ab52a2479d"
      },
      "source": [
        "arr = np.arange(40).reshape(8,5)\n",
        "#8行4列の配列\n",
        "print (arr)\n",
        "\n",
        "#行列ひっくりかえすにはTメソッドを使う(transposeのT)\n",
        "arr.T"
      ],
      "execution_count": 58,
      "outputs": [
        {
          "output_type": "stream",
          "text": [
            "[[ 0  1  2  3  4]\n",
            " [ 5  6  7  8  9]\n",
            " [10 11 12 13 14]\n",
            " [15 16 17 18 19]\n",
            " [20 21 22 23 24]\n",
            " [25 26 27 28 29]\n",
            " [30 31 32 33 34]\n",
            " [35 36 37 38 39]]\n"
          ],
          "name": "stdout"
        },
        {
          "output_type": "execute_result",
          "data": {
            "text/plain": [
              "array([[ 0,  5, 10, 15, 20, 25, 30, 35],\n",
              "       [ 1,  6, 11, 16, 21, 26, 31, 36],\n",
              "       [ 2,  7, 12, 17, 22, 27, 32, 37],\n",
              "       [ 3,  8, 13, 18, 23, 28, 33, 38],\n",
              "       [ 4,  9, 14, 19, 24, 29, 34, 39]])"
            ]
          },
          "metadata": {
            "tags": []
          },
          "execution_count": 58
        }
      ]
    },
    {
      "cell_type": "code",
      "metadata": {
        "id": "jlMCxv8XxM1Y",
        "colab_type": "code",
        "colab": {
          "base_uri": "https://localhost:8080/",
          "height": 107
        },
        "outputId": "4cd7a46d-94d4-4226-b482-5534961378ce"
      },
      "source": [
        "#行列の計算 自分自身と自分をかけている\n",
        "print (np.dot(arr.T,arr))"
      ],
      "execution_count": 59,
      "outputs": [
        {
          "output_type": "stream",
          "text": [
            "[[3500 3640 3780 3920 4060]\n",
            " [3640 3788 3936 4084 4232]\n",
            " [3780 3936 4092 4248 4404]\n",
            " [3920 4084 4248 4412 4576]\n",
            " [4060 4232 4404 4576 4748]]\n"
          ],
          "name": "stdout"
        }
      ]
    },
    {
      "cell_type": "markdown",
      "metadata": {
        "id": "A4qmVmdVxQ40",
        "colab_type": "text"
      },
      "source": [
        "##1.2. ユニバーサル関数"
      ]
    },
    {
      "cell_type": "markdown",
      "metadata": {
        "id": "r9r-0fEYxVRQ",
        "colab_type": "text"
      },
      "source": [
        "###1.2.1. 1次元配列の場合"
      ]
    },
    {
      "cell_type": "code",
      "metadata": {
        "id": "9w9qRUqZxPOE",
        "colab_type": "code",
        "colab": {
          "base_uri": "https://localhost:8080/",
          "height": 71
        },
        "outputId": "5efef2df-a08e-4ca1-d5a1-8a5a5f85e235"
      },
      "source": [
        "#ルートを計算\n",
        "arr=np.arange(5)\n",
        "print (arr)\n",
        "\n",
        "#npのsqrtメソッドを使用\n",
        "print (np.sqrt(arr))\n",
        "#ルート2は「ひとよひとよに」\n",
        "print (np.sqrt(arr)[2])"
      ],
      "execution_count": 60,
      "outputs": [
        {
          "output_type": "stream",
          "text": [
            "[0 1 2 3 4]\n",
            "[0.         1.         1.41421356 1.73205081 2.        ]\n",
            "1.4142135623730951\n"
          ],
          "name": "stdout"
        }
      ]
    },
    {
      "cell_type": "code",
      "metadata": {
        "id": "-kFNEP84xXab",
        "colab_type": "code",
        "colab": {
          "base_uri": "https://localhost:8080/",
          "height": 89
        },
        "outputId": "580010f6-201c-48c2-cce9-0789e831e1ed"
      },
      "source": [
        "#指数関数(exponential)\n",
        "print (np.exp(arr))\n",
        "#対数関数(log) +1 はlog(0)を避けるため\n",
        "print (np.log(arr+1))\n",
        "#max関数\n",
        "print (np.max(arr))\n",
        "#min関数\n",
        "print (np.min(arr))"
      ],
      "execution_count": 61,
      "outputs": [
        {
          "output_type": "stream",
          "text": [
            "[ 1.          2.71828183  7.3890561  20.08553692 54.59815003]\n",
            "[0.         0.69314718 1.09861229 1.38629436 1.60943791]\n",
            "4\n",
            "0\n"
          ],
          "name": "stdout"
        }
      ]
    },
    {
      "cell_type": "markdown",
      "metadata": {
        "id": "wGsVqieGxgoi",
        "colab_type": "text"
      },
      "source": [
        "###1.2.2. 2次元配列の場合"
      ]
    },
    {
      "cell_type": "code",
      "metadata": {
        "id": "5wBKAJodxbYV",
        "colab_type": "code",
        "colab": {
          "base_uri": "https://localhost:8080/",
          "height": 323
        },
        "outputId": "7e12b0f9-1945-4ca7-ae53-e4cc7430c34b"
      },
      "source": [
        "#2次元配列生成\n",
        "arr2 = np.arange(20).reshape(5,4)\n",
        "print (arr2)\n",
        "#指数関数(exponential)\n",
        "print (np.exp(arr2))\n",
        "#対数関数(log) +1 はlog(0)を避けるため\n",
        "print (np.log(arr2+1))\n",
        "#max関数\n",
        "print (np.max(arr2))\n",
        "#min関数\n",
        "print (np.min(arr2))"
      ],
      "execution_count": 62,
      "outputs": [
        {
          "output_type": "stream",
          "text": [
            "[[ 0  1  2  3]\n",
            " [ 4  5  6  7]\n",
            " [ 8  9 10 11]\n",
            " [12 13 14 15]\n",
            " [16 17 18 19]]\n",
            "[[1.00000000e+00 2.71828183e+00 7.38905610e+00 2.00855369e+01]\n",
            " [5.45981500e+01 1.48413159e+02 4.03428793e+02 1.09663316e+03]\n",
            " [2.98095799e+03 8.10308393e+03 2.20264658e+04 5.98741417e+04]\n",
            " [1.62754791e+05 4.42413392e+05 1.20260428e+06 3.26901737e+06]\n",
            " [8.88611052e+06 2.41549528e+07 6.56599691e+07 1.78482301e+08]]\n",
            "[[0.         0.69314718 1.09861229 1.38629436]\n",
            " [1.60943791 1.79175947 1.94591015 2.07944154]\n",
            " [2.19722458 2.30258509 2.39789527 2.48490665]\n",
            " [2.56494936 2.63905733 2.7080502  2.77258872]\n",
            " [2.83321334 2.89037176 2.94443898 2.99573227]]\n",
            "19\n",
            "0\n"
          ],
          "name": "stdout"
        }
      ]
    },
    {
      "cell_type": "markdown",
      "metadata": {
        "id": "ZB7D05cXxlO3",
        "colab_type": "text"
      },
      "source": [
        "###1.2.3. 引数2つの場合*"
      ]
    },
    {
      "cell_type": "code",
      "metadata": {
        "id": "NcnjkD-ZxjbC",
        "colab_type": "code",
        "colab": {
          "base_uri": "https://localhost:8080/",
          "height": 125
        },
        "outputId": "0531b026-16bf-49a0-933f-a9d7829cc403"
      },
      "source": [
        "#乱数で1次元配列2つ作成\n",
        "np.random.seed(100) #乱数が固定するおまじない\n",
        "x = np.random.rand(10)\n",
        "y = np.random.rand(10)\n",
        "\n",
        "print (x)\n",
        "print (y)\n",
        "\n",
        "#xとyの大きい方を取得\n",
        "np.maximum(x,y)"
      ],
      "execution_count": 63,
      "outputs": [
        {
          "output_type": "stream",
          "text": [
            "[0.54340494 0.27836939 0.42451759 0.84477613 0.00471886 0.12156912\n",
            " 0.67074908 0.82585276 0.13670659 0.57509333]\n",
            "[0.89132195 0.20920212 0.18532822 0.10837689 0.21969749 0.97862378\n",
            " 0.81168315 0.17194101 0.81622475 0.27407375]\n"
          ],
          "name": "stdout"
        },
        {
          "output_type": "execute_result",
          "data": {
            "text/plain": [
              "array([0.89132195, 0.27836939, 0.42451759, 0.84477613, 0.21969749,\n",
              "       0.97862378, 0.81168315, 0.82585276, 0.81622475, 0.57509333])"
            ]
          },
          "metadata": {
            "tags": []
          },
          "execution_count": 63
        }
      ]
    },
    {
      "cell_type": "markdown",
      "metadata": {
        "id": "O8LvZZNrxxfN",
        "colab_type": "text"
      },
      "source": [
        "##1.3. 配列指向プログラミング"
      ]
    },
    {
      "cell_type": "markdown",
      "metadata": {
        "id": "nmJbuUcXx0W4",
        "colab_type": "text"
      },
      "source": [
        "###1.3.1. 条件制御のNDARRAYでの表現"
      ]
    },
    {
      "cell_type": "code",
      "metadata": {
        "id": "kBMUt74LxpWS",
        "colab_type": "code",
        "colab": {
          "base_uri": "https://localhost:8080/",
          "height": 35
        },
        "outputId": "6c1b2887-bb97-40d9-cbc7-0c0fd6758f80"
      },
      "source": [
        "#年齢/性別変\n",
        "age = np.array([21,33,17,24])\n",
        "\n",
        "#np.where #飲酒OK?\n",
        "print (np.where(age>=20,'OK','NO'))"
      ],
      "execution_count": 64,
      "outputs": [
        {
          "output_type": "stream",
          "text": [
            "['OK' 'OK' 'NO' 'OK']\n"
          ],
          "name": "stdout"
        }
      ]
    },
    {
      "cell_type": "code",
      "metadata": {
        "id": "eaJ-SssYx2zY",
        "colab_type": "code",
        "colab": {
          "base_uri": "https://localhost:8080/",
          "height": 35
        },
        "outputId": "a924a40b-fafe-41c0-b5bc-61adab6c9082"
      },
      "source": [
        "#実は20歳でした 20歳以上の人はそのまま それ以外は20歳にする\n",
        "np.where(age>=20,age,20)"
      ],
      "execution_count": 65,
      "outputs": [
        {
          "output_type": "execute_result",
          "data": {
            "text/plain": [
              "array([21, 33, 20, 24])"
            ]
          },
          "metadata": {
            "tags": []
          },
          "execution_count": 65
        }
      ]
    },
    {
      "cell_type": "code",
      "metadata": {
        "id": "YjAYIoJ7x5AZ",
        "colab_type": "code",
        "colab": {
          "base_uri": "https://localhost:8080/",
          "height": 35
        },
        "outputId": "417b1b77-c364-40bb-c319-42c1f93627e6"
      },
      "source": [
        "#さっきのbool参照で似たようなことできる\n",
        "age[age<20] = 20 \n",
        "print (age)"
      ],
      "execution_count": 66,
      "outputs": [
        {
          "output_type": "stream",
          "text": [
            "[21 33 20 24]\n"
          ],
          "name": "stdout"
        }
      ]
    },
    {
      "cell_type": "code",
      "metadata": {
        "id": "sMmb1ClPx6xo",
        "colab_type": "code",
        "colab": {
          "base_uri": "https://localhost:8080/",
          "height": 53
        },
        "outputId": "3c922ac4-1117-4522-8856-29bb77c79b8e"
      },
      "source": [
        "#購買金額が0未満は0に直す\n",
        "amount = np.array([9900,3400,-900])\n",
        "print (amount)\n",
        "print (np.where(amount<0,0,amount))"
      ],
      "execution_count": 68,
      "outputs": [
        {
          "output_type": "stream",
          "text": [
            "[9900 3400 -900]\n",
            "[9900 3400    0]\n"
          ],
          "name": "stdout"
        }
      ]
    },
    {
      "cell_type": "markdown",
      "metadata": {
        "id": "RrjSZq_ByCwg",
        "colab_type": "text"
      },
      "source": [
        "###1.3.2. 数学関数、統計関数"
      ]
    },
    {
      "cell_type": "code",
      "metadata": {
        "id": "FWxu-5OSx8uM",
        "colab_type": "code",
        "colab": {
          "base_uri": "https://localhost:8080/",
          "height": 35
        },
        "outputId": "ff89425a-c6b6-4499-da55-611633bccb4c"
      },
      "source": [
        "#配列作成\n",
        "arr=np.arange(5)\n",
        "print (arr)"
      ],
      "execution_count": 69,
      "outputs": [
        {
          "output_type": "stream",
          "text": [
            "[0 1 2 3 4]\n"
          ],
          "name": "stdout"
        }
      ]
    },
    {
      "cell_type": "code",
      "metadata": {
        "id": "TDMSoOUUyE1f",
        "colab_type": "code",
        "colab": {
          "base_uri": "https://localhost:8080/",
          "height": 89
        },
        "outputId": "008f1717-11f7-4b4d-df9b-05850b8c7d36"
      },
      "source": [
        "#さっきやったやり方で平均\n",
        "print (np.mean(arr))\n",
        "#さっきやったやり方で最大\n",
        "print (np.max(arr))\n",
        "#さっきやったやり方で最小\n",
        "print (np.min(arr))\n",
        "#さっきやったやり方で全部足す\n",
        "print (np.sum(arr))"
      ],
      "execution_count": 70,
      "outputs": [
        {
          "output_type": "stream",
          "text": [
            "2.0\n",
            "4\n",
            "0\n",
            "10\n"
          ],
          "name": "stdout"
        }
      ]
    },
    {
      "cell_type": "code",
      "metadata": {
        "id": "Ty3kF3ulyGn-",
        "colab_type": "code",
        "colab": {
          "base_uri": "https://localhost:8080/",
          "height": 89
        },
        "outputId": "b5832019-59df-4d63-ce00-f0c7ee31b619"
      },
      "source": [
        "#配列オブジェクトのもつメソッドで行う平均\n",
        "print (arr.mean())\n",
        "#最大\n",
        "print (arr.max())\n",
        "#最小\n",
        "print (arr.min())\n",
        "#全部足す\n",
        "print (arr.sum())"
      ],
      "execution_count": 71,
      "outputs": [
        {
          "output_type": "stream",
          "text": [
            "2.0\n",
            "4\n",
            "0\n",
            "10\n"
          ],
          "name": "stdout"
        }
      ]
    },
    {
      "cell_type": "code",
      "metadata": {
        "id": "K0O4LNp8yIt8",
        "colab_type": "code",
        "colab": {
          "base_uri": "https://localhost:8080/",
          "height": 287
        },
        "outputId": "91c63763-3d47-4943-cd2f-36d621843b8b"
      },
      "source": [
        "#2次元配列の場合、行か列どちらかを指定してその方向に平均・最大・最小・全部の加法を行う。\n",
        "#GDP/一人当たりGDP (100万ドル)\n",
        "data = np.array([[4892255,38313],\n",
        "                [1281330,1085],\n",
        "                [510504,2246],\n",
        "                [931405,19343],\n",
        "                [475094\t,18853],\n",
        "                 [188261\t,40793],\n",
        "                  [272429\t,4043],\n",
        "                  [4416104,\t3360],\n",
        "                  [730325\t,9881],\n",
        "                  [146068\t,825],\n",
        "                  [79568\t,497],\n",
        "                  [167479\t,1854],\n",
        "                  [215354\t,30843],\n",
        "                  [221437\t,8197]])\n",
        "print (data)\n",
        "print (data.shape)"
      ],
      "execution_count": 72,
      "outputs": [
        {
          "output_type": "stream",
          "text": [
            "[[4892255   38313]\n",
            " [1281330    1085]\n",
            " [ 510504    2246]\n",
            " [ 931405   19343]\n",
            " [ 475094   18853]\n",
            " [ 188261   40793]\n",
            " [ 272429    4043]\n",
            " [4416104    3360]\n",
            " [ 730325    9881]\n",
            " [ 146068     825]\n",
            " [  79568     497]\n",
            " [ 167479    1854]\n",
            " [ 215354   30843]\n",
            " [ 221437    8197]]\n",
            "(14, 2)\n"
          ],
          "name": "stdout"
        }
      ]
    },
    {
      "cell_type": "code",
      "metadata": {
        "id": "Mbu0rAMAyLj_",
        "colab_type": "code",
        "colab": {
          "base_uri": "https://localhost:8080/",
          "height": 71
        },
        "outputId": "bb1c6419-9ae4-4855-a59e-feed76186185"
      },
      "source": [
        "#行（縦)方向に平均アジアの国のGDP平均と一人あたりGDPの平均 axis=0 で縦方向\n",
        "print (data.mean(axis=0))\n",
        "#列（横方向に平均）国のGDPと一人あたりGDPの平均（例ではあるが実際にこの数値に意味はない axis=1 で縦方向\n",
        "print (data.mean(axis=1))"
      ],
      "execution_count": 73,
      "outputs": [
        {
          "output_type": "stream",
          "text": [
            "[1037686.64285714   12866.64285714]\n",
            "[2465284.   641207.5  256375.   475374.   246973.5  114527.   138236.\n",
            " 2209732.   370103.    73446.5   40032.5   84666.5  123098.5  114817. ]\n"
          ],
          "name": "stdout"
        }
      ]
    },
    {
      "cell_type": "code",
      "metadata": {
        "id": "73xZwtboyN4O",
        "colab_type": "code",
        "colab": {
          "base_uri": "https://localhost:8080/",
          "height": 35
        },
        "outputId": "c73ecce6-071f-4d44-f9e1-853412425b9b"
      },
      "source": [
        "#同様にアジアの国GDPの総和\n",
        "data.sum(axis=0)"
      ],
      "execution_count": 74,
      "outputs": [
        {
          "output_type": "execute_result",
          "data": {
            "text/plain": [
              "array([14527613,   180133])"
            ]
          },
          "metadata": {
            "tags": []
          },
          "execution_count": 74
        }
      ]
    },
    {
      "cell_type": "markdown",
      "metadata": {
        "id": "VSP8fp3eyUP3",
        "colab_type": "text"
      },
      "source": [
        "###1.3.3. 真偽配列関数*"
      ]
    },
    {
      "cell_type": "code",
      "metadata": {
        "id": "z2P2GfZyyPqn",
        "colab_type": "code",
        "colab": {
          "base_uri": "https://localhost:8080/",
          "height": 35
        },
        "outputId": "5597025e-7f94-4752-c3d2-8a4d00ddf269"
      },
      "source": [
        "#乱数作成\n",
        "arr=np.random.randn(100)\n",
        "\n",
        "#正の数の個数\n",
        "(arr>0).sum()"
      ],
      "execution_count": 75,
      "outputs": [
        {
          "output_type": "execute_result",
          "data": {
            "text/plain": [
              "47"
            ]
          },
          "metadata": {
            "tags": []
          },
          "execution_count": 75
        }
      ]
    },
    {
      "cell_type": "code",
      "metadata": {
        "id": "WO6hs-CFyXJg",
        "colab_type": "code",
        "colab": {
          "base_uri": "https://localhost:8080/",
          "height": 53
        },
        "outputId": "137d9c08-d4ff-4c22-e058-10b2ed361cc5"
      },
      "source": [
        "#bool配列作成\n",
        "bools=np.array([False,False,True,False])\n",
        "#anyは要素の１つでもTrueがあるかどうかを確認するときに用いられる。\n",
        "print (bools.any())\n",
        "#allは要素のすべてがTrueであるかどうかを確認するときに用いられる。\n",
        "print (bools.all())"
      ],
      "execution_count": 77,
      "outputs": [
        {
          "output_type": "stream",
          "text": [
            "True\n",
            "False\n"
          ],
          "name": "stdout"
        }
      ]
    },
    {
      "cell_type": "code",
      "metadata": {
        "id": "RVo-U0VmyZuV",
        "colab_type": "code",
        "colab": {}
      },
      "source": [
        ""
      ],
      "execution_count": 0,
      "outputs": []
    }
  ]
}
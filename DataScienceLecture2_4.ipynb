{
  "nbformat": 4,
  "nbformat_minor": 0,
  "metadata": {
    "colab": {
      "name": "DataScienceLecture2_4.ipynb",
      "provenance": [],
      "collapsed_sections": [],
      "include_colab_link": true
    },
    "kernelspec": {
      "name": "python3",
      "display_name": "Python 3"
    }
  },
  "cells": [
    {
      "cell_type": "markdown",
      "metadata": {
        "id": "view-in-github",
        "colab_type": "text"
      },
      "source": [
        "<a href=\"https://colab.research.google.com/github/mitsu666/DataScienceLecture/blob/master/DataScienceLecture2_4.ipynb\" target=\"_parent\"><img src=\"https://colab.research.google.com/assets/colab-badge.svg\" alt=\"Open In Colab\"/></a>"
      ]
    },
    {
      "cell_type": "markdown",
      "metadata": {
        "id": "xfOal-_NBV01",
        "colab_type": "text"
      },
      "source": [
        "#6.関数"
      ]
    },
    {
      "cell_type": "code",
      "metadata": {
        "id": "s_DXMDKBBQYc",
        "colab_type": "code",
        "outputId": "d3a92608-6912-4712-883c-332f5ad23434",
        "colab": {
          "base_uri": "https://localhost:8080/",
          "height": 161
        }
      },
      "source": [
        "#以下のリストが与えられとする\n",
        "F = [3,5,7,9]\n",
        "M = [5000,15000,3000,12000]\n",
        "\n",
        "#関数を使わない場合\n",
        "for f,m in zip(F,M):\n",
        "  print ('購買頻度:{0}回,購買金額:{1}円'.format(f,m))\n",
        "  \n",
        "  if (f<=5) & (m<=5000):\n",
        "    print ('③')\n",
        "  elif (f>5) & (m<=5000):\n",
        "    print ('①')\n",
        "  elif (f>5) & (m>5000):\n",
        "    print ('②')\n",
        "  else:\n",
        "    print ('④')"
      ],
      "execution_count": 0,
      "outputs": [
        {
          "output_type": "stream",
          "text": [
            "購買頻度:3回,購買金額:5000円\n",
            "③\n",
            "購買頻度:5回,購買金額:15000円\n",
            "④\n",
            "購買頻度:7回,購買金額:3000円\n",
            "①\n",
            "購買頻度:9回,購買金額:12000円\n",
            "②\n"
          ],
          "name": "stdout"
        }
      ]
    },
    {
      "cell_type": "code",
      "metadata": {
        "id": "HG3KXPygBbUI",
        "colab_type": "code",
        "colab": {}
      },
      "source": [
        "#関数を使う場合\n",
        "#関数を一度定義してしまうrfmという名前で定義する\n",
        "def rfm(f,m):\n",
        "  if (f<=5) & (m<=5000):\n",
        "    return ('③')\n",
        "  elif (f>5) & (m<=5000):\n",
        "    return ('①')\n",
        "  elif (f>5) & (m>5000):\n",
        "    return ('②')\n",
        "  else:\n",
        "    return ('④')"
      ],
      "execution_count": 0,
      "outputs": []
    },
    {
      "cell_type": "code",
      "metadata": {
        "id": "iM-WekssBggz",
        "colab_type": "code",
        "outputId": "641a9f69-4962-4b7c-ec1d-008f9a0f4d1f",
        "colab": {
          "base_uri": "https://localhost:8080/",
          "height": 53
        }
      },
      "source": [
        "#一度定義した関数は何度で呼び出し、引数を変えるだけで出力が変わる  \n",
        "#f=9,m=4500\n",
        "print (rfm(9,4500))\n",
        "#f=3,m=10000\n",
        "print (rfm(3,10000))"
      ],
      "execution_count": 0,
      "outputs": [
        {
          "output_type": "stream",
          "text": [
            "①\n",
            "④\n"
          ],
          "name": "stdout"
        }
      ]
    },
    {
      "cell_type": "code",
      "metadata": {
        "id": "1BtsvLsxBlGm",
        "colab_type": "code",
        "outputId": "3f583816-4440-4951-c6e9-d918e016239b",
        "colab": {
          "base_uri": "https://localhost:8080/",
          "height": 161
        }
      },
      "source": [
        "#以下のリストが与えられとする\n",
        "F = [3,5,7,9]\n",
        "M = [5000,15000,3000,12000]\n",
        "\n",
        "#関数を使う場合\n",
        "for f,m in zip(F,M):\n",
        "  print ('購買頻度:{0}回,購買金額:{1}円'.format(f,m))\n",
        "  print (rfm(f,m))"
      ],
      "execution_count": 0,
      "outputs": [
        {
          "output_type": "stream",
          "text": [
            "購買頻度:3回,購買金額:5000円\n",
            "③\n",
            "購買頻度:5回,購買金額:15000円\n",
            "④\n",
            "購買頻度:7回,購買金額:3000円\n",
            "①\n",
            "購買頻度:9回,購買金額:12000円\n",
            "②\n"
          ],
          "name": "stdout"
        }
      ]
    },
    {
      "cell_type": "markdown",
      "metadata": {
        "id": "QHttHnt9BxW9",
        "colab_type": "text"
      },
      "source": [
        "##6.1. 引数がないタイプ"
      ]
    },
    {
      "cell_type": "code",
      "metadata": {
        "id": "03DhhfrLBoN3",
        "colab_type": "code",
        "colab": {}
      },
      "source": [
        "#引数を取らない関数を定義して呼び出す。\n",
        "def do_nothing():\n",
        "  pass\n",
        "\n",
        "#何もしない\n",
        "do_nothing()"
      ],
      "execution_count": 0,
      "outputs": []
    },
    {
      "cell_type": "code",
      "metadata": {
        "id": "HTNQdp0LBz6x",
        "colab_type": "code",
        "outputId": "6ff507ef-71a8-4ec0-ad5a-d2afddb25e74",
        "colab": {
          "base_uri": "https://localhost:8080/",
          "height": 35
        }
      },
      "source": [
        "#引数がないが１個の単語を出力する別の関数を定義する。\n",
        "def hello():\n",
        "  print('hello world')\n",
        "  \n",
        "hello()"
      ],
      "execution_count": 0,
      "outputs": [
        {
          "output_type": "stream",
          "text": [
            "hello world\n"
          ],
          "name": "stdout"
        }
      ]
    },
    {
      "cell_type": "markdown",
      "metadata": {
        "id": "OEyCMpr1B4CM",
        "colab_type": "text"
      },
      "source": [
        "##6.2. 引数があるタイプ"
      ]
    },
    {
      "cell_type": "code",
      "metadata": {
        "id": "Jitsa2kVB2Gq",
        "colab_type": "code",
        "outputId": "2fbe0782-af6b-412c-a7ad-1f598f8ec494",
        "colab": {
          "base_uri": "https://localhost:8080/",
          "height": 53
        }
      },
      "source": [
        "#2つの整数を引数として商と余りを返す関数\n",
        "def mod(a,b):\n",
        "   return(a // b,a%b)\n",
        "\n",
        "print (mod(5,2))\n",
        "\n",
        "print(do_nothing())"
      ],
      "execution_count": 0,
      "outputs": [
        {
          "output_type": "stream",
          "text": [
            "(2, 1)\n",
            "None\n"
          ],
          "name": "stdout"
        }
      ]
    },
    {
      "cell_type": "code",
      "metadata": {
        "id": "CBoyEGUIB7rp",
        "colab_type": "code",
        "outputId": "c1ceb323-67e4-4287-a857-aa9a42663934",
        "colab": {
          "base_uri": "https://localhost:8080/",
          "height": 35
        }
      },
      "source": [
        "#引数として頻度閾値f_t,購買金額閾値m_tを追加\n",
        "def rfm(f,m,f_t,m_t):\n",
        "  if (f<=f_t) & (m<=m_t):\n",
        "    return ('③')\n",
        "  elif (f>f_t) & (m<=m_t):\n",
        "    return ('①')\n",
        "  elif (f>f_t) & (m>m_t):\n",
        "    return ('②')\n",
        "  else:\n",
        "    return ('④')\n",
        "  \n",
        "rfm(3,1000,2500,5700)"
      ],
      "execution_count": 0,
      "outputs": [
        {
          "output_type": "execute_result",
          "data": {
            "text/plain": [
              "'③'"
            ]
          },
          "metadata": {
            "tags": []
          },
          "execution_count": 10
        }
      ]
    },
    {
      "cell_type": "markdown",
      "metadata": {
        "id": "kCp8KqqNCEu1",
        "colab_type": "text"
      },
      "source": [
        "##6.3 様々な引数タイプ*"
      ]
    },
    {
      "cell_type": "markdown",
      "metadata": {
        "id": "bCJIfERHCHTX",
        "colab_type": "text"
      },
      "source": [
        "###6.3.1 位置引数"
      ]
    },
    {
      "cell_type": "code",
      "metadata": {
        "id": "uFPgDwLTCA6G",
        "colab_type": "code",
        "colab": {}
      },
      "source": [
        "#引数の順序をf,mとして定義\n",
        "def rfm(f,m):\n",
        "  if (f<=5) & (m<=5000):\n",
        "    return ('③')\n",
        "  elif (f>5) & (m<=5000):\n",
        "    return ('①')\n",
        "  elif (f>5) & (m>5000):\n",
        "    return ('②')\n",
        "  else:\n",
        "    return ('④')"
      ],
      "execution_count": 0,
      "outputs": []
    },
    {
      "cell_type": "code",
      "metadata": {
        "id": "YKDLybYKCLB9",
        "colab_type": "code",
        "outputId": "5417cc21-56f6-4d16-ff86-c5863991a4d2",
        "colab": {
          "base_uri": "https://localhost:8080/",
          "height": 53
        }
      },
      "source": [
        "f=4;m=9000\n",
        "#定義と同じ順序で変数を渡す\n",
        "print (rfm(f,m))\n",
        "#定義と逆で渡す\n",
        "print (rfm(m,f))"
      ],
      "execution_count": 0,
      "outputs": [
        {
          "output_type": "stream",
          "text": [
            "④\n",
            "①\n"
          ],
          "name": "stdout"
        }
      ]
    },
    {
      "cell_type": "markdown",
      "metadata": {
        "id": "V3rMJtqhCP-i",
        "colab_type": "text"
      },
      "source": [
        "###6.3.2 キーワード引数"
      ]
    },
    {
      "cell_type": "code",
      "metadata": {
        "id": "2hCcB4oaCNPU",
        "colab_type": "code",
        "outputId": "c386c1e6-a028-47ab-97cf-fffb9526d984",
        "colab": {
          "base_uri": "https://localhost:8080/",
          "height": 53
        }
      },
      "source": [
        "#以下のように渡す\n",
        "print (rfm(f=f,m=m))\n",
        "#順序不同\n",
        "print (rfm(m=m,f=f))"
      ],
      "execution_count": 0,
      "outputs": [
        {
          "output_type": "stream",
          "text": [
            "④\n",
            "④\n"
          ],
          "name": "stdout"
        }
      ]
    },
    {
      "cell_type": "code",
      "metadata": {
        "id": "sxPiAs1JCUoo",
        "colab_type": "code",
        "outputId": "79c90641-b127-4cc8-ebbb-e42f5108a25d",
        "colab": {
          "base_uri": "https://localhost:8080/",
          "height": 35
        }
      },
      "source": [
        "#引数m=4000として定義\n",
        "def rfm(f,m=4000):\n",
        "  if (f<=5) & (m<=5000):\n",
        "    return ('③')\n",
        "  elif (f>5) & (m<=5000):\n",
        "    return ('①')\n",
        "  elif (f>5) & (m>5000):\n",
        "    return ('②')\n",
        "  else:\n",
        "    return ('④')\n",
        "\n",
        "f=4  \n",
        "print (rfm(f))"
      ],
      "execution_count": 0,
      "outputs": [
        {
          "output_type": "stream",
          "text": [
            "③\n"
          ],
          "name": "stdout"
        }
      ]
    },
    {
      "cell_type": "code",
      "metadata": {
        "id": "s5xDK5TsCWkV",
        "colab_type": "code",
        "colab": {}
      },
      "source": [
        ""
      ],
      "execution_count": 0,
      "outputs": []
    }
  ]
}
{
  "nbformat": 4,
  "nbformat_minor": 0,
  "metadata": {
    "colab": {
      "name": "DataScienceLecture2_2.ipynb",
      "provenance": [],
      "collapsed_sections": [],
      "include_colab_link": true
    },
    "kernelspec": {
      "name": "python3",
      "display_name": "Python 3"
    }
  },
  "cells": [
    {
      "cell_type": "markdown",
      "metadata": {
        "id": "view-in-github",
        "colab_type": "text"
      },
      "source": [
        "<a href=\"https://colab.research.google.com/github/mitsu666/DataScienceLecture/blob/master/DataScienceLecture2_2.ipynb\" target=\"_parent\"><img src=\"https://colab.research.google.com/assets/colab-badge.svg\" alt=\"Open In Colab\"/></a>"
      ]
    },
    {
      "cell_type": "markdown",
      "metadata": {
        "id": "4MRf8ZYP6rvo",
        "colab_type": "text"
      },
      "source": [
        "#4.リスト・タプル・辞書・集合"
      ]
    },
    {
      "cell_type": "markdown",
      "metadata": {
        "id": "szOlBw267Yrm",
        "colab_type": "text"
      },
      "source": [
        "##4.1リスト"
      ]
    },
    {
      "cell_type": "markdown",
      "metadata": {
        "id": "b5Ixn_SJ7bb1",
        "colab_type": "text"
      },
      "source": [
        "###4.1.1 リスト作成"
      ]
    },
    {
      "cell_type": "code",
      "metadata": {
        "id": "jPQi2NXt6kbP",
        "colab_type": "code",
        "outputId": "74d718ed-cf14-492e-922d-1db66aa4ae7d",
        "colab": {
          "base_uri": "https://localhost:8080/",
          "height": 35
        }
      },
      "source": [
        "#　リストは0個以上の要素をそれぞれカンマで区切り、全体を角カッコで囲んで作る。\n",
        "#空のリスト\n",
        "empty_list1=[ ]\n",
        "print (empty_list1)"
      ],
      "execution_count": 0,
      "outputs": [
        {
          "output_type": "stream",
          "text": [
            "[]\n"
          ],
          "name": "stdout"
        }
      ]
    },
    {
      "cell_type": "code",
      "metadata": {
        "id": "LIM6LWpm7gXM",
        "colab_type": "code",
        "outputId": "a05ebbdc-bf71-4bcb-fca5-eca95750cf19",
        "colab": {
          "base_uri": "https://localhost:8080/",
          "height": 53
        }
      },
      "source": [
        "#要素を定義したリスト\n",
        "computer_language=['python','ruby','PHP','javascript','Perl']\n",
        "pref=['東京','神奈川','千葉']\n",
        "print (computer_language)\n",
        "print (pref)"
      ],
      "execution_count": 0,
      "outputs": [
        {
          "output_type": "stream",
          "text": [
            "['python', 'ruby', 'PHP', 'javascript', 'Perl']\n",
            "['東京', '神奈川', '千葉']\n"
          ],
          "name": "stdout"
        }
      ]
    },
    {
      "cell_type": "code",
      "metadata": {
        "id": "Qu1J6vFz7jqJ",
        "colab_type": "code",
        "outputId": "2e4d3030-d19b-4009-ee38-cdb76cece725",
        "colab": {
          "base_uri": "https://localhost:8080/",
          "height": 35
        }
      },
      "source": [
        "#　list()関数で空リストを作ることもできる。\n",
        "empty_list2=()\n",
        "print (list(empty_list2))"
      ],
      "execution_count": 0,
      "outputs": [
        {
          "output_type": "stream",
          "text": [
            "[]\n"
          ],
          "name": "stdout"
        }
      ]
    },
    {
      "cell_type": "code",
      "metadata": {
        "id": "8lg9NmSM7mIV",
        "colab_type": "code",
        "outputId": "4ba3af0a-e4d8-46e1-f2ee-e29971593dfc",
        "colab": {
          "base_uri": "https://localhost:8080/",
          "height": 53
        }
      },
      "source": [
        "#文字列を１文字ごとの文字列リストに変換する。\n",
        "print (list('Python'))\n",
        "\n",
        "#クリステル風に\n",
        "print (list('おもてなし'))"
      ],
      "execution_count": 0,
      "outputs": [
        {
          "output_type": "stream",
          "text": [
            "['P', 'y', 't', 'h', 'o', 'n']\n",
            "['お', 'も', 'て', 'な', 'し']\n"
          ],
          "name": "stdout"
        }
      ]
    },
    {
      "cell_type": "code",
      "metadata": {
        "id": "zF-5MVij7qZt",
        "colab_type": "code",
        "outputId": "165de360-af84-4321-cd6f-20e45107b025",
        "colab": {
          "base_uri": "https://localhost:8080/",
          "height": 35
        }
      },
      "source": [
        "#　タプルをリストに変換する。(あとで習うが()で囲まれたものをタプルと呼ぶ)\n",
        "tuple_1=('Python','Perl','PHP')\n",
        "list(tuple_1)"
      ],
      "execution_count": 0,
      "outputs": [
        {
          "output_type": "execute_result",
          "data": {
            "text/plain": [
              "['Python', 'Perl', 'PHP']"
            ]
          },
          "metadata": {
            "tags": []
          },
          "execution_count": 5
        }
      ]
    },
    {
      "cell_type": "code",
      "metadata": {
        "id": "inhJLV8p7tIB",
        "colab_type": "code",
        "outputId": "382ea77a-55ec-4aa8-d7bb-2ba52b0e8a8c",
        "colab": {
          "base_uri": "https://localhost:8080/",
          "height": 35
        }
      },
      "source": [
        "#文字列split()はもう学んだ。文字列を分割してリストにすることができる。\n",
        "datetime='2019/10/25'\n",
        "datetime.split('/')"
      ],
      "execution_count": 0,
      "outputs": [
        {
          "output_type": "execute_result",
          "data": {
            "text/plain": [
              "['2019', '10', '25']"
            ]
          },
          "metadata": {
            "tags": []
          },
          "execution_count": 6
        }
      ]
    },
    {
      "cell_type": "code",
      "metadata": {
        "id": "0_kJ-FCS7xBJ",
        "colab_type": "code",
        "outputId": "ab0d907e-06b6-4a4f-a445-341d6e4b688d",
        "colab": {
          "base_uri": "https://localhost:8080/",
          "height": 35
        }
      },
      "source": [
        "#　元の文字列に複数のセパレータ文字列が連続している部分があるときには、リスト要素として空文字列が作られる。\n",
        "splitme='2019//25'\n",
        "splitme.split('/')\n",
        "\n",
        "#//で分割\n",
        "splitme.split('//')"
      ],
      "execution_count": 0,
      "outputs": [
        {
          "output_type": "execute_result",
          "data": {
            "text/plain": [
              "['2019', '25']"
            ]
          },
          "metadata": {
            "tags": []
          },
          "execution_count": 7
        }
      ]
    },
    {
      "cell_type": "markdown",
      "metadata": {
        "id": "ggsp-VqV7-7S",
        "colab_type": "text"
      },
      "source": [
        "###4.1.2 [番地]を使って要素の取り出し"
      ]
    },
    {
      "cell_type": "code",
      "metadata": {
        "id": "2UcA08MP7zTB",
        "colab_type": "code",
        "outputId": "1de7e381-92ca-4bf1-cec7-da66c8d30336",
        "colab": {
          "base_uri": "https://localhost:8080/",
          "height": 71
        }
      },
      "source": [
        "#　番地を指定すればリストからも個々の要素を取り出せる。\n",
        "pref=['東京','神奈川','埼玉']\n",
        "print (pref[0])\n",
        "print (pref[1])\n",
        "print (pref[2])"
      ],
      "execution_count": 0,
      "outputs": [
        {
          "output_type": "stream",
          "text": [
            "東京\n",
            "神奈川\n",
            "埼玉\n"
          ],
          "name": "stdout"
        }
      ]
    },
    {
      "cell_type": "code",
      "metadata": {
        "id": "wyynr_Hd71g5",
        "colab_type": "code",
        "outputId": "7922c6ed-833e-4ae9-80c1-1ca084800fab",
        "colab": {
          "base_uri": "https://localhost:8080/",
          "height": 71
        }
      },
      "source": [
        "#負の番地を使えば、末尾から逆に数えていくこともできる。\n",
        "print (pref[-1])\n",
        "print (pref[-2])\n",
        "print (pref[-3])"
      ],
      "execution_count": 0,
      "outputs": [
        {
          "output_type": "stream",
          "text": [
            "埼玉\n",
            "神奈川\n",
            "東京\n"
          ],
          "name": "stdout"
        }
      ]
    },
    {
      "cell_type": "markdown",
      "metadata": {
        "id": "yE4aiuqz76iu",
        "colab_type": "text"
      },
      "source": [
        "###4.1.3 リストのリスト"
      ]
    },
    {
      "cell_type": "code",
      "metadata": {
        "id": "pb6Bm3E173oB",
        "colab_type": "code",
        "outputId": "99f72867-4f07-48c4-da32-ad98e95ad7a3",
        "colab": {
          "base_uri": "https://localhost:8080/",
          "height": 35
        }
      },
      "source": [
        "#　リストの中身\n",
        "yamanote = ['恵比寿','目黒','大崎','五反田']\n",
        "hibiya = ['中目黒','恵比寿','広尾']\n",
        "saikyo = ['恵比寿','品川','東京']\n",
        "all_station=[yamanote,hibiya,saikyo]\n",
        "\n",
        "print (all_station)"
      ],
      "execution_count": 0,
      "outputs": [
        {
          "output_type": "stream",
          "text": [
            "[['恵比寿', '目黒', '大崎', '五反田'], ['中目黒', '恵比寿', '広尾'], ['恵比寿', '品川', '東京']]\n"
          ],
          "name": "stdout"
        }
      ]
    },
    {
      "cell_type": "code",
      "metadata": {
        "id": "oi1AGrDH8DDM",
        "colab_type": "code",
        "outputId": "73465483-7107-49b7-ca83-27735cdacac9",
        "colab": {
          "base_uri": "https://localhost:8080/",
          "height": 71
        }
      },
      "source": [
        "#同様に0番地でアクセスすると山手線リストが取得できる\n",
        "print (all_station[0])\n",
        "#1番地目\n",
        "print (all_station[1])\n",
        "#2番地目\n",
        "print (all_station[2])"
      ],
      "execution_count": 0,
      "outputs": [
        {
          "output_type": "stream",
          "text": [
            "['恵比寿', '目黒', '大崎', '五反田']\n",
            "['中目黒', '恵比寿', '広尾']\n",
            "['恵比寿', '品川', '東京']\n"
          ],
          "name": "stdout"
        }
      ]
    },
    {
      "cell_type": "code",
      "metadata": {
        "id": "UHu1znjo8Fq2",
        "colab_type": "code",
        "outputId": "1d4ded5c-309d-4f27-c2c5-7f12211a9b0d",
        "colab": {
          "base_uri": "https://localhost:8080/",
          "height": 53
        }
      },
      "source": [
        "#0番地目の0番地目\n",
        "print (all_station[0][0])\n",
        "#2番地目の1番地目\n",
        "print (all_station[2][1])"
      ],
      "execution_count": 0,
      "outputs": [
        {
          "output_type": "stream",
          "text": [
            "恵比寿\n",
            "品川\n"
          ],
          "name": "stdout"
        }
      ]
    },
    {
      "cell_type": "markdown",
      "metadata": {
        "id": "3ZSBu0jA8QC2",
        "colab_type": "text"
      },
      "source": [
        "###4.1.4 番地指定による要素の書き換え"
      ]
    },
    {
      "cell_type": "code",
      "metadata": {
        "id": "pXfib3eU8J3P",
        "colab_type": "code",
        "outputId": "97107a5a-3f6f-411f-a2ac-1e422d7a4bbc",
        "colab": {
          "base_uri": "https://localhost:8080/",
          "height": 35
        }
      },
      "source": [
        "#大崎を高輪ゲートウェイに変更\n",
        "# 番地指定（オフセット）でリスト要素の値を書き換えることもできる。\n",
        "yamanote = ['恵比寿','目黒','大崎','五反田']\n",
        "yamanote[2]='高輪ゲートウェイ'\n",
        "print (yamanote)"
      ],
      "execution_count": 0,
      "outputs": [
        {
          "output_type": "stream",
          "text": [
            "['恵比寿', '目黒', '高輪ゲートウェイ', '五反田']\n"
          ],
          "name": "stdout"
        }
      ]
    },
    {
      "cell_type": "markdown",
      "metadata": {
        "id": "gLz9vwCg8Pgx",
        "colab_type": "text"
      },
      "source": [
        "###4.1.5 要素の追加や削除"
      ]
    },
    {
      "cell_type": "code",
      "metadata": {
        "id": "h63mct-F8UFG",
        "colab_type": "code",
        "outputId": "6fe8301f-25ff-42b8-a2de-3817ec69643a",
        "colab": {
          "base_uri": "https://localhost:8080/",
          "height": 35
        }
      },
      "source": [
        "#　append()で末尾にひとつずつ要素を追加できる。\n",
        "yamanote = ['恵比寿','目黒','大崎','五反田']\n",
        "yamanote.append('高輪ゲートウェイ')\n",
        "print (yamanote)"
      ],
      "execution_count": 0,
      "outputs": [
        {
          "output_type": "stream",
          "text": [
            "['恵比寿', '目黒', '大崎', '五反田', '高輪ゲートウェイ']\n"
          ],
          "name": "stdout"
        }
      ]
    },
    {
      "cell_type": "code",
      "metadata": {
        "id": "QaDImhg-8cj2",
        "colab_type": "code",
        "outputId": "50600e6f-dca3-416a-b5fb-7e474a130c18",
        "colab": {
          "base_uri": "https://localhost:8080/",
          "height": 71
        }
      },
      "source": [
        "#extend()でふたつのリストをひとつにまとめることができる。\n",
        "toyoko = ['代官山','渋谷']\n",
        "fukutoshin =['原宿','北参道','新宿']\n",
        "#東横線に副都心線をつなげる\n",
        "toyoko.extend(fukutoshin)\n",
        "print (toyoko)\n",
        "\n",
        "#＋＝を使ってリストをまとめることができる。\n",
        "toyoko = ['代官山','渋谷']\n",
        "fukutoshin =['原宿','北参道','新宿']\n",
        "#東横線に副都心線をつなげる\n",
        "toyoko += fukutoshin\n",
        "print (toyoko)\n",
        "\n",
        "#append()はリストの追加。\n",
        "toyoko = ['代官山','渋谷']\n",
        "fukutoshin =['原宿','北参道','新宿']\n",
        "toyoko.append(fukutoshin)\n",
        "print (toyoko)"
      ],
      "execution_count": 0,
      "outputs": [
        {
          "output_type": "stream",
          "text": [
            "['代官山', '渋谷', '原宿', '北参道', '新宿']\n",
            "['代官山', '渋谷', '原宿', '北参道', '新宿']\n",
            "['代官山', '渋谷', ['原宿', '北参道', '新宿']]\n"
          ],
          "name": "stdout"
        }
      ]
    },
    {
      "cell_type": "code",
      "metadata": {
        "id": "8hpiVSmc8ikz",
        "colab_type": "code",
        "outputId": "61e18cac-eef2-464c-e093-27c69e150891",
        "colab": {
          "base_uri": "https://localhost:8080/",
          "height": 35
        }
      },
      "source": [
        "#　リストのオフセットを指定し、その前に要素を追加したいときには、insert()を使う。\n",
        "#　append()はリストの末尾にしか要素を追加できない。\n",
        "toyoko=['自由が丘','学芸大学','中目黒']\n",
        "toyoko.insert(1,'都立大学')\n",
        "print (toyoko)"
      ],
      "execution_count": 0,
      "outputs": [
        {
          "output_type": "stream",
          "text": [
            "['自由が丘', '都立大学', '学芸大学', '中目黒']\n"
          ],
          "name": "stdout"
        }
      ]
    },
    {
      "cell_type": "code",
      "metadata": {
        "id": "P3SSe3hR8k48",
        "colab_type": "code",
        "outputId": "26c65255-e47c-4f6a-bda9-0e1e9175a4a6",
        "colab": {
          "base_uri": "https://localhost:8080/",
          "height": 35
        }
      },
      "source": [
        "#急行停車駅\n",
        "toyoko = ['自由が丘', '都立大学', '学芸大学', '中目黒']\n",
        "#都立大学は急行とまらない\n",
        "del toyoko[1]\n",
        "print (toyoko)"
      ],
      "execution_count": 0,
      "outputs": [
        {
          "output_type": "stream",
          "text": [
            "['自由が丘', '学芸大学', '中目黒']\n"
          ],
          "name": "stdout"
        }
      ]
    },
    {
      "cell_type": "code",
      "metadata": {
        "id": "V1S9Uk318nEU",
        "colab_type": "code",
        "outputId": "f1d6d0de-a57a-4cfe-8ea9-d3b5c0415040",
        "colab": {
          "base_uri": "https://localhost:8080/",
          "height": 35
        }
      },
      "source": [
        "#　remove()を使うと値を指定して要素を削除することができる。\n",
        "#急行停車駅\n",
        "toyoko = ['自由が丘', '都立大学', '学芸大学', '中目黒']\n",
        "#都立大学は急行とまらない\n",
        "toyoko.remove('都立大学')\n",
        "print (toyoko)"
      ],
      "execution_count": 0,
      "outputs": [
        {
          "output_type": "stream",
          "text": [
            "['自由が丘', '学芸大学', '中目黒']\n"
          ],
          "name": "stdout"
        }
      ]
    },
    {
      "cell_type": "markdown",
      "metadata": {
        "id": "xc5MK08x8sY6",
        "colab_type": "text"
      },
      "source": [
        "###4.1.6 その他のリスト操作"
      ]
    },
    {
      "cell_type": "code",
      "metadata": {
        "id": "5qb2X_Rk8pWC",
        "colab_type": "code",
        "outputId": "46cbe7cb-dced-49be-d60d-ca9da7b79661",
        "colab": {
          "base_uri": "https://localhost:8080/",
          "height": 35
        }
      },
      "source": [
        "toyoko = ['自由が丘', '都立大学', '学芸大学', '中目黒']\n",
        "print (toyoko.index('都立大学'))"
      ],
      "execution_count": 0,
      "outputs": [
        {
          "output_type": "stream",
          "text": [
            "1\n"
          ],
          "name": "stdout"
        }
      ]
    },
    {
      "cell_type": "code",
      "metadata": {
        "id": "XfiTFdNc8vd_",
        "colab_type": "code",
        "outputId": "d522591f-db94-4314-caa4-cfd1569eeff7",
        "colab": {
          "base_uri": "https://localhost:8080/",
          "height": 53
        }
      },
      "source": [
        "toyoko = ['自由が丘', '都立大学', '学芸大学', '中目黒']\n",
        "print ('都立大学' in toyoko)\n",
        "print ('大岡山' in toyoko)"
      ],
      "execution_count": 0,
      "outputs": [
        {
          "output_type": "stream",
          "text": [
            "True\n",
            "False\n"
          ],
          "name": "stdout"
        }
      ]
    },
    {
      "cell_type": "code",
      "metadata": {
        "id": "reN-ueG88xnz",
        "colab_type": "code",
        "outputId": "eed27d6b-ea05-4ff8-dc70-e92885768b07",
        "colab": {
          "base_uri": "https://localhost:8080/",
          "height": 35
        }
      },
      "source": [
        "#count()・・・特定の値がリスト内に何個含まれているのか数える。あまり使わない\n",
        "gender = ['M','F','M','F','F','F']\n",
        "gender.count('M')"
      ],
      "execution_count": 0,
      "outputs": [
        {
          "output_type": "execute_result",
          "data": {
            "text/plain": [
              "2"
            ]
          },
          "metadata": {
            "tags": []
          },
          "execution_count": 24
        }
      ]
    },
    {
      "cell_type": "code",
      "metadata": {
        "id": "AqsbcB6q80Ym",
        "colab_type": "code",
        "outputId": "254e9f0d-23e8-4654-cc59-df7ca429e097",
        "colab": {
          "base_uri": "https://localhost:8080/",
          "height": 53
        }
      },
      "source": [
        "#文字列を分解して単語をカウントする\n",
        "python_wiki='''Python is an interpreted, high-level, general-purpose programming language.\n",
        "Created by Guido van Rossum and first released in 1991, Python's design philosophy \n",
        "emphasizes code readability with its notable use of significant whitespace. \n",
        "Its language constructs and object-oriented approach aim to help programmers \n",
        "write clear,logical code for small and large-scale projects.'''\n",
        "letters = python_wiki.split(' ')\n",
        "\n",
        "#'Python'が何回出現するか\n",
        "print (letters.count('Python'))\n",
        "\n",
        "#不定冠詞'a'が何回出現するか\n",
        "print (letters.count('a'))"
      ],
      "execution_count": 0,
      "outputs": [
        {
          "output_type": "stream",
          "text": [
            "1\n",
            "0\n"
          ],
          "name": "stdout"
        }
      ]
    },
    {
      "cell_type": "code",
      "metadata": {
        "id": "JiKibH9983ZV",
        "colab_type": "code",
        "outputId": "09a533cb-1b48-4682-f657-1e5bef225205",
        "colab": {
          "base_uri": "https://localhost:8080/",
          "height": 71
        }
      },
      "source": [
        "#数値要素リスト\n",
        "height = [254,222,302]\n",
        "sorted_height=sorted(height)\n",
        "print (sorted_height)\n",
        "\n",
        "#　リスト関数のsort()を呼び出すと、リスト自体が書き換えられる。\n",
        "height.sort()\n",
        "print (height)\n",
        "\n",
        "#　reverse=True引数を追加すれば降順になる。\n",
        "\n",
        "N=[8,1,2,3.0,1.5,5]\n",
        "N.sort(reverse=True)\n",
        "print (N)\n"
      ],
      "execution_count": 0,
      "outputs": [
        {
          "output_type": "stream",
          "text": [
            "[222, 254, 302]\n",
            "[222, 254, 302]\n",
            "[8, 5, 3.0, 2, 1.5, 1]\n"
          ],
          "name": "stdout"
        }
      ]
    },
    {
      "cell_type": "code",
      "metadata": {
        "id": "Rl63jZMc8_g9",
        "colab_type": "code",
        "outputId": "3f57ad1c-850d-4ca9-f78f-27a876eec5a2",
        "colab": {
          "base_uri": "https://localhost:8080/",
          "height": 35
        }
      },
      "source": [
        "toyoko = ['自由が丘', '都立大学', '学芸大学', '中目黒']\n",
        "print (len(toyoko))"
      ],
      "execution_count": 0,
      "outputs": [
        {
          "output_type": "stream",
          "text": [
            "4\n"
          ],
          "name": "stdout"
        }
      ]
    },
    {
      "cell_type": "code",
      "metadata": {
        "id": "TD74Uzf19C4k",
        "colab_type": "code",
        "outputId": "d24525ff-fca5-4a8e-cb50-cf1ea340a34a",
        "colab": {
          "base_uri": "https://localhost:8080/",
          "height": 73
        }
      },
      "source": [
        "#単語数調べる\n",
        "#文字列を分解して単語をカウントする\n",
        "python_wiki='''Python is an interpreted, high-level, general-purpose programming language.\n",
        "Created by Guido van Rossum and first released in 1991, Python's design philosophy \n",
        "emphasizes code readability with its notable use of significant whitespace. \n",
        "Its language constructs and object-oriented approach aim to help programmers \n",
        "write clear,logical code for small and large-scale projects.'''\n",
        "#splitしてリストにする\n",
        "letters = python_wiki.split(' ')\n",
        "print (letters)\n",
        "#単語数を調べる\n",
        "print (len(letters))"
      ],
      "execution_count": 0,
      "outputs": [
        {
          "output_type": "stream",
          "text": [
            "['Python', 'is', 'an', 'interpreted,', 'high-level,', 'general-purpose', 'programming', 'language.\\nCreated', 'by', 'Guido', 'van', 'Rossum', 'and', 'first', 'released', 'in', '1991,', \"Python's\", 'design', 'philosophy', '\\nemphasizes', 'code', 'readability', 'with', 'its', 'notable', 'use', 'of', 'significant', 'whitespace.', '\\nIts', 'language', 'constructs', 'and', 'object-oriented', 'approach', 'aim', 'to', 'help', 'programmers', '\\nwrite', 'clear,logical', 'code', 'for', 'small', 'and', 'large-scale', 'projects.']\n",
            "48\n"
          ],
          "name": "stdout"
        }
      ]
    },
    {
      "cell_type": "code",
      "metadata": {
        "id": "3J6RgFAm9GKM",
        "colab_type": "code",
        "outputId": "81a3d65a-0bd5-4d4a-ce0f-1cc87ef913de",
        "colab": {
          "base_uri": "https://localhost:8080/",
          "height": 35
        }
      },
      "source": [
        "#201904 201910までのファイル名を作成する\n",
        "start = 201904 \n",
        "#空のリストを作成\n",
        "list1 = [] \n",
        "#for分で同じ内容を6回回す\n",
        "for i in range(6):\n",
        "  #1月ずつ増やす\n",
        "  start += 1\n",
        "  #文字列に直して、crm_の文字を前に結合するリストに順番にアペンドする\n",
        "  list1.append('crm_'+str(start))\n",
        "\n",
        "#年月ファイルリスト  \n",
        "print (list1)"
      ],
      "execution_count": 0,
      "outputs": [
        {
          "output_type": "stream",
          "text": [
            "['crm_201905', 'crm_201906', 'crm_201907', 'crm_201908', 'crm_201909', 'crm_201910']\n"
          ],
          "name": "stdout"
        }
      ]
    },
    {
      "cell_type": "markdown",
      "metadata": {
        "id": "pYoC0SKY9Ow0",
        "colab_type": "text"
      },
      "source": [
        "##4.2 タプル"
      ]
    },
    {
      "cell_type": "markdown",
      "metadata": {
        "id": "hhfuKKrh9dEc",
        "colab_type": "text"
      },
      "source": [
        "###4.2.1 タプルの作成"
      ]
    },
    {
      "cell_type": "code",
      "metadata": {
        "id": "5oUcPk509KLh",
        "colab_type": "code",
        "outputId": "a704e2dc-28cb-46d1-b3be-8c9fd6c39e42",
        "colab": {
          "base_uri": "https://localhost:8080/",
          "height": 35
        }
      },
      "source": [
        "#　空タプル\n",
        "empty_tuple=()\n",
        "empty_tuple"
      ],
      "execution_count": 0,
      "outputs": [
        {
          "output_type": "execute_result",
          "data": {
            "text/plain": [
              "()"
            ]
          },
          "metadata": {
            "tags": []
          },
          "execution_count": 30
        }
      ]
    },
    {
      "cell_type": "code",
      "metadata": {
        "id": "KfH019tC9fr4",
        "colab_type": "code",
        "outputId": "296a5d6b-2b2d-4231-dc55-eb89780e6b17",
        "colab": {
          "base_uri": "https://localhost:8080/",
          "height": 35
        }
      },
      "source": [
        "#　１個以上の要素を持つタプルは、ここの要素をカンマで区切っていく。\n",
        "#　要素が１個のタプルも末尾にカンマをつけて作る。\n",
        "\n",
        "one_station='恵比寿',\n",
        "one_station"
      ],
      "execution_count": 0,
      "outputs": [
        {
          "output_type": "execute_result",
          "data": {
            "text/plain": [
              "('恵比寿',)"
            ]
          },
          "metadata": {
            "tags": []
          },
          "execution_count": 31
        }
      ]
    },
    {
      "cell_type": "code",
      "metadata": {
        "id": "wIl8_FFD9h2M",
        "colab_type": "code",
        "outputId": "e513a402-aa06-4544-f41e-3dff09f0937c",
        "colab": {
          "base_uri": "https://localhost:8080/",
          "height": 35
        }
      },
      "source": [
        "#　要素が複数ある場合には、全ての要素の後ろにカンマをつける。\n",
        "all_station=('恵比寿','渋谷','広尾')\n",
        "print (all_station)"
      ],
      "execution_count": 0,
      "outputs": [
        {
          "output_type": "stream",
          "text": [
            "('恵比寿', '渋谷', '広尾')\n"
          ],
          "name": "stdout"
        }
      ]
    },
    {
      "cell_type": "code",
      "metadata": {
        "id": "Sd9HRBXL9kBo",
        "colab_type": "code",
        "outputId": "891c8566-6a3f-48ab-9701-70128815708f",
        "colab": {
          "base_uri": "https://localhost:8080/",
          "height": 71
        }
      },
      "source": [
        "#　タプルを使えば、一度に複数の変数を代入できる。\n",
        "param=('height','weight','bmi')\n",
        "a , b, c = param \n",
        "\n",
        "print (a)\n",
        "print (b)\n",
        "print (c)"
      ],
      "execution_count": 0,
      "outputs": [
        {
          "output_type": "stream",
          "text": [
            "height\n",
            "weight\n",
            "bmi\n"
          ],
          "name": "stdout"
        }
      ]
    },
    {
      "cell_type": "code",
      "metadata": {
        "id": "fXSoc7Ak9mvp",
        "colab_type": "code",
        "outputId": "9b5c779c-7a75-4eba-bf29-a384d2ff5898",
        "colab": {
          "base_uri": "https://localhost:8080/",
          "height": 53
        }
      },
      "source": [
        "#　タプルを使えば、一時変数を使わずにひとつの文で値を交換できる。\n",
        "a = 'a'\n",
        "b ='b'\n",
        "b,a =a,b\n",
        "print (a)\n",
        "print (b)"
      ],
      "execution_count": 0,
      "outputs": [
        {
          "output_type": "stream",
          "text": [
            "b\n",
            "a\n"
          ],
          "name": "stdout"
        }
      ]
    },
    {
      "cell_type": "code",
      "metadata": {
        "id": "nRI6otdK9rad",
        "colab_type": "code",
        "outputId": "94012a61-8ed6-4c1c-8acb-d483124428cf",
        "colab": {
          "base_uri": "https://localhost:8080/",
          "height": 35
        }
      },
      "source": [
        "toyoko=['渋谷','代官山','中目黒']\n",
        "tuple(toyoko)"
      ],
      "execution_count": 0,
      "outputs": [
        {
          "output_type": "execute_result",
          "data": {
            "text/plain": [
              "('渋谷', '代官山', '中目黒')"
            ]
          },
          "metadata": {
            "tags": []
          },
          "execution_count": 35
        }
      ]
    },
    {
      "cell_type": "code",
      "metadata": {
        "id": "7U4vOG_-9wAs",
        "colab_type": "code",
        "outputId": "28dc347e-9917-4ec3-ce7b-151fa22923f9",
        "colab": {
          "base_uri": "https://localhost:8080/",
          "height": 53
        }
      },
      "source": [
        "#後で学ぶがユーザ定義関数を作成し戻り値を複数にする\n",
        "def func(num,divide):\n",
        "  #numをdivideで割った商と余りを返す\n",
        "  return (num // divide,num % divide)\n",
        "\n",
        "print (func(10,3))\n",
        "\n",
        "#アンパック\n",
        "a , b = func(10,3)\n",
        "#商とあまりの関係\n",
        "print (a*3+b)"
      ],
      "execution_count": 0,
      "outputs": [
        {
          "output_type": "stream",
          "text": [
            "(3, 1)\n",
            "10\n"
          ],
          "name": "stdout"
        }
      ]
    },
    {
      "cell_type": "markdown",
      "metadata": {
        "id": "zjXLRK_w93ik",
        "colab_type": "text"
      },
      "source": [
        "##4.3.辞書"
      ]
    },
    {
      "cell_type": "markdown",
      "metadata": {
        "id": "_RW83rBf9735",
        "colab_type": "text"
      },
      "source": [
        "###4.3.1 辞書の作成"
      ]
    },
    {
      "cell_type": "code",
      "metadata": {
        "id": "nqNGSDka9zLt",
        "colab_type": "code",
        "outputId": "11823c9f-1c13-4dba-c6b9-227f737fd9c9",
        "colab": {
          "base_uri": "https://localhost:8080/",
          "height": 35
        }
      },
      "source": [
        "#辞書を作るには、key/valueのペアをカンマで区切って並べ、波カッコで囲む。\n",
        "# バックスラッシュ \\　は改行であること注意\n",
        "#辞書の定義は改行して見やすくする\n",
        "\n",
        "capital={\"日本\":\"東京\", \\\n",
        "         \"アメリカ\":\"ワシントン\",\n",
        "         \"韓国\":\"ソウル\",\n",
        "         \"イギリス\":\"ロンドン\"}\n",
        "capital"
      ],
      "execution_count": 0,
      "outputs": [
        {
          "output_type": "execute_result",
          "data": {
            "text/plain": [
              "{'アメリカ': 'ワシントン', 'イギリス': 'ロンドン', '日本': '東京', '韓国': 'ソウル'}"
            ]
          },
          "metadata": {
            "tags": []
          },
          "execution_count": 37
        }
      ]
    },
    {
      "cell_type": "code",
      "metadata": {
        "id": "I3EWUTNF9-zO",
        "colab_type": "code",
        "outputId": "4d449271-34f8-497b-8b17-57f3edb644f2",
        "colab": {
          "base_uri": "https://localhost:8080/",
          "height": 35
        }
      },
      "source": [
        "#dict()関数を使えば、ふたつの値のシーケンスを辞書に変換できる。\n",
        "#2要素リストを複数ならべたリストを作成\n",
        "\n",
        "capital_l =[['日本','東京'],['アメリカ','ワシントン'],['韓国','ソウル']]\n",
        "capital = dict(capital_l)\n",
        "print (capital)"
      ],
      "execution_count": 0,
      "outputs": [
        {
          "output_type": "stream",
          "text": [
            "{'日本': '東京', 'アメリカ': 'ワシントン', '韓国': 'ソウル'}\n"
          ],
          "name": "stdout"
        }
      ]
    },
    {
      "cell_type": "code",
      "metadata": {
        "id": "DEfwpUVl-BCb",
        "colab_type": "code",
        "outputId": "605b400b-e065-479f-a5b9-821ed05e94f6",
        "colab": {
          "base_uri": "https://localhost:8080/",
          "height": 35
        }
      },
      "source": [
        "#2字の文字列のリスト 使っているのを見たことない\n",
        "lot = ['A1','B2','C3']\n",
        "dict(lot)"
      ],
      "execution_count": 0,
      "outputs": [
        {
          "output_type": "execute_result",
          "data": {
            "text/plain": [
              "{'A': '1', 'B': '2', 'C': '3'}"
            ]
          },
          "metadata": {
            "tags": []
          },
          "execution_count": 39
        }
      ]
    },
    {
      "cell_type": "code",
      "metadata": {
        "id": "G4Y81iyD-C_n",
        "colab_type": "code",
        "outputId": "bf8ddc0b-3778-4bc7-e993-ee5c02450ec6",
        "colab": {
          "base_uri": "https://localhost:8080/",
          "height": 35
        }
      },
      "source": [
        "#2字の文字列のタプル 同様にない\n",
        "lot = ('A1','B2','C3')\n",
        "dict(lot)"
      ],
      "execution_count": 0,
      "outputs": [
        {
          "output_type": "execute_result",
          "data": {
            "text/plain": [
              "{'A': '1', 'B': '2', 'C': '3'}"
            ]
          },
          "metadata": {
            "tags": []
          },
          "execution_count": 40
        }
      ]
    },
    {
      "cell_type": "markdown",
      "metadata": {
        "id": "aust89u2-HEN",
        "colab_type": "text"
      },
      "source": [
        "###4.3.2 要素の変更・追加・削除"
      ]
    },
    {
      "cell_type": "code",
      "metadata": {
        "id": "8C2jgzbN-FBy",
        "colab_type": "code",
        "outputId": "25a06bd1-b645-4981-a3f5-9cb5a8c5ce19",
        "colab": {
          "base_uri": "https://localhost:8080/",
          "height": 35
        }
      },
      "source": [
        "#NPB セリーグの監督 keyが所属チームで valueが監督名\n",
        "baseball = {\n",
        "    'YG':'HARA',\n",
        "    'YB':'LAMILEZ',\n",
        "    'YS':'OGAWA',\n",
        "    'CD':'YODA',\n",
        "    'HT':'YANO',\n",
        "    'HC':'OGATA',\n",
        "}\n",
        "\n",
        "print (baseball)"
      ],
      "execution_count": 0,
      "outputs": [
        {
          "output_type": "stream",
          "text": [
            "{'YG': 'HARA', 'YB': 'LAMILEZ', 'YS': 'OGAWA', 'CD': 'YODA', 'HT': 'YANO', 'HC': 'OGATA'}\n"
          ],
          "name": "stdout"
        }
      ]
    },
    {
      "cell_type": "code",
      "metadata": {
        "id": "8ATs1pJg-nRw",
        "colab_type": "code",
        "outputId": "95249d43-65d7-4f79-a83b-9b265bda8615",
        "colab": {
          "base_uri": "https://localhost:8080/",
          "height": 35
        }
      },
      "source": [
        "#広島カープは監督交代\n",
        "baseball['HC'] = 'SASAOKA'\n",
        "#ヤクルトも交代\n",
        "baseball['YS'] = 'TAKATSU'\n",
        "print (baseball)"
      ],
      "execution_count": 0,
      "outputs": [
        {
          "output_type": "stream",
          "text": [
            "{'YG': 'HARA', 'YB': 'LAMILEZ', 'YS': 'TAKATSU', 'CD': 'YODA', 'HT': 'YANO', 'HC': 'SASAOKA'}\n"
          ],
          "name": "stdout"
        }
      ]
    },
    {
      "cell_type": "code",
      "metadata": {
        "id": "7vrPK4DJ-p-_",
        "colab_type": "code",
        "outputId": "cb1d6144-7fdf-4c60-b70b-3dbcc204740e",
        "colab": {
          "base_uri": "https://localhost:8080/",
          "height": 35
        }
      },
      "source": [
        "#パリーグ2監督を追加\n",
        "others = {'SL':'TUJI','SH':'KUDO'}\n",
        "baseball.update(others)\n",
        "print (baseball)"
      ],
      "execution_count": 0,
      "outputs": [
        {
          "output_type": "stream",
          "text": [
            "{'YG': 'HARA', 'YB': 'LAMILEZ', 'YS': 'TAKATSU', 'CD': 'YODA', 'HT': 'YANO', 'HC': 'SASAOKA', 'SL': 'TUJI', 'SH': 'KUDO'}\n"
          ],
          "name": "stdout"
        }
      ]
    },
    {
      "cell_type": "code",
      "metadata": {
        "id": "819uJ_hz-sTZ",
        "colab_type": "code",
        "outputId": "81486254-2511-4aef-b440-358e5d2b1e75",
        "colab": {
          "base_uri": "https://localhost:8080/",
          "height": 35
        }
      },
      "source": [
        "#西部の監督除く\n",
        "del baseball['SL']\n",
        "print (baseball)"
      ],
      "execution_count": 0,
      "outputs": [
        {
          "output_type": "stream",
          "text": [
            "{'YG': 'HARA', 'YB': 'LAMILEZ', 'YS': 'TAKATSU', 'CD': 'YODA', 'HT': 'YANO', 'HC': 'SASAOKA', 'SH': 'KUDO'}\n"
          ],
          "name": "stdout"
        }
      ]
    },
    {
      "cell_type": "code",
      "metadata": {
        "id": "U025b4ru-uYr",
        "colab_type": "code",
        "outputId": "6cfc1564-79c9-40f5-b13c-1656929695f1",
        "colab": {
          "base_uri": "https://localhost:8080/",
          "height": 35
        }
      },
      "source": [
        "baseball.clear()\n",
        "print (baseball)"
      ],
      "execution_count": 0,
      "outputs": [
        {
          "output_type": "stream",
          "text": [
            "{}\n"
          ],
          "name": "stdout"
        }
      ]
    },
    {
      "cell_type": "code",
      "metadata": {
        "id": "rPCWVG3R-xHz",
        "colab_type": "code",
        "outputId": "ed995e6f-25d2-41b7-9814-86b72daa9fbd",
        "colab": {
          "base_uri": "https://localhost:8080/",
          "height": 125
        }
      },
      "source": [
        "import pandas as pd\n",
        "df = pd.DataFrame({\"height\":[178,154,165],\n",
        "              \"weight\":[65,43,56]})\n",
        "\n",
        "#データフレーム\n",
        "print (df)\n",
        "#heightの最大値、weightの最小値を計算する\n",
        "#カラムをkeyとして適用する関数をvaluesとする辞書を作成\n",
        "dic = {'height':max,\n",
        "       'weight':min}\n",
        "\n",
        "for k,v in dic.items():\n",
        "  print (k,v(df.loc[:,k]))"
      ],
      "execution_count": 0,
      "outputs": [
        {
          "output_type": "stream",
          "text": [
            "   height  weight\n",
            "0     178      65\n",
            "1     154      43\n",
            "2     165      56\n",
            "height 178\n",
            "weight 43\n"
          ],
          "name": "stdout"
        }
      ]
    },
    {
      "cell_type": "code",
      "metadata": {
        "id": "TC6L4TR5-26u",
        "colab_type": "code",
        "colab": {}
      },
      "source": [
        ""
      ],
      "execution_count": 0,
      "outputs": []
    }
  ]
}
{
  "nbformat": 4,
  "nbformat_minor": 0,
  "metadata": {
    "colab": {
      "name": "DataScienceLecture4.ipynb",
      "provenance": [],
      "collapsed_sections": [],
      "toc_visible": true,
      "include_colab_link": true
    },
    "kernelspec": {
      "name": "python3",
      "display_name": "Python 3"
    }
  },
  "cells": [
    {
      "cell_type": "markdown",
      "metadata": {
        "id": "view-in-github",
        "colab_type": "text"
      },
      "source": [
        "<a href=\"https://colab.research.google.com/github/mitsu666/DataScienceLecture/blob/master/DataScienceLecture4.ipynb\" target=\"_parent\"><img src=\"https://colab.research.google.com/assets/colab-badge.svg\" alt=\"Open In Colab\"/></a>"
      ]
    },
    {
      "cell_type": "markdown",
      "metadata": {
        "id": "kGeJlix27NG4",
        "colab_type": "text"
      },
      "source": [
        "# 1. データ加工と処理"
      ]
    },
    {
      "cell_type": "code",
      "metadata": {
        "id": "znnPaIQK64S5",
        "colab_type": "code",
        "colab": {}
      },
      "source": [
        "#pandasモジュール読み込み\n",
        "import pandas as pd\n",
        "#numpyモジュール読み込み\n",
        "import numpy as np\n",
        "#画面の表示大きくするおまじない\n",
        "PREVIOUS_MAX_ROWS = pd.options.display.max_rows\n",
        "pd.options.display.max_rows = 100\n",
        "#titanicデータ読み込み\n",
        "df = pd.read_csv('train.csv')"
      ],
      "execution_count": 0,
      "outputs": []
    },
    {
      "cell_type": "markdown",
      "metadata": {
        "id": "z6Ec8K057ui0",
        "colab_type": "text"
      },
      "source": [
        "## 1.1. 欠損処理"
      ]
    },
    {
      "cell_type": "code",
      "metadata": {
        "id": "cvVhA9sb7n0x",
        "colab_type": "code",
        "colab": {
          "base_uri": "https://localhost:8080/",
          "height": 266
        },
        "outputId": "d8466cc5-6bab-4cdc-c873-1b510329d64c"
      },
      "source": [
        "#欠損があるかどうか テーブル全体True/False\n",
        "print (df.isnull())"
      ],
      "execution_count": 3,
      "outputs": [
        {
          "output_type": "stream",
          "text": [
            "     PassengerId  Survived  Pclass   Name  ...  Ticket   Fare  Cabin  Embarked\n",
            "0          False     False   False  False  ...   False  False   True     False\n",
            "1          False     False   False  False  ...   False  False  False     False\n",
            "2          False     False   False  False  ...   False  False   True     False\n",
            "3          False     False   False  False  ...   False  False  False     False\n",
            "4          False     False   False  False  ...   False  False   True     False\n",
            "..           ...       ...     ...    ...  ...     ...    ...    ...       ...\n",
            "886        False     False   False  False  ...   False  False   True     False\n",
            "887        False     False   False  False  ...   False  False  False     False\n",
            "888        False     False   False  False  ...   False  False   True     False\n",
            "889        False     False   False  False  ...   False  False  False     False\n",
            "890        False     False   False  False  ...   False  False   True     False\n",
            "\n",
            "[891 rows x 12 columns]\n"
          ],
          "name": "stdout"
        }
      ]
    },
    {
      "cell_type": "code",
      "metadata": {
        "id": "Xl6fVw3F709j",
        "colab_type": "code",
        "colab": {
          "base_uri": "https://localhost:8080/",
          "height": 230
        },
        "outputId": "6c6f9fab-8fef-4d6d-eafa-76a335e66cec"
      },
      "source": [
        "#欠損を含んだ行か？　True/False\n",
        "print (df.isnull().any(axis=1))"
      ],
      "execution_count": 4,
      "outputs": [
        {
          "output_type": "stream",
          "text": [
            "0       True\n",
            "1      False\n",
            "2       True\n",
            "3      False\n",
            "4       True\n",
            "       ...  \n",
            "886     True\n",
            "887    False\n",
            "888     True\n",
            "889    False\n",
            "890     True\n",
            "Length: 891, dtype: bool\n"
          ],
          "name": "stdout"
        }
      ]
    },
    {
      "cell_type": "code",
      "metadata": {
        "id": "TcB9lRCO77hr",
        "colab_type": "code",
        "colab": {
          "base_uri": "https://localhost:8080/",
          "height": 248
        },
        "outputId": "26b596ff-50af-42c9-9b64-ca7a591d6679"
      },
      "source": [
        "#欠損を含んだ列か？　True/False\n",
        "print (df.isnull().any(axis=0))"
      ],
      "execution_count": 5,
      "outputs": [
        {
          "output_type": "stream",
          "text": [
            "PassengerId    False\n",
            "Survived       False\n",
            "Pclass         False\n",
            "Name           False\n",
            "Sex            False\n",
            "Age             True\n",
            "SibSp          False\n",
            "Parch          False\n",
            "Ticket         False\n",
            "Fare           False\n",
            "Cabin           True\n",
            "Embarked        True\n",
            "dtype: bool\n"
          ],
          "name": "stdout"
        }
      ]
    },
    {
      "cell_type": "code",
      "metadata": {
        "id": "z5W_C-r874Mz",
        "colab_type": "code",
        "colab": {
          "base_uri": "https://localhost:8080/",
          "height": 266
        },
        "outputId": "c989c9b3-f8d9-433a-abb3-33102924c8f9"
      },
      "source": [
        "#欠損がある行を抜き出す\n",
        "print (df[df.isnull().any(axis=1)])"
      ],
      "execution_count": 6,
      "outputs": [
        {
          "output_type": "stream",
          "text": [
            "     PassengerId  Survived  Pclass  ...     Fare Cabin  Embarked\n",
            "0              1         0       3  ...   7.2500   NaN         S\n",
            "2              3         1       3  ...   7.9250   NaN         S\n",
            "4              5         0       3  ...   8.0500   NaN         S\n",
            "5              6         0       3  ...   8.4583   NaN         Q\n",
            "7              8         0       3  ...  21.0750   NaN         S\n",
            "..           ...       ...     ...  ...      ...   ...       ...\n",
            "884          885         0       3  ...   7.0500   NaN         S\n",
            "885          886         0       3  ...  29.1250   NaN         Q\n",
            "886          887         0       2  ...  13.0000   NaN         S\n",
            "888          889         0       3  ...  23.4500   NaN         S\n",
            "890          891         0       3  ...   7.7500   NaN         Q\n",
            "\n",
            "[708 rows x 12 columns]\n"
          ],
          "name": "stdout"
        }
      ]
    },
    {
      "cell_type": "code",
      "metadata": {
        "id": "4d6BXJ6j7_kn",
        "colab_type": "code",
        "colab": {
          "base_uri": "https://localhost:8080/",
          "height": 230
        },
        "outputId": "5784e0dc-9294-4eb8-b22d-2b458d801e78"
      },
      "source": [
        "#行ごとの欠損数をカウントする\n",
        "print (df.isnull().sum(axis=1))"
      ],
      "execution_count": 7,
      "outputs": [
        {
          "output_type": "stream",
          "text": [
            "0      1\n",
            "1      0\n",
            "2      1\n",
            "3      0\n",
            "4      1\n",
            "      ..\n",
            "886    1\n",
            "887    0\n",
            "888    2\n",
            "889    0\n",
            "890    1\n",
            "Length: 891, dtype: int64\n"
          ],
          "name": "stdout"
        }
      ]
    },
    {
      "cell_type": "code",
      "metadata": {
        "id": "BoVh5gBP8BmG",
        "colab_type": "code",
        "colab": {
          "base_uri": "https://localhost:8080/",
          "height": 248
        },
        "outputId": "381755b7-0cdf-4bac-9070-aa71278942c3"
      },
      "source": [
        "#列ごとの欠損数をカウントする\n",
        "print (df.isnull().sum())"
      ],
      "execution_count": 8,
      "outputs": [
        {
          "output_type": "stream",
          "text": [
            "PassengerId      0\n",
            "Survived         0\n",
            "Pclass           0\n",
            "Name             0\n",
            "Sex              0\n",
            "Age            177\n",
            "SibSp            0\n",
            "Parch            0\n",
            "Ticket           0\n",
            "Fare             0\n",
            "Cabin          687\n",
            "Embarked         2\n",
            "dtype: int64\n"
          ],
          "name": "stdout"
        }
      ]
    },
    {
      "cell_type": "code",
      "metadata": {
        "id": "ahFpOCqq8Dvl",
        "colab_type": "code",
        "colab": {
          "base_uri": "https://localhost:8080/",
          "height": 266
        },
        "outputId": "aac0dbe4-05d3-4462-97a5-be571e32083b"
      },
      "source": [
        "#欠損を含む行を落とす\n",
        "print (df.dropna())"
      ],
      "execution_count": 9,
      "outputs": [
        {
          "output_type": "stream",
          "text": [
            "     PassengerId  Survived  Pclass  ...     Fare        Cabin  Embarked\n",
            "1              2         1       1  ...  71.2833          C85         C\n",
            "3              4         1       1  ...  53.1000         C123         S\n",
            "6              7         0       1  ...  51.8625          E46         S\n",
            "10            11         1       3  ...  16.7000           G6         S\n",
            "11            12         1       1  ...  26.5500         C103         S\n",
            "..           ...       ...     ...  ...      ...          ...       ...\n",
            "871          872         1       1  ...  52.5542          D35         S\n",
            "872          873         0       1  ...   5.0000  B51 B53 B55         S\n",
            "879          880         1       1  ...  83.1583          C50         C\n",
            "887          888         1       1  ...  30.0000          B42         S\n",
            "889          890         1       1  ...  30.0000         C148         C\n",
            "\n",
            "[183 rows x 12 columns]\n"
          ],
          "name": "stdout"
        }
      ]
    },
    {
      "cell_type": "code",
      "metadata": {
        "id": "rvhvriuo8Fms",
        "colab_type": "code",
        "colab": {
          "base_uri": "https://localhost:8080/",
          "height": 632
        },
        "outputId": "9831ff7b-e8e1-45d7-e71e-89c6682d372d"
      },
      "source": [
        "#0で埋める\n",
        "df.fillna(0)"
      ],
      "execution_count": 10,
      "outputs": [
        {
          "output_type": "execute_result",
          "data": {
            "text/html": [
              "<div>\n",
              "<style scoped>\n",
              "    .dataframe tbody tr th:only-of-type {\n",
              "        vertical-align: middle;\n",
              "    }\n",
              "\n",
              "    .dataframe tbody tr th {\n",
              "        vertical-align: top;\n",
              "    }\n",
              "\n",
              "    .dataframe thead th {\n",
              "        text-align: right;\n",
              "    }\n",
              "</style>\n",
              "<table border=\"1\" class=\"dataframe\">\n",
              "  <thead>\n",
              "    <tr style=\"text-align: right;\">\n",
              "      <th></th>\n",
              "      <th>PassengerId</th>\n",
              "      <th>Survived</th>\n",
              "      <th>Pclass</th>\n",
              "      <th>Name</th>\n",
              "      <th>Sex</th>\n",
              "      <th>Age</th>\n",
              "      <th>SibSp</th>\n",
              "      <th>Parch</th>\n",
              "      <th>Ticket</th>\n",
              "      <th>Fare</th>\n",
              "      <th>Cabin</th>\n",
              "      <th>Embarked</th>\n",
              "    </tr>\n",
              "  </thead>\n",
              "  <tbody>\n",
              "    <tr>\n",
              "      <th>0</th>\n",
              "      <td>1</td>\n",
              "      <td>0</td>\n",
              "      <td>3</td>\n",
              "      <td>Braund, Mr. Owen Harris</td>\n",
              "      <td>male</td>\n",
              "      <td>22.0</td>\n",
              "      <td>1</td>\n",
              "      <td>0</td>\n",
              "      <td>A/5 21171</td>\n",
              "      <td>7.2500</td>\n",
              "      <td>0</td>\n",
              "      <td>S</td>\n",
              "    </tr>\n",
              "    <tr>\n",
              "      <th>1</th>\n",
              "      <td>2</td>\n",
              "      <td>1</td>\n",
              "      <td>1</td>\n",
              "      <td>Cumings, Mrs. John Bradley (Florence Briggs Th...</td>\n",
              "      <td>female</td>\n",
              "      <td>38.0</td>\n",
              "      <td>1</td>\n",
              "      <td>0</td>\n",
              "      <td>PC 17599</td>\n",
              "      <td>71.2833</td>\n",
              "      <td>C85</td>\n",
              "      <td>C</td>\n",
              "    </tr>\n",
              "    <tr>\n",
              "      <th>2</th>\n",
              "      <td>3</td>\n",
              "      <td>1</td>\n",
              "      <td>3</td>\n",
              "      <td>Heikkinen, Miss. Laina</td>\n",
              "      <td>female</td>\n",
              "      <td>26.0</td>\n",
              "      <td>0</td>\n",
              "      <td>0</td>\n",
              "      <td>STON/O2. 3101282</td>\n",
              "      <td>7.9250</td>\n",
              "      <td>0</td>\n",
              "      <td>S</td>\n",
              "    </tr>\n",
              "    <tr>\n",
              "      <th>3</th>\n",
              "      <td>4</td>\n",
              "      <td>1</td>\n",
              "      <td>1</td>\n",
              "      <td>Futrelle, Mrs. Jacques Heath (Lily May Peel)</td>\n",
              "      <td>female</td>\n",
              "      <td>35.0</td>\n",
              "      <td>1</td>\n",
              "      <td>0</td>\n",
              "      <td>113803</td>\n",
              "      <td>53.1000</td>\n",
              "      <td>C123</td>\n",
              "      <td>S</td>\n",
              "    </tr>\n",
              "    <tr>\n",
              "      <th>4</th>\n",
              "      <td>5</td>\n",
              "      <td>0</td>\n",
              "      <td>3</td>\n",
              "      <td>Allen, Mr. William Henry</td>\n",
              "      <td>male</td>\n",
              "      <td>35.0</td>\n",
              "      <td>0</td>\n",
              "      <td>0</td>\n",
              "      <td>373450</td>\n",
              "      <td>8.0500</td>\n",
              "      <td>0</td>\n",
              "      <td>S</td>\n",
              "    </tr>\n",
              "    <tr>\n",
              "      <th>...</th>\n",
              "      <td>...</td>\n",
              "      <td>...</td>\n",
              "      <td>...</td>\n",
              "      <td>...</td>\n",
              "      <td>...</td>\n",
              "      <td>...</td>\n",
              "      <td>...</td>\n",
              "      <td>...</td>\n",
              "      <td>...</td>\n",
              "      <td>...</td>\n",
              "      <td>...</td>\n",
              "      <td>...</td>\n",
              "    </tr>\n",
              "    <tr>\n",
              "      <th>886</th>\n",
              "      <td>887</td>\n",
              "      <td>0</td>\n",
              "      <td>2</td>\n",
              "      <td>Montvila, Rev. Juozas</td>\n",
              "      <td>male</td>\n",
              "      <td>27.0</td>\n",
              "      <td>0</td>\n",
              "      <td>0</td>\n",
              "      <td>211536</td>\n",
              "      <td>13.0000</td>\n",
              "      <td>0</td>\n",
              "      <td>S</td>\n",
              "    </tr>\n",
              "    <tr>\n",
              "      <th>887</th>\n",
              "      <td>888</td>\n",
              "      <td>1</td>\n",
              "      <td>1</td>\n",
              "      <td>Graham, Miss. Margaret Edith</td>\n",
              "      <td>female</td>\n",
              "      <td>19.0</td>\n",
              "      <td>0</td>\n",
              "      <td>0</td>\n",
              "      <td>112053</td>\n",
              "      <td>30.0000</td>\n",
              "      <td>B42</td>\n",
              "      <td>S</td>\n",
              "    </tr>\n",
              "    <tr>\n",
              "      <th>888</th>\n",
              "      <td>889</td>\n",
              "      <td>0</td>\n",
              "      <td>3</td>\n",
              "      <td>Johnston, Miss. Catherine Helen \"Carrie\"</td>\n",
              "      <td>female</td>\n",
              "      <td>0.0</td>\n",
              "      <td>1</td>\n",
              "      <td>2</td>\n",
              "      <td>W./C. 6607</td>\n",
              "      <td>23.4500</td>\n",
              "      <td>0</td>\n",
              "      <td>S</td>\n",
              "    </tr>\n",
              "    <tr>\n",
              "      <th>889</th>\n",
              "      <td>890</td>\n",
              "      <td>1</td>\n",
              "      <td>1</td>\n",
              "      <td>Behr, Mr. Karl Howell</td>\n",
              "      <td>male</td>\n",
              "      <td>26.0</td>\n",
              "      <td>0</td>\n",
              "      <td>0</td>\n",
              "      <td>111369</td>\n",
              "      <td>30.0000</td>\n",
              "      <td>C148</td>\n",
              "      <td>C</td>\n",
              "    </tr>\n",
              "    <tr>\n",
              "      <th>890</th>\n",
              "      <td>891</td>\n",
              "      <td>0</td>\n",
              "      <td>3</td>\n",
              "      <td>Dooley, Mr. Patrick</td>\n",
              "      <td>male</td>\n",
              "      <td>32.0</td>\n",
              "      <td>0</td>\n",
              "      <td>0</td>\n",
              "      <td>370376</td>\n",
              "      <td>7.7500</td>\n",
              "      <td>0</td>\n",
              "      <td>Q</td>\n",
              "    </tr>\n",
              "  </tbody>\n",
              "</table>\n",
              "<p>891 rows × 12 columns</p>\n",
              "</div>"
            ],
            "text/plain": [
              "     PassengerId  Survived  Pclass  ...     Fare Cabin  Embarked\n",
              "0              1         0       3  ...   7.2500     0         S\n",
              "1              2         1       1  ...  71.2833   C85         C\n",
              "2              3         1       3  ...   7.9250     0         S\n",
              "3              4         1       1  ...  53.1000  C123         S\n",
              "4              5         0       3  ...   8.0500     0         S\n",
              "..           ...       ...     ...  ...      ...   ...       ...\n",
              "886          887         0       2  ...  13.0000     0         S\n",
              "887          888         1       1  ...  30.0000   B42         S\n",
              "888          889         0       3  ...  23.4500     0         S\n",
              "889          890         1       1  ...  30.0000  C148         C\n",
              "890          891         0       3  ...   7.7500     0         Q\n",
              "\n",
              "[891 rows x 12 columns]"
            ]
          },
          "metadata": {
            "tags": []
          },
          "execution_count": 10
        }
      ]
    },
    {
      "cell_type": "code",
      "metadata": {
        "id": "S8i3W-af8Kvz",
        "colab_type": "code",
        "colab": {
          "base_uri": "https://localhost:8080/",
          "height": 266
        },
        "outputId": "4c6a59b3-fcbc-4cdd-d99e-1e8925b71cb9"
      },
      "source": [
        "#Ageを平均で埋める\n",
        "print (df.fillna({'Age':np.mean(df.Age)}))"
      ],
      "execution_count": 11,
      "outputs": [
        {
          "output_type": "stream",
          "text": [
            "     PassengerId  Survived  Pclass  ...     Fare Cabin  Embarked\n",
            "0              1         0       3  ...   7.2500   NaN         S\n",
            "1              2         1       1  ...  71.2833   C85         C\n",
            "2              3         1       3  ...   7.9250   NaN         S\n",
            "3              4         1       1  ...  53.1000  C123         S\n",
            "4              5         0       3  ...   8.0500   NaN         S\n",
            "..           ...       ...     ...  ...      ...   ...       ...\n",
            "886          887         0       2  ...  13.0000   NaN         S\n",
            "887          888         1       1  ...  30.0000   B42         S\n",
            "888          889         0       3  ...  23.4500   NaN         S\n",
            "889          890         1       1  ...  30.0000  C148         C\n",
            "890          891         0       3  ...   7.7500   NaN         Q\n",
            "\n",
            "[891 rows x 12 columns]\n"
          ],
          "name": "stdout"
        }
      ]
    },
    {
      "cell_type": "code",
      "metadata": {
        "id": "2VdW-S_78NBx",
        "colab_type": "code",
        "colab": {
          "base_uri": "https://localhost:8080/",
          "height": 266
        },
        "outputId": "c1d76534-8c6e-4d59-82c3-9100a5f2e5b7"
      },
      "source": [
        "#Cabinを最頻値で埋める(mode=最頻値メソッド 数値ではないためこちらを使う)\n",
        "print (df.fillna({'Cabin':df.Cabin.mode()[0]})) #複数あるため0番地を取得"
      ],
      "execution_count": 12,
      "outputs": [
        {
          "output_type": "stream",
          "text": [
            "     PassengerId  Survived  Pclass  ...     Fare    Cabin  Embarked\n",
            "0              1         0       3  ...   7.2500  B96 B98         S\n",
            "1              2         1       1  ...  71.2833      C85         C\n",
            "2              3         1       3  ...   7.9250  B96 B98         S\n",
            "3              4         1       1  ...  53.1000     C123         S\n",
            "4              5         0       3  ...   8.0500  B96 B98         S\n",
            "..           ...       ...     ...  ...      ...      ...       ...\n",
            "886          887         0       2  ...  13.0000  B96 B98         S\n",
            "887          888         1       1  ...  30.0000      B42         S\n",
            "888          889         0       3  ...  23.4500  B96 B98         S\n",
            "889          890         1       1  ...  30.0000     C148         C\n",
            "890          891         0       3  ...   7.7500  B96 B98         Q\n",
            "\n",
            "[891 rows x 12 columns]\n"
          ],
          "name": "stdout"
        }
      ]
    },
    {
      "cell_type": "code",
      "metadata": {
        "id": "s4855ZuJ8O2a",
        "colab_type": "code",
        "colab": {
          "base_uri": "https://localhost:8080/",
          "height": 266
        },
        "outputId": "6e48e970-2675-4a3d-ebd8-58fae250a5c7"
      },
      "source": [
        "#両方一気に行う\n",
        "print (df.fillna({'Age':np.mean(df.Age),'Cabin':df.Cabin.mode()[0]}))"
      ],
      "execution_count": 13,
      "outputs": [
        {
          "output_type": "stream",
          "text": [
            "     PassengerId  Survived  Pclass  ...     Fare    Cabin  Embarked\n",
            "0              1         0       3  ...   7.2500  B96 B98         S\n",
            "1              2         1       1  ...  71.2833      C85         C\n",
            "2              3         1       3  ...   7.9250  B96 B98         S\n",
            "3              4         1       1  ...  53.1000     C123         S\n",
            "4              5         0       3  ...   8.0500  B96 B98         S\n",
            "..           ...       ...     ...  ...      ...      ...       ...\n",
            "886          887         0       2  ...  13.0000  B96 B98         S\n",
            "887          888         1       1  ...  30.0000      B42         S\n",
            "888          889         0       3  ...  23.4500  B96 B98         S\n",
            "889          890         1       1  ...  30.0000     C148         C\n",
            "890          891         0       3  ...   7.7500  B96 B98         Q\n",
            "\n",
            "[891 rows x 12 columns]\n"
          ],
          "name": "stdout"
        }
      ]
    },
    {
      "cell_type": "code",
      "metadata": {
        "id": "IS73D5IE8Qs9",
        "colab_type": "code",
        "colab": {
          "base_uri": "https://localhost:8080/",
          "height": 515
        },
        "outputId": "b410de39-5e46-4699-8d58-0c69bafaed06"
      },
      "source": [
        "#上の処理だけでは実はdfは更新されていない\n",
        "df_copy = df.copy()\n",
        "print (df_copy)\n",
        "\n",
        "#更新するには代入する\n",
        "df_copy = df_copy.fillna({'Age':np.mean(df_copy.Age),'Cabin':df_copy.Cabin.mode()[0]})\n",
        "\n",
        "#以下のやりかたでもOK\n",
        "df_copy = df.copy()\n",
        "print (df_copy)\n",
        "\n",
        "df_copy.fillna({'Age':np.mean(df_copy.Age),'Cabin':df_copy.Cabin.mode()[0]},inplace=True)"
      ],
      "execution_count": 14,
      "outputs": [
        {
          "output_type": "stream",
          "text": [
            "     PassengerId  Survived  Pclass  ...     Fare Cabin  Embarked\n",
            "0              1         0       3  ...   7.2500   NaN         S\n",
            "1              2         1       1  ...  71.2833   C85         C\n",
            "2              3         1       3  ...   7.9250   NaN         S\n",
            "3              4         1       1  ...  53.1000  C123         S\n",
            "4              5         0       3  ...   8.0500   NaN         S\n",
            "..           ...       ...     ...  ...      ...   ...       ...\n",
            "886          887         0       2  ...  13.0000   NaN         S\n",
            "887          888         1       1  ...  30.0000   B42         S\n",
            "888          889         0       3  ...  23.4500   NaN         S\n",
            "889          890         1       1  ...  30.0000  C148         C\n",
            "890          891         0       3  ...   7.7500   NaN         Q\n",
            "\n",
            "[891 rows x 12 columns]\n",
            "     PassengerId  Survived  Pclass  ...     Fare Cabin  Embarked\n",
            "0              1         0       3  ...   7.2500   NaN         S\n",
            "1              2         1       1  ...  71.2833   C85         C\n",
            "2              3         1       3  ...   7.9250   NaN         S\n",
            "3              4         1       1  ...  53.1000  C123         S\n",
            "4              5         0       3  ...   8.0500   NaN         S\n",
            "..           ...       ...     ...  ...      ...   ...       ...\n",
            "886          887         0       2  ...  13.0000   NaN         S\n",
            "887          888         1       1  ...  30.0000   B42         S\n",
            "888          889         0       3  ...  23.4500   NaN         S\n",
            "889          890         1       1  ...  30.0000  C148         C\n",
            "890          891         0       3  ...   7.7500   NaN         Q\n",
            "\n",
            "[891 rows x 12 columns]\n"
          ],
          "name": "stdout"
        }
      ]
    },
    {
      "cell_type": "markdown",
      "metadata": {
        "id": "-2KalJS-8U0A",
        "colab_type": "text"
      },
      "source": [
        "##1.2. 重複処理"
      ]
    },
    {
      "cell_type": "code",
      "metadata": {
        "id": "kyLqdWOC8TQp",
        "colab_type": "code",
        "colab": {
          "base_uri": "https://localhost:8080/",
          "height": 230
        },
        "outputId": "749123d8-304c-47af-922f-6153b533da28"
      },
      "source": [
        "df = pd.DataFrame({'ID': ['1001', '1002','1003'] * 3 + ['1004']+['1005'],\n",
        "                     'PurchaseItem': [1, 1, 2, 1, 1, 1,2, 3, 1, 3, 2]})\n",
        "print (df)"
      ],
      "execution_count": 15,
      "outputs": [
        {
          "output_type": "stream",
          "text": [
            "      ID  PurchaseItem\n",
            "0   1001             1\n",
            "1   1002             1\n",
            "2   1003             2\n",
            "3   1001             1\n",
            "4   1002             1\n",
            "5   1003             1\n",
            "6   1001             2\n",
            "7   1002             3\n",
            "8   1003             1\n",
            "9   1004             3\n",
            "10  1005             2\n"
          ],
          "name": "stdout"
        }
      ]
    },
    {
      "cell_type": "markdown",
      "metadata": {
        "id": "jrKnaJLz8bPL",
        "colab_type": "text"
      },
      "source": [
        "### 重複場所"
      ]
    },
    {
      "cell_type": "code",
      "metadata": {
        "id": "QHgS5n9S8ZED",
        "colab_type": "code",
        "colab": {
          "base_uri": "https://localhost:8080/",
          "height": 301
        },
        "outputId": "db99e0da-8c5f-42f1-8ca0-87071431ae25"
      },
      "source": [
        "#重複している行抽出（一番後ろのみ）\n",
        "#boole値\n",
        "print (df.duplicated())\n",
        "#booleで参照\n",
        "print (df[df.duplicated()])"
      ],
      "execution_count": 16,
      "outputs": [
        {
          "output_type": "stream",
          "text": [
            "0     False\n",
            "1     False\n",
            "2     False\n",
            "3      True\n",
            "4      True\n",
            "5     False\n",
            "6     False\n",
            "7     False\n",
            "8      True\n",
            "9     False\n",
            "10    False\n",
            "dtype: bool\n",
            "     ID  PurchaseItem\n",
            "3  1001             1\n",
            "4  1002             1\n",
            "8  1003             1\n"
          ],
          "name": "stdout"
        }
      ]
    },
    {
      "cell_type": "code",
      "metadata": {
        "id": "vh2oYCu38eib",
        "colab_type": "code",
        "colab": {
          "base_uri": "https://localhost:8080/",
          "height": 301
        },
        "outputId": "3b99b40f-6879-4988-915d-0ce0c2bea775"
      },
      "source": [
        "#重複している行抽出（一番初めのみ）\n",
        "#boole値\n",
        "print (df.duplicated(keep='last'))\n",
        "#booleで参照\n",
        "print (df[df.duplicated(keep='last')])"
      ],
      "execution_count": 17,
      "outputs": [
        {
          "output_type": "stream",
          "text": [
            "0      True\n",
            "1      True\n",
            "2     False\n",
            "3     False\n",
            "4     False\n",
            "5      True\n",
            "6     False\n",
            "7     False\n",
            "8     False\n",
            "9     False\n",
            "10    False\n",
            "dtype: bool\n",
            "     ID  PurchaseItem\n",
            "0  1001             1\n",
            "1  1002             1\n",
            "5  1003             1\n"
          ],
          "name": "stdout"
        }
      ]
    },
    {
      "cell_type": "code",
      "metadata": {
        "id": "UD5caM9X8hE_",
        "colab_type": "code",
        "colab": {
          "base_uri": "https://localhost:8080/",
          "height": 355
        },
        "outputId": "2951abe2-43b2-4120-a888-a9bbc4292454"
      },
      "source": [
        "#重複している行抽出 全部\n",
        "#boole値\n",
        "print (df.duplicated(keep=False))\n",
        "#booleで参照\n",
        "print (df[df.duplicated(keep=False)])"
      ],
      "execution_count": 18,
      "outputs": [
        {
          "output_type": "stream",
          "text": [
            "0      True\n",
            "1      True\n",
            "2     False\n",
            "3      True\n",
            "4      True\n",
            "5      True\n",
            "6     False\n",
            "7     False\n",
            "8      True\n",
            "9     False\n",
            "10    False\n",
            "dtype: bool\n",
            "     ID  PurchaseItem\n",
            "0  1001             1\n",
            "1  1002             1\n",
            "3  1001             1\n",
            "4  1002             1\n",
            "5  1003             1\n",
            "8  1003             1\n"
          ],
          "name": "stdout"
        }
      ]
    },
    {
      "cell_type": "markdown",
      "metadata": {
        "id": "TvCaCryY8lSX",
        "colab_type": "text"
      },
      "source": [
        "### 重複落とす"
      ]
    },
    {
      "cell_type": "code",
      "metadata": {
        "id": "7nVnOn4b8jBk",
        "colab_type": "code",
        "colab": {
          "base_uri": "https://localhost:8080/",
          "height": 291
        },
        "outputId": "56a91dba-5de1-4abc-b9d8-24e5b6efd7c8"
      },
      "source": [
        "#重複している行を削除\n",
        "df.drop_duplicates()"
      ],
      "execution_count": 19,
      "outputs": [
        {
          "output_type": "execute_result",
          "data": {
            "text/html": [
              "<div>\n",
              "<style scoped>\n",
              "    .dataframe tbody tr th:only-of-type {\n",
              "        vertical-align: middle;\n",
              "    }\n",
              "\n",
              "    .dataframe tbody tr th {\n",
              "        vertical-align: top;\n",
              "    }\n",
              "\n",
              "    .dataframe thead th {\n",
              "        text-align: right;\n",
              "    }\n",
              "</style>\n",
              "<table border=\"1\" class=\"dataframe\">\n",
              "  <thead>\n",
              "    <tr style=\"text-align: right;\">\n",
              "      <th></th>\n",
              "      <th>ID</th>\n",
              "      <th>PurchaseItem</th>\n",
              "    </tr>\n",
              "  </thead>\n",
              "  <tbody>\n",
              "    <tr>\n",
              "      <th>0</th>\n",
              "      <td>1001</td>\n",
              "      <td>1</td>\n",
              "    </tr>\n",
              "    <tr>\n",
              "      <th>1</th>\n",
              "      <td>1002</td>\n",
              "      <td>1</td>\n",
              "    </tr>\n",
              "    <tr>\n",
              "      <th>2</th>\n",
              "      <td>1003</td>\n",
              "      <td>2</td>\n",
              "    </tr>\n",
              "    <tr>\n",
              "      <th>5</th>\n",
              "      <td>1003</td>\n",
              "      <td>1</td>\n",
              "    </tr>\n",
              "    <tr>\n",
              "      <th>6</th>\n",
              "      <td>1001</td>\n",
              "      <td>2</td>\n",
              "    </tr>\n",
              "    <tr>\n",
              "      <th>7</th>\n",
              "      <td>1002</td>\n",
              "      <td>3</td>\n",
              "    </tr>\n",
              "    <tr>\n",
              "      <th>9</th>\n",
              "      <td>1004</td>\n",
              "      <td>3</td>\n",
              "    </tr>\n",
              "    <tr>\n",
              "      <th>10</th>\n",
              "      <td>1005</td>\n",
              "      <td>2</td>\n",
              "    </tr>\n",
              "  </tbody>\n",
              "</table>\n",
              "</div>"
            ],
            "text/plain": [
              "      ID  PurchaseItem\n",
              "0   1001             1\n",
              "1   1002             1\n",
              "2   1003             2\n",
              "5   1003             1\n",
              "6   1001             2\n",
              "7   1002             3\n",
              "9   1004             3\n",
              "10  1005             2"
            ]
          },
          "metadata": {
            "tags": []
          },
          "execution_count": 19
        }
      ]
    },
    {
      "cell_type": "code",
      "metadata": {
        "id": "NNPHmjm18ndd",
        "colab_type": "code",
        "colab": {
          "base_uri": "https://localhost:8080/",
          "height": 177
        },
        "outputId": "864a26b5-35a6-4397-a750-12748f0d3e99"
      },
      "source": [
        "#先ほどと同じく上の処理ではdfは更新されないため\n",
        "df_copy = df.copy()\n",
        "df_copy.drop_duplicates(inplace=True)\n",
        "\n",
        "print (df_copy)"
      ],
      "execution_count": 20,
      "outputs": [
        {
          "output_type": "stream",
          "text": [
            "      ID  PurchaseItem\n",
            "0   1001             1\n",
            "1   1002             1\n",
            "2   1003             2\n",
            "5   1003             1\n",
            "6   1001             2\n",
            "7   1002             3\n",
            "9   1004             3\n",
            "10  1005             2\n"
          ],
          "name": "stdout"
        }
      ]
    },
    {
      "cell_type": "markdown",
      "metadata": {
        "id": "6g4jz5S28sw6",
        "colab_type": "text"
      },
      "source": [
        "#2. 色々な関数を適用する"
      ]
    },
    {
      "cell_type": "markdown",
      "metadata": {
        "id": "VWKYZ9Sy85Sn",
        "colab_type": "text"
      },
      "source": [
        "##2.1 文字列関数（メソッド）の適用"
      ]
    },
    {
      "cell_type": "code",
      "metadata": {
        "id": "EOuAFVzd8qQ9",
        "colab_type": "code",
        "colab": {
          "base_uri": "https://localhost:8080/",
          "height": 461
        },
        "outputId": "d00d341d-f235-40a2-9f5b-126c89213d7b"
      },
      "source": [
        "#再びtitanic読み込み\n",
        "df = pd.read_csv('train.csv')\n",
        "\n",
        "#文字列確認\n",
        "print (df.dtypes)\n",
        "\n",
        "#Name\n",
        "print (df.Name)"
      ],
      "execution_count": 21,
      "outputs": [
        {
          "output_type": "stream",
          "text": [
            "PassengerId      int64\n",
            "Survived         int64\n",
            "Pclass           int64\n",
            "Name            object\n",
            "Sex             object\n",
            "Age            float64\n",
            "SibSp            int64\n",
            "Parch            int64\n",
            "Ticket          object\n",
            "Fare           float64\n",
            "Cabin           object\n",
            "Embarked        object\n",
            "dtype: object\n",
            "0                                Braund, Mr. Owen Harris\n",
            "1      Cumings, Mrs. John Bradley (Florence Briggs Th...\n",
            "2                                 Heikkinen, Miss. Laina\n",
            "3           Futrelle, Mrs. Jacques Heath (Lily May Peel)\n",
            "4                               Allen, Mr. William Henry\n",
            "                             ...                        \n",
            "886                                Montvila, Rev. Juozas\n",
            "887                         Graham, Miss. Margaret Edith\n",
            "888             Johnston, Miss. Catherine Helen \"Carrie\"\n",
            "889                                Behr, Mr. Karl Howell\n",
            "890                                  Dooley, Mr. Patrick\n",
            "Name: Name, Length: 891, dtype: object\n"
          ],
          "name": "stdout"
        }
      ]
    },
    {
      "cell_type": "markdown",
      "metadata": {
        "id": "XGOxvvvl9DcP",
        "colab_type": "text"
      },
      "source": [
        "### LOWER()/UPPER() 大文字小文字変換"
      ]
    },
    {
      "cell_type": "code",
      "metadata": {
        "id": "6dA4pT1m8_Vt",
        "colab_type": "code",
        "colab": {
          "base_uri": "https://localhost:8080/",
          "height": 444
        },
        "outputId": "288f20ed-600b-4b20-bf32-d53665894bc9"
      },
      "source": [
        "#小文字に変える\n",
        "print (df.Name.str.lower())\n",
        "\n",
        "#大文字に変える\n",
        "print (df.Name.str.upper())"
      ],
      "execution_count": 22,
      "outputs": [
        {
          "output_type": "stream",
          "text": [
            "0                                braund, mr. owen harris\n",
            "1      cumings, mrs. john bradley (florence briggs th...\n",
            "2                                 heikkinen, miss. laina\n",
            "3           futrelle, mrs. jacques heath (lily may peel)\n",
            "4                               allen, mr. william henry\n",
            "                             ...                        \n",
            "886                                montvila, rev. juozas\n",
            "887                         graham, miss. margaret edith\n",
            "888             johnston, miss. catherine helen \"carrie\"\n",
            "889                                behr, mr. karl howell\n",
            "890                                  dooley, mr. patrick\n",
            "Name: Name, Length: 891, dtype: object\n",
            "0                                BRAUND, MR. OWEN HARRIS\n",
            "1      CUMINGS, MRS. JOHN BRADLEY (FLORENCE BRIGGS TH...\n",
            "2                                 HEIKKINEN, MISS. LAINA\n",
            "3           FUTRELLE, MRS. JACQUES HEATH (LILY MAY PEEL)\n",
            "4                               ALLEN, MR. WILLIAM HENRY\n",
            "                             ...                        \n",
            "886                                MONTVILA, REV. JUOZAS\n",
            "887                         GRAHAM, MISS. MARGARET EDITH\n",
            "888             JOHNSTON, MISS. CATHERINE HELEN \"CARRIE\"\n",
            "889                                BEHR, MR. KARL HOWELL\n",
            "890                                  DOOLEY, MR. PATRICK\n",
            "Name: Name, Length: 891, dtype: object\n"
          ],
          "name": "stdout"
        }
      ]
    },
    {
      "cell_type": "markdown",
      "metadata": {
        "id": "OoRJT0A49JEH",
        "colab_type": "text"
      },
      "source": [
        "### SPLIT() 分割"
      ]
    },
    {
      "cell_type": "code",
      "metadata": {
        "id": "ysMWWT8T9HNM",
        "colab_type": "code",
        "colab": {
          "base_uri": "https://localhost:8080/",
          "height": 692
        },
        "outputId": "c11a409d-b0c3-4573-8470-36d59de20966"
      },
      "source": [
        "#,で分割\n",
        "print (df.Name.str.split(\",\")) #分割したものはリストで返ってくる\n",
        "\n",
        "#Firstネームだけ取得 分割した後に再度getを使う\n",
        "print (df.Name.str.split(\",\").str.get(0))\n",
        "\n",
        "#分割結果をデータフレームとして返す expandオプションをTrueにする\n",
        "print (df.Name.str.split(',',expand=True))"
      ],
      "execution_count": 23,
      "outputs": [
        {
          "output_type": "stream",
          "text": [
            "0                             [Braund,  Mr. Owen Harris]\n",
            "1      [Cumings,  Mrs. John Bradley (Florence Briggs ...\n",
            "2                              [Heikkinen,  Miss. Laina]\n",
            "3        [Futrelle,  Mrs. Jacques Heath (Lily May Peel)]\n",
            "4                            [Allen,  Mr. William Henry]\n",
            "                             ...                        \n",
            "886                             [Montvila,  Rev. Juozas]\n",
            "887                      [Graham,  Miss. Margaret Edith]\n",
            "888          [Johnston,  Miss. Catherine Helen \"Carrie\"]\n",
            "889                             [Behr,  Mr. Karl Howell]\n",
            "890                               [Dooley,  Mr. Patrick]\n",
            "Name: Name, Length: 891, dtype: object\n",
            "0         Braund\n",
            "1        Cumings\n",
            "2      Heikkinen\n",
            "3       Futrelle\n",
            "4          Allen\n",
            "         ...    \n",
            "886     Montvila\n",
            "887       Graham\n",
            "888     Johnston\n",
            "889         Behr\n",
            "890       Dooley\n",
            "Name: Name, Length: 891, dtype: object\n",
            "             0                                            1\n",
            "0       Braund                              Mr. Owen Harris\n",
            "1      Cumings   Mrs. John Bradley (Florence Briggs Thayer)\n",
            "2    Heikkinen                                  Miss. Laina\n",
            "3     Futrelle           Mrs. Jacques Heath (Lily May Peel)\n",
            "4        Allen                            Mr. William Henry\n",
            "..         ...                                          ...\n",
            "886   Montvila                                  Rev. Juozas\n",
            "887     Graham                         Miss. Margaret Edith\n",
            "888   Johnston               Miss. Catherine Helen \"Carrie\"\n",
            "889       Behr                              Mr. Karl Howell\n",
            "890     Dooley                                  Mr. Patrick\n",
            "\n",
            "[891 rows x 2 columns]\n"
          ],
          "name": "stdout"
        }
      ]
    },
    {
      "cell_type": "markdown",
      "metadata": {
        "id": "ksbbaLvZ9N2i",
        "colab_type": "text"
      },
      "source": [
        "### REPLACE() 置換"
      ]
    },
    {
      "cell_type": "code",
      "metadata": {
        "id": "B9ghGjIK9L5c",
        "colab_type": "code",
        "colab": {
          "base_uri": "https://localhost:8080/",
          "height": 230
        },
        "outputId": "f1336c69-bbd0-4128-afb4-ee52de19665c"
      },
      "source": [
        "#,をハイフンで置き換える replaceメソッド\n",
        "df.Name.str.replace(',',('-'))"
      ],
      "execution_count": 24,
      "outputs": [
        {
          "output_type": "execute_result",
          "data": {
            "text/plain": [
              "0                                Braund- Mr. Owen Harris\n",
              "1      Cumings- Mrs. John Bradley (Florence Briggs Th...\n",
              "2                                 Heikkinen- Miss. Laina\n",
              "3           Futrelle- Mrs. Jacques Heath (Lily May Peel)\n",
              "4                               Allen- Mr. William Henry\n",
              "                             ...                        \n",
              "886                                Montvila- Rev. Juozas\n",
              "887                         Graham- Miss. Margaret Edith\n",
              "888             Johnston- Miss. Catherine Helen \"Carrie\"\n",
              "889                                Behr- Mr. Karl Howell\n",
              "890                                  Dooley- Mr. Patrick\n",
              "Name: Name, Length: 891, dtype: object"
            ]
          },
          "metadata": {
            "tags": []
          },
          "execution_count": 24
        }
      ]
    },
    {
      "cell_type": "markdown",
      "metadata": {
        "id": "Zr8Ijt-B9QzB",
        "colab_type": "text"
      },
      "source": [
        "### CAT() 文字列結合"
      ]
    },
    {
      "cell_type": "code",
      "metadata": {
        "id": "8O35oKTR9QFC",
        "colab_type": "code",
        "colab": {
          "base_uri": "https://localhost:8080/",
          "height": 621
        },
        "outputId": "ca79d237-19d2-4a5f-cfee-ff6b7b0f1301"
      },
      "source": [
        "data = pd.DataFrame({'PrefName':['東京','神奈川','埼玉','千葉','愛知'],\n",
        "              'CityName':['新宿','川崎','大宮','浦安','名古屋']})\n",
        "print (data)\n",
        "\n",
        "data.PrefName.str.cat(data.CityName)\n",
        "\n"
      ],
      "execution_count": 26,
      "outputs": [
        {
          "output_type": "stream",
          "text": [
            "  PrefName CityName\n",
            "0       東京       新宿\n",
            "1      神奈川       川崎\n",
            "2       埼玉       大宮\n",
            "3       千葉       浦安\n",
            "4       愛知      名古屋\n",
            "0      False\n",
            "1      False\n",
            "2       True\n",
            "3      False\n",
            "4      False\n",
            "       ...  \n",
            "886    False\n",
            "887     True\n",
            "888     True\n",
            "889    False\n",
            "890    False\n",
            "Name: Name, Length: 891, dtype: bool\n",
            "     PassengerId  Survived  Pclass  ...     Fare Cabin  Embarked\n",
            "2              3         1       3  ...   7.9250   NaN         S\n",
            "10            11         1       3  ...  16.7000    G6         S\n",
            "11            12         1       1  ...  26.5500  C103         S\n",
            "14            15         0       3  ...   7.8542   NaN         S\n",
            "22            23         1       3  ...   8.0292   NaN         Q\n",
            "..           ...       ...     ...  ...      ...   ...       ...\n",
            "866          867         1       2  ...  13.8583   NaN         C\n",
            "875          876         1       3  ...   7.2250   NaN         C\n",
            "882          883         0       3  ...  10.5167   NaN         S\n",
            "887          888         1       1  ...  30.0000   B42         S\n",
            "888          889         0       3  ...  23.4500   NaN         S\n",
            "\n",
            "[182 rows x 12 columns]\n",
            "female    182\n",
            "Name: Sex, dtype: int64\n"
          ],
          "name": "stdout"
        }
      ]
    },
    {
      "cell_type": "code",
      "metadata": {
        "id": "nWNBzXKF9WD0",
        "colab_type": "code",
        "colab": {
          "base_uri": "https://localhost:8080/",
          "height": 515
        },
        "outputId": "5214fb84-b103-4b89-da55-6e62f2aa65ac"
      },
      "source": [
        "#contains()文字列が含まれるか？\n",
        "\n",
        "#Miss(未婚女性)という文字列が含まれるか？\n",
        "print (df.Name.str.contains('Miss'))\n",
        "\n",
        "#Miss含まれるもの抽出\n",
        "print (df[df.Name.str.contains('Miss')])\n",
        "\n",
        "#性別データと矛盾ないか確認\n",
        "print (df[df.Name.str.contains('Miss')].Sex.value_counts())"
      ],
      "execution_count": 27,
      "outputs": [
        {
          "output_type": "stream",
          "text": [
            "0      False\n",
            "1      False\n",
            "2       True\n",
            "3      False\n",
            "4      False\n",
            "       ...  \n",
            "886    False\n",
            "887     True\n",
            "888     True\n",
            "889    False\n",
            "890    False\n",
            "Name: Name, Length: 891, dtype: bool\n",
            "     PassengerId  Survived  Pclass  ...     Fare Cabin  Embarked\n",
            "2              3         1       3  ...   7.9250   NaN         S\n",
            "10            11         1       3  ...  16.7000    G6         S\n",
            "11            12         1       1  ...  26.5500  C103         S\n",
            "14            15         0       3  ...   7.8542   NaN         S\n",
            "22            23         1       3  ...   8.0292   NaN         Q\n",
            "..           ...       ...     ...  ...      ...   ...       ...\n",
            "866          867         1       2  ...  13.8583   NaN         C\n",
            "875          876         1       3  ...   7.2250   NaN         C\n",
            "882          883         0       3  ...  10.5167   NaN         S\n",
            "887          888         1       1  ...  30.0000   B42         S\n",
            "888          889         0       3  ...  23.4500   NaN         S\n",
            "\n",
            "[182 rows x 12 columns]\n",
            "female    182\n",
            "Name: Sex, dtype: int64\n"
          ],
          "name": "stdout"
        }
      ]
    },
    {
      "cell_type": "markdown",
      "metadata": {
        "id": "mLDbF4HB9rTc",
        "colab_type": "text"
      },
      "source": [
        "### ZFILL ゼロ埋め"
      ]
    },
    {
      "cell_type": "code",
      "metadata": {
        "id": "_g0VtfEg9gVW",
        "colab_type": "code",
        "colab": {
          "base_uri": "https://localhost:8080/",
          "height": 1000
        },
        "outputId": "1a95fcf5-bcba-484f-dfb4-a4fecc46115d"
      },
      "source": [
        "#文字列ID作成\n",
        "data = pd.DataFrame({'ID':np.arange(100)}).astype(str)\n",
        "\n",
        "#IDでソートする\n",
        "print (data.ID.sort_values())"
      ],
      "execution_count": 28,
      "outputs": [
        {
          "output_type": "stream",
          "text": [
            "0      0\n",
            "1      1\n",
            "10    10\n",
            "11    11\n",
            "12    12\n",
            "13    13\n",
            "14    14\n",
            "15    15\n",
            "16    16\n",
            "17    17\n",
            "18    18\n",
            "19    19\n",
            "2      2\n",
            "20    20\n",
            "21    21\n",
            "22    22\n",
            "23    23\n",
            "24    24\n",
            "25    25\n",
            "26    26\n",
            "27    27\n",
            "28    28\n",
            "29    29\n",
            "3      3\n",
            "30    30\n",
            "31    31\n",
            "32    32\n",
            "33    33\n",
            "34    34\n",
            "35    35\n",
            "36    36\n",
            "37    37\n",
            "38    38\n",
            "39    39\n",
            "4      4\n",
            "40    40\n",
            "41    41\n",
            "42    42\n",
            "43    43\n",
            "44    44\n",
            "45    45\n",
            "46    46\n",
            "47    47\n",
            "48    48\n",
            "49    49\n",
            "5      5\n",
            "50    50\n",
            "51    51\n",
            "52    52\n",
            "53    53\n",
            "54    54\n",
            "55    55\n",
            "56    56\n",
            "57    57\n",
            "58    58\n",
            "59    59\n",
            "6      6\n",
            "60    60\n",
            "61    61\n",
            "62    62\n",
            "63    63\n",
            "64    64\n",
            "65    65\n",
            "66    66\n",
            "67    67\n",
            "68    68\n",
            "69    69\n",
            "7      7\n",
            "70    70\n",
            "71    71\n",
            "72    72\n",
            "73    73\n",
            "74    74\n",
            "75    75\n",
            "76    76\n",
            "77    77\n",
            "78    78\n",
            "79    79\n",
            "8      8\n",
            "80    80\n",
            "81    81\n",
            "82    82\n",
            "83    83\n",
            "84    84\n",
            "85    85\n",
            "86    86\n",
            "87    87\n",
            "88    88\n",
            "89    89\n",
            "9      9\n",
            "90    90\n",
            "91    91\n",
            "92    92\n",
            "93    93\n",
            "94    94\n",
            "95    95\n",
            "96    96\n",
            "97    97\n",
            "98    98\n",
            "99    99\n",
            "Name: ID, dtype: object\n"
          ],
          "name": "stdout"
        }
      ]
    },
    {
      "cell_type": "code",
      "metadata": {
        "id": "VeS1qbA79trN",
        "colab_type": "code",
        "colab": {
          "base_uri": "https://localhost:8080/",
          "height": 1000
        },
        "outputId": "77a7d842-9ca7-4f3c-8679-e4522131f88d"
      },
      "source": [
        "#左側を0埋めする\n",
        "print (data.ID.str.zfill(2))\n",
        "\n",
        "#IDでソートする\n",
        "print (data.ID.str.zfill(2).sort_values())"
      ],
      "execution_count": 29,
      "outputs": [
        {
          "output_type": "stream",
          "text": [
            "0     00\n",
            "1     01\n",
            "2     02\n",
            "3     03\n",
            "4     04\n",
            "5     05\n",
            "6     06\n",
            "7     07\n",
            "8     08\n",
            "9     09\n",
            "10    10\n",
            "11    11\n",
            "12    12\n",
            "13    13\n",
            "14    14\n",
            "15    15\n",
            "16    16\n",
            "17    17\n",
            "18    18\n",
            "19    19\n",
            "20    20\n",
            "21    21\n",
            "22    22\n",
            "23    23\n",
            "24    24\n",
            "25    25\n",
            "26    26\n",
            "27    27\n",
            "28    28\n",
            "29    29\n",
            "30    30\n",
            "31    31\n",
            "32    32\n",
            "33    33\n",
            "34    34\n",
            "35    35\n",
            "36    36\n",
            "37    37\n",
            "38    38\n",
            "39    39\n",
            "40    40\n",
            "41    41\n",
            "42    42\n",
            "43    43\n",
            "44    44\n",
            "45    45\n",
            "46    46\n",
            "47    47\n",
            "48    48\n",
            "49    49\n",
            "50    50\n",
            "51    51\n",
            "52    52\n",
            "53    53\n",
            "54    54\n",
            "55    55\n",
            "56    56\n",
            "57    57\n",
            "58    58\n",
            "59    59\n",
            "60    60\n",
            "61    61\n",
            "62    62\n",
            "63    63\n",
            "64    64\n",
            "65    65\n",
            "66    66\n",
            "67    67\n",
            "68    68\n",
            "69    69\n",
            "70    70\n",
            "71    71\n",
            "72    72\n",
            "73    73\n",
            "74    74\n",
            "75    75\n",
            "76    76\n",
            "77    77\n",
            "78    78\n",
            "79    79\n",
            "80    80\n",
            "81    81\n",
            "82    82\n",
            "83    83\n",
            "84    84\n",
            "85    85\n",
            "86    86\n",
            "87    87\n",
            "88    88\n",
            "89    89\n",
            "90    90\n",
            "91    91\n",
            "92    92\n",
            "93    93\n",
            "94    94\n",
            "95    95\n",
            "96    96\n",
            "97    97\n",
            "98    98\n",
            "99    99\n",
            "Name: ID, dtype: object\n",
            "0     00\n",
            "1     01\n",
            "2     02\n",
            "3     03\n",
            "4     04\n",
            "5     05\n",
            "6     06\n",
            "7     07\n",
            "8     08\n",
            "9     09\n",
            "10    10\n",
            "11    11\n",
            "12    12\n",
            "13    13\n",
            "14    14\n",
            "15    15\n",
            "16    16\n",
            "17    17\n",
            "18    18\n",
            "19    19\n",
            "20    20\n",
            "21    21\n",
            "22    22\n",
            "23    23\n",
            "24    24\n",
            "25    25\n",
            "26    26\n",
            "27    27\n",
            "28    28\n",
            "29    29\n",
            "30    30\n",
            "31    31\n",
            "32    32\n",
            "33    33\n",
            "34    34\n",
            "35    35\n",
            "36    36\n",
            "37    37\n",
            "38    38\n",
            "39    39\n",
            "40    40\n",
            "41    41\n",
            "42    42\n",
            "43    43\n",
            "44    44\n",
            "45    45\n",
            "46    46\n",
            "47    47\n",
            "48    48\n",
            "49    49\n",
            "50    50\n",
            "51    51\n",
            "52    52\n",
            "53    53\n",
            "54    54\n",
            "55    55\n",
            "56    56\n",
            "57    57\n",
            "58    58\n",
            "59    59\n",
            "60    60\n",
            "61    61\n",
            "62    62\n",
            "63    63\n",
            "64    64\n",
            "65    65\n",
            "66    66\n",
            "67    67\n",
            "68    68\n",
            "69    69\n",
            "70    70\n",
            "71    71\n",
            "72    72\n",
            "73    73\n",
            "74    74\n",
            "75    75\n",
            "76    76\n",
            "77    77\n",
            "78    78\n",
            "79    79\n",
            "80    80\n",
            "81    81\n",
            "82    82\n",
            "83    83\n",
            "84    84\n",
            "85    85\n",
            "86    86\n",
            "87    87\n",
            "88    88\n",
            "89    89\n",
            "90    90\n",
            "91    91\n",
            "92    92\n",
            "93    93\n",
            "94    94\n",
            "95    95\n",
            "96    96\n",
            "97    97\n",
            "98    98\n",
            "99    99\n",
            "Name: ID, dtype: object\n"
          ],
          "name": "stdout"
        }
      ]
    },
    {
      "cell_type": "markdown",
      "metadata": {
        "id": "7PfJsowc9z0g",
        "colab_type": "text"
      },
      "source": [
        "## 2.2 データフレーム要素への数値関数適用"
      ]
    },
    {
      "cell_type": "code",
      "metadata": {
        "id": "ecGlk6NH9xfh",
        "colab_type": "code",
        "colab": {}
      },
      "source": [
        "#GDP/一人当たりGDP (100万ドル)\n",
        "data = np.array([[4892255,38313],\n",
        "                [1281330,1085],\n",
        "                [510504,2246],\n",
        "                [931405,19343],\n",
        "                [475094\t,18853],\n",
        "                 [188261\t,40793],\n",
        "                  [272429\t,4043],\n",
        "                  [4416104,\t3360],\n",
        "                  [730325\t,9881],\n",
        "                  [146068\t,825],\n",
        "                  [79568\t,497],\n",
        "                  [167479\t,1854],\n",
        "                  [215354\t,30843],\n",
        "                  [221437\t,8197]])\n",
        "\n",
        "gdp = pd.DataFrame(data,columns=['GDP','GDP/pop'],\n",
        "             index=['日本' ,'インド' ,'インドネシア','韓国', 'サウジアラビア','シンガポール', 'タイ',\n",
        "'中国','トルコ', 'パキスタン','バングラデシュ', 'フィリピン','香港', 'マレーシア'])"
      ],
      "execution_count": 0,
      "outputs": []
    },
    {
      "cell_type": "code",
      "metadata": {
        "id": "AWSCsLSy9_oT",
        "colab_type": "code",
        "colab": {
          "base_uri": "https://localhost:8080/",
          "height": 550
        },
        "outputId": "c654f89d-d816-4528-e49c-a6d676c92ade"
      },
      "source": [
        "#対数関数\n",
        "print (np.log(gdp))\n",
        "#指数関数\n",
        "print (np.exp(1/gdp)) #gdpが大きい数になりすぐるためその逆数"
      ],
      "execution_count": 31,
      "outputs": [
        {
          "output_type": "stream",
          "text": [
            "               GDP    GDP/pop\n",
            "日本       15.403164  10.553545\n",
            "インド      14.063409   6.989335\n",
            "インドネシア   13.143154   7.716906\n",
            "韓国       13.744449   9.870086\n",
            "サウジアラビア  13.071268   9.844427\n",
            "シンガポール   12.145585  10.616266\n",
            "タイ       12.515133   8.304742\n",
            "中国       15.300768   8.119696\n",
            "トルコ      13.501245   9.198369\n",
            "パキスタン    11.891828   6.715383\n",
            "バングラデシュ  11.284367   6.208590\n",
            "フィリピン    12.028613   7.525101\n",
            "香港       12.280038  10.336665\n",
            "マレーシア    12.307893   9.011524\n",
            "              GDP   GDP/pop\n",
            "日本       1.000000  1.000026\n",
            "インド      1.000001  1.000922\n",
            "インドネシア   1.000002  1.000445\n",
            "韓国       1.000001  1.000052\n",
            "サウジアラビア  1.000002  1.000053\n",
            "シンガポール   1.000005  1.000025\n",
            "タイ       1.000004  1.000247\n",
            "中国       1.000000  1.000298\n",
            "トルコ      1.000001  1.000101\n",
            "パキスタン    1.000007  1.001213\n",
            "バングラデシュ  1.000013  1.002014\n",
            "フィリピン    1.000006  1.000540\n",
            "香港       1.000005  1.000032\n",
            "マレーシア    1.000005  1.000122\n"
          ],
          "name": "stdout"
        }
      ]
    },
    {
      "cell_type": "markdown",
      "metadata": {
        "id": "prQF-x9o99Q-",
        "colab_type": "text"
      },
      "source": [
        "\n",
        "## 2.3 自作関数を適用する"
      ]
    },
    {
      "cell_type": "markdown",
      "metadata": {
        "id": "Ugz0EEkM-KbK",
        "colab_type": "text"
      },
      "source": [
        "### 引数が1つ"
      ]
    },
    {
      "cell_type": "code",
      "metadata": {
        "id": "xQqutDD293PM",
        "colab_type": "code",
        "colab": {
          "base_uri": "https://localhost:8080/",
          "height": 230
        },
        "outputId": "b767866f-b454-408b-8123-f57518579990"
      },
      "source": [
        "#成人/未成年\n",
        "def seinen(age):\n",
        "  if age>=20:\n",
        "    return(\"成人\")\n",
        "  else:\n",
        "    return(\"未成年\")\n",
        "\n",
        "#シリーズに対してmapメソッドで適用\n",
        "df.Age.map(seinen) #mapメソッド内ではseinen関数の()は省略"
      ],
      "execution_count": 33,
      "outputs": [
        {
          "output_type": "execute_result",
          "data": {
            "text/plain": [
              "0       成人\n",
              "1       成人\n",
              "2       成人\n",
              "3       成人\n",
              "4       成人\n",
              "      ... \n",
              "886     成人\n",
              "887    未成年\n",
              "888    未成年\n",
              "889     成人\n",
              "890     成人\n",
              "Name: Age, Length: 891, dtype: object"
            ]
          },
          "metadata": {
            "tags": []
          },
          "execution_count": 33
        }
      ]
    },
    {
      "cell_type": "markdown",
      "metadata": {
        "id": "2TUJUzLr-QI-",
        "colab_type": "text"
      },
      "source": [
        "### 引数が複数*"
      ]
    },
    {
      "cell_type": "code",
      "metadata": {
        "id": "sNW7UNvf-GNT",
        "colab_type": "code",
        "colab": {}
      },
      "source": [
        "#rfm関数定義\n",
        "def rfm(f,m):\n",
        "  if (f<=5) & (m<=5000):\n",
        "    return ('③')\n",
        "  elif (f>5) & (m<=5000):\n",
        "    return ('①')\n",
        "  elif (f>5) & (m>5000):\n",
        "    return ('②')\n",
        "  else:\n",
        "    return ('④')"
      ],
      "execution_count": 0,
      "outputs": []
    },
    {
      "cell_type": "code",
      "metadata": {
        "id": "0YKqZL-G-Vw-",
        "colab_type": "code",
        "colab": {
          "base_uri": "https://localhost:8080/",
          "height": 106
        },
        "outputId": "995c7997-6bc3-4720-b8e3-d132fb5ae946"
      },
      "source": [
        "#購買データ作成\n",
        "koubai = pd.DataFrame({'Fred':[3,5,7,9],\n",
        "                       'Money': [5000,15000,3000,12000]})\n",
        "print (koubai)"
      ],
      "execution_count": 35,
      "outputs": [
        {
          "output_type": "stream",
          "text": [
            "   Fred  Money\n",
            "0     3   5000\n",
            "1     5  15000\n",
            "2     7   3000\n",
            "3     9  12000\n"
          ],
          "name": "stdout"
        }
      ]
    },
    {
      "cell_type": "code",
      "metadata": {
        "id": "ZBYJ_6o9-TfB",
        "colab_type": "code",
        "colab": {
          "base_uri": "https://localhost:8080/",
          "height": 137
        },
        "outputId": "eb971372-cddd-4a34-8d72-cd113aeda594"
      },
      "source": [
        "#これだとエラーが出る\n",
        "koubai.apply(rfm))"
      ],
      "execution_count": 36,
      "outputs": [
        {
          "output_type": "error",
          "ename": "SyntaxError",
          "evalue": "ignored",
          "traceback": [
            "\u001b[0;36m  File \u001b[0;32m\"<ipython-input-36-b4f11607d1a2>\"\u001b[0;36m, line \u001b[0;32m1\u001b[0m\n\u001b[0;31m    koubai.apply(rfm))\u001b[0m\n\u001b[0m                     ^\u001b[0m\n\u001b[0;31mSyntaxError\u001b[0m\u001b[0;31m:\u001b[0m invalid syntax\n"
          ]
        }
      ]
    },
    {
      "cell_type": "code",
      "metadata": {
        "id": "77HnxptJ-YZ2",
        "colab_type": "code",
        "colab": {
          "base_uri": "https://localhost:8080/",
          "height": 106
        },
        "outputId": "da3206ab-76ce-4cd9-d350-ccf8fbcba975"
      },
      "source": [
        "#lambda式を使用して以下のように実行\n",
        "koubai.apply(lambda x:rfm(x[0],x[1]),axis=1)"
      ],
      "execution_count": 37,
      "outputs": [
        {
          "output_type": "execute_result",
          "data": {
            "text/plain": [
              "0    ③\n",
              "1    ④\n",
              "2    ①\n",
              "3    ②\n",
              "dtype: object"
            ]
          },
          "metadata": {
            "tags": []
          },
          "execution_count": 37
        }
      ]
    },
    {
      "cell_type": "markdown",
      "metadata": {
        "id": "HxywjNbC-cua",
        "colab_type": "text"
      },
      "source": [
        "# 3.データラングリング"
      ]
    },
    {
      "cell_type": "markdown",
      "metadata": {
        "id": "JUwT60Sm-ho-",
        "colab_type": "text"
      },
      "source": [
        "## 3.1.データ結合"
      ]
    },
    {
      "cell_type": "code",
      "metadata": {
        "id": "hACY_J-b-aoI",
        "colab_type": "code",
        "colab": {
          "base_uri": "https://localhost:8080/",
          "height": 141
        },
        "outputId": "d55d61d9-8c69-4d9e-d87a-7fb52c360949"
      },
      "source": [
        "#salesデータ読み込む\n",
        "sales = pd.read_csv('sales201907.csv',engine='python',encoding='cp932')\n",
        "print (sales)"
      ],
      "execution_count": 39,
      "outputs": [
        {
          "output_type": "stream",
          "text": [
            "    顧客ID      購買日時 商品名  数量   金額      更新日時\n",
            "0  10001  2019/7/1   A   1  100  2019/7/1\n",
            "1  10001  2019/7/1   B   2  300  2019/7/1\n",
            "2  10002  2019/7/1   A   2  200  2019/7/1\n",
            "3  10002  2019/7/1   B   2  300  2019/7/1\n",
            "4  10002  2019/7/1   C   1  200  2019/7/1\n",
            "5  10003  2019/7/1   D   1  250  2019/7/1\n"
          ],
          "name": "stdout"
        }
      ]
    },
    {
      "cell_type": "code",
      "metadata": {
        "id": "izhg8qk4-jmj",
        "colab_type": "code",
        "colab": {
          "base_uri": "https://localhost:8080/",
          "height": 106
        },
        "outputId": "246453ce-18be-49fc-eab1-e7ff36680276"
      },
      "source": [
        "#属性データ読み込む\n",
        "zokusei = pd.read_csv('zokusei.csv',engine='python',encoding='cp932')\n",
        "print (zokusei)"
      ],
      "execution_count": 53,
      "outputs": [
        {
          "output_type": "stream",
          "text": [
            "    顧客ID        生年月日  性別  都道府県  市区町村\n",
            "0  10001   1982/2/25   1  神奈川県   川崎市\n",
            "1  10002    1991/8/2   1   埼玉県   朝霞市\n",
            "2  10003  1976/10/21   1  神奈川県  相模原市\n",
            "3  10004   1999/1/22   2   千葉県   千葉市\n"
          ],
          "name": "stdout"
        }
      ]
    },
    {
      "cell_type": "markdown",
      "metadata": {
        "id": "sLWMdoxr-9sS",
        "colab_type": "text"
      },
      "source": [
        "### MERGE() 横結合する"
      ]
    },
    {
      "cell_type": "code",
      "metadata": {
        "id": "PEsJ6ZpH-6SM",
        "colab_type": "code",
        "colab": {
          "base_uri": "https://localhost:8080/",
          "height": 230
        },
        "outputId": "fb5abdf1-b6db-4682-8c1c-8e09007b45e6"
      },
      "source": [
        "#顧客IDでマージする\n",
        "pd.merge(zokusei,sales)"
      ],
      "execution_count": 41,
      "outputs": [
        {
          "output_type": "execute_result",
          "data": {
            "text/html": [
              "<div>\n",
              "<style scoped>\n",
              "    .dataframe tbody tr th:only-of-type {\n",
              "        vertical-align: middle;\n",
              "    }\n",
              "\n",
              "    .dataframe tbody tr th {\n",
              "        vertical-align: top;\n",
              "    }\n",
              "\n",
              "    .dataframe thead th {\n",
              "        text-align: right;\n",
              "    }\n",
              "</style>\n",
              "<table border=\"1\" class=\"dataframe\">\n",
              "  <thead>\n",
              "    <tr style=\"text-align: right;\">\n",
              "      <th></th>\n",
              "      <th>顧客ID</th>\n",
              "      <th>生年月日</th>\n",
              "      <th>性別</th>\n",
              "      <th>都道府県</th>\n",
              "      <th>市区町村</th>\n",
              "      <th>購買日時</th>\n",
              "      <th>商品名</th>\n",
              "      <th>数量</th>\n",
              "      <th>金額</th>\n",
              "      <th>更新日時</th>\n",
              "    </tr>\n",
              "  </thead>\n",
              "  <tbody>\n",
              "    <tr>\n",
              "      <th>0</th>\n",
              "      <td>10001</td>\n",
              "      <td>1982/2/25</td>\n",
              "      <td>1</td>\n",
              "      <td>神奈川県</td>\n",
              "      <td>川崎市</td>\n",
              "      <td>2019/7/1</td>\n",
              "      <td>A</td>\n",
              "      <td>1</td>\n",
              "      <td>100</td>\n",
              "      <td>2019/7/1</td>\n",
              "    </tr>\n",
              "    <tr>\n",
              "      <th>1</th>\n",
              "      <td>10001</td>\n",
              "      <td>1982/2/25</td>\n",
              "      <td>1</td>\n",
              "      <td>神奈川県</td>\n",
              "      <td>川崎市</td>\n",
              "      <td>2019/7/1</td>\n",
              "      <td>B</td>\n",
              "      <td>2</td>\n",
              "      <td>300</td>\n",
              "      <td>2019/7/1</td>\n",
              "    </tr>\n",
              "    <tr>\n",
              "      <th>2</th>\n",
              "      <td>10002</td>\n",
              "      <td>1991/8/2</td>\n",
              "      <td>1</td>\n",
              "      <td>埼玉県</td>\n",
              "      <td>朝霞市</td>\n",
              "      <td>2019/7/1</td>\n",
              "      <td>A</td>\n",
              "      <td>2</td>\n",
              "      <td>200</td>\n",
              "      <td>2019/7/1</td>\n",
              "    </tr>\n",
              "    <tr>\n",
              "      <th>3</th>\n",
              "      <td>10002</td>\n",
              "      <td>1991/8/2</td>\n",
              "      <td>1</td>\n",
              "      <td>埼玉県</td>\n",
              "      <td>朝霞市</td>\n",
              "      <td>2019/7/1</td>\n",
              "      <td>B</td>\n",
              "      <td>2</td>\n",
              "      <td>300</td>\n",
              "      <td>2019/7/1</td>\n",
              "    </tr>\n",
              "    <tr>\n",
              "      <th>4</th>\n",
              "      <td>10002</td>\n",
              "      <td>1991/8/2</td>\n",
              "      <td>1</td>\n",
              "      <td>埼玉県</td>\n",
              "      <td>朝霞市</td>\n",
              "      <td>2019/7/1</td>\n",
              "      <td>C</td>\n",
              "      <td>1</td>\n",
              "      <td>200</td>\n",
              "      <td>2019/7/1</td>\n",
              "    </tr>\n",
              "    <tr>\n",
              "      <th>5</th>\n",
              "      <td>10003</td>\n",
              "      <td>1976/10/21</td>\n",
              "      <td>1</td>\n",
              "      <td>神奈川県</td>\n",
              "      <td>相模原市</td>\n",
              "      <td>2019/7/1</td>\n",
              "      <td>D</td>\n",
              "      <td>1</td>\n",
              "      <td>250</td>\n",
              "      <td>2019/7/1</td>\n",
              "    </tr>\n",
              "  </tbody>\n",
              "</table>\n",
              "</div>"
            ],
            "text/plain": [
              "    顧客ID        生年月日  性別  都道府県  市区町村      購買日時 商品名  数量   金額      更新日時\n",
              "0  10001   1982/2/25   1  神奈川県   川崎市  2019/7/1   A   1  100  2019/7/1\n",
              "1  10001   1982/2/25   1  神奈川県   川崎市  2019/7/1   B   2  300  2019/7/1\n",
              "2  10002    1991/8/2   1   埼玉県   朝霞市  2019/7/1   A   2  200  2019/7/1\n",
              "3  10002    1991/8/2   1   埼玉県   朝霞市  2019/7/1   B   2  300  2019/7/1\n",
              "4  10002    1991/8/2   1   埼玉県   朝霞市  2019/7/1   C   1  200  2019/7/1\n",
              "5  10003  1976/10/21   1  神奈川県  相模原市  2019/7/1   D   1  250  2019/7/1"
            ]
          },
          "metadata": {
            "tags": []
          },
          "execution_count": 41
        }
      ]
    },
    {
      "cell_type": "code",
      "metadata": {
        "id": "6rrpzA7g_AxY",
        "colab_type": "code",
        "colab": {
          "base_uri": "https://localhost:8080/",
          "height": 230
        },
        "outputId": "bb4c10db-bff3-476b-d4fb-26634d8488f7"
      },
      "source": [
        "#キーが異なる場合\n",
        "zokusei.rename(columns={'顧客ID':'kokyakuID'},inplace=True)\n",
        "print (zokusei)\n",
        "\n",
        "#キーが異なる場合、left_on/right_onで明示的に書く\n",
        "print (pd.merge(zokusei,sales,left_on='kokyakuID',right_on='顧客ID'))"
      ],
      "execution_count": 54,
      "outputs": [
        {
          "output_type": "stream",
          "text": [
            "   kokyakuID        生年月日  性別  都道府県  市区町村\n",
            "0      10001   1982/2/25   1  神奈川県   川崎市\n",
            "1      10002    1991/8/2   1   埼玉県   朝霞市\n",
            "2      10003  1976/10/21   1  神奈川県  相模原市\n",
            "3      10004   1999/1/22   2   千葉県   千葉市\n",
            "   kokyakuID        生年月日  性別  都道府県  市区町村      購買日時 商品名  数量   金額      更新日時\n",
            "0      10001   1982/2/25   1  神奈川県   川崎市  2019/7/1   A   1  100  2019/7/1\n",
            "1      10001   1982/2/25   1  神奈川県   川崎市  2019/7/1   B   2  300  2019/7/1\n",
            "2      10002    1991/8/2   1   埼玉県   朝霞市  2019/7/1   A   2  200  2019/7/1\n",
            "3      10002    1991/8/2   1   埼玉県   朝霞市  2019/7/1   B   2  300  2019/7/1\n",
            "4      10002    1991/8/2   1   埼玉県   朝霞市  2019/7/1   C   1  200  2019/7/1\n",
            "5      10003  1976/10/21   1  神奈川県  相模原市  2019/7/1   D   1  250  2019/7/1\n"
          ],
          "name": "stdout"
        }
      ]
    },
    {
      "cell_type": "code",
      "metadata": {
        "id": "GKGYeJEd_DQs",
        "colab_type": "code",
        "colab": {
          "base_uri": "https://localhost:8080/",
          "height": 261
        },
        "outputId": "b9022af4-e2db-4d2f-bf2b-67c910726e8f"
      },
      "source": [
        "#外部結合\n",
        "pd.merge(zokusei,sales,left_on='kokyakuID',right_on='顧客ID',how='outer')"
      ],
      "execution_count": 55,
      "outputs": [
        {
          "output_type": "execute_result",
          "data": {
            "text/html": [
              "<div>\n",
              "<style scoped>\n",
              "    .dataframe tbody tr th:only-of-type {\n",
              "        vertical-align: middle;\n",
              "    }\n",
              "\n",
              "    .dataframe tbody tr th {\n",
              "        vertical-align: top;\n",
              "    }\n",
              "\n",
              "    .dataframe thead th {\n",
              "        text-align: right;\n",
              "    }\n",
              "</style>\n",
              "<table border=\"1\" class=\"dataframe\">\n",
              "  <thead>\n",
              "    <tr style=\"text-align: right;\">\n",
              "      <th></th>\n",
              "      <th>kokyakuID</th>\n",
              "      <th>生年月日</th>\n",
              "      <th>性別</th>\n",
              "      <th>都道府県</th>\n",
              "      <th>市区町村</th>\n",
              "      <th>購買日時</th>\n",
              "      <th>商品名</th>\n",
              "      <th>数量</th>\n",
              "      <th>金額</th>\n",
              "      <th>更新日時</th>\n",
              "    </tr>\n",
              "  </thead>\n",
              "  <tbody>\n",
              "    <tr>\n",
              "      <th>0</th>\n",
              "      <td>10001</td>\n",
              "      <td>1982/2/25</td>\n",
              "      <td>1</td>\n",
              "      <td>神奈川県</td>\n",
              "      <td>川崎市</td>\n",
              "      <td>2019/7/1</td>\n",
              "      <td>A</td>\n",
              "      <td>1.0</td>\n",
              "      <td>100.0</td>\n",
              "      <td>2019/7/1</td>\n",
              "    </tr>\n",
              "    <tr>\n",
              "      <th>1</th>\n",
              "      <td>10001</td>\n",
              "      <td>1982/2/25</td>\n",
              "      <td>1</td>\n",
              "      <td>神奈川県</td>\n",
              "      <td>川崎市</td>\n",
              "      <td>2019/7/1</td>\n",
              "      <td>B</td>\n",
              "      <td>2.0</td>\n",
              "      <td>300.0</td>\n",
              "      <td>2019/7/1</td>\n",
              "    </tr>\n",
              "    <tr>\n",
              "      <th>2</th>\n",
              "      <td>10002</td>\n",
              "      <td>1991/8/2</td>\n",
              "      <td>1</td>\n",
              "      <td>埼玉県</td>\n",
              "      <td>朝霞市</td>\n",
              "      <td>2019/7/1</td>\n",
              "      <td>A</td>\n",
              "      <td>2.0</td>\n",
              "      <td>200.0</td>\n",
              "      <td>2019/7/1</td>\n",
              "    </tr>\n",
              "    <tr>\n",
              "      <th>3</th>\n",
              "      <td>10002</td>\n",
              "      <td>1991/8/2</td>\n",
              "      <td>1</td>\n",
              "      <td>埼玉県</td>\n",
              "      <td>朝霞市</td>\n",
              "      <td>2019/7/1</td>\n",
              "      <td>B</td>\n",
              "      <td>2.0</td>\n",
              "      <td>300.0</td>\n",
              "      <td>2019/7/1</td>\n",
              "    </tr>\n",
              "    <tr>\n",
              "      <th>4</th>\n",
              "      <td>10002</td>\n",
              "      <td>1991/8/2</td>\n",
              "      <td>1</td>\n",
              "      <td>埼玉県</td>\n",
              "      <td>朝霞市</td>\n",
              "      <td>2019/7/1</td>\n",
              "      <td>C</td>\n",
              "      <td>1.0</td>\n",
              "      <td>200.0</td>\n",
              "      <td>2019/7/1</td>\n",
              "    </tr>\n",
              "    <tr>\n",
              "      <th>5</th>\n",
              "      <td>10003</td>\n",
              "      <td>1976/10/21</td>\n",
              "      <td>1</td>\n",
              "      <td>神奈川県</td>\n",
              "      <td>相模原市</td>\n",
              "      <td>2019/7/1</td>\n",
              "      <td>D</td>\n",
              "      <td>1.0</td>\n",
              "      <td>250.0</td>\n",
              "      <td>2019/7/1</td>\n",
              "    </tr>\n",
              "    <tr>\n",
              "      <th>6</th>\n",
              "      <td>10004</td>\n",
              "      <td>1999/1/22</td>\n",
              "      <td>2</td>\n",
              "      <td>千葉県</td>\n",
              "      <td>千葉市</td>\n",
              "      <td>NaN</td>\n",
              "      <td>NaN</td>\n",
              "      <td>NaN</td>\n",
              "      <td>NaN</td>\n",
              "      <td>NaN</td>\n",
              "    </tr>\n",
              "  </tbody>\n",
              "</table>\n",
              "</div>"
            ],
            "text/plain": [
              "   kokyakuID        生年月日  性別  都道府県  市区町村      購買日時  商品名   数量     金額      更新日時\n",
              "0      10001   1982/2/25   1  神奈川県   川崎市  2019/7/1    A  1.0  100.0  2019/7/1\n",
              "1      10001   1982/2/25   1  神奈川県   川崎市  2019/7/1    B  2.0  300.0  2019/7/1\n",
              "2      10002    1991/8/2   1   埼玉県   朝霞市  2019/7/1    A  2.0  200.0  2019/7/1\n",
              "3      10002    1991/8/2   1   埼玉県   朝霞市  2019/7/1    B  2.0  300.0  2019/7/1\n",
              "4      10002    1991/8/2   1   埼玉県   朝霞市  2019/7/1    C  1.0  200.0  2019/7/1\n",
              "5      10003  1976/10/21   1  神奈川県  相模原市  2019/7/1    D  1.0  250.0  2019/7/1\n",
              "6      10004   1999/1/22   2   千葉県   千葉市       NaN  NaN  NaN    NaN       NaN"
            ]
          },
          "metadata": {
            "tags": []
          },
          "execution_count": 55
        }
      ]
    },
    {
      "cell_type": "code",
      "metadata": {
        "id": "Hf05swRO_GCB",
        "colab_type": "code",
        "colab": {
          "base_uri": "https://localhost:8080/",
          "height": 372
        },
        "outputId": "743692b2-6960-4616-8052-eb814e4eb992"
      },
      "source": [
        "#インデックスでマージする\n",
        "#salesデータ読み込む\n",
        "sales = pd.read_csv('sales201907.csv',engine='python',encoding='cp932',index_col=0)\n",
        "print (sales)\n",
        "\n",
        "#salesはインデックスをキー zokuseiは顧客IDをキーとする\n",
        "pd.merge(zokusei,sales,left_on='kokyakuID',right_index=True)\n"
      ],
      "execution_count": 58,
      "outputs": [
        {
          "output_type": "stream",
          "text": [
            "           購買日時 商品名  数量   金額      更新日時\n",
            "顧客ID                                  \n",
            "10001  2019/7/1   A   1  100  2019/7/1\n",
            "10001  2019/7/1   B   2  300  2019/7/1\n",
            "10002  2019/7/1   A   2  200  2019/7/1\n",
            "10002  2019/7/1   B   2  300  2019/7/1\n",
            "10002  2019/7/1   C   1  200  2019/7/1\n",
            "10003  2019/7/1   D   1  250  2019/7/1\n"
          ],
          "name": "stdout"
        },
        {
          "output_type": "execute_result",
          "data": {
            "text/html": [
              "<div>\n",
              "<style scoped>\n",
              "    .dataframe tbody tr th:only-of-type {\n",
              "        vertical-align: middle;\n",
              "    }\n",
              "\n",
              "    .dataframe tbody tr th {\n",
              "        vertical-align: top;\n",
              "    }\n",
              "\n",
              "    .dataframe thead th {\n",
              "        text-align: right;\n",
              "    }\n",
              "</style>\n",
              "<table border=\"1\" class=\"dataframe\">\n",
              "  <thead>\n",
              "    <tr style=\"text-align: right;\">\n",
              "      <th></th>\n",
              "      <th>kokyakuID</th>\n",
              "      <th>生年月日</th>\n",
              "      <th>性別</th>\n",
              "      <th>都道府県</th>\n",
              "      <th>市区町村</th>\n",
              "      <th>購買日時</th>\n",
              "      <th>商品名</th>\n",
              "      <th>数量</th>\n",
              "      <th>金額</th>\n",
              "      <th>更新日時</th>\n",
              "    </tr>\n",
              "  </thead>\n",
              "  <tbody>\n",
              "    <tr>\n",
              "      <th>0</th>\n",
              "      <td>10001</td>\n",
              "      <td>1982/2/25</td>\n",
              "      <td>1</td>\n",
              "      <td>神奈川県</td>\n",
              "      <td>川崎市</td>\n",
              "      <td>2019/7/1</td>\n",
              "      <td>A</td>\n",
              "      <td>1</td>\n",
              "      <td>100</td>\n",
              "      <td>2019/7/1</td>\n",
              "    </tr>\n",
              "    <tr>\n",
              "      <th>0</th>\n",
              "      <td>10001</td>\n",
              "      <td>1982/2/25</td>\n",
              "      <td>1</td>\n",
              "      <td>神奈川県</td>\n",
              "      <td>川崎市</td>\n",
              "      <td>2019/7/1</td>\n",
              "      <td>B</td>\n",
              "      <td>2</td>\n",
              "      <td>300</td>\n",
              "      <td>2019/7/1</td>\n",
              "    </tr>\n",
              "    <tr>\n",
              "      <th>1</th>\n",
              "      <td>10002</td>\n",
              "      <td>1991/8/2</td>\n",
              "      <td>1</td>\n",
              "      <td>埼玉県</td>\n",
              "      <td>朝霞市</td>\n",
              "      <td>2019/7/1</td>\n",
              "      <td>A</td>\n",
              "      <td>2</td>\n",
              "      <td>200</td>\n",
              "      <td>2019/7/1</td>\n",
              "    </tr>\n",
              "    <tr>\n",
              "      <th>1</th>\n",
              "      <td>10002</td>\n",
              "      <td>1991/8/2</td>\n",
              "      <td>1</td>\n",
              "      <td>埼玉県</td>\n",
              "      <td>朝霞市</td>\n",
              "      <td>2019/7/1</td>\n",
              "      <td>B</td>\n",
              "      <td>2</td>\n",
              "      <td>300</td>\n",
              "      <td>2019/7/1</td>\n",
              "    </tr>\n",
              "    <tr>\n",
              "      <th>1</th>\n",
              "      <td>10002</td>\n",
              "      <td>1991/8/2</td>\n",
              "      <td>1</td>\n",
              "      <td>埼玉県</td>\n",
              "      <td>朝霞市</td>\n",
              "      <td>2019/7/1</td>\n",
              "      <td>C</td>\n",
              "      <td>1</td>\n",
              "      <td>200</td>\n",
              "      <td>2019/7/1</td>\n",
              "    </tr>\n",
              "    <tr>\n",
              "      <th>2</th>\n",
              "      <td>10003</td>\n",
              "      <td>1976/10/21</td>\n",
              "      <td>1</td>\n",
              "      <td>神奈川県</td>\n",
              "      <td>相模原市</td>\n",
              "      <td>2019/7/1</td>\n",
              "      <td>D</td>\n",
              "      <td>1</td>\n",
              "      <td>250</td>\n",
              "      <td>2019/7/1</td>\n",
              "    </tr>\n",
              "  </tbody>\n",
              "</table>\n",
              "</div>"
            ],
            "text/plain": [
              "   kokyakuID        生年月日  性別  都道府県  市区町村      購買日時 商品名  数量   金額      更新日時\n",
              "0      10001   1982/2/25   1  神奈川県   川崎市  2019/7/1   A   1  100  2019/7/1\n",
              "0      10001   1982/2/25   1  神奈川県   川崎市  2019/7/1   B   2  300  2019/7/1\n",
              "1      10002    1991/8/2   1   埼玉県   朝霞市  2019/7/1   A   2  200  2019/7/1\n",
              "1      10002    1991/8/2   1   埼玉県   朝霞市  2019/7/1   B   2  300  2019/7/1\n",
              "1      10002    1991/8/2   1   埼玉県   朝霞市  2019/7/1   C   1  200  2019/7/1\n",
              "2      10003  1976/10/21   1  神奈川県  相模原市  2019/7/1   D   1  250  2019/7/1"
            ]
          },
          "metadata": {
            "tags": []
          },
          "execution_count": 58
        }
      ]
    },
    {
      "cell_type": "markdown",
      "metadata": {
        "id": "05I_tyUL_lnE",
        "colab_type": "text"
      },
      "source": [
        "### CONCAT()による結合"
      ]
    },
    {
      "cell_type": "code",
      "metadata": {
        "id": "rlbfAsvL_JB5",
        "colab_type": "code",
        "colab": {
          "base_uri": "https://localhost:8080/",
          "height": 390
        },
        "outputId": "6676c687-5ef6-40c1-8f3a-2a3fcf996ed7"
      },
      "source": [
        "#3カ月分のデータを読み込む\n",
        "sales201907 = pd.read_csv('sales201907.csv',engine='python',encoding='cp932') \n",
        "sales201908 = pd.read_csv('sales201908.csv',engine='python',encoding='cp932') \n",
        "sales201909 = pd.read_csv('sales201909.csv',engine='python',encoding='cp932')\n",
        "print (sales201907)\n",
        "print (sales201908)\n",
        "print (sales201909)"
      ],
      "execution_count": 50,
      "outputs": [
        {
          "output_type": "stream",
          "text": [
            "    顧客ID      購買日時 商品名  数量   金額      更新日時\n",
            "0  10001  2019/7/1   A   1  100  2019/7/1\n",
            "1  10001  2019/7/1   B   2  300  2019/7/1\n",
            "2  10002  2019/7/1   A   2  200  2019/7/1\n",
            "3  10002  2019/7/1   B   2  300  2019/7/1\n",
            "4  10002  2019/7/1   C   1  200  2019/7/1\n",
            "5  10003  2019/7/1   D   1  250  2019/7/1\n",
            "    顧客ID      購買日時 商品名  数量   金額      更新日時\n",
            "0  10001  2019/8/1   B   1  150  2019/8/1\n",
            "1  10001  2019/8/1   D   2  500  2019/8/1\n",
            "2  10002  2019/8/1   A   2  200  2019/8/1\n",
            "3  10002  2019/8/1   C   2  400  2019/8/1\n",
            "4  10002  2019/8/1   B   2  300  2019/8/1\n",
            "5  10003  2019/8/1   A   2  200  2019/8/1\n",
            "6  10003  2019/8/1   B   1  150  2019/8/1\n",
            "7  10003  2019/8/1   E   1  500  2019/8/1\n",
            "    顧客ID      購買日時 商品名  数量    金額      更新日時\n",
            "0  10001  2019/9/1   D   1   250  2019/9/1\n",
            "1  10001  2019/9/1   E   2  1000  2019/9/1\n",
            "2  10002  2019/9/1   A   3   300  2019/9/1\n",
            "3  10003  2019/9/1   A   2   200  2019/9/1\n"
          ],
          "name": "stdout"
        }
      ]
    },
    {
      "cell_type": "code",
      "metadata": {
        "id": "Jzlz08wW_UaV",
        "colab_type": "code",
        "colab": {
          "base_uri": "https://localhost:8080/",
          "height": 444
        },
        "outputId": "0c38c63d-7b1c-4d69-a5c2-1e1b1bbd86f2"
      },
      "source": [
        "#属性データ読み込む\n",
        "zokusei = pd.read_csv('zokusei.csv',engine='python',encoding='cp932')\n",
        "print (zokusei)\n",
        "\n",
        "#縦に結合する\n",
        "sales_all = pd.concat([sales201907,sales201908,sales201909])\n",
        "print (sales_all)"
      ],
      "execution_count": 51,
      "outputs": [
        {
          "output_type": "stream",
          "text": [
            "    顧客ID        生年月日  性別  都道府県  市区町村\n",
            "0  10001   1982/2/25   1  神奈川県   川崎市\n",
            "1  10002    1991/8/2   1   埼玉県   朝霞市\n",
            "2  10003  1976/10/21   1  神奈川県  相模原市\n",
            "3  10004   1999/1/22   2   千葉県   千葉市\n",
            "    顧客ID      購買日時 商品名  数量    金額      更新日時\n",
            "0  10001  2019/7/1   A   1   100  2019/7/1\n",
            "1  10001  2019/7/1   B   2   300  2019/7/1\n",
            "2  10002  2019/7/1   A   2   200  2019/7/1\n",
            "3  10002  2019/7/1   B   2   300  2019/7/1\n",
            "4  10002  2019/7/1   C   1   200  2019/7/1\n",
            "5  10003  2019/7/1   D   1   250  2019/7/1\n",
            "0  10001  2019/8/1   B   1   150  2019/8/1\n",
            "1  10001  2019/8/1   D   2   500  2019/8/1\n",
            "2  10002  2019/8/1   A   2   200  2019/8/1\n",
            "3  10002  2019/8/1   C   2   400  2019/8/1\n",
            "4  10002  2019/8/1   B   2   300  2019/8/1\n",
            "5  10003  2019/8/1   A   2   200  2019/8/1\n",
            "6  10003  2019/8/1   B   1   150  2019/8/1\n",
            "7  10003  2019/8/1   E   1   500  2019/8/1\n",
            "0  10001  2019/9/1   D   1   250  2019/9/1\n",
            "1  10001  2019/9/1   E   2  1000  2019/9/1\n",
            "2  10002  2019/9/1   A   3   300  2019/9/1\n",
            "3  10003  2019/9/1   A   2   200  2019/9/1\n"
          ],
          "name": "stdout"
        }
      ]
    },
    {
      "cell_type": "code",
      "metadata": {
        "id": "uSzF69lA_ryR",
        "colab_type": "code",
        "colab": {
          "base_uri": "https://localhost:8080/",
          "height": 692
        },
        "outputId": "4e91c8d9-8794-40a8-ca51-438f476ab873"
      },
      "source": [
        "#lというリストに読み込んだデータフレームを格納する\n",
        "yyyymm = ['201907','201908','201909']\n",
        "l = []\n",
        "for i in yyyymm:\n",
        "  l.append(pd.read_csv('sales'+i+'.csv',engine='python',encoding='cp932'))\n",
        "\n",
        "#要素数3つのリスト\n",
        "print (l)\n",
        "\n",
        "\n",
        "#pd.concat()で縦に読み込む\n",
        "print (pd.concat(l))"
      ],
      "execution_count": 59,
      "outputs": [
        {
          "output_type": "stream",
          "text": [
            "[    顧客ID      購買日時 商品名  数量   金額      更新日時\n",
            "0  10001  2019/7/1   A   1  100  2019/7/1\n",
            "1  10001  2019/7/1   B   2  300  2019/7/1\n",
            "2  10002  2019/7/1   A   2  200  2019/7/1\n",
            "3  10002  2019/7/1   B   2  300  2019/7/1\n",
            "4  10002  2019/7/1   C   1  200  2019/7/1\n",
            "5  10003  2019/7/1   D   1  250  2019/7/1,     顧客ID      購買日時 商品名  数量   金額      更新日時\n",
            "0  10001  2019/8/1   B   1  150  2019/8/1\n",
            "1  10001  2019/8/1   D   2  500  2019/8/1\n",
            "2  10002  2019/8/1   A   2  200  2019/8/1\n",
            "3  10002  2019/8/1   C   2  400  2019/8/1\n",
            "4  10002  2019/8/1   B   2  300  2019/8/1\n",
            "5  10003  2019/8/1   A   2  200  2019/8/1\n",
            "6  10003  2019/8/1   B   1  150  2019/8/1\n",
            "7  10003  2019/8/1   E   1  500  2019/8/1,     顧客ID      購買日時 商品名  数量    金額      更新日時\n",
            "0  10001  2019/9/1   D   1   250  2019/9/1\n",
            "1  10001  2019/9/1   E   2  1000  2019/9/1\n",
            "2  10002  2019/9/1   A   3   300  2019/9/1\n",
            "3  10003  2019/9/1   A   2   200  2019/9/1]\n",
            "    顧客ID      購買日時 商品名  数量    金額      更新日時\n",
            "0  10001  2019/7/1   A   1   100  2019/7/1\n",
            "1  10001  2019/7/1   B   2   300  2019/7/1\n",
            "2  10002  2019/7/1   A   2   200  2019/7/1\n",
            "3  10002  2019/7/1   B   2   300  2019/7/1\n",
            "4  10002  2019/7/1   C   1   200  2019/7/1\n",
            "5  10003  2019/7/1   D   1   250  2019/7/1\n",
            "0  10001  2019/8/1   B   1   150  2019/8/1\n",
            "1  10001  2019/8/1   D   2   500  2019/8/1\n",
            "2  10002  2019/8/1   A   2   200  2019/8/1\n",
            "3  10002  2019/8/1   C   2   400  2019/8/1\n",
            "4  10002  2019/8/1   B   2   300  2019/8/1\n",
            "5  10003  2019/8/1   A   2   200  2019/8/1\n",
            "6  10003  2019/8/1   B   1   150  2019/8/1\n",
            "7  10003  2019/8/1   E   1   500  2019/8/1\n",
            "0  10001  2019/9/1   D   1   250  2019/9/1\n",
            "1  10001  2019/9/1   E   2  1000  2019/9/1\n",
            "2  10002  2019/9/1   A   3   300  2019/9/1\n",
            "3  10003  2019/9/1   A   2   200  2019/9/1\n"
          ],
          "name": "stdout"
        }
      ]
    },
    {
      "cell_type": "markdown",
      "metadata": {
        "id": "OfG9ZKcBBK1T",
        "colab_type": "text"
      },
      "source": [
        "## 3.2 データの集計"
      ]
    },
    {
      "cell_type": "markdown",
      "metadata": {
        "id": "bpBC_jBHBM95",
        "colab_type": "text"
      },
      "source": [
        "### GROUPBY()による集計"
      ]
    },
    {
      "cell_type": "code",
      "metadata": {
        "id": "49TV1vrjBInH",
        "colab_type": "code",
        "colab": {
          "base_uri": "https://localhost:8080/",
          "height": 355
        },
        "outputId": "22380d93-f0e3-4ccb-d474-4932920910cc"
      },
      "source": [
        "#先ほどと同じ手順でsales_all作成\n",
        "yyyymm = ['201907','201908','201909']\n",
        "l = []\n",
        "for i in yyyymm:\n",
        "  l.append(pd.read_csv('sales'+i+'.csv',engine='python',encoding='cp932'))\n",
        "\n",
        "sales_all = pd.concat(l)\n",
        "print (sales_all)"
      ],
      "execution_count": 60,
      "outputs": [
        {
          "output_type": "stream",
          "text": [
            "    顧客ID      購買日時 商品名  数量    金額      更新日時\n",
            "0  10001  2019/7/1   A   1   100  2019/7/1\n",
            "1  10001  2019/7/1   B   2   300  2019/7/1\n",
            "2  10002  2019/7/1   A   2   200  2019/7/1\n",
            "3  10002  2019/7/1   B   2   300  2019/7/1\n",
            "4  10002  2019/7/1   C   1   200  2019/7/1\n",
            "5  10003  2019/7/1   D   1   250  2019/7/1\n",
            "0  10001  2019/8/1   B   1   150  2019/8/1\n",
            "1  10001  2019/8/1   D   2   500  2019/8/1\n",
            "2  10002  2019/8/1   A   2   200  2019/8/1\n",
            "3  10002  2019/8/1   C   2   400  2019/8/1\n",
            "4  10002  2019/8/1   B   2   300  2019/8/1\n",
            "5  10003  2019/8/1   A   2   200  2019/8/1\n",
            "6  10003  2019/8/1   B   1   150  2019/8/1\n",
            "7  10003  2019/8/1   E   1   500  2019/8/1\n",
            "0  10001  2019/9/1   D   1   250  2019/9/1\n",
            "1  10001  2019/9/1   E   2  1000  2019/9/1\n",
            "2  10002  2019/9/1   A   3   300  2019/9/1\n",
            "3  10003  2019/9/1   A   2   200  2019/9/1\n"
          ],
          "name": "stdout"
        }
      ]
    },
    {
      "cell_type": "code",
      "metadata": {
        "id": "uT2b3ThFBQVa",
        "colab_type": "code",
        "colab": {
          "base_uri": "https://localhost:8080/",
          "height": 461
        },
        "outputId": "b9170c65-2a61-4cc7-fa11-63935adbf5fb"
      },
      "source": [
        "#groupby 顧客ID単位で金額集計\n",
        "#合計\n",
        "print (sales_all.groupby('顧客ID')['金額'].sum())\n",
        "#最大\n",
        "print (sales_all.groupby('顧客ID')['金額'].max())\n",
        "#最小\n",
        "print (sales_all.groupby('顧客ID')['金額'].min())\n",
        "#平均\n",
        "print (sales_all.groupby('顧客ID')['金額'].mean())\n",
        "#個数\n",
        "print (sales_all.groupby('顧客ID')['金額'].count())"
      ],
      "execution_count": 61,
      "outputs": [
        {
          "output_type": "stream",
          "text": [
            "顧客ID\n",
            "10001    2300\n",
            "10002    1900\n",
            "10003    1300\n",
            "Name: 金額, dtype: int64\n",
            "顧客ID\n",
            "10001    1000\n",
            "10002     400\n",
            "10003     500\n",
            "Name: 金額, dtype: int64\n",
            "顧客ID\n",
            "10001    100\n",
            "10002    200\n",
            "10003    150\n",
            "Name: 金額, dtype: int64\n",
            "顧客ID\n",
            "10001    383.333333\n",
            "10002    271.428571\n",
            "10003    260.000000\n",
            "Name: 金額, dtype: float64\n",
            "顧客ID\n",
            "10001    6\n",
            "10002    7\n",
            "10003    5\n",
            "Name: 金額, dtype: int64\n"
          ],
          "name": "stdout"
        }
      ]
    },
    {
      "cell_type": "code",
      "metadata": {
        "id": "MOKhWpmCBSz9",
        "colab_type": "code",
        "colab": {
          "base_uri": "https://localhost:8080/",
          "height": 461
        },
        "outputId": "439fc700-86cb-480d-e8ee-58750136318d"
      },
      "source": [
        "#groupby 顧客ID単位で金額と数量集計\n",
        "#合計\n",
        "print (sales_all.groupby('顧客ID')['金額','数量'].sum())\n",
        "#最大\n",
        "print (sales_all.groupby('顧客ID')['金額','数量'].max())\n",
        "#最小\n",
        "print (sales_all.groupby('顧客ID')['金額','数量'].min())\n",
        "#平均\n",
        "print (sales_all.groupby('顧客ID')['金額','数量'].mean())\n",
        "#個数\n",
        "print (sales_all.groupby('顧客ID')['金額','数量'].count())"
      ],
      "execution_count": 62,
      "outputs": [
        {
          "output_type": "stream",
          "text": [
            "         金額  数量\n",
            "顧客ID           \n",
            "10001  2300   9\n",
            "10002  1900  14\n",
            "10003  1300   7\n",
            "         金額  数量\n",
            "顧客ID           \n",
            "10001  1000   2\n",
            "10002   400   3\n",
            "10003   500   2\n",
            "        金額  数量\n",
            "顧客ID          \n",
            "10001  100   1\n",
            "10002  200   1\n",
            "10003  150   1\n",
            "               金額   数量\n",
            "顧客ID                  \n",
            "10001  383.333333  1.5\n",
            "10002  271.428571  2.0\n",
            "10003  260.000000  1.4\n",
            "       金額  数量\n",
            "顧客ID         \n",
            "10001   6   6\n",
            "10002   7   7\n",
            "10003   5   5\n"
          ],
          "name": "stdout"
        }
      ]
    },
    {
      "cell_type": "code",
      "metadata": {
        "id": "U8pAv_U4BVpU",
        "colab_type": "code",
        "colab": {
          "base_uri": "https://localhost:8080/",
          "height": 479
        },
        "outputId": "4f7cec17-f116-4832-d7d3-b18dcd7eaddd"
      },
      "source": [
        "#簡単に書く aggを使用する\n",
        "print (sales_all.groupby('顧客ID')['金額','数量'].agg(['sum','max','min','mean','count']))\n",
        "\n",
        "\n",
        "#顧客ID/購入日時で集約\n",
        "print (sales_all.groupby(['顧客ID','購買日時'])['金額','数量'].agg(['sum','max','min','mean','count']))\n",
        "\n",
        "#要約統計量\n",
        "print (sales_all.groupby('顧客ID').describe(include='all'))"
      ],
      "execution_count": 63,
      "outputs": [
        {
          "output_type": "stream",
          "text": [
            "         金額                               数量                   \n",
            "        sum   max  min        mean count sum max min mean count\n",
            "顧客ID                                                           \n",
            "10001  2300  1000  100  383.333333     6   9   2   1  1.5     6\n",
            "10002  1900   400  200  271.428571     7  14   3   1  2.0     7\n",
            "10003  1300   500  150  260.000000     5   7   2   1  1.4     5\n",
            "                  金額                               数量                        \n",
            "                 sum   max  min        mean count sum max min      mean count\n",
            "顧客ID  購買日時                                                                   \n",
            "10001 2019/7/1   400   300  100  200.000000     2   3   2   1  1.500000     2\n",
            "      2019/8/1   650   500  150  325.000000     2   3   2   1  1.500000     2\n",
            "      2019/9/1  1250  1000  250  625.000000     2   3   2   1  1.500000     2\n",
            "10002 2019/7/1   700   300  200  233.333333     3   5   2   1  1.666667     3\n",
            "      2019/8/1   900   400  200  300.000000     3   6   2   2  2.000000     3\n",
            "      2019/9/1   300   300  300  300.000000     1   3   3   3  3.000000     1\n",
            "10003 2019/7/1   250   250  250  250.000000     1   1   1   1  1.000000     1\n",
            "      2019/8/1   850   500  150  283.333333     3   4   2   1  1.333333     3\n",
            "      2019/9/1   200   200  200  200.000000     1   2   2   2  2.000000     1\n",
            "       購買日時                                  ... 更新日時                         \n",
            "      count unique       top freq mean  std  ...  std  min  25%  50%  75%  max\n",
            "顧客ID                                         ...                              \n",
            "10001     6      3  2019/9/1    2  NaN  NaN  ...  NaN  NaN  NaN  NaN  NaN  NaN\n",
            "10002     7      3  2019/8/1    3  NaN  NaN  ...  NaN  NaN  NaN  NaN  NaN  NaN\n",
            "10003     5      3  2019/8/1    3  NaN  NaN  ...  NaN  NaN  NaN  NaN  NaN  NaN\n",
            "\n",
            "[3 rows x 55 columns]\n"
          ],
          "name": "stdout"
        }
      ]
    },
    {
      "cell_type": "markdown",
      "metadata": {
        "id": "6JwggoFGBaNA",
        "colab_type": "text"
      },
      "source": [
        "### PD.PIVOT_TABLE()でピボット計算"
      ]
    },
    {
      "cell_type": "code",
      "metadata": {
        "id": "NEqh9HYpBYP6",
        "colab_type": "code",
        "colab": {
          "base_uri": "https://localhost:8080/",
          "height": 212
        },
        "outputId": "fb4d4339-02dd-466b-cfdc-c7269fe1cb5b"
      },
      "source": [
        "#顧客IDを表側、商品名を表頭で数量の合計を計算\n",
        "print (sales_all.pivot_table(index=['顧客ID'],columns='商品名',values='数量',aggfunc='sum'))\n",
        "\n",
        "#横集計 縦集計 \n",
        "print (sales_all.pivot_table(index=['顧客ID'],columns='商品名',values='数量',aggfunc='sum',margins=True))"
      ],
      "execution_count": 64,
      "outputs": [
        {
          "output_type": "stream",
          "text": [
            "商品名      A    B    C    D    E\n",
            "顧客ID                          \n",
            "10001  1.0  3.0  NaN  3.0  2.0\n",
            "10002  7.0  4.0  3.0  NaN  NaN\n",
            "10003  4.0  1.0  NaN  1.0  1.0\n",
            "商品名       A    B    C    D    E  All\n",
            "顧客ID                                \n",
            "10001   1.0  3.0  NaN  3.0  2.0    9\n",
            "10002   7.0  4.0  3.0  NaN  NaN   14\n",
            "10003   4.0  1.0  NaN  1.0  1.0    7\n",
            "All    12.0  8.0  3.0  4.0  3.0   30\n"
          ],
          "name": "stdout"
        }
      ]
    },
    {
      "cell_type": "markdown",
      "metadata": {
        "id": "cxY1uJ2rBgDa",
        "colab_type": "text"
      },
      "source": [
        "### PD.CROSSTAB()でのクロス集計"
      ]
    },
    {
      "cell_type": "code",
      "metadata": {
        "id": "SI-14rBkBeAV",
        "colab_type": "code",
        "colab": {
          "base_uri": "https://localhost:8080/",
          "height": 212
        },
        "outputId": "42b93810-a63a-4076-b6ea-517e763c8502"
      },
      "source": [
        "#pivot_table()に似ているがこちらはカウントする\n",
        "print (pd.crosstab(sales_all['顧客ID'],sales_all['商品名']))\n",
        "#margin\n",
        "print (pd.crosstab(sales_all['顧客ID'],sales_all['商品名'],margins=True))"
      ],
      "execution_count": 65,
      "outputs": [
        {
          "output_type": "stream",
          "text": [
            "商品名    A  B  C  D  E\n",
            "顧客ID                \n",
            "10001  1  2  0  2  1\n",
            "10002  3  2  2  0  0\n",
            "10003  2  1  0  1  1\n",
            "商品名    A  B  C  D  E  All\n",
            "顧客ID                     \n",
            "10001  1  2  0  2  1    6\n",
            "10002  3  2  2  0  0    7\n",
            "10003  2  1  0  1  1    5\n",
            "All    6  5  2  3  2   18\n"
          ],
          "name": "stdout"
        }
      ]
    },
    {
      "cell_type": "markdown",
      "metadata": {
        "id": "OadFjOF1BsVs",
        "colab_type": "text"
      },
      "source": [
        "# 4.MATPLOTLIBによる可視化"
      ]
    },
    {
      "cell_type": "code",
      "metadata": {
        "id": "wAOXCm8LBiuX",
        "colab_type": "code",
        "colab": {}
      },
      "source": [
        "#matplotlibモジュール読み込む\n",
        "import matplotlib.pyplot as plt"
      ],
      "execution_count": 0,
      "outputs": []
    },
    {
      "cell_type": "markdown",
      "metadata": {
        "id": "Y9tk1j_UByLT",
        "colab_type": "text"
      },
      "source": [
        "## 4.1 各種グラフ"
      ]
    },
    {
      "cell_type": "markdown",
      "metadata": {
        "id": "NlLpHQjyB0V7",
        "colab_type": "text"
      },
      "source": [
        "### PLT.PLOT() 折れ線"
      ]
    },
    {
      "cell_type": "code",
      "metadata": {
        "id": "e4rwg_rdBweF",
        "colab_type": "code",
        "colab": {
          "base_uri": "https://localhost:8080/",
          "height": 550
        },
        "outputId": "734677de-7ba1-41b6-d51e-cc7b30ac2f98"
      },
      "source": [
        "#折れ線グラフ 時系列データに用いる\n",
        "#google trend 'python' データ\n",
        "trend = pd.read_csv('multiTimeline.csv',\n",
        "                    index_col=0,skiprows=1)\n",
        "print (trend)\n",
        "#折れ線グラフ\n",
        "plt.plot(trend)"
      ],
      "execution_count": 68,
      "outputs": [
        {
          "output_type": "stream",
          "text": [
            "            python: (日本)\n",
            "週                       \n",
            "2014-11-16            23\n",
            "2014-11-23            23\n",
            "2014-11-30            24\n",
            "2014-12-07            23\n",
            "2014-12-14            23\n",
            "...                  ...\n",
            "2019-10-13            81\n",
            "2019-10-20            78\n",
            "2019-10-27            91\n",
            "2019-11-03            84\n",
            "2019-11-10           100\n",
            "\n",
            "[261 rows x 1 columns]\n"
          ],
          "name": "stdout"
        },
        {
          "output_type": "execute_result",
          "data": {
            "text/plain": [
              "[<matplotlib.lines.Line2D at 0x7fdcea96c8d0>]"
            ]
          },
          "metadata": {
            "tags": []
          },
          "execution_count": 68
        },
        {
          "output_type": "display_data",
          "data": {
            "image/png": "[encoded data removed]",
            "text/plain": [
              "<Figure size 432x288 with 1 Axes>"
            ]
          },
          "metadata": {
            "tags": []
          }
        }
      ]
    },
    {
      "cell_type": "markdown",
      "metadata": {
        "id": "R67Zt-F3CBqo",
        "colab_type": "text"
      },
      "source": [
        "### PLT.HIST()ヒストグラム"
      ]
    },
    {
      "cell_type": "code",
      "metadata": {
        "id": "tv2S9gNYB43P",
        "colab_type": "code",
        "colab": {
          "base_uri": "https://localhost:8080/",
          "height": 407
        },
        "outputId": "bd0676aa-1f3d-4ca9-ea6b-64c98cc9b489"
      },
      "source": [
        "#タイタニック号 年齢分布\n",
        "plt.hist(df.Age)"
      ],
      "execution_count": 69,
      "outputs": [
        {
          "output_type": "stream",
          "text": [
            "/usr/local/lib/python3.6/dist-packages/numpy/lib/histograms.py:839: RuntimeWarning: invalid value encountered in greater_equal\n",
            "  keep = (tmp_a >= first_edge)\n",
            "/usr/local/lib/python3.6/dist-packages/numpy/lib/histograms.py:840: RuntimeWarning: invalid value encountered in less_equal\n",
            "  keep &= (tmp_a <= last_edge)\n"
          ],
          "name": "stderr"
        },
        {
          "output_type": "execute_result",
          "data": {
            "text/plain": [
              "(array([ 54.,  46., 177., 169., 118.,  70.,  45.,  24.,   9.,   2.]),\n",
              " array([ 0.42 ,  8.378, 16.336, 24.294, 32.252, 40.21 , 48.168, 56.126,\n",
              "        64.084, 72.042, 80.   ]),\n",
              " <a list of 10 Patch objects>)"
            ]
          },
          "metadata": {
            "tags": []
          },
          "execution_count": 69
        },
        {
          "output_type": "display_data",
          "data": {
            "image/png": "[encoded data removed]",
            "text/plain": [
              "<Figure size 432x288 with 1 Axes>"
            ]
          },
          "metadata": {
            "tags": []
          }
        }
      ]
    },
    {
      "cell_type": "markdown",
      "metadata": {
        "id": "RSgmVgYQCHnp",
        "colab_type": "text"
      },
      "source": [
        "### PLT.SCATTER() 散布図"
      ]
    },
    {
      "cell_type": "code",
      "metadata": {
        "id": "D6GgvuhCCEc8",
        "colab_type": "code",
        "colab": {
          "base_uri": "https://localhost:8080/",
          "height": 283
        },
        "outputId": "d5cd1b90-7512-4c02-9612-28f7821db5ac"
      },
      "source": [
        "#x軸Age y軸Fare\n",
        "plt.scatter(df.Age,df.Fare)"
      ],
      "execution_count": 70,
      "outputs": [
        {
          "output_type": "execute_result",
          "data": {
            "text/plain": [
              "<matplotlib.collections.PathCollection at 0x7fdcea1a61d0>"
            ]
          },
          "metadata": {
            "tags": []
          },
          "execution_count": 70
        },
        {
          "output_type": "display_data",
          "data": {
            "image/png": "[encoded data removed]",
            "text/plain": [
              "<Figure size 432x288 with 1 Axes>"
            ]
          },
          "metadata": {
            "tags": []
          }
        }
      ]
    },
    {
      "cell_type": "markdown",
      "metadata": {
        "id": "fz3hEGBeCNlA",
        "colab_type": "text"
      },
      "source": [
        "### PLT.BAR() 縦棒"
      ]
    },
    {
      "cell_type": "code",
      "metadata": {
        "id": "EG902DcKCLIN",
        "colab_type": "code",
        "colab": {
          "base_uri": "https://localhost:8080/",
          "height": 354
        },
        "outputId": "8c985959-e99e-4338-efd8-c04dc46cbb6d"
      },
      "source": [
        "#性別ごとの生存率\n",
        "mean = df.groupby('Sex')['Survived'].mean()\n",
        "print (mean)\n",
        "#最初の引数にインデックスを指定、次の引数にmeanの値を指定\n",
        "plt.bar(mean.index,mean)"
      ],
      "execution_count": 71,
      "outputs": [
        {
          "output_type": "stream",
          "text": [
            "Sex\n",
            "female    0.742038\n",
            "male      0.188908\n",
            "Name: Survived, dtype: float64\n"
          ],
          "name": "stdout"
        },
        {
          "output_type": "execute_result",
          "data": {
            "text/plain": [
              "<BarContainer object of 2 artists>"
            ]
          },
          "metadata": {
            "tags": []
          },
          "execution_count": 71
        },
        {
          "output_type": "display_data",
          "data": {
            "image/png": "[encoded data removed]",
            "text/plain": [
              "<Figure size 432x288 with 1 Axes>"
            ]
          },
          "metadata": {
            "tags": []
          }
        }
      ]
    },
    {
      "cell_type": "markdown",
      "metadata": {
        "id": "92UUgz-zCUoR",
        "colab_type": "text"
      },
      "source": [
        "### PLT.BARH() 横棒"
      ]
    },
    {
      "cell_type": "code",
      "metadata": {
        "id": "OtDP7ykcCSQz",
        "colab_type": "code",
        "colab": {
          "base_uri": "https://localhost:8080/",
          "height": 354
        },
        "outputId": "7d13b763-c371-41c8-9716-74b6ee24775d"
      },
      "source": [
        "#性別ごとの生存率\n",
        "mean = df.groupby('Sex')['Survived'].mean()\n",
        "print (mean)\n",
        "#最初の引数にインデックスを指定、次の引数にmeanの値を指定\n",
        "plt.barh(mean.index,mean)\n"
      ],
      "execution_count": 72,
      "outputs": [
        {
          "output_type": "stream",
          "text": [
            "Sex\n",
            "female    0.742038\n",
            "male      0.188908\n",
            "Name: Survived, dtype: float64\n"
          ],
          "name": "stdout"
        },
        {
          "output_type": "execute_result",
          "data": {
            "text/plain": [
              "<BarContainer object of 2 artists>"
            ]
          },
          "metadata": {
            "tags": []
          },
          "execution_count": 72
        },
        {
          "output_type": "display_data",
          "data": {
            "image/png": "[encoded data removed]",
            "text/plain": [
              "<Figure size 432x288 with 1 Axes>"
            ]
          },
          "metadata": {
            "tags": []
          }
        }
      ]
    },
    {
      "cell_type": "markdown",
      "metadata": {
        "id": "CvxF4m5QCbEQ",
        "colab_type": "text"
      },
      "source": [
        "### PLT.BOXPLOT()"
      ]
    },
    {
      "cell_type": "code",
      "metadata": {
        "id": "q8bvIGhTCZKn",
        "colab_type": "code",
        "colab": {
          "base_uri": "https://localhost:8080/",
          "height": 407
        },
        "outputId": "9e0fd2a4-fda4-4a5a-cd72-939ed6c49823"
      },
      "source": [
        "#Ageの分布を確認 (欠損があるとうまくいかないので欠損落とす))\n",
        "plt.boxplot(df.Age.dropna())"
      ],
      "execution_count": 73,
      "outputs": [
        {
          "output_type": "execute_result",
          "data": {
            "text/plain": [
              "{'boxes': [<matplotlib.lines.Line2D at 0x7fdce78c3278>],\n",
              " 'caps': [<matplotlib.lines.Line2D at 0x7fdce78c3ac8>,\n",
              "  <matplotlib.lines.Line2D at 0x7fdce78c3e10>],\n",
              " 'fliers': [<matplotlib.lines.Line2D at 0x7fdce784e4e0>],\n",
              " 'means': [],\n",
              " 'medians': [<matplotlib.lines.Line2D at 0x7fdce784e198>],\n",
              " 'whiskers': [<matplotlib.lines.Line2D at 0x7fdce78c33c8>,\n",
              "  <matplotlib.lines.Line2D at 0x7fdce78c3780>]}"
            ]
          },
          "metadata": {
            "tags": []
          },
          "execution_count": 73
        },
        {
          "output_type": "display_data",
          "data": {
            "image/png": "[encoded data removed]",
            "text/plain": [
              "<Figure size 432x288 with 1 Axes>"
            ]
          },
          "metadata": {
            "tags": []
          }
        }
      ]
    },
    {
      "cell_type": "markdown",
      "metadata": {
        "id": "CClItTXGCfJp",
        "colab_type": "text"
      },
      "source": [
        "## 4.2 複数のグラフを書く"
      ]
    },
    {
      "cell_type": "code",
      "metadata": {
        "id": "F0x_VJ_DCdN3",
        "colab_type": "code",
        "colab": {
          "base_uri": "https://localhost:8080/",
          "height": 570
        },
        "outputId": "2f3f34f8-6516-44e4-8537-1e32df7c722b"
      },
      "source": [
        "#figure作成\n",
        "plt.figure(figsize=(14,7)) #サイズを指定\n",
        "\n",
        "#1つのグラフを書く\n",
        "#タイタニック号 年齢分布\n",
        "plt.hist(df.Age)"
      ],
      "execution_count": 74,
      "outputs": [
        {
          "output_type": "stream",
          "text": [
            "/usr/local/lib/python3.6/dist-packages/numpy/lib/histograms.py:839: RuntimeWarning: invalid value encountered in greater_equal\n",
            "  keep = (tmp_a >= first_edge)\n",
            "/usr/local/lib/python3.6/dist-packages/numpy/lib/histograms.py:840: RuntimeWarning: invalid value encountered in less_equal\n",
            "  keep &= (tmp_a <= last_edge)\n"
          ],
          "name": "stderr"
        },
        {
          "output_type": "execute_result",
          "data": {
            "text/plain": [
              "(array([ 54.,  46., 177., 169., 118.,  70.,  45.,  24.,   9.,   2.]),\n",
              " array([ 0.42 ,  8.378, 16.336, 24.294, 32.252, 40.21 , 48.168, 56.126,\n",
              "        64.084, 72.042, 80.   ]),\n",
              " <a list of 10 Patch objects>)"
            ]
          },
          "metadata": {
            "tags": []
          },
          "execution_count": 74
        },
        {
          "output_type": "display_data",
          "data": {
            "image/png": "[encoded data removed]",
            "text/plain": [
              "<Figure size 1008x504 with 1 Axes>"
            ]
          },
          "metadata": {
            "tags": []
          }
        }
      ]
    },
    {
      "cell_type": "code",
      "metadata": {
        "id": "gSQ6KejDChqv",
        "colab_type": "code",
        "colab": {
          "base_uri": "https://localhost:8080/",
          "height": 570
        },
        "outputId": "0fc17d6b-7604-4f23-a4fe-88d9fc9d622a"
      },
      "source": [
        "#2つ書く\n",
        "plt.figure(figsize=(14,7))\n",
        "plt.subplot(1,2,1) #1行2列の1番目\n",
        "#Ageヒストグラム\n",
        "plt.hist(df.Age)\n",
        "\n",
        "plt.subplot(1,2,2) #1行2列の1番目\n",
        "#Fareヒストグラム\n",
        "plt.hist(df.Fare)"
      ],
      "execution_count": 75,
      "outputs": [
        {
          "output_type": "stream",
          "text": [
            "/usr/local/lib/python3.6/dist-packages/numpy/lib/histograms.py:839: RuntimeWarning: invalid value encountered in greater_equal\n",
            "  keep = (tmp_a >= first_edge)\n",
            "/usr/local/lib/python3.6/dist-packages/numpy/lib/histograms.py:840: RuntimeWarning: invalid value encountered in less_equal\n",
            "  keep &= (tmp_a <= last_edge)\n"
          ],
          "name": "stderr"
        },
        {
          "output_type": "execute_result",
          "data": {
            "text/plain": [
              "(array([732., 106.,  31.,   2.,  11.,   6.,   0.,   0.,   0.,   3.]),\n",
              " array([  0.     ,  51.23292, 102.46584, 153.69876, 204.93168, 256.1646 ,\n",
              "        307.39752, 358.63044, 409.86336, 461.09628, 512.3292 ]),\n",
              " <a list of 10 Patch objects>)"
            ]
          },
          "metadata": {
            "tags": []
          },
          "execution_count": 75
        },
        {
          "output_type": "display_data",
          "data": {
            "image/png": "[encoded data removed]",
            "text/plain": [
              "<Figure size 1008x504 with 2 Axes>"
            ]
          },
          "metadata": {
            "tags": []
          }
        }
      ]
    },
    {
      "cell_type": "code",
      "metadata": {
        "id": "ihuMiVg-Cki_",
        "colab_type": "code",
        "colab": {
          "base_uri": "https://localhost:8080/",
          "height": 805
        },
        "outputId": "cbf6956c-a8af-4a0d-f53f-4160fec1c353"
      },
      "source": [
        "#3つ書く\n",
        "plt.figure(figsize=(14,10))\n",
        "\n",
        "plt.subplot(2,2,1) #2行2列の1番目\n",
        "#Ageヒストグラム\n",
        "plt.hist(df.Age)\n",
        "\n",
        "plt.subplot(2,2,2) #2行2列の2番目\n",
        "#Fareヒストグラム\n",
        "plt.hist(df.Fare)\n",
        "\n",
        "plt.subplot(2,2,3) #2行2列の3番目\n",
        "#Ageboxplot \n",
        "plt.boxplot(df.Age.dropna())"
      ],
      "execution_count": 76,
      "outputs": [
        {
          "output_type": "stream",
          "text": [
            "/usr/local/lib/python3.6/dist-packages/numpy/lib/histograms.py:839: RuntimeWarning: invalid value encountered in greater_equal\n",
            "  keep = (tmp_a >= first_edge)\n",
            "/usr/local/lib/python3.6/dist-packages/numpy/lib/histograms.py:840: RuntimeWarning: invalid value encountered in less_equal\n",
            "  keep &= (tmp_a <= last_edge)\n"
          ],
          "name": "stderr"
        },
        {
          "output_type": "execute_result",
          "data": {
            "text/plain": [
              "{'boxes': [<matplotlib.lines.Line2D at 0x7fdce75cb5f8>],\n",
              " 'caps': [<matplotlib.lines.Line2D at 0x7fdce75cbe48>,\n",
              "  <matplotlib.lines.Line2D at 0x7fdce75d71d0>],\n",
              " 'fliers': [<matplotlib.lines.Line2D at 0x7fdce75d7860>],\n",
              " 'means': [],\n",
              " 'medians': [<matplotlib.lines.Line2D at 0x7fdce75d7518>],\n",
              " 'whiskers': [<matplotlib.lines.Line2D at 0x7fdce75cb748>,\n",
              "  <matplotlib.lines.Line2D at 0x7fdce75cbb00>]}"
            ]
          },
          "metadata": {
            "tags": []
          },
          "execution_count": 76
        },
        {
          "output_type": "display_data",
          "data": {
            "image/png": "[encoded data removed]",
            "text/plain": [
              "<Figure size 1008x720 with 3 Axes>"
            ]
          },
          "metadata": {
            "tags": []
          }
        }
      ]
    },
    {
      "cell_type": "code",
      "metadata": {
        "id": "2yKXpigVCnSM",
        "colab_type": "code",
        "colab": {
          "base_uri": "https://localhost:8080/",
          "height": 734
        },
        "outputId": "2262b363-1b44-46f9-ac0a-38a416177ee7"
      },
      "source": [
        "plt.figure(figsize=(14,10))\n",
        "#生存者/死亡者\n",
        "bools = df['Survived']==0\n",
        "#死亡者ヒストグラム\n",
        "plt.hist(df[bools].Age,alpha=0.5)\n",
        "#生存者ヒストグラム\n",
        "plt.hist(df[~bools].Age,color='green',alpha=0.5) #緑いろ"
      ],
      "execution_count": 77,
      "outputs": [
        {
          "output_type": "stream",
          "text": [
            "/usr/local/lib/python3.6/dist-packages/numpy/lib/histograms.py:839: RuntimeWarning: invalid value encountered in greater_equal\n",
            "  keep = (tmp_a >= first_edge)\n",
            "/usr/local/lib/python3.6/dist-packages/numpy/lib/histograms.py:840: RuntimeWarning: invalid value encountered in less_equal\n",
            "  keep &= (tmp_a <= last_edge)\n"
          ],
          "name": "stderr"
        },
        {
          "output_type": "execute_result",
          "data": {
            "text/plain": [
              "(array([36., 19., 63., 65., 52., 24., 21.,  9.,  0.,  1.]),\n",
              " array([ 0.42 ,  8.378, 16.336, 24.294, 32.252, 40.21 , 48.168, 56.126,\n",
              "        64.084, 72.042, 80.   ]),\n",
              " <a list of 10 Patch objects>)"
            ]
          },
          "metadata": {
            "tags": []
          },
          "execution_count": 77
        },
        {
          "output_type": "display_data",
          "data": {
            "image/png": "[encoded data removed]",
            "text/plain": [
              "<Figure size 1008x720 with 1 Axes>"
            ]
          },
          "metadata": {
            "tags": []
          }
        }
      ]
    },
    {
      "cell_type": "markdown",
      "metadata": {
        "id": "Wz4CHp5CCsdz",
        "colab_type": "text"
      },
      "source": [
        "## 4.3 その他調整"
      ]
    },
    {
      "cell_type": "code",
      "metadata": {
        "id": "W56zhS2RCqYI",
        "colab_type": "code",
        "colab": {
          "base_uri": "https://localhost:8080/",
          "height": 564
        },
        "outputId": "cf4892be-3294-49d8-e23c-33a13b42bc66"
      },
      "source": [
        "#figure作成\n",
        "plt.figure(figsize=(14,7)) #サイズを指定\n",
        "\n",
        "#1つのグラフを書く\n",
        "#タイタニック号 年齢分布\n",
        "plt.hist(df.Age)\n",
        "\n",
        "#title作成\n",
        "plt.title('Titanic Age Dist')\n",
        "\n",
        "#x軸ラベル\n",
        "plt.xlabel('Age')\n",
        "\n",
        "#y軸ラベル\n",
        "plt.ylabel('Count')\n",
        "plt.legend()"
      ],
      "execution_count": 80,
      "outputs": [
        {
          "output_type": "stream",
          "text": [
            "/usr/local/lib/python3.6/dist-packages/numpy/lib/histograms.py:839: RuntimeWarning: invalid value encountered in greater_equal\n",
            "  keep = (tmp_a >= first_edge)\n",
            "/usr/local/lib/python3.6/dist-packages/numpy/lib/histograms.py:840: RuntimeWarning: invalid value encountered in less_equal\n",
            "  keep &= (tmp_a <= last_edge)\n",
            "No handles with labels found to put in legend.\n"
          ],
          "name": "stderr"
        },
        {
          "output_type": "execute_result",
          "data": {
            "text/plain": [
              "<matplotlib.legend.Legend at 0x7fdce73d9fd0>"
            ]
          },
          "metadata": {
            "tags": []
          },
          "execution_count": 80
        },
        {
          "output_type": "display_data",
          "data": {
            "image/png": "[encoded data removed]",
            "text/plain": [
              "<Figure size 1008x504 with 1 Axes>"
            ]
          },
          "metadata": {
            "tags": []
          }
        }
      ]
    },
    {
      "cell_type": "markdown",
      "metadata": {
        "id": "ou2HGudTC7jp",
        "colab_type": "text"
      },
      "source": [
        "### 実務への応用"
      ]
    },
    {
      "cell_type": "code",
      "metadata": {
        "id": "mnD-boWnCxgp",
        "colab_type": "code",
        "colab": {
          "base_uri": "https://localhost:8080/",
          "height": 627
        },
        "outputId": "ec1b7031-99ba-416e-f0e5-5f8526fb6e9e"
      },
      "source": [
        "#応用データフレームの数値変数全体のヒストグラムを書く\n",
        "cols = list(df.dtypes[df.dtypes!='object'].index)\n",
        "#PassengerId不要なので除く\n",
        "cols.remove('PassengerId')\n",
        "\n",
        "plt.figure(figsize=(14,14))\n",
        "#enumerateを使用すると、iにループ回数が入る\n",
        "for i,col in enumerate(cols):\n",
        "  #3行3列でsubplot作成\n",
        "  plt.subplot(3,3,i+1)\n",
        "  plt.hist(df[col])\n",
        "  plt.title(col)"
      ],
      "execution_count": 81,
      "outputs": [
        {
          "output_type": "stream",
          "text": [
            "/usr/local/lib/python3.6/dist-packages/numpy/lib/histograms.py:839: RuntimeWarning: invalid value encountered in greater_equal\n",
            "  keep = (tmp_a >= first_edge)\n",
            "/usr/local/lib/python3.6/dist-packages/numpy/lib/histograms.py:840: RuntimeWarning: invalid value encountered in less_equal\n",
            "  keep &= (tmp_a <= last_edge)\n"
          ],
          "name": "stderr"
        },
        {
          "output_type": "display_data",
          "data": {
            "image/png": "[encoded data removed]",
            "text/plain": [
              "<Figure size 1008x1008 with 6 Axes>"
            ]
          },
          "metadata": {
            "tags": []
          }
        }
      ]
    },
    {
      "cell_type": "code",
      "metadata": {
        "id": "BsfpW1JyC_J8",
        "colab_type": "code",
        "colab": {}
      },
      "source": [
        ""
      ],
      "execution_count": 0,
      "outputs": []
    }
  ]
}
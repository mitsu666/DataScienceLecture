{
  "nbformat": 4,
  "nbformat_minor": 0,
  "metadata": {
    "colab": {
      "name": "DataScienceLecture2_1.ipynb",
      "provenance": [],
      "collapsed_sections": [],
      "include_colab_link": true
    },
    "kernelspec": {
      "name": "python3",
      "display_name": "Python 3"
    }
  },
  "cells": [
    {
      "cell_type": "markdown",
      "metadata": {
        "id": "view-in-github",
        "colab_type": "text"
      },
      "source": [
        "<a href=\"https://colab.research.google.com/github/mitsu666/DataScienceLecture/blob/master/DataScienceLecture2_1.ipynb\" target=\"_parent\"><img src=\"https://colab.research.google.com/assets/colab-badge.svg\" alt=\"Open In Colab\"/></a>"
      ]
    },
    {
      "cell_type": "markdown",
      "metadata": {
        "id": "lHYKn17XuSNw",
        "colab_type": "text"
      },
      "source": [
        "#3. 基本オブジェクト"
      ]
    },
    {
      "cell_type": "markdown",
      "metadata": {
        "id": "p8DYrD6UuYYY",
        "colab_type": "text"
      },
      "source": [
        "##3.1 オブジェクトの作成"
      ]
    },
    {
      "cell_type": "code",
      "metadata": {
        "id": "AN9NnR0Ntx17",
        "colab_type": "code",
        "outputId": "d1b19088-f2dd-4f72-e42f-1c897e330a86",
        "colab": {
          "base_uri": "https://localhost:8080/",
          "height": 53
        }
      },
      "source": [
        "# 118を代入\n",
        "a=118\n",
        "\n",
        "# aの値を出力する\n",
        "print(a)\n",
        "\n",
        "# bにaを代入し、118が入っているオブジェクトの箱にbも貼り付ける。\n",
        "b=a\n",
        "\n",
        "# bの値を出力する。\n",
        "print(b)"
      ],
      "execution_count": 0,
      "outputs": [
        {
          "output_type": "stream",
          "text": [
            "118\n",
            "118\n"
          ],
          "name": "stdout"
        }
      ]
    },
    {
      "cell_type": "code",
      "metadata": {
        "id": "YnEcAca1udlT",
        "colab_type": "code",
        "outputId": "4360cf7a-89c9-42fd-b5d6-ab485d81f522",
        "colab": {
          "base_uri": "https://localhost:8080/",
          "height": 71
        }
      },
      "source": [
        "#aのタイプは？\n",
        "print (type(a))\n",
        "\n",
        "#bのタイプは?\n",
        "print (type(b))\n",
        "\n",
        "#タイプ関数に直接値を入れて調べる\n",
        "print (type(58))"
      ],
      "execution_count": 0,
      "outputs": [
        {
          "output_type": "stream",
          "text": [
            "<class 'int'>\n",
            "<class 'int'>\n",
            "<class 'int'>\n"
          ],
          "name": "stdout"
        }
      ]
    },
    {
      "cell_type": "code",
      "metadata": {
        "id": "Jeo6al4xuRMs",
        "colab_type": "code",
        "outputId": "b56f0d85-7acb-4bbf-b89e-4cadec50c007",
        "colab": {
          "base_uri": "https://localhost:8080/",
          "height": 53
        }
      },
      "source": [
        "#浮動小数点型\n",
        "print (type(99.9))\n",
        "\n",
        "#文字列型\n",
        "print (type('abc'))"
      ],
      "execution_count": 0,
      "outputs": [
        {
          "output_type": "stream",
          "text": [
            "<class 'float'>\n",
            "<class 'str'>\n"
          ],
          "name": "stdout"
        }
      ]
    },
    {
      "cell_type": "markdown",
      "metadata": {
        "id": "c4IbcjURv3vK",
        "colab_type": "text"
      },
      "source": [
        "##3.2 変数名"
      ]
    },
    {
      "cell_type": "markdown",
      "metadata": {
        "id": "vqdCrRDGwGJH",
        "colab_type": "text"
      },
      "source": [
        "## 3.3 数値オブジェクト"
      ]
    },
    {
      "cell_type": "markdown",
      "metadata": {
        "id": "9Q59NWn-wNoo",
        "colab_type": "text"
      },
      "source": [
        "### 3.3.1 整数"
      ]
    },
    {
      "cell_type": "code",
      "metadata": {
        "id": "iJ2cN5TsvFLs",
        "colab_type": "code",
        "outputId": "2739e82d-0407-448b-d8cc-a8052081b56c",
        "colab": {
          "base_uri": "https://localhost:8080/",
          "height": 71
        }
      },
      "source": [
        "#小数点なし\n",
        "print (5)\n",
        "\n",
        "#0も使える。\n",
        "print (0)\n",
        "\n",
        "#負の整数を指定するには数字の前に−記号を挿入する。\n",
        "print (-123)"
      ],
      "execution_count": 0,
      "outputs": [
        {
          "output_type": "stream",
          "text": [
            "5\n",
            "0\n",
            "-123\n"
          ],
          "name": "stdout"
        }
      ]
    },
    {
      "cell_type": "code",
      "metadata": {
        "id": "UxI4OVM9wYSJ",
        "colab_type": "code",
        "outputId": "533f91b7-9417-44ff-d0d2-fa72173566ed",
        "colab": {
          "base_uri": "https://localhost:8080/",
          "height": 35
        }
      },
      "source": [
        "#足し算 加算\n",
        "5+9"
      ],
      "execution_count": 0,
      "outputs": [
        {
          "output_type": "execute_result",
          "data": {
            "text/plain": [
              "14"
            ]
          },
          "metadata": {
            "tags": []
          },
          "execution_count": 8
        }
      ]
    },
    {
      "cell_type": "code",
      "metadata": {
        "id": "g35zNSjgwQyy",
        "colab_type": "code",
        "outputId": "988bab7f-515d-4c76-f590-acf4e0caba61",
        "colab": {
          "base_uri": "https://localhost:8080/",
          "height": 35
        }
      },
      "source": [
        "#引き算1 減算\n",
        "100-7"
      ],
      "execution_count": 0,
      "outputs": [
        {
          "output_type": "execute_result",
          "data": {
            "text/plain": [
              "93"
            ]
          },
          "metadata": {
            "tags": []
          },
          "execution_count": 9
        }
      ]
    },
    {
      "cell_type": "code",
      "metadata": {
        "id": "H0oAe1WawbL-",
        "colab_type": "code",
        "outputId": "83ffe88a-85d9-4ff0-8239-4434a3dec9be",
        "colab": {
          "base_uri": "https://localhost:8080/",
          "height": 35
        }
      },
      "source": [
        "#引き算2 減算\n",
        "4-10"
      ],
      "execution_count": 0,
      "outputs": [
        {
          "output_type": "execute_result",
          "data": {
            "text/plain": [
              "-6"
            ]
          },
          "metadata": {
            "tags": []
          },
          "execution_count": 10
        }
      ]
    },
    {
      "cell_type": "code",
      "metadata": {
        "id": "vSskxDs9weyi",
        "colab_type": "code",
        "outputId": "06c069c3-6751-4048-cb16-e2a17f2d3187",
        "colab": {
          "base_uri": "https://localhost:8080/",
          "height": 35
        }
      },
      "source": [
        "#足し算・引き算 加算・減算\n",
        "4+3-2-1+6"
      ],
      "execution_count": 0,
      "outputs": [
        {
          "output_type": "execute_result",
          "data": {
            "text/plain": [
              "10"
            ]
          },
          "metadata": {
            "tags": []
          },
          "execution_count": 12
        }
      ]
    },
    {
      "cell_type": "code",
      "metadata": {
        "id": "2YYVZNfTwgr1",
        "colab_type": "code",
        "outputId": "a8ddcc34-28c8-46ca-bc15-29400b22a16e",
        "colab": {
          "base_uri": "https://localhost:8080/",
          "height": 35
        }
      },
      "source": [
        "#数値と演算子の間にスペースを入れる必要はないが入れたほうが読みやすい。\n",
        "5+9 + 3"
      ],
      "execution_count": 0,
      "outputs": [
        {
          "output_type": "execute_result",
          "data": {
            "text/plain": [
              "17"
            ]
          },
          "metadata": {
            "tags": []
          },
          "execution_count": 13
        }
      ]
    },
    {
      "cell_type": "code",
      "metadata": {
        "id": "gvyeeW5HwjmE",
        "colab_type": "code",
        "outputId": "f9ca3e91-6f44-4058-bc09-04e1ab699120",
        "colab": {
          "base_uri": "https://localhost:8080/",
          "height": 125
        }
      },
      "source": [
        "#乗算\n",
        "print (2*8)\n",
        "\n",
        "print ((-3)*8)\n",
        "\n",
        "print (-1*-100)\n",
        "\n",
        "#かっこは普通の数学のかっこと同じ意味なので以下は上の式と同じ答え\n",
        "print ((-1)*(-100))\n",
        "\n",
        "#加算・乗算 ()ないが先に計算するのは小学生でやった\n",
        "print ((4+5)*(100))\n",
        "\n",
        "print (4+5*100)"
      ],
      "execution_count": 0,
      "outputs": [
        {
          "output_type": "stream",
          "text": [
            "16\n",
            "-24\n",
            "100\n",
            "100\n",
            "900\n",
            "504\n"
          ],
          "name": "stdout"
        }
      ]
    },
    {
      "cell_type": "code",
      "metadata": {
        "id": "r2IFzCDDwn-w",
        "colab_type": "code",
        "outputId": "6b78ce35-f14d-4ef3-f42d-c9b281750cdf",
        "colab": {
          "base_uri": "https://localhost:8080/",
          "height": 35
        }
      },
      "source": [
        "#整数を整数で割るときでも、/を使うと、結果は浮動小数点数で返される。\n",
        "9/5"
      ],
      "execution_count": 0,
      "outputs": [
        {
          "output_type": "execute_result",
          "data": {
            "text/plain": [
              "1.8"
            ]
          },
          "metadata": {
            "tags": []
          },
          "execution_count": 15
        }
      ]
    },
    {
      "cell_type": "code",
      "metadata": {
        "id": "vfBH4edMwymK",
        "colab_type": "code",
        "outputId": "7738701e-d0af-4dc7-86bf-014dd722809d",
        "colab": {
          "base_uri": "https://localhost:8080/",
          "height": 35
        }
      },
      "source": [
        "#切り捨ての整数徐算は整数の結果を返し、余りは捨ててしまう。\n",
        "9//5"
      ],
      "execution_count": 0,
      "outputs": [
        {
          "output_type": "execute_result",
          "data": {
            "text/plain": [
              "1"
            ]
          },
          "metadata": {
            "tags": []
          },
          "execution_count": 16
        }
      ]
    },
    {
      "cell_type": "code",
      "metadata": {
        "id": "ZeOv4DCqw0fS",
        "colab_type": "code",
        "outputId": "1ae387f0-8d16-497e-eba0-50530ddbceb5",
        "colab": {
          "base_uri": "https://localhost:8080/",
          "height": 173
        }
      },
      "source": [
        "#0で割ると例外が起きる。0で割ることはできない。\n",
        "5/0"
      ],
      "execution_count": 0,
      "outputs": [
        {
          "output_type": "error",
          "ename": "ZeroDivisionError",
          "evalue": "ignored",
          "traceback": [
            "\u001b[0;31m---------------------------------------------------------------------------\u001b[0m",
            "\u001b[0;31mZeroDivisionError\u001b[0m                         Traceback (most recent call last)",
            "\u001b[0;32m<ipython-input-17-0106664d39e8>\u001b[0m in \u001b[0;36m<module>\u001b[0;34m()\u001b[0m\n\u001b[0;32m----> 1\u001b[0;31m \u001b[0;36m5\u001b[0m\u001b[0;34m/\u001b[0m\u001b[0;36m0\u001b[0m\u001b[0;34m\u001b[0m\u001b[0;34m\u001b[0m\u001b[0m\n\u001b[0m",
            "\u001b[0;31mZeroDivisionError\u001b[0m: division by zero"
          ]
        }
      ]
    },
    {
      "cell_type": "code",
      "metadata": {
        "id": "P-v4xP8Ow3uY",
        "colab_type": "code",
        "outputId": "e194b3ec-a8aa-4739-c9c5-865a9d26c888",
        "colab": {
          "base_uri": "https://localhost:8080/",
          "height": 53
        }
      },
      "source": [
        "#20191010というように日付が整数で表現されていることは多い。ここから年だけ取り出す。\n",
        "print (20191010//10000)\n",
        "#月を取り出す\n",
        "print ((20191010-(20191010//10000)*10000)//100)"
      ],
      "execution_count": 0,
      "outputs": [
        {
          "output_type": "stream",
          "text": [
            "2019\n",
            "10\n"
          ],
          "name": "stdout"
        }
      ]
    },
    {
      "cell_type": "code",
      "metadata": {
        "id": "j28YZB24w6pY",
        "colab_type": "code",
        "outputId": "9066d04a-2c84-4a70-cd74-1332d34e5d7c",
        "colab": {
          "base_uri": "https://localhost:8080/",
          "height": 35
        }
      },
      "source": [
        "#変数に整数を代入し計算する\n",
        "a=95\n",
        "print (a)"
      ],
      "execution_count": 0,
      "outputs": [
        {
          "output_type": "stream",
          "text": [
            "95\n"
          ],
          "name": "stdout"
        }
      ]
    },
    {
      "cell_type": "code",
      "metadata": {
        "id": "paMJVBqvxFCG",
        "colab_type": "code",
        "outputId": "0e382011-34dd-4961-991f-69ba29f6f1c9",
        "colab": {
          "base_uri": "https://localhost:8080/",
          "height": 53
        }
      },
      "source": [
        "#3引く\n",
        "a=a-3\n",
        "\n",
        "#3引かれている\n",
        "print (a)\n",
        "\n",
        "#再度3引く\n",
        "a=a-3\n",
        "\n",
        "print (a)"
      ],
      "execution_count": 0,
      "outputs": [
        {
          "output_type": "stream",
          "text": [
            "92\n",
            "89\n"
          ],
          "name": "stdout"
        }
      ]
    },
    {
      "cell_type": "code",
      "metadata": {
        "id": "ItxSV26cxIfK",
        "colab_type": "code",
        "outputId": "3ee1a5ef-d357-4466-a919-0fd159e9afc7",
        "colab": {
          "base_uri": "https://localhost:8080/",
          "height": 35
        }
      },
      "source": [
        "#a -= 3  は　　a = a - 3　と同じ意味になる。\n",
        "a=95\n",
        "a -= 3\n",
        "a"
      ],
      "execution_count": 0,
      "outputs": [
        {
          "output_type": "execute_result",
          "data": {
            "text/plain": [
              "92"
            ]
          },
          "metadata": {
            "tags": []
          },
          "execution_count": 21
        }
      ]
    },
    {
      "cell_type": "code",
      "metadata": {
        "id": "R3J9YzhbxNGe",
        "colab_type": "code",
        "outputId": "a6f7f695-8732-46ed-fd3b-3a17c89757ea",
        "colab": {
          "base_uri": "https://localhost:8080/",
          "height": 35
        }
      },
      "source": [
        "#　次のコードは a = a + 8と同じ意味になる。\n",
        "a=92\n",
        "a += 8\n",
        "a"
      ],
      "execution_count": 0,
      "outputs": [
        {
          "output_type": "execute_result",
          "data": {
            "text/plain": [
              "100"
            ]
          },
          "metadata": {
            "tags": []
          },
          "execution_count": 22
        }
      ]
    },
    {
      "cell_type": "code",
      "metadata": {
        "id": "N-7JqosnxPVW",
        "colab_type": "code",
        "outputId": "c542ca74-113a-4a91-84e6-6616fc26b7c5",
        "colab": {
          "base_uri": "https://localhost:8080/",
          "height": 245
        }
      },
      "source": [
        "#最初に値をいれないとエラーになる\n",
        "i+=1"
      ],
      "execution_count": 0,
      "outputs": [
        {
          "output_type": "error",
          "ename": "NameError",
          "evalue": "ignored",
          "traceback": [
            "\u001b[0;31m---------------------------------------------------------------------------\u001b[0m",
            "\u001b[0;31mNameError\u001b[0m                                 Traceback (most recent call last)",
            "\u001b[0;32m<ipython-input-23-7a2c8f53069c>\u001b[0m in \u001b[0;36m<module>\u001b[0;34m()\u001b[0m\n\u001b[0;32m----> 1\u001b[0;31m \u001b[0mi\u001b[0m\u001b[0;34m+=\u001b[0m\u001b[0;36m1\u001b[0m\u001b[0;34m\u001b[0m\u001b[0;34m\u001b[0m\u001b[0m\n\u001b[0m\u001b[1;32m      2\u001b[0m \u001b[0;34m\u001b[0m\u001b[0m\n\u001b[1;32m      3\u001b[0m \u001b[0;31m#0からカウントアップ\u001b[0m\u001b[0;34m\u001b[0m\u001b[0;34m\u001b[0m\u001b[0;34m\u001b[0m\u001b[0m\n\u001b[1;32m      4\u001b[0m \u001b[0mi\u001b[0m \u001b[0;34m=\u001b[0m \u001b[0;36m0\u001b[0m\u001b[0;34m\u001b[0m\u001b[0;34m\u001b[0m\u001b[0m\n\u001b[1;32m      5\u001b[0m \u001b[0mi\u001b[0m \u001b[0;34m+=\u001b[0m \u001b[0;36m1\u001b[0m\u001b[0;34m\u001b[0m\u001b[0;34m\u001b[0m\u001b[0m\n",
            "\u001b[0;31mNameError\u001b[0m: name 'i' is not defined"
          ]
        }
      ]
    },
    {
      "cell_type": "code",
      "metadata": {
        "id": "w4_DNW1PxzbH",
        "colab_type": "code",
        "outputId": "b0f6a214-7e0b-43af-c1ba-c893e447ec00",
        "colab": {
          "base_uri": "https://localhost:8080/",
          "height": 71
        }
      },
      "source": [
        "#0からカウントアップ\n",
        "i = 0\n",
        "i += 1\n",
        "print (i)\n",
        "i += 1\n",
        "print (i)\n",
        "i += 1\n",
        "print (i)"
      ],
      "execution_count": 0,
      "outputs": [
        {
          "output_type": "stream",
          "text": [
            "1\n",
            "2\n",
            "3\n"
          ],
          "name": "stdout"
        }
      ]
    },
    {
      "cell_type": "code",
      "metadata": {
        "id": "X-0SCpIDx3YR",
        "colab_type": "code",
        "outputId": "4c2cce01-c973-43b6-ab13-447e640c5dd5",
        "colab": {
          "base_uri": "https://localhost:8080/",
          "height": 71
        }
      },
      "source": [
        "#0からカウントダウン\n",
        "i = 0\n",
        "i -= 1\n",
        "print (i)\n",
        "i -= 1\n",
        "print (i)\n",
        "i -= 1\n",
        "print (i)"
      ],
      "execution_count": 0,
      "outputs": [
        {
          "output_type": "stream",
          "text": [
            "-1\n",
            "-2\n",
            "-3\n"
          ],
          "name": "stdout"
        }
      ]
    },
    {
      "cell_type": "code",
      "metadata": {
        "id": "PhXRirRZx_r2",
        "colab_type": "code",
        "outputId": "a3ad15d2-028b-4ed2-9142-972fa144f010",
        "colab": {
          "base_uri": "https://localhost:8080/",
          "height": 35
        }
      },
      "source": [
        "#%がふたつの数値の間に入っているときには、第１の数値を第２の数値で割ったときの剰余を返す。\n",
        "\n",
        "23 % 5\n",
        "\n",
        "#商と余りの関係\n",
        "\n",
        "print (5*(23 // 5) + 23 % 5)"
      ],
      "execution_count": 0,
      "outputs": [
        {
          "output_type": "stream",
          "text": [
            "23\n"
          ],
          "name": "stdout"
        }
      ]
    },
    {
      "cell_type": "code",
      "metadata": {
        "id": "iRG3i5AdyCTb",
        "colab_type": "code",
        "outputId": "db0e3ca9-296c-4533-b2ad-1fbe4c40eb99",
        "colab": {
          "base_uri": "https://localhost:8080/",
          "height": 35
        }
      },
      "source": [
        "print (2 + ( 3 * 4 )/6)"
      ],
      "execution_count": 0,
      "outputs": [
        {
          "output_type": "stream",
          "text": [
            "4.0\n"
          ],
          "name": "stdout"
        }
      ]
    },
    {
      "cell_type": "markdown",
      "metadata": {
        "id": "ecT1QQrayOE-",
        "colab_type": "text"
      },
      "source": [
        "##3.2 BOOLE値型オブジェクト"
      ]
    },
    {
      "cell_type": "code",
      "metadata": {
        "id": "FUmQcqtuyL_f",
        "colab_type": "code",
        "outputId": "d5d5da2f-70c6-417e-b309-221017392f90",
        "colab": {
          "base_uri": "https://localhost:8080/",
          "height": 35
        }
      },
      "source": [
        "#ブール値のFalseは、整数、浮動小数点数と混ぜて計算するときには、0または0.0として取り扱われる。\n",
        "\n",
        "False + 1.0"
      ],
      "execution_count": 0,
      "outputs": [
        {
          "output_type": "execute_result",
          "data": {
            "text/plain": [
              "1.0"
            ]
          },
          "metadata": {
            "tags": []
          },
          "execution_count": 29
        }
      ]
    },
    {
      "cell_type": "code",
      "metadata": {
        "id": "hliqLT5byUCK",
        "colab_type": "code",
        "outputId": "6f36fbaf-f841-47c6-fa84-951c143f547d",
        "colab": {
          "base_uri": "https://localhost:8080/",
          "height": 35
        }
      },
      "source": [
        "#ブール値のTrueは１または1.0として取り扱われる。\n",
        "\n",
        "True + 99"
      ],
      "execution_count": 0,
      "outputs": [
        {
          "output_type": "execute_result",
          "data": {
            "text/plain": [
              "100"
            ]
          },
          "metadata": {
            "tags": []
          },
          "execution_count": 30
        }
      ]
    },
    {
      "cell_type": "code",
      "metadata": {
        "id": "uCnOTi4iyWu3",
        "colab_type": "code",
        "outputId": "0035facd-28d6-4a51-9fc8-f3eaafd3a53f",
        "colab": {
          "base_uri": "https://localhost:8080/",
          "height": 35
        }
      },
      "source": [
        "#bool値型同士\n",
        "True +False"
      ],
      "execution_count": 0,
      "outputs": [
        {
          "output_type": "execute_result",
          "data": {
            "text/plain": [
              "1"
            ]
          },
          "metadata": {
            "tags": []
          },
          "execution_count": 31
        }
      ]
    },
    {
      "cell_type": "markdown",
      "metadata": {
        "id": "VfIzUqQuyh18",
        "colab_type": "text"
      },
      "source": [
        "##3.3 文字列オブジェクト"
      ]
    },
    {
      "cell_type": "code",
      "metadata": {
        "id": "v9RuVOSdycml",
        "colab_type": "code",
        "outputId": "8f9c181d-08c3-4b74-b78c-4bffff618985",
        "colab": {
          "base_uri": "https://localhost:8080/",
          "height": 53
        }
      },
      "source": [
        "#シングルクォーテーション\n",
        "print ('東京')\n",
        "#ダブルクオーテーション\n",
        "print (\"TOKYO\")"
      ],
      "execution_count": 0,
      "outputs": [
        {
          "output_type": "stream",
          "text": [
            "東京\n",
            "TOKYO\n"
          ],
          "name": "stdout"
        }
      ]
    },
    {
      "cell_type": "code",
      "metadata": {
        "id": "9IgUfOltylkf",
        "colab_type": "code",
        "outputId": "980a3be5-488c-4944-91f9-f68f40517bfd",
        "colab": {
          "base_uri": "https://localhost:8080/",
          "height": 71
        }
      },
      "source": [
        "#str()関数を使えば、Pythonのほかのデータ型を文字列に変換できる。\n",
        "#整数to文字列\n",
        "print (str(100))\n",
        "#有理数to文字列\n",
        "print (str(3.15))\n",
        "#bool to 文字列\n",
        "print (True)"
      ],
      "execution_count": 0,
      "outputs": [
        {
          "output_type": "stream",
          "text": [
            "100\n",
            "3.15\n",
            "True\n"
          ],
          "name": "stdout"
        }
      ]
    },
    {
      "cell_type": "markdown",
      "metadata": {
        "id": "ohQ8jtvczK2w",
        "colab_type": "text"
      },
      "source": [
        "###3.3.1 ＋による連結"
      ]
    },
    {
      "cell_type": "code",
      "metadata": {
        "id": "vSnD1AYryokH",
        "colab_type": "code",
        "outputId": "11483a14-df2c-4016-c9b3-9052a184bf24",
        "colab": {
          "base_uri": "https://localhost:8080/",
          "height": 53
        }
      },
      "source": [
        "#＋を使えば、文字列変数を連結することができる。\n",
        "print ('東京都' + '渋谷区')\n",
        "\n",
        "#リテラル文字列（ベタ打ち）の場合は、順に並べるだけで連結できる（文字列変数はできない）。\n",
        "print ('東京都'  '渋谷区')\n"
      ],
      "execution_count": 0,
      "outputs": [
        {
          "output_type": "stream",
          "text": [
            "東京都渋谷区\n",
            "東京都渋谷区\n"
          ],
          "name": "stdout"
        }
      ]
    },
    {
      "cell_type": "code",
      "metadata": {
        "id": "yUtfTLPLyvPQ",
        "colab_type": "code",
        "outputId": "da64cbf7-3359-461a-cbdc-e1b48d5b15d4",
        "colab": {
          "base_uri": "https://localhost:8080/",
          "height": 89
        }
      },
      "source": [
        "#文字列を変数に代入\n",
        "a = '東京都'\n",
        "b = '渋谷区'\n",
        "\n",
        "print (a)\n",
        "print (b)\n",
        "\n",
        "#結合\n",
        "print (a+b)\n",
        "\n",
        "#結合したものを別の変数に代入\n",
        "c=a+b\n",
        "print (c)"
      ],
      "execution_count": 0,
      "outputs": [
        {
          "output_type": "stream",
          "text": [
            "東京都\n",
            "渋谷区\n",
            "東京都渋谷区\n",
            "東京都渋谷区\n"
          ],
          "name": "stdout"
        }
      ]
    },
    {
      "cell_type": "markdown",
      "metadata": {
        "id": "jdP90yDczTVi",
        "colab_type": "text"
      },
      "source": [
        "###3.3.2 ＊による繰り返し"
      ]
    },
    {
      "cell_type": "code",
      "metadata": {
        "id": "eDGzmKXOy3RN",
        "colab_type": "code",
        "outputId": "3033fc58-d303-4ce1-82c8-85848b7439ff",
        "colab": {
          "base_uri": "https://localhost:8080/",
          "height": 125
        }
      },
      "source": [
        "#乗算で繰り返す\n",
        "print (2*'東京都')\n",
        "\n",
        "#結合して3倍する\n",
        "print (3*('東京都'+'渋谷区'))\n",
        "\n",
        "# \\n(バックスラッシュn)で改行できる windowsは\\マーク\n",
        "print (3*('東京都'+'渋谷区 \\n'))"
      ],
      "execution_count": 0,
      "outputs": [
        {
          "output_type": "stream",
          "text": [
            "東京都東京都\n",
            "東京都渋谷区東京都渋谷区東京都渋谷区\n",
            "東京都渋谷区 \n",
            "東京都渋谷区 \n",
            "東京都渋谷区 \n",
            "\n"
          ],
          "name": "stdout"
        }
      ]
    },
    {
      "cell_type": "markdown",
      "metadata": {
        "id": "Drddp2Jmzt0p",
        "colab_type": "text"
      },
      "source": [
        "###3.3.3 番地指定による文字の抽出"
      ]
    },
    {
      "cell_type": "code",
      "metadata": {
        "id": "Pp27QhRly9U1",
        "colab_type": "code",
        "outputId": "8cd96815-2bf2-4cbf-accf-f5e28ba684a4",
        "colab": {
          "base_uri": "https://localhost:8080/",
          "height": 107
        }
      },
      "source": [
        "#先頭の文字は0番地。末尾は−１番地と指定しても取得できる。\n",
        "letters = 'あいうえお'\n",
        "print (letters[0])\n",
        "print (letters[1])\n",
        "print (letters[-1])\n",
        "\n",
        "print (letters[4])\n",
        "\n",
        "a = '東京都'+'渋谷区'\n",
        "print (a)\n",
        "\n",
        "print (a[0])"
      ],
      "execution_count": 0,
      "outputs": [
        {
          "output_type": "stream",
          "text": [
            "あ\n",
            "い\n",
            "お\n",
            "東京都渋谷区\n",
            "東\n"
          ],
          "name": "stdout"
        }
      ]
    },
    {
      "cell_type": "code",
      "metadata": {
        "id": "Yz7IYJNTz_UT",
        "colab_type": "code",
        "outputId": "6f02477f-437e-4736-c719-87cee996c35a",
        "colab": {
          "base_uri": "https://localhost:8080/",
          "height": 125
        }
      },
      "source": [
        "#　[ : ]・・・先頭から末尾までのシーケンス全体を抽出する。\n",
        "\n",
        "letters='東京都渋谷区YGP'\n",
        "print (letters[:])\n",
        "\n",
        "#　[start:]・・・3番地から最後までのシーケンスを抽出する。\n",
        "\n",
        "print (letters[3:])\n",
        "\n",
        "#　[:end]・・・先頭からend-1番地までのシーケンスを抽出する。\n",
        "\n",
        "print (letters[:3])\n",
        "\n",
        "#　[start:end]・・・start番地からend-1番地までのシーケンスを抽出する。\n",
        "\n",
        "print (letters[3:7])\n",
        "\n",
        "#　最後の3文字を取り出す。\n",
        "\n",
        "print (letters[-3:])\n",
        "\n",
        "#　番地2から末尾より4文字手前までを切り取る。\n",
        "\n",
        "print (letters[2:-3])"
      ],
      "execution_count": 0,
      "outputs": [
        {
          "output_type": "stream",
          "text": [
            "東京都渋谷区YGP\n",
            "渋谷区YGP\n",
            "東京都\n",
            "渋谷区Y\n",
            "YGP\n",
            "都渋谷区\n"
          ],
          "name": "stdout"
        }
      ]
    },
    {
      "cell_type": "code",
      "metadata": {
        "id": "XZA92n_e0IlQ",
        "colab_type": "code",
        "outputId": "4b4c6728-29d5-4a91-b4f8-bf04771121dd",
        "colab": {
          "base_uri": "https://localhost:8080/",
          "height": 53
        }
      },
      "source": [
        "#　[start:end:step]・・・step文字ごとにstart番地からend-1番地までのシーケンスを抽出する。\n",
        "#　先頭から末尾までの７文字ごとに文字を取り出す。\n",
        "\n",
        "print (letters[::7])\n",
        "\n",
        "#　番地1から10まで、2文字ごとに取り出す。\n",
        "\n",
        "print (letters[1:10:2])"
      ],
      "execution_count": 0,
      "outputs": [
        {
          "output_type": "stream",
          "text": [
            "東G\n",
            "京渋区G\n"
          ],
          "name": "stdout"
        }
      ]
    },
    {
      "cell_type": "markdown",
      "metadata": {
        "id": "Hk9QTP6x1Ukj",
        "colab_type": "text"
      },
      "source": [
        "###3.3.4 LEN()による長さの取得"
      ]
    },
    {
      "cell_type": "code",
      "metadata": {
        "id": "gaWN1Vd50XVH",
        "colab_type": "code",
        "outputId": "63fc0d1f-7dd5-4825-e369-9b6a1e2e4b0c",
        "colab": {
          "base_uri": "https://localhost:8080/",
          "height": 53
        }
      },
      "source": [
        "#len()関数は、文字列内の文字数を数える。\n",
        "letters='東京都渋谷区YGP'\n",
        "print (len(letters))\n",
        "\n",
        "#からの文字列の長さは0\n",
        "empty=\"\"\n",
        "len(empty)"
      ],
      "execution_count": 0,
      "outputs": [
        {
          "output_type": "stream",
          "text": [
            "9\n"
          ],
          "name": "stdout"
        },
        {
          "output_type": "execute_result",
          "data": {
            "text/plain": [
              "0"
            ]
          },
          "metadata": {
            "tags": []
          },
          "execution_count": 45
        }
      ]
    },
    {
      "cell_type": "markdown",
      "metadata": {
        "id": "N0hyYqhf1o-K",
        "colab_type": "text"
      },
      "source": [
        "###3.3.5 SPLIT()による分割"
      ]
    },
    {
      "cell_type": "code",
      "metadata": {
        "id": "u-wLVyPI1bAO",
        "colab_type": "code",
        "outputId": "a07350f3-6b16-431a-f433-b72ac24c83fc",
        "colab": {
          "base_uri": "https://localhost:8080/",
          "height": 35
        }
      },
      "source": [
        "#　split() ・・・セパレータに基づいて文字列を分割し、部分文字列のリストを作る。\n",
        "address =  \"東京都 渋谷区 YGP タワー 28F\"\n",
        "#半角スペースがセパレータ\n",
        "print (address.split( ' ' ))"
      ],
      "execution_count": 0,
      "outputs": [
        {
          "output_type": "stream",
          "text": [
            "['東京都', '渋谷区', 'YGP', 'タワー', '28F']\n"
          ],
          "name": "stdout"
        }
      ]
    },
    {
      "cell_type": "code",
      "metadata": {
        "id": "TS0L67Of10ow",
        "colab_type": "code",
        "outputId": "75618b84-bc75-4e1d-a05e-3aeff10fcfd5",
        "colab": {
          "base_uri": "https://localhost:8080/",
          "height": 71
        }
      },
      "source": [
        "#長さ求めるlen関数\n",
        "print (len(address))\n",
        "#str(文字列オブジェクトのsplit関数)\n",
        "print (address.split(\" \"))\n",
        "#str.splitで書く\n",
        "print (str.split(address,\" \"))"
      ],
      "execution_count": 0,
      "outputs": [
        {
          "output_type": "stream",
          "text": [
            "19\n",
            "['東京都', '渋谷区', 'YGP', 'タワー', '28F']\n",
            "['東京都', '渋谷区', 'YGP', 'タワー', '28F']\n"
          ],
          "name": "stdout"
        }
      ]
    },
    {
      "cell_type": "markdown",
      "metadata": {
        "id": "7XRXNZg21_4D",
        "colab_type": "text"
      },
      "source": [
        "###3.3.6 多彩な文字列操作"
      ]
    },
    {
      "cell_type": "code",
      "metadata": {
        "id": "ubv7so8U19Z_",
        "colab_type": "code",
        "outputId": "415b9731-a8e8-4ab1-9d2e-112c328487dc",
        "colab": {
          "base_uri": "https://localhost:8080/",
          "height": 35
        }
      },
      "source": [
        "#python wikipedia 冒頭のパラグラフ\n",
        "python_wiki='''Python is an interpreted, high-level, general-purpose \\\n",
        "programming language.\n",
        "Created by Guido van Rossum and first released in 1991, Python's design philosophy \n",
        "emphasizes code readability with its notable use of significant whitespace. \n",
        "Its language constructs and object-oriented approach aim to help programmers \n",
        "write clear,logical code for small and large-scale projects.'''\n",
        "\n",
        "#先頭から20\n",
        "python_wiki[:20]\n"
      ],
      "execution_count": 0,
      "outputs": [
        {
          "output_type": "execute_result",
          "data": {
            "text/plain": [
              "'Python is an interpr'"
            ]
          },
          "metadata": {
            "tags": []
          },
          "execution_count": 52
        }
      ]
    },
    {
      "cell_type": "code",
      "metadata": {
        "id": "CJihco9T2NSS",
        "colab_type": "code",
        "outputId": "20e65525-37e9-4cf0-bb05-bc9ad30c8dfd",
        "colab": {
          "base_uri": "https://localhost:8080/",
          "height": 35
        }
      },
      "source": [
        "#長さ\n",
        "len(python_wiki)"
      ],
      "execution_count": 0,
      "outputs": [
        {
          "output_type": "execute_result",
          "data": {
            "text/plain": [
              "375"
            ]
          },
          "metadata": {
            "tags": []
          },
          "execution_count": 54
        }
      ]
    },
    {
      "cell_type": "code",
      "metadata": {
        "id": "JOWTFGS92O_M",
        "colab_type": "code",
        "outputId": "5bb5f6c1-c53d-405d-a2ed-d36cfc0ac881",
        "colab": {
          "base_uri": "https://localhost:8080/",
          "height": 35
        }
      },
      "source": [
        "#指定した文字列が含まれている場所\n",
        "word = 'language'\n",
        "print (python_wiki.find(word))"
      ],
      "execution_count": 0,
      "outputs": [
        {
          "output_type": "stream",
          "text": [
            "66\n"
          ],
          "name": "stdout"
        }
      ]
    },
    {
      "cell_type": "code",
      "metadata": {
        "id": "xQ7cZhQY2d0n",
        "colab_type": "code",
        "outputId": "0a02aff0-c56c-4be4-9ee2-7e3d788ac0d3",
        "colab": {
          "base_uri": "https://localhost:8080/",
          "height": 35
        }
      },
      "source": [
        "#含まれていない場合　-1 を返す\n",
        "print (python_wiki.find('パイソン'))"
      ],
      "execution_count": 0,
      "outputs": [
        {
          "output_type": "stream",
          "text": [
            "-1\n"
          ],
          "name": "stdout"
        }
      ]
    },
    {
      "cell_type": "code",
      "metadata": {
        "id": "1kw4u5k62fyU",
        "colab_type": "code",
        "outputId": "2a97ab3f-c73c-4921-ea98-2f99f295fd8c",
        "colab": {
          "base_uri": "https://localhost:8080/",
          "height": 35
        }
      },
      "source": [
        "#複数ある場合 最初の番地を返す。\n",
        "#ゲティスバーグ演説「人民の人民による人民のための政治」\n",
        "gettysburg = \"government of the people, by the people,\\\n",
        " for the people\"\n",
        "print (gettysburg.find('people'))"
      ],
      "execution_count": 0,
      "outputs": [
        {
          "output_type": "stream",
          "text": [
            "18\n"
          ],
          "name": "stdout"
        }
      ]
    },
    {
      "cell_type": "code",
      "metadata": {
        "id": "Y42a7_cU2h7j",
        "colab_type": "code",
        "outputId": "c14fc09b-a477-4374-88d6-c856ed3eabb7",
        "colab": {
          "base_uri": "https://localhost:8080/",
          "height": 35
        }
      },
      "source": [
        "#複数ある場合最後に出てきた文字列の番地を返す\n",
        "gettysburg.rfind('people')"
      ],
      "execution_count": 0,
      "outputs": [
        {
          "output_type": "execute_result",
          "data": {
            "text/plain": [
              "49"
            ]
          },
          "metadata": {
            "tags": []
          },
          "execution_count": 58
        }
      ]
    },
    {
      "cell_type": "code",
      "metadata": {
        "id": "bMyAdjtF2kv3",
        "colab_type": "code",
        "outputId": "b3bd2d16-0939-4720-aed2-042ff9794477",
        "colab": {
          "base_uri": "https://localhost:8080/",
          "height": 35
        }
      },
      "source": [
        "#何回当該文字列が出現したか\n",
        "gettysburg.count('people')"
      ],
      "execution_count": 0,
      "outputs": [
        {
          "output_type": "execute_result",
          "data": {
            "text/plain": [
              "3"
            ]
          },
          "metadata": {
            "tags": []
          },
          "execution_count": 59
        }
      ]
    },
    {
      "cell_type": "code",
      "metadata": {
        "id": "nAZoufye2x_p",
        "colab_type": "code",
        "outputId": "2c91f6f4-137d-4ebe-db02-8474378d36c5",
        "colab": {
          "base_uri": "https://localhost:8080/",
          "height": 53
        }
      },
      "source": [
        "#解答1-1\n",
        "#findとスライスで取得\n",
        "#find で @の番地を取得\n",
        "mail ='urusuhibata@crosstab.co.jp'\n",
        "banti = mail.find('@')\n",
        "print ('番地:',banti)\n",
        "#スライスで番地以降の文字列取得 [番地+1:](番地以降なので+1)\n",
        "print (mail[banti+1:])\n"
      ],
      "execution_count": 0,
      "outputs": [
        {
          "output_type": "stream",
          "text": [
            "番地: 11\n",
            "crosstab.co.jp\n"
          ],
          "name": "stdout"
        }
      ]
    },
    {
      "cell_type": "code",
      "metadata": {
        "id": "euHgm53D24Za",
        "colab_type": "code",
        "outputId": "152a56d7-6b43-4eaf-da24-5f2725ac7a1b",
        "colab": {
          "base_uri": "https://localhost:8080/",
          "height": 53
        }
      },
      "source": [
        "#解答1-2 リスト使用する\n",
        "mail = 'urusuhibata@crosstab.co.jp'\n",
        "#splitで取得\n",
        "print (mail.split('@'))\n",
        "#かえってきたリストの1番目を指定\n",
        "print (mail.split('@')[1])"
      ],
      "execution_count": 0,
      "outputs": [
        {
          "output_type": "stream",
          "text": [
            "['urusuhibata', 'crosstab.co.jp']\n",
            "crosstab.co.jp\n"
          ],
          "name": "stdout"
        }
      ]
    },
    {
      "cell_type": "code",
      "metadata": {
        "id": "I3EwB1c73LB2",
        "colab_type": "code",
        "outputId": "05d5a45b-2014-4ab6-ab00-5a619fe0fe0b",
        "colab": {
          "base_uri": "https://localhost:8080/",
          "height": 89
        }
      },
      "source": [
        "#解答2-1\n",
        "addres = \"〒150-6018 東京都渋谷区恵比寿４丁目２０ ガーデンプレイス\"\n",
        "#最初のスペースがある番地取得\n",
        "first = addres.find(\" \")\n",
        "#最後のスペースがある番地取得\n",
        "last = addres.rfind(\" \")\n",
        "print ('最初の番地:{}'.format(first),'最後の番地:{}'.format(last))\n",
        "#スライスで郵便番号取得\n",
        "t_code = addres[:first]\n",
        "print (t_code)\n",
        "#建物名\n",
        "tower = addres[last+1:]\n",
        "print (tower)\n",
        "#結合\n",
        "print (t_code + tower)"
      ],
      "execution_count": 0,
      "outputs": [
        {
          "output_type": "stream",
          "text": [
            "最初の番地:9 最後の番地:24\n",
            "〒150-6018\n",
            "ガーデンプレイス\n",
            "〒150-6018ガーデンプレイス\n"
          ],
          "name": "stdout"
        }
      ]
    },
    {
      "cell_type": "markdown",
      "metadata": {
        "id": "xPVBr9rw3Ubh",
        "colab_type": "text"
      },
      "source": [
        "###3.3.7 REPLACE()による置換"
      ]
    },
    {
      "cell_type": "code",
      "metadata": {
        "id": "iBEVG37K3Qx_",
        "colab_type": "code",
        "outputId": "53477cb9-5c34-4815-db2b-8150cae669f6",
        "colab": {
          "base_uri": "https://localhost:8080/",
          "height": 35
        }
      },
      "source": [
        "#　replace()・・・部分文字列を置換えられる。\n",
        "addres = \"〒150-6018 東京都渋谷区恵比寿４丁目２０ ガーデンプレイス\"\n",
        "#対象文字列.replace(置換したい文字列,置換後の文字列)\n",
        "print (addres.replace('ガーデンプレイス' , 'YGP'))"
      ],
      "execution_count": 0,
      "outputs": [
        {
          "output_type": "stream",
          "text": [
            "〒150-6018 東京都渋谷区恵比寿４丁目２０ YGP\n"
          ],
          "name": "stdout"
        }
      ]
    },
    {
      "cell_type": "markdown",
      "metadata": {
        "id": "ESRNrPp25MRm",
        "colab_type": "text"
      },
      "source": [
        "###3.3.8* その他、大文字と小文字など"
      ]
    },
    {
      "cell_type": "code",
      "metadata": {
        "id": "WKE5dFoE3XKs",
        "colab_type": "code",
        "outputId": "9698614d-f74d-4245-ecbc-7878fc13bfa0",
        "colab": {
          "base_uri": "https://localhost:8080/",
          "height": 35
        }
      },
      "source": [
        "addres = \"  〒150-6018 東京都渋谷区恵比寿４丁目２０ ガーデンプレイス  \"\n",
        "#両端から半角スペース除く\n",
        "print (addres.strip( ' ' ))"
      ],
      "execution_count": 0,
      "outputs": [
        {
          "output_type": "stream",
          "text": [
            "〒150-6018 東京都渋谷区恵比寿４丁目２０ ガーデンプレイス\n"
          ],
          "name": "stdout"
        }
      ]
    },
    {
      "cell_type": "code",
      "metadata": {
        "id": "736yQBAF5S0m",
        "colab_type": "code",
        "outputId": "58434f7c-d4b2-414a-f22d-cd1e63a5a284",
        "colab": {
          "base_uri": "https://localhost:8080/",
          "height": 55
        }
      },
      "source": [
        "#英文字の場合先頭の単語をタイトルケース（先頭文字だけ大文字）にする。\n",
        "python_wiki='''Python is an interpreted, high-level, general-purpose programming language.\n",
        "Created by Guido van Rossum and first released in 1991, Python's design philosophy \n",
        "emphasizes code readability with its notable use of significant whitespace. \n",
        "Its language constructs and object-oriented approach aim to help programmers \n",
        "write clear,logical code for small and large-scale projects.'''\n",
        "\n",
        "python_wiki.capitalize()"
      ],
      "execution_count": 0,
      "outputs": [
        {
          "output_type": "execute_result",
          "data": {
            "text/plain": [
              "\"Python is an interpreted, high-level, general-purpose programming language.\\ncreated by guido van rossum and first released in 1991, python's design philosophy \\nemphasizes code readability with its notable use of significant whitespace. \\nits language constructs and object-oriented approach aim to help programmers \\nwrite clear,logical code for small and large-scale projects.\""
            ]
          },
          "metadata": {
            "tags": []
          },
          "execution_count": 66
        }
      ]
    },
    {
      "cell_type": "code",
      "metadata": {
        "id": "cMs7o8nf5VLU",
        "colab_type": "code",
        "outputId": "5d6d7026-22ee-478f-efa7-bb109f0cda4d",
        "colab": {
          "base_uri": "https://localhost:8080/",
          "height": 377
        }
      },
      "source": [
        "#　全ての単語の先頭文字を大文字にする。\n",
        "print (python_wiki.title())\n",
        "\n",
        "#　全ての文字を大文字にする。\n",
        "print (python_wiki.upper())\n",
        "\n",
        "#　全ての文字を小文字にする。\n",
        "print (python_wiki.lower())\n",
        "\n",
        "#　大文字小文字を逆にする。\n",
        "print (python_wiki.swapcase())"
      ],
      "execution_count": 0,
      "outputs": [
        {
          "output_type": "stream",
          "text": [
            "Python Is An Interpreted, High-Level, General-Purpose Programming Language.\n",
            "Created By Guido Van Rossum And First Released In 1991, Python'S Design Philosophy \n",
            "Emphasizes Code Readability With Its Notable Use Of Significant Whitespace. \n",
            "Its Language Constructs And Object-Oriented Approach Aim To Help Programmers \n",
            "Write Clear,Logical Code For Small And Large-Scale Projects.\n",
            "PYTHON IS AN INTERPRETED, HIGH-LEVEL, GENERAL-PURPOSE PROGRAMMING LANGUAGE.\n",
            "CREATED BY GUIDO VAN ROSSUM AND FIRST RELEASED IN 1991, PYTHON'S DESIGN PHILOSOPHY \n",
            "EMPHASIZES CODE READABILITY WITH ITS NOTABLE USE OF SIGNIFICANT WHITESPACE. \n",
            "ITS LANGUAGE CONSTRUCTS AND OBJECT-ORIENTED APPROACH AIM TO HELP PROGRAMMERS \n",
            "WRITE CLEAR,LOGICAL CODE FOR SMALL AND LARGE-SCALE PROJECTS.\n",
            "python is an interpreted, high-level, general-purpose programming language.\n",
            "created by guido van rossum and first released in 1991, python's design philosophy \n",
            "emphasizes code readability with its notable use of significant whitespace. \n",
            "its language constructs and object-oriented approach aim to help programmers \n",
            "write clear,logical code for small and large-scale projects.\n",
            "pYTHON IS AN INTERPRETED, HIGH-LEVEL, GENERAL-PURPOSE PROGRAMMING LANGUAGE.\n",
            "cREATED BY gUIDO VAN rOSSUM AND FIRST RELEASED IN 1991, pYTHON'S DESIGN PHILOSOPHY \n",
            "EMPHASIZES CODE READABILITY WITH ITS NOTABLE USE OF SIGNIFICANT WHITESPACE. \n",
            "iTS LANGUAGE CONSTRUCTS AND OBJECT-ORIENTED APPROACH AIM TO HELP PROGRAMMERS \n",
            "WRITE CLEAR,LOGICAL CODE FOR SMALL AND LARGE-SCALE PROJECTS.\n"
          ],
          "name": "stdout"
        }
      ]
    },
    {
      "cell_type": "code",
      "metadata": {
        "id": "geEodpP95qiG",
        "colab_type": "code",
        "outputId": "91389b2b-d828-4f50-b2e5-466c8272a59e",
        "colab": {
          "base_uri": "https://localhost:8080/",
          "height": 53
        }
      },
      "source": [
        "#表記ゆれ\n",
        "a = 'Python 3.7'\n",
        "b = 'PYTHON 3.7'\n",
        "\n",
        "#同じか？\n",
        "print ('同じかどうか:{}'.format(a==b))\n",
        "\n",
        "#小文字統一\n",
        "print (a.lower(),b.lower())"
      ],
      "execution_count": 0,
      "outputs": [
        {
          "output_type": "stream",
          "text": [
            "同じかどうか:False\n",
            "python 3.7 python 3.7\n"
          ],
          "name": "stdout"
        }
      ]
    },
    {
      "cell_type": "markdown",
      "metadata": {
        "id": "rZqrtSHz53n8",
        "colab_type": "text"
      },
      "source": [
        "##3.4 型の変換*"
      ]
    },
    {
      "cell_type": "markdown",
      "metadata": {
        "id": "upd8l_H66ANH",
        "colab_type": "text"
      },
      "source": [
        "###3.4.1 整数に変換"
      ]
    },
    {
      "cell_type": "code",
      "metadata": {
        "id": "OENFlpEJ51fm",
        "colab_type": "code",
        "outputId": "6f671870-73f4-4902-cb75-81c84e96629c",
        "colab": {
          "base_uri": "https://localhost:8080/",
          "height": 35
        }
      },
      "source": [
        "#int()関数で整数に変換 intはintegerの略で整数の意味である\n",
        "int(True)"
      ],
      "execution_count": 0,
      "outputs": [
        {
          "output_type": "execute_result",
          "data": {
            "text/plain": [
              "1"
            ]
          },
          "metadata": {
            "tags": []
          },
          "execution_count": 69
        }
      ]
    },
    {
      "cell_type": "code",
      "metadata": {
        "id": "XimCvlcz6D0Y",
        "colab_type": "code",
        "outputId": "d64c0ecf-227f-4da8-c05d-8d3ba07cd9a5",
        "colab": {
          "base_uri": "https://localhost:8080/",
          "height": 35
        }
      },
      "source": [
        "#Falseも変換\n",
        "int(False)"
      ],
      "execution_count": 0,
      "outputs": [
        {
          "output_type": "execute_result",
          "data": {
            "text/plain": [
              "0"
            ]
          },
          "metadata": {
            "tags": []
          },
          "execution_count": 70
        }
      ]
    },
    {
      "cell_type": "code",
      "metadata": {
        "id": "tsk5IcLc6Fh2",
        "colab_type": "code",
        "outputId": "36d03169-3837-46f4-b95a-5dac8b83d372",
        "colab": {
          "base_uri": "https://localhost:8080/",
          "height": 35
        }
      },
      "source": [
        "#　浮動小数点数を整数に変換すると、小数点以下の部分が単純に切り捨てられる。\n",
        "int(98.6)"
      ],
      "execution_count": 0,
      "outputs": [
        {
          "output_type": "execute_result",
          "data": {
            "text/plain": [
              "98"
            ]
          },
          "metadata": {
            "tags": []
          },
          "execution_count": 71
        }
      ]
    },
    {
      "cell_type": "code",
      "metadata": {
        "id": "NBCL7n5M6How",
        "colab_type": "code",
        "outputId": "987abfac-a400-4449-f9db-c2840ca039cd",
        "colab": {
          "base_uri": "https://localhost:8080/",
          "height": 53
        }
      },
      "source": [
        "#　整数を表した文字列はその整数に変換可能\n",
        "print (int('99'))\n",
        "\n",
        "print (int('-23'))"
      ],
      "execution_count": 0,
      "outputs": [
        {
          "output_type": "stream",
          "text": [
            "99\n",
            "-23\n"
          ],
          "name": "stdout"
        }
      ]
    },
    {
      "cell_type": "code",
      "metadata": {
        "id": "P4zEx_SV6KaP",
        "colab_type": "code",
        "outputId": "0c541891-9763-430e-c58b-f60c65f36b71",
        "colab": {
          "base_uri": "https://localhost:8080/",
          "height": 173
        }
      },
      "source": [
        "#　int()は以下の文字列には対応できないためエラーがでる\n",
        "int('YGP33')"
      ],
      "execution_count": 0,
      "outputs": [
        {
          "output_type": "error",
          "ename": "ValueError",
          "evalue": "ignored",
          "traceback": [
            "\u001b[0;31m---------------------------------------------------------------------------\u001b[0m",
            "\u001b[0;31mValueError\u001b[0m                                Traceback (most recent call last)",
            "\u001b[0;32m<ipython-input-73-58b690054408>\u001b[0m in \u001b[0;36m<module>\u001b[0;34m()\u001b[0m\n\u001b[0;32m----> 1\u001b[0;31m \u001b[0mint\u001b[0m\u001b[0;34m(\u001b[0m\u001b[0;34m'YGP33'\u001b[0m\u001b[0;34m)\u001b[0m\u001b[0;34m\u001b[0m\u001b[0;34m\u001b[0m\u001b[0m\n\u001b[0m",
            "\u001b[0;31mValueError\u001b[0m: invalid literal for int() with base 10: 'YGP33'"
          ]
        }
      ]
    },
    {
      "cell_type": "code",
      "metadata": {
        "id": "4kUUrd676QaU",
        "colab_type": "code",
        "outputId": "e287adc2-74e9-4318-89dd-2c83147ff9fa",
        "colab": {
          "base_uri": "https://localhost:8080/",
          "height": 173
        }
      },
      "source": [
        "#浮動小数点表示の文字列も無理\n",
        "int('98.6')"
      ],
      "execution_count": 0,
      "outputs": [
        {
          "output_type": "error",
          "ename": "ValueError",
          "evalue": "ignored",
          "traceback": [
            "\u001b[0;31m---------------------------------------------------------------------------\u001b[0m",
            "\u001b[0;31mValueError\u001b[0m                                Traceback (most recent call last)",
            "\u001b[0;32m<ipython-input-74-ae52b9fb3f52>\u001b[0m in \u001b[0;36m<module>\u001b[0;34m()\u001b[0m\n\u001b[0;32m----> 1\u001b[0;31m \u001b[0mint\u001b[0m\u001b[0;34m(\u001b[0m\u001b[0;34m'98.6'\u001b[0m\u001b[0;34m)\u001b[0m\u001b[0;34m\u001b[0m\u001b[0;34m\u001b[0m\u001b[0m\n\u001b[0m",
            "\u001b[0;31mValueError\u001b[0m: invalid literal for int() with base 10: '98.6'"
          ]
        }
      ]
    },
    {
      "cell_type": "markdown",
      "metadata": {
        "id": "iJBJqXSV6Yir",
        "colab_type": "text"
      },
      "source": [
        "###3.4.2 浮動小数点型に変換"
      ]
    },
    {
      "cell_type": "code",
      "metadata": {
        "id": "QGu5vlwY6S0o",
        "colab_type": "code",
        "outputId": "1f1d1a98-7479-47ff-fa5c-9166b3b2cf4b",
        "colab": {
          "base_uri": "https://localhost:8080/",
          "height": 71
        }
      },
      "source": [
        "#　ほかのデータ型の値をfloatに変換するにはfloat() 関数を使う。\n",
        "print (float(True))\n",
        "\n",
        "print (float(False))\n",
        "\n",
        "#　整数をfloatに変換する。\n",
        "float(98)\n",
        "\n",
        "#　有効なfloatになるような文字列（整数、符号、小数点またはeの後ろに指数が続くもの）も変換できる。\n",
        "float('99.8')"
      ],
      "execution_count": 0,
      "outputs": [
        {
          "output_type": "stream",
          "text": [
            "1.0\n",
            "0.0\n"
          ],
          "name": "stdout"
        },
        {
          "output_type": "execute_result",
          "data": {
            "text/plain": [
              "99.8"
            ]
          },
          "metadata": {
            "tags": []
          },
          "execution_count": 75
        }
      ]
    },
    {
      "cell_type": "code",
      "metadata": {
        "id": "XaKLBwCG6cs4",
        "colab_type": "code",
        "colab": {}
      },
      "source": [
        ""
      ],
      "execution_count": 0,
      "outputs": []
    }
  ]
}
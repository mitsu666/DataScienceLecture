{
  "nbformat": 4,
  "nbformat_minor": 0,
  "metadata": {
    "colab": {
      "name": "DataScienceLecture3_2",
      "provenance": [],
      "collapsed_sections": [],
      "include_colab_link": true
    },
    "kernelspec": {
      "name": "python3",
      "display_name": "Python 3"
    }
  },
  "cells": [
    {
      "cell_type": "markdown",
      "metadata": {
        "id": "view-in-github",
        "colab_type": "text"
      },
      "source": [
        "<a href=\"https://colab.research.google.com/github/mitsu666/DataScienceLecture/blob/master/DataScienceLecture3_2.ipynb\" target=\"_parent\"><img src=\"https://colab.research.google.com/assets/colab-badge.svg\" alt=\"Open In Colab\"/></a>"
      ]
    },
    {
      "cell_type": "markdown",
      "metadata": {
        "id": "E5Ny2yEaB1Jx",
        "colab_type": "text"
      },
      "source": [
        "#2. PANDAS基礎(前編)"
      ]
    },
    {
      "cell_type": "code",
      "metadata": {
        "id": "F-1_wVEwBvSa",
        "colab_type": "code",
        "colab": {}
      },
      "source": [
        "#今後の作業のためインポートしておく。ここからはnumpyも一緒にインポートしておく\n",
        "import pandas as pd\n",
        "import numpy as np"
      ],
      "execution_count": 0,
      "outputs": []
    },
    {
      "cell_type": "markdown",
      "metadata": {
        "id": "A_fz0d3QB_Yd",
        "colab_type": "text"
      },
      "source": [
        "##2.2. シリーズ（SERIES）"
      ]
    },
    {
      "cell_type": "code",
      "metadata": {
        "id": "5Ap3zd9IB8lc",
        "colab_type": "code",
        "colab": {
          "base_uri": "https://localhost:8080/",
          "height": 107
        },
        "outputId": "1a0ff537-b101-4338-87b1-c67fd91451ad"
      },
      "source": [
        "#さっき使用したリストをageリストとして渡すしpdモジュールのSeriesメソッドでシリーズ化する\n",
        "age = pd.Series([21,33,17,24])\n",
        "print (age)"
      ],
      "execution_count": 2,
      "outputs": [
        {
          "output_type": "stream",
          "text": [
            "0    21\n",
            "1    33\n",
            "2    17\n",
            "3    24\n",
            "dtype: int64\n"
          ],
          "name": "stdout"
        }
      ]
    },
    {
      "cell_type": "code",
      "metadata": {
        "id": "tlr4kr8XCCzs",
        "colab_type": "code",
        "colab": {
          "base_uri": "https://localhost:8080/",
          "height": 71
        },
        "outputId": "cd940fe0-eaa9-4859-8b49-ff413cf874e4"
      },
      "source": [
        "#ageのvalues値でnumpy配列になっているものを取得\n",
        "print (type(age.values))\n",
        "print (age.values)\n",
        "\n",
        "#index値でインデックスを取得\n",
        "print (age.index)"
      ],
      "execution_count": 4,
      "outputs": [
        {
          "output_type": "stream",
          "text": [
            "<class 'numpy.ndarray'>\n",
            "[21 33 17 24]\n",
            "RangeIndex(start=0, stop=4, step=1)\n"
          ],
          "name": "stdout"
        }
      ]
    },
    {
      "cell_type": "code",
      "metadata": {
        "id": "xr9muTtDCE3b",
        "colab_type": "code",
        "colab": {
          "base_uri": "https://localhost:8080/",
          "height": 125
        },
        "outputId": "fde88bfe-e6da-4906-c513-95d878e6152a"
      },
      "source": [
        "#各データを特定するためのインデックスをAさんBさんとか名前にする。\n",
        "age2=pd.Series([21,33,17,24],index=['A','B','C','D'])\n",
        "#値を確認\n",
        "print (age2)\n",
        "#indexを確認\n",
        "print (age2.index)"
      ],
      "execution_count": 5,
      "outputs": [
        {
          "output_type": "stream",
          "text": [
            "A    21\n",
            "B    33\n",
            "C    17\n",
            "D    24\n",
            "dtype: int64\n",
            "Index(['A', 'B', 'C', 'D'], dtype='object')\n"
          ],
          "name": "stdout"
        }
      ]
    },
    {
      "cell_type": "code",
      "metadata": {
        "id": "hNO1DOJxCKqr",
        "colab_type": "code",
        "colab": {
          "base_uri": "https://localhost:8080/",
          "height": 53
        },
        "outputId": "78427263-c99d-41a4-bb38-c2e88dd0fd9e"
      },
      "source": [
        "#NumPyの配列と違って、１つの値や複数の値を参照するときにインデックスのラベルを使って指定することができる。\n",
        "#Aさんの年齢\n",
        "print (age2['A'])\n",
        "#B\n",
        "print (age2['B'])"
      ],
      "execution_count": 6,
      "outputs": [
        {
          "output_type": "stream",
          "text": [
            "21\n",
            "33\n"
          ],
          "name": "stdout"
        }
      ]
    },
    {
      "cell_type": "code",
      "metadata": {
        "id": "Q7b3OI--COM8",
        "colab_type": "code",
        "colab": {
          "base_uri": "https://localhost:8080/",
          "height": 107
        },
        "outputId": "791695f3-3379-4411-e563-493f10a0688a"
      },
      "source": [
        "#Cは実は20歳だった\n",
        "age2['C']=20\n",
        "print (age2)"
      ],
      "execution_count": 7,
      "outputs": [
        {
          "output_type": "stream",
          "text": [
            "A    21\n",
            "B    33\n",
            "C    20\n",
            "D    24\n",
            "dtype: int64\n"
          ],
          "name": "stdout"
        }
      ]
    },
    {
      "cell_type": "code",
      "metadata": {
        "id": "cQAr0MkvCQJT",
        "colab_type": "code",
        "colab": {
          "base_uri": "https://localhost:8080/",
          "height": 197
        },
        "outputId": "9f038d8b-6055-4404-f006-d1f00d0e969f"
      },
      "source": [
        "#numpy関数も適用可能\n",
        "#exp\n",
        "print (np.exp(age2))\n",
        "#log\n",
        "print (np.log(age2))"
      ],
      "execution_count": 8,
      "outputs": [
        {
          "output_type": "stream",
          "text": [
            "A    1.318816e+09\n",
            "B    2.146436e+14\n",
            "C    4.851652e+08\n",
            "D    2.648912e+10\n",
            "dtype: float64\n",
            "A    3.044522\n",
            "B    3.496508\n",
            "C    2.995732\n",
            "D    3.178054\n",
            "dtype: float64\n"
          ],
          "name": "stdout"
        }
      ]
    },
    {
      "cell_type": "code",
      "metadata": {
        "id": "Ilj_HxAtCTUp",
        "colab_type": "code",
        "colab": {
          "base_uri": "https://localhost:8080/",
          "height": 107
        },
        "outputId": "827f9eab-f3fe-4334-c7f9-1b2b90bc104f"
      },
      "source": [
        "#Pythonのディクショナリ形式のデータがある場合、それを使ってシリーズを作成することができる。\n",
        "#都心の人口(万)\n",
        "sdata = {'Tokyo':927.3,'Kanagawa':905.8,'Saitama':730.8,'Chiba':627.8}\n",
        "pop=pd.Series(sdata)\n",
        "\n",
        "print (pop)"
      ],
      "execution_count": 9,
      "outputs": [
        {
          "output_type": "stream",
          "text": [
            "Tokyo       927.3\n",
            "Kanagawa    905.8\n",
            "Saitama     730.8\n",
            "Chiba       627.8\n",
            "dtype: float64\n"
          ],
          "name": "stdout"
        }
      ]
    },
    {
      "cell_type": "code",
      "metadata": {
        "id": "hx74SMJ0CVoj",
        "colab_type": "code",
        "colab": {
          "base_uri": "https://localhost:8080/",
          "height": 107
        },
        "outputId": "5cae1677-e29c-4a5d-ecf7-ccad04314a33"
      },
      "source": [
        "#順を並べ替える。\n",
        "cities=['Tochigi','Tokyo','Saitama','Kanagawa']\n",
        "\n",
        "pop2 = pd.Series(sdata,index=cities)\n",
        "\n",
        "print (pop2)"
      ],
      "execution_count": 10,
      "outputs": [
        {
          "output_type": "stream",
          "text": [
            "Tochigi       NaN\n",
            "Tokyo       927.3\n",
            "Saitama     730.8\n",
            "Kanagawa    905.8\n",
            "dtype: float64\n"
          ],
          "name": "stdout"
        }
      ]
    },
    {
      "cell_type": "code",
      "metadata": {
        "id": "zjx1W0RoCY65",
        "colab_type": "code",
        "colab": {
          "base_uri": "https://localhost:8080/",
          "height": 305
        },
        "outputId": "29045acd-71df-4429-ac87-4ea632eb2583"
      },
      "source": [
        "#足すと片方になくても補完する\n",
        "print (pop)\n",
        "print (pop2)\n",
        "\n",
        "print (pop+pop2)"
      ],
      "execution_count": 11,
      "outputs": [
        {
          "output_type": "stream",
          "text": [
            "Tokyo       927.3\n",
            "Kanagawa    905.8\n",
            "Saitama     730.8\n",
            "Chiba       627.8\n",
            "dtype: float64\n",
            "Tochigi       NaN\n",
            "Tokyo       927.3\n",
            "Saitama     730.8\n",
            "Kanagawa    905.8\n",
            "dtype: float64\n",
            "Chiba          NaN\n",
            "Kanagawa    1811.6\n",
            "Saitama     1461.6\n",
            "Tochigi        NaN\n",
            "Tokyo       1854.6\n",
            "dtype: float64\n"
          ],
          "name": "stdout"
        }
      ]
    },
    {
      "cell_type": "code",
      "metadata": {
        "id": "SxMgDlnaCbVw",
        "colab_type": "code",
        "colab": {
          "base_uri": "https://localhost:8080/",
          "height": 107
        },
        "outputId": "cf32b5a6-59ae-47d6-f3b6-868cf074097c"
      },
      "source": [
        "#シリーズのインデックスは代入して置き換えることができる。\n",
        "age.index = ['A','B','C','D']\n",
        "print (age)"
      ],
      "execution_count": 12,
      "outputs": [
        {
          "output_type": "stream",
          "text": [
            "A    21\n",
            "B    33\n",
            "C    17\n",
            "D    24\n",
            "dtype: int64\n"
          ],
          "name": "stdout"
        }
      ]
    },
    {
      "cell_type": "markdown",
      "metadata": {
        "id": "7ZC96VvFCf48",
        "colab_type": "text"
      },
      "source": [
        "##2.3. データフレーム（DATAFRAME）"
      ]
    },
    {
      "cell_type": "markdown",
      "metadata": {
        "id": "WGDkfodyCmzS",
        "colab_type": "text"
      },
      "source": [
        "###2.3.1. 辞書から作成"
      ]
    },
    {
      "cell_type": "code",
      "metadata": {
        "id": "jRhr6yczCeNY",
        "colab_type": "code",
        "colab": {}
      },
      "source": [
        "#辞書を以下のようにまず作成 NPB2000-20003年、日本一になった球団とその時の勝率\n",
        "data={'team':['Giants','Swallows','Giants','Buffaloes','Lions','Tigers'],\n",
        "            'year':[2000,2001,2002,2001,2002,2003],\n",
        "            'win':[0.578,0.567,0.623,0.565,0.647,0.630]}\n",
        "\n",
        "#pdモジュールのDataFrameメソッドに辞書を渡して作成\n",
        "baseball = pd.DataFrame(data)"
      ],
      "execution_count": 0,
      "outputs": []
    },
    {
      "cell_type": "code",
      "metadata": {
        "id": "3ukSkhP4CpZr",
        "colab_type": "code",
        "colab": {
          "base_uri": "https://localhost:8080/",
          "height": 503
        },
        "outputId": "41975ae9-26d7-4586-a4b8-cc002d2b1338"
      },
      "source": [
        "#自動的にインデックスが代入される。\n",
        "print (baseball)\n",
        "\n",
        "#大きなデータフレームの場合、headメソッドを使うと最初の５行だけが抽出される。\n",
        "print (baseball.head())\n",
        "#3行みたいとき\n",
        "print (baseball.head(3))\n",
        "\n",
        "#下からみたいとき\n",
        "print (baseball.tail())\n",
        "#下から3行\n",
        "print (baseball.tail(3))"
      ],
      "execution_count": 14,
      "outputs": [
        {
          "output_type": "stream",
          "text": [
            "        team  year    win\n",
            "0     Giants  2000  0.578\n",
            "1   Swallows  2001  0.567\n",
            "2     Giants  2002  0.623\n",
            "3  Buffaloes  2001  0.565\n",
            "4      Lions  2002  0.647\n",
            "5     Tigers  2003  0.630\n",
            "        team  year    win\n",
            "0     Giants  2000  0.578\n",
            "1   Swallows  2001  0.567\n",
            "2     Giants  2002  0.623\n",
            "3  Buffaloes  2001  0.565\n",
            "4      Lions  2002  0.647\n",
            "       team  year    win\n",
            "0    Giants  2000  0.578\n",
            "1  Swallows  2001  0.567\n",
            "2    Giants  2002  0.623\n",
            "        team  year    win\n",
            "1   Swallows  2001  0.567\n",
            "2     Giants  2002  0.623\n",
            "3  Buffaloes  2001  0.565\n",
            "4      Lions  2002  0.647\n",
            "5     Tigers  2003  0.630\n",
            "        team  year    win\n",
            "3  Buffaloes  2001  0.565\n",
            "4      Lions  2002  0.647\n",
            "5     Tigers  2003  0.630\n"
          ],
          "name": "stdout"
        }
      ]
    },
    {
      "cell_type": "code",
      "metadata": {
        "id": "BLqDc6D8Cs55",
        "colab_type": "code",
        "colab": {
          "base_uri": "https://localhost:8080/",
          "height": 143
        },
        "outputId": "204c769a-1249-4792-8fbc-e738125037d6"
      },
      "source": [
        "#列の順番を指定して作成する同じく辞書から\n",
        "pd.DataFrame(data,columns=['year','team','win'])\n",
        "\n",
        "#指定した列がデータを持っていない場合、欠損値が代入される。\n",
        "baseball2 = pd.DataFrame(data,columns=['year','team','win','lose'],\n",
        "                                          index=['one','two','three','four','five','six'])\n",
        "\n",
        "print (baseball2)"
      ],
      "execution_count": 15,
      "outputs": [
        {
          "output_type": "stream",
          "text": [
            "       year       team    win lose\n",
            "one    2000     Giants  0.578  NaN\n",
            "two    2001   Swallows  0.567  NaN\n",
            "three  2002     Giants  0.623  NaN\n",
            "four   2001  Buffaloes  0.565  NaN\n",
            "five   2002      Lions  0.647  NaN\n",
            "six    2003     Tigers  0.630  NaN\n"
          ],
          "name": "stdout"
        }
      ]
    },
    {
      "cell_type": "markdown",
      "metadata": {
        "id": "WytGQkl3C9Us",
        "colab_type": "text"
      },
      "source": [
        "###2.3.2. SERIESから作成"
      ]
    },
    {
      "cell_type": "code",
      "metadata": {
        "id": "_YzofATxCvJK",
        "colab_type": "code",
        "colab": {
          "base_uri": "https://localhost:8080/",
          "height": 125
        },
        "outputId": "7c919f34-13c5-41bb-dec4-a8206f97a9e1"
      },
      "source": [
        "#シリーズ定義\n",
        "s = pd.Series(np.arange(5))\n",
        "#DataFrameメソッドでデータフレーム作成\n",
        "df = pd.DataFrame(s)\n",
        "print (df)"
      ],
      "execution_count": 16,
      "outputs": [
        {
          "output_type": "stream",
          "text": [
            "   0\n",
            "0  0\n",
            "1  1\n",
            "2  2\n",
            "3  3\n",
            "4  4\n"
          ],
          "name": "stdout"
        }
      ]
    },
    {
      "cell_type": "markdown",
      "metadata": {
        "id": "4AJYyrhsDCbP",
        "colab_type": "text"
      },
      "source": [
        "###2.3.3. VALUEにシリーズを持つ辞書から作成"
      ]
    },
    {
      "cell_type": "code",
      "metadata": {
        "id": "0Jp1sgAODACR",
        "colab_type": "code",
        "colab": {
          "base_uri": "https://localhost:8080/",
          "height": 125
        },
        "outputId": "adf955eb-0b18-4c88-da07-c9d88381f8a9"
      },
      "source": [
        "#0-5のseries\n",
        "s1 = pd.Series(np.arange(5))\n",
        "#0-5の2倍のseries\n",
        "s2 = pd.Series(np.arange(5)*2)\n",
        "#辞書\n",
        "dic = {'A':s1,'B':s2}\n",
        "#辞書からデータフレーム作成\n",
        "print (pd.DataFrame(dic))"
      ],
      "execution_count": 17,
      "outputs": [
        {
          "output_type": "stream",
          "text": [
            "   A  B\n",
            "0  0  0\n",
            "1  1  2\n",
            "2  2  4\n",
            "3  3  6\n",
            "4  4  8\n"
          ],
          "name": "stdout"
        }
      ]
    },
    {
      "cell_type": "markdown",
      "metadata": {
        "id": "TV8vgeQeDHb3",
        "colab_type": "text"
      },
      "source": [
        "###2.3.4. NUMPY2次元配列から作成"
      ]
    },
    {
      "cell_type": "code",
      "metadata": {
        "id": "I_6MhnWaDFXO",
        "colab_type": "code",
        "colab": {
          "base_uri": "https://localhost:8080/",
          "height": 478
        },
        "outputId": "51cfa16b-d06a-44f9-bd4f-2ba926880651"
      },
      "source": [
        "#GDP/一人当たりGDP (100万ドル)\n",
        "data = np.array([[4892255,38313],\n",
        "                [1281330,1085],\n",
        "                [510504,2246],\n",
        "                [931405,19343],\n",
        "                [475094\t,18853],\n",
        "                 [188261\t,40793],\n",
        "                  [272429\t,4043],\n",
        "                  [4416104,\t3360],\n",
        "                  [730325\t,9881],\n",
        "                  [146068\t,825],\n",
        "                  [79568\t,497],\n",
        "                  [167479\t,1854],\n",
        "                  [215354\t,30843],\n",
        "                  [221437\t,8197]])\n",
        "\n",
        "pd.DataFrame(data,columns=['GDP','GDP/pop'],\n",
        "             index=['日本' ,'インド' ,'インドネシア','韓国', 'サウジアラビア','シンガポール', 'タイ',\n",
        "'中国','トルコ', 'パキスタン','バングラデシュ', 'フィリピン','香港', 'マレーシア'])"
      ],
      "execution_count": 18,
      "outputs": [
        {
          "output_type": "execute_result",
          "data": {
            "text/html": [
              "<div>\n",
              "<style scoped>\n",
              "    .dataframe tbody tr th:only-of-type {\n",
              "        vertical-align: middle;\n",
              "    }\n",
              "\n",
              "    .dataframe tbody tr th {\n",
              "        vertical-align: top;\n",
              "    }\n",
              "\n",
              "    .dataframe thead th {\n",
              "        text-align: right;\n",
              "    }\n",
              "</style>\n",
              "<table border=\"1\" class=\"dataframe\">\n",
              "  <thead>\n",
              "    <tr style=\"text-align: right;\">\n",
              "      <th></th>\n",
              "      <th>GDP</th>\n",
              "      <th>GDP/pop</th>\n",
              "    </tr>\n",
              "  </thead>\n",
              "  <tbody>\n",
              "    <tr>\n",
              "      <th>日本</th>\n",
              "      <td>4892255</td>\n",
              "      <td>38313</td>\n",
              "    </tr>\n",
              "    <tr>\n",
              "      <th>インド</th>\n",
              "      <td>1281330</td>\n",
              "      <td>1085</td>\n",
              "    </tr>\n",
              "    <tr>\n",
              "      <th>インドネシア</th>\n",
              "      <td>510504</td>\n",
              "      <td>2246</td>\n",
              "    </tr>\n",
              "    <tr>\n",
              "      <th>韓国</th>\n",
              "      <td>931405</td>\n",
              "      <td>19343</td>\n",
              "    </tr>\n",
              "    <tr>\n",
              "      <th>サウジアラビア</th>\n",
              "      <td>475094</td>\n",
              "      <td>18853</td>\n",
              "    </tr>\n",
              "    <tr>\n",
              "      <th>シンガポール</th>\n",
              "      <td>188261</td>\n",
              "      <td>40793</td>\n",
              "    </tr>\n",
              "    <tr>\n",
              "      <th>タイ</th>\n",
              "      <td>272429</td>\n",
              "      <td>4043</td>\n",
              "    </tr>\n",
              "    <tr>\n",
              "      <th>中国</th>\n",
              "      <td>4416104</td>\n",
              "      <td>3360</td>\n",
              "    </tr>\n",
              "    <tr>\n",
              "      <th>トルコ</th>\n",
              "      <td>730325</td>\n",
              "      <td>9881</td>\n",
              "    </tr>\n",
              "    <tr>\n",
              "      <th>パキスタン</th>\n",
              "      <td>146068</td>\n",
              "      <td>825</td>\n",
              "    </tr>\n",
              "    <tr>\n",
              "      <th>バングラデシュ</th>\n",
              "      <td>79568</td>\n",
              "      <td>497</td>\n",
              "    </tr>\n",
              "    <tr>\n",
              "      <th>フィリピン</th>\n",
              "      <td>167479</td>\n",
              "      <td>1854</td>\n",
              "    </tr>\n",
              "    <tr>\n",
              "      <th>香港</th>\n",
              "      <td>215354</td>\n",
              "      <td>30843</td>\n",
              "    </tr>\n",
              "    <tr>\n",
              "      <th>マレーシア</th>\n",
              "      <td>221437</td>\n",
              "      <td>8197</td>\n",
              "    </tr>\n",
              "  </tbody>\n",
              "</table>\n",
              "</div>"
            ],
            "text/plain": [
              "             GDP  GDP/pop\n",
              "日本       4892255    38313\n",
              "インド      1281330     1085\n",
              "インドネシア    510504     2246\n",
              "韓国        931405    19343\n",
              "サウジアラビア   475094    18853\n",
              "シンガポール    188261    40793\n",
              "タイ        272429     4043\n",
              "中国       4416104     3360\n",
              "トルコ       730325     9881\n",
              "パキスタン     146068      825\n",
              "バングラデシュ    79568      497\n",
              "フィリピン     167479     1854\n",
              "香港        215354    30843\n",
              "マレーシア     221437     8197"
            ]
          },
          "metadata": {
            "tags": []
          },
          "execution_count": 18
        }
      ]
    },
    {
      "cell_type": "markdown",
      "metadata": {
        "id": "FB8vpcdyDPuD",
        "colab_type": "text"
      },
      "source": [
        "##2.4. CSVやTXTファイルなどから読み込む"
      ]
    },
    {
      "cell_type": "code",
      "metadata": {
        "id": "7Bt-37MQDMRp",
        "colab_type": "code",
        "colab": {
          "base_uri": "https://localhost:8080/",
          "height": 467
        },
        "outputId": "2509f5f5-a137-43d5-8deb-efdf16dfd23e"
      },
      "source": [
        "#csvから読み込む\n",
        "pd.read_csv('train.csv')\n",
        "\n",
        "#csvから読む pd.read_tableで読み込む sep=separate(区切り)指定\n",
        "pd.read_table('train.csv',sep=',')"
      ],
      "execution_count": 21,
      "outputs": [
        {
          "output_type": "execute_result",
          "data": {
            "text/html": [
              "<div>\n",
              "<style scoped>\n",
              "    .dataframe tbody tr th:only-of-type {\n",
              "        vertical-align: middle;\n",
              "    }\n",
              "\n",
              "    .dataframe tbody tr th {\n",
              "        vertical-align: top;\n",
              "    }\n",
              "\n",
              "    .dataframe thead th {\n",
              "        text-align: right;\n",
              "    }\n",
              "</style>\n",
              "<table border=\"1\" class=\"dataframe\">\n",
              "  <thead>\n",
              "    <tr style=\"text-align: right;\">\n",
              "      <th></th>\n",
              "      <th>PassengerId</th>\n",
              "      <th>Survived</th>\n",
              "      <th>Pclass</th>\n",
              "      <th>Name</th>\n",
              "      <th>Sex</th>\n",
              "      <th>Age</th>\n",
              "      <th>SibSp</th>\n",
              "      <th>Parch</th>\n",
              "      <th>Ticket</th>\n",
              "      <th>Fare</th>\n",
              "      <th>Cabin</th>\n",
              "      <th>Embarked</th>\n",
              "    </tr>\n",
              "  </thead>\n",
              "  <tbody>\n",
              "    <tr>\n",
              "      <th>0</th>\n",
              "      <td>1</td>\n",
              "      <td>0</td>\n",
              "      <td>3</td>\n",
              "      <td>Braund, Mr. Owen Harris</td>\n",
              "      <td>male</td>\n",
              "      <td>22.0</td>\n",
              "      <td>1</td>\n",
              "      <td>0</td>\n",
              "      <td>A/5 21171</td>\n",
              "      <td>7.2500</td>\n",
              "      <td>NaN</td>\n",
              "      <td>S</td>\n",
              "    </tr>\n",
              "    <tr>\n",
              "      <th>1</th>\n",
              "      <td>2</td>\n",
              "      <td>1</td>\n",
              "      <td>1</td>\n",
              "      <td>Cumings, Mrs. John Bradley (Florence Briggs Th...</td>\n",
              "      <td>female</td>\n",
              "      <td>38.0</td>\n",
              "      <td>1</td>\n",
              "      <td>0</td>\n",
              "      <td>PC 17599</td>\n",
              "      <td>71.2833</td>\n",
              "      <td>C85</td>\n",
              "      <td>C</td>\n",
              "    </tr>\n",
              "    <tr>\n",
              "      <th>2</th>\n",
              "      <td>3</td>\n",
              "      <td>1</td>\n",
              "      <td>3</td>\n",
              "      <td>Heikkinen, Miss. Laina</td>\n",
              "      <td>female</td>\n",
              "      <td>26.0</td>\n",
              "      <td>0</td>\n",
              "      <td>0</td>\n",
              "      <td>STON/O2. 3101282</td>\n",
              "      <td>7.9250</td>\n",
              "      <td>NaN</td>\n",
              "      <td>S</td>\n",
              "    </tr>\n",
              "    <tr>\n",
              "      <th>3</th>\n",
              "      <td>4</td>\n",
              "      <td>1</td>\n",
              "      <td>1</td>\n",
              "      <td>Futrelle, Mrs. Jacques Heath (Lily May Peel)</td>\n",
              "      <td>female</td>\n",
              "      <td>35.0</td>\n",
              "      <td>1</td>\n",
              "      <td>0</td>\n",
              "      <td>113803</td>\n",
              "      <td>53.1000</td>\n",
              "      <td>C123</td>\n",
              "      <td>S</td>\n",
              "    </tr>\n",
              "    <tr>\n",
              "      <th>4</th>\n",
              "      <td>5</td>\n",
              "      <td>0</td>\n",
              "      <td>3</td>\n",
              "      <td>Allen, Mr. William Henry</td>\n",
              "      <td>male</td>\n",
              "      <td>35.0</td>\n",
              "      <td>0</td>\n",
              "      <td>0</td>\n",
              "      <td>373450</td>\n",
              "      <td>8.0500</td>\n",
              "      <td>NaN</td>\n",
              "      <td>S</td>\n",
              "    </tr>\n",
              "    <tr>\n",
              "      <th>...</th>\n",
              "      <td>...</td>\n",
              "      <td>...</td>\n",
              "      <td>...</td>\n",
              "      <td>...</td>\n",
              "      <td>...</td>\n",
              "      <td>...</td>\n",
              "      <td>...</td>\n",
              "      <td>...</td>\n",
              "      <td>...</td>\n",
              "      <td>...</td>\n",
              "      <td>...</td>\n",
              "      <td>...</td>\n",
              "    </tr>\n",
              "    <tr>\n",
              "      <th>886</th>\n",
              "      <td>887</td>\n",
              "      <td>0</td>\n",
              "      <td>2</td>\n",
              "      <td>Montvila, Rev. Juozas</td>\n",
              "      <td>male</td>\n",
              "      <td>27.0</td>\n",
              "      <td>0</td>\n",
              "      <td>0</td>\n",
              "      <td>211536</td>\n",
              "      <td>13.0000</td>\n",
              "      <td>NaN</td>\n",
              "      <td>S</td>\n",
              "    </tr>\n",
              "    <tr>\n",
              "      <th>887</th>\n",
              "      <td>888</td>\n",
              "      <td>1</td>\n",
              "      <td>1</td>\n",
              "      <td>Graham, Miss. Margaret Edith</td>\n",
              "      <td>female</td>\n",
              "      <td>19.0</td>\n",
              "      <td>0</td>\n",
              "      <td>0</td>\n",
              "      <td>112053</td>\n",
              "      <td>30.0000</td>\n",
              "      <td>B42</td>\n",
              "      <td>S</td>\n",
              "    </tr>\n",
              "    <tr>\n",
              "      <th>888</th>\n",
              "      <td>889</td>\n",
              "      <td>0</td>\n",
              "      <td>3</td>\n",
              "      <td>Johnston, Miss. Catherine Helen \"Carrie\"</td>\n",
              "      <td>female</td>\n",
              "      <td>NaN</td>\n",
              "      <td>1</td>\n",
              "      <td>2</td>\n",
              "      <td>W./C. 6607</td>\n",
              "      <td>23.4500</td>\n",
              "      <td>NaN</td>\n",
              "      <td>S</td>\n",
              "    </tr>\n",
              "    <tr>\n",
              "      <th>889</th>\n",
              "      <td>890</td>\n",
              "      <td>1</td>\n",
              "      <td>1</td>\n",
              "      <td>Behr, Mr. Karl Howell</td>\n",
              "      <td>male</td>\n",
              "      <td>26.0</td>\n",
              "      <td>0</td>\n",
              "      <td>0</td>\n",
              "      <td>111369</td>\n",
              "      <td>30.0000</td>\n",
              "      <td>C148</td>\n",
              "      <td>C</td>\n",
              "    </tr>\n",
              "    <tr>\n",
              "      <th>890</th>\n",
              "      <td>891</td>\n",
              "      <td>0</td>\n",
              "      <td>3</td>\n",
              "      <td>Dooley, Mr. Patrick</td>\n",
              "      <td>male</td>\n",
              "      <td>32.0</td>\n",
              "      <td>0</td>\n",
              "      <td>0</td>\n",
              "      <td>370376</td>\n",
              "      <td>7.7500</td>\n",
              "      <td>NaN</td>\n",
              "      <td>Q</td>\n",
              "    </tr>\n",
              "  </tbody>\n",
              "</table>\n",
              "<p>891 rows × 12 columns</p>\n",
              "</div>"
            ],
            "text/plain": [
              "     PassengerId  Survived  Pclass  ...     Fare Cabin  Embarked\n",
              "0              1         0       3  ...   7.2500   NaN         S\n",
              "1              2         1       1  ...  71.2833   C85         C\n",
              "2              3         1       3  ...   7.9250   NaN         S\n",
              "3              4         1       1  ...  53.1000  C123         S\n",
              "4              5         0       3  ...   8.0500   NaN         S\n",
              "..           ...       ...     ...  ...      ...   ...       ...\n",
              "886          887         0       2  ...  13.0000   NaN         S\n",
              "887          888         1       1  ...  30.0000   B42         S\n",
              "888          889         0       3  ...  23.4500   NaN         S\n",
              "889          890         1       1  ...  30.0000  C148         C\n",
              "890          891         0       3  ...   7.7500   NaN         Q\n",
              "\n",
              "[891 rows x 12 columns]"
            ]
          },
          "metadata": {
            "tags": []
          },
          "execution_count": 21
        }
      ]
    },
    {
      "cell_type": "code",
      "metadata": {
        "id": "0Y9XO024DTEw",
        "colab_type": "code",
        "colab": {
          "base_uri": "https://localhost:8080/",
          "height": 449
        },
        "outputId": "4eb224df-3727-4565-b1f1-c8864f818235"
      },
      "source": [
        "#読み込んだものをデータフレームオブジェクト変数に代入\n",
        "titanic = pd.read_csv('train.csv')\n",
        "print (titanic)\n",
        "\n",
        "#header(カラム名))何もしないと先頭を自動で指定する\n",
        "print (pd.read_csv('train.csv').head(2))\n",
        "\n",
        "#header無し、csvにカラム名がある場合そこがデータフレームの1行目となる\n",
        "print (pd.read_csv('train.csv',header=None).head(2))"
      ],
      "execution_count": 22,
      "outputs": [
        {
          "output_type": "stream",
          "text": [
            "     PassengerId  Survived  Pclass  ...     Fare Cabin  Embarked\n",
            "0              1         0       3  ...   7.2500   NaN         S\n",
            "1              2         1       1  ...  71.2833   C85         C\n",
            "2              3         1       3  ...   7.9250   NaN         S\n",
            "3              4         1       1  ...  53.1000  C123         S\n",
            "4              5         0       3  ...   8.0500   NaN         S\n",
            "..           ...       ...     ...  ...      ...   ...       ...\n",
            "886          887         0       2  ...  13.0000   NaN         S\n",
            "887          888         1       1  ...  30.0000   B42         S\n",
            "888          889         0       3  ...  23.4500   NaN         S\n",
            "889          890         1       1  ...  30.0000  C148         C\n",
            "890          891         0       3  ...   7.7500   NaN         Q\n",
            "\n",
            "[891 rows x 12 columns]\n",
            "   PassengerId  Survived  Pclass  ...     Fare Cabin  Embarked\n",
            "0            1         0       3  ...   7.2500   NaN         S\n",
            "1            2         1       1  ...  71.2833   C85         C\n",
            "\n",
            "[2 rows x 12 columns]\n",
            "            0         1       2   ...    9      10        11\n",
            "0  PassengerId  Survived  Pclass  ...  Fare  Cabin  Embarked\n",
            "1            1         0       3  ...  7.25    NaN         S\n",
            "\n",
            "[2 rows x 12 columns]\n"
          ],
          "name": "stdout"
        }
      ]
    },
    {
      "cell_type": "code",
      "metadata": {
        "id": "sYTzRZVqDauw",
        "colab_type": "code",
        "colab": {
          "base_uri": "https://localhost:8080/",
          "height": 503
        },
        "outputId": "acba487a-aade-4721-be4c-c447c0418111"
      },
      "source": [
        "#いらない行を除く\n",
        "print (pd.read_csv('train.csv',skiprows=[1,3,5,7]))\n",
        "\n",
        "#先頭の指定行のみ読み込む\n",
        "print (pd.read_csv('train.csv',nrows=10))"
      ],
      "execution_count": 23,
      "outputs": [
        {
          "output_type": "stream",
          "text": [
            "     PassengerId  Survived  Pclass  ...     Fare Cabin  Embarked\n",
            "0              2         1       1  ...  71.2833   C85         C\n",
            "1              4         1       1  ...  53.1000  C123         S\n",
            "2              6         0       3  ...   8.4583   NaN         Q\n",
            "3              8         0       3  ...  21.0750   NaN         S\n",
            "4              9         1       3  ...  11.1333   NaN         S\n",
            "..           ...       ...     ...  ...      ...   ...       ...\n",
            "882          887         0       2  ...  13.0000   NaN         S\n",
            "883          888         1       1  ...  30.0000   B42         S\n",
            "884          889         0       3  ...  23.4500   NaN         S\n",
            "885          890         1       1  ...  30.0000  C148         C\n",
            "886          891         0       3  ...   7.7500   NaN         Q\n",
            "\n",
            "[887 rows x 12 columns]\n",
            "   PassengerId  Survived  Pclass  ...     Fare Cabin  Embarked\n",
            "0            1         0       3  ...   7.2500   NaN         S\n",
            "1            2         1       1  ...  71.2833   C85         C\n",
            "2            3         1       3  ...   7.9250   NaN         S\n",
            "3            4         1       1  ...  53.1000  C123         S\n",
            "4            5         0       3  ...   8.0500   NaN         S\n",
            "5            6         0       3  ...   8.4583   NaN         Q\n",
            "6            7         0       1  ...  51.8625   E46         S\n",
            "7            8         0       3  ...  21.0750   NaN         S\n",
            "8            9         1       3  ...  11.1333   NaN         S\n",
            "9           10         1       2  ...  30.0708   NaN         C\n",
            "\n",
            "[10 rows x 12 columns]\n"
          ],
          "name": "stdout"
        }
      ]
    },
    {
      "cell_type": "markdown",
      "metadata": {
        "id": "fHQtdrWMDoAe",
        "colab_type": "text"
      },
      "source": [
        "####補足 絶対パスの調べ方"
      ]
    },
    {
      "cell_type": "markdown",
      "metadata": {
        "id": "L3VgpO_cDrRE",
        "colab_type": "text"
      },
      "source": [
        "##2-5 参照方法"
      ]
    },
    {
      "cell_type": "code",
      "metadata": {
        "id": "d3qEYh87DkSc",
        "colab_type": "code",
        "colab": {
          "base_uri": "https://localhost:8080/",
          "height": 269
        },
        "outputId": "75bd3dce-8c4e-4b8a-a625-59676ab6b06e"
      },
      "source": [
        "#titanicをサンプルデータとして読み込む\n",
        "titanic = pd.read_csv('train.csv')\n",
        "print (titanic)\n",
        "\n",
        "#サンプルデータとしてGDP/一人当たりGDP (100万ドル)作成\n",
        "data = np.array([[4892255,38313],\n",
        "                [1281330,1085],\n",
        "                [510504,2246],\n",
        "                [931405,19343],\n",
        "                [475094\t,18853],\n",
        "                 [188261\t,40793],\n",
        "                  [272429\t,4043],\n",
        "                  [4416104,\t3360],\n",
        "                  [730325\t,9881],\n",
        "                  [146068\t,825],\n",
        "                  [79568\t,497],\n",
        "                  [167479\t,1854],\n",
        "                  [215354\t,30843],\n",
        "                  [221437\t,8197]])\n",
        "\n",
        "gdp = pd.DataFrame(data,columns=['GDP','GDP/pop'],\n",
        "             index=['日本' ,'インド' ,'インドネシア','韓国', 'サウジアラビア','シンガポール', 'タイ',\n",
        "'中国','トルコ', 'パキスタン','バングラデシュ', 'フィリピン','香港', 'マレーシア'])\n",
        "\n",
        "baseball = pd.DataFrame(data)"
      ],
      "execution_count": 24,
      "outputs": [
        {
          "output_type": "stream",
          "text": [
            "     PassengerId  Survived  Pclass  ...     Fare Cabin  Embarked\n",
            "0              1         0       3  ...   7.2500   NaN         S\n",
            "1              2         1       1  ...  71.2833   C85         C\n",
            "2              3         1       3  ...   7.9250   NaN         S\n",
            "3              4         1       1  ...  53.1000  C123         S\n",
            "4              5         0       3  ...   8.0500   NaN         S\n",
            "..           ...       ...     ...  ...      ...   ...       ...\n",
            "886          887         0       2  ...  13.0000   NaN         S\n",
            "887          888         1       1  ...  30.0000   B42         S\n",
            "888          889         0       3  ...  23.4500   NaN         S\n",
            "889          890         1       1  ...  30.0000  C148         C\n",
            "890          891         0       3  ...   7.7500   NaN         Q\n",
            "\n",
            "[891 rows x 12 columns]\n"
          ],
          "name": "stdout"
        }
      ]
    },
    {
      "cell_type": "markdown",
      "metadata": {
        "id": "saQJrBhED4sc",
        "colab_type": "text"
      },
      "source": [
        "###2.5.1. 列名指定"
      ]
    },
    {
      "cell_type": "code",
      "metadata": {
        "id": "GBdz-6HyD2us",
        "colab_type": "code",
        "colab": {
          "base_uri": "https://localhost:8080/",
          "height": 287
        },
        "outputId": "946fe112-1f35-497f-c59f-ef8fb1990aaa"
      },
      "source": [
        "#列を名前で指定できる。でてきたものはシリーズになる\n",
        "titanic['Fare']\n",
        "\n",
        "#gdpのGDP\n",
        "gdp['GDP']\n",
        "\n",
        "#.以下列名でも取得できる\n",
        "titanic.Fare\n",
        "\n",
        "#.以下列名でも取得できる\n",
        "gdp.GDP"
      ],
      "execution_count": 25,
      "outputs": [
        {
          "output_type": "execute_result",
          "data": {
            "text/plain": [
              "日本         4892255\n",
              "インド        1281330\n",
              "インドネシア      510504\n",
              "韓国          931405\n",
              "サウジアラビア     475094\n",
              "シンガポール      188261\n",
              "タイ          272429\n",
              "中国         4416104\n",
              "トルコ         730325\n",
              "パキスタン       146068\n",
              "バングラデシュ      79568\n",
              "フィリピン       167479\n",
              "香港          215354\n",
              "マレーシア       221437\n",
              "Name: GDP, dtype: int64"
            ]
          },
          "metadata": {
            "tags": []
          },
          "execution_count": 25
        }
      ]
    },
    {
      "cell_type": "markdown",
      "metadata": {
        "id": "Ta03Js0dD_OY",
        "colab_type": "text"
      },
      "source": [
        "###2.5.2. LOCで指定"
      ]
    },
    {
      "cell_type": "code",
      "metadata": {
        "id": "UQWh1EfTD8vE",
        "colab_type": "code",
        "colab": {
          "base_uri": "https://localhost:8080/",
          "height": 287
        },
        "outputId": "0318798c-7d76-47aa-ef5a-d6eca7a0e827"
      },
      "source": [
        "#列名で取得 locという属性を使用 行はスライスの全部を意味する:を指定\n",
        "#Fare列指定\n",
        "titanic.loc[:,'Fare']\n",
        "\n",
        "#列名で取得 locという属性を使用 行はスライスの全部を意味する:を指定\n",
        "#year列を取得\n",
        "gdp.loc[:,'GDP']"
      ],
      "execution_count": 26,
      "outputs": [
        {
          "output_type": "execute_result",
          "data": {
            "text/plain": [
              "日本         4892255\n",
              "インド        1281330\n",
              "インドネシア      510504\n",
              "韓国          931405\n",
              "サウジアラビア     475094\n",
              "シンガポール      188261\n",
              "タイ          272429\n",
              "中国         4416104\n",
              "トルコ         730325\n",
              "パキスタン       146068\n",
              "バングラデシュ      79568\n",
              "フィリピン       167479\n",
              "香港          215354\n",
              "マレーシア       221437\n",
              "Name: GDP, dtype: int64"
            ]
          },
          "metadata": {
            "tags": []
          },
          "execution_count": 26
        }
      ]
    },
    {
      "cell_type": "code",
      "metadata": {
        "id": "ItnrTM4tEB5x",
        "colab_type": "code",
        "colab": {
          "base_uri": "https://localhost:8080/",
          "height": 71
        },
        "outputId": "16b01f1c-5e72-4885-8ce3-2bbf1beb1d28"
      },
      "source": [
        "#行名で取得 locという属性を使用 列はスライスの全部を意味する:を指定\n",
        "#100行目を指定\n",
        "titanic.loc[100,:]\n",
        "\n",
        "#行名で取得 locという属性を使用 列はスライスの全部を意味する:を指定\n",
        "#シンガポールを指定\n",
        "gdp.loc['シンガポール',:] "
      ],
      "execution_count": 27,
      "outputs": [
        {
          "output_type": "execute_result",
          "data": {
            "text/plain": [
              "GDP        188261\n",
              "GDP/pop     40793\n",
              "Name: シンガポール, dtype: int64"
            ]
          },
          "metadata": {
            "tags": []
          },
          "execution_count": 27
        }
      ]
    },
    {
      "cell_type": "markdown",
      "metadata": {
        "id": "TSjfKhihELV7",
        "colab_type": "text"
      },
      "source": [
        "###2.5.3. ILOCで指定"
      ]
    },
    {
      "cell_type": "code",
      "metadata": {
        "id": "l2f7lup2EIZF",
        "colab_type": "code",
        "colab": {
          "base_uri": "https://localhost:8080/",
          "height": 287
        },
        "outputId": "9b7bde7d-4b36-4e3e-cc0e-53676534401f"
      },
      "source": [
        "#iloc で 3列目を指定、指定しない行は:とする\n",
        "titanic.iloc[:,2]\n",
        "\n",
        "#iloc で 2列目を指定、指定しない行は:とする\n",
        "gdp.iloc[:,1]"
      ],
      "execution_count": 28,
      "outputs": [
        {
          "output_type": "execute_result",
          "data": {
            "text/plain": [
              "日本         38313\n",
              "インド         1085\n",
              "インドネシア      2246\n",
              "韓国         19343\n",
              "サウジアラビア    18853\n",
              "シンガポール     40793\n",
              "タイ          4043\n",
              "中国          3360\n",
              "トルコ         9881\n",
              "パキスタン        825\n",
              "バングラデシュ      497\n",
              "フィリピン       1854\n",
              "香港         30843\n",
              "マレーシア       8197\n",
              "Name: GDP/pop, dtype: int64"
            ]
          },
          "metadata": {
            "tags": []
          },
          "execution_count": 28
        }
      ]
    },
    {
      "cell_type": "code",
      "metadata": {
        "id": "I6iqsOE8EQnt",
        "colab_type": "code",
        "colab": {
          "base_uri": "https://localhost:8080/",
          "height": 71
        },
        "outputId": "510f2e61-9226-4c53-c6a4-b686a32a61ab"
      },
      "source": [
        "#iloc で 100行目を指定、指定しない列は:とする\n",
        "titanic.iloc[100,:]\n",
        "\n",
        "#iloc で 3行目を指定、指定しない列は:とする\n",
        "gdp.iloc[3,:]"
      ],
      "execution_count": 29,
      "outputs": [
        {
          "output_type": "execute_result",
          "data": {
            "text/plain": [
              "GDP        931405\n",
              "GDP/pop     19343\n",
              "Name: 韓国, dtype: int64"
            ]
          },
          "metadata": {
            "tags": []
          },
          "execution_count": 29
        }
      ]
    },
    {
      "cell_type": "markdown",
      "metadata": {
        "id": "E2aw6McjEVHZ",
        "colab_type": "text"
      },
      "source": [
        "###2.5.4. 行列双方指定"
      ]
    },
    {
      "cell_type": "code",
      "metadata": {
        "id": "fZiHzaFBES8X",
        "colab_type": "code",
        "colab": {
          "base_uri": "https://localhost:8080/",
          "height": 53
        },
        "outputId": "36e6b9ed-e3b3-4fda-8d89-0e8a8fdf4ae1"
      },
      "source": [
        "# titanic 3行4列目指定  \n",
        "print (titanic.iloc[3,4])\n",
        "\n",
        "#gdpのシンガポール一人当たりGDP\n",
        "print (gdp.loc['シンガポール','GDP/pop'])"
      ],
      "execution_count": 30,
      "outputs": [
        {
          "output_type": "stream",
          "text": [
            "female\n",
            "40793\n"
          ],
          "name": "stdout"
        }
      ]
    },
    {
      "cell_type": "code",
      "metadata": {
        "id": "5GAyw-MnEZEl",
        "colab_type": "code",
        "colab": {
          "base_uri": "https://localhost:8080/",
          "height": 449
        },
        "outputId": "4f30da41-a593-44b7-a6aa-0cb432964ca5"
      },
      "source": [
        "#5列目(4番地)から9列目(8番地まで)\n",
        "print (titanic.iloc[:,4:9])\n",
        "\n",
        "#2行目(1番地)から4列目(3番地まで)\n",
        "print (titanic.iloc[1:4,:])\n",
        "\n",
        "#5列目(4番地)から9列目(8番地まで) 2行目(1番地)から4列目(3番地まで)\n",
        "print (titanic.iloc[1:4,4:9])"
      ],
      "execution_count": 31,
      "outputs": [
        {
          "output_type": "stream",
          "text": [
            "        Sex   Age  SibSp  Parch            Ticket\n",
            "0      male  22.0      1      0         A/5 21171\n",
            "1    female  38.0      1      0          PC 17599\n",
            "2    female  26.0      0      0  STON/O2. 3101282\n",
            "3    female  35.0      1      0            113803\n",
            "4      male  35.0      0      0            373450\n",
            "..      ...   ...    ...    ...               ...\n",
            "886    male  27.0      0      0            211536\n",
            "887  female  19.0      0      0            112053\n",
            "888  female   NaN      1      2        W./C. 6607\n",
            "889    male  26.0      0      0            111369\n",
            "890    male  32.0      0      0            370376\n",
            "\n",
            "[891 rows x 5 columns]\n",
            "   PassengerId  Survived  Pclass  ...     Fare Cabin  Embarked\n",
            "1            2         1       1  ...  71.2833   C85         C\n",
            "2            3         1       3  ...   7.9250   NaN         S\n",
            "3            4         1       1  ...  53.1000  C123         S\n",
            "\n",
            "[3 rows x 12 columns]\n",
            "      Sex   Age  SibSp  Parch            Ticket\n",
            "1  female  38.0      1      0          PC 17599\n",
            "2  female  26.0      0      0  STON/O2. 3101282\n",
            "3  female  35.0      1      0            113803\n"
          ],
          "name": "stdout"
        }
      ]
    },
    {
      "cell_type": "markdown",
      "metadata": {
        "id": "ZOh19IV7EnPJ",
        "colab_type": "text"
      },
      "source": [
        "###2.5.6. 値を参照"
      ]
    },
    {
      "cell_type": "code",
      "metadata": {
        "id": "b_kmcj8JEbZS",
        "colab_type": "code",
        "colab": {
          "base_uri": "https://localhost:8080/",
          "height": 269
        },
        "outputId": "3630e2cc-b5de-4c3a-a9e9-21a65f289e4a"
      },
      "source": [
        "#valiue属性参照\n",
        "print (gdp.values)"
      ],
      "execution_count": 32,
      "outputs": [
        {
          "output_type": "stream",
          "text": [
            "[[4892255   38313]\n",
            " [1281330    1085]\n",
            " [ 510504    2246]\n",
            " [ 931405   19343]\n",
            " [ 475094   18853]\n",
            " [ 188261   40793]\n",
            " [ 272429    4043]\n",
            " [4416104    3360]\n",
            " [ 730325    9881]\n",
            " [ 146068     825]\n",
            " [  79568     497]\n",
            " [ 167479    1854]\n",
            " [ 215354   30843]\n",
            " [ 221437    8197]]\n"
          ],
          "name": "stdout"
        }
      ]
    },
    {
      "cell_type": "markdown",
      "metadata": {
        "id": "U5Ae00VLEr6T",
        "colab_type": "text"
      },
      "source": [
        "##2.6. PANDASのその他の重要な機能"
      ]
    },
    {
      "cell_type": "markdown",
      "metadata": {
        "id": "g6U40T_nEuTe",
        "colab_type": "text"
      },
      "source": [
        "###2.6.1. 軸から要素を削除する"
      ]
    },
    {
      "cell_type": "code",
      "metadata": {
        "id": "rSO1NKbjEqPb",
        "colab_type": "code",
        "colab": {
          "base_uri": "https://localhost:8080/",
          "height": 125
        },
        "outputId": "f0edcc7f-2938-4e38-e0c8-6bc7bc105770"
      },
      "source": [
        "#dropメソッドを使って指定した要素を軸から削除する。\n",
        "s = pd.Series(np.arange(5.),index=['A','B','C','D','E'])\n",
        "\n",
        "print (s)"
      ],
      "execution_count": 33,
      "outputs": [
        {
          "output_type": "stream",
          "text": [
            "A    0.0\n",
            "B    1.0\n",
            "C    2.0\n",
            "D    3.0\n",
            "E    4.0\n",
            "dtype: float64\n"
          ],
          "name": "stdout"
        }
      ]
    },
    {
      "cell_type": "code",
      "metadata": {
        "id": "i7R1AWL9ExPn",
        "colab_type": "code",
        "colab": {
          "base_uri": "https://localhost:8080/",
          "height": 215
        },
        "outputId": "18f23e19-0cd7-4ebd-8e97-bd69d7ee3c46"
      },
      "source": [
        "#D行落とす\n",
        "new_s = s.drop('D')\n",
        "print (new_s)\n",
        "\n",
        "#AとD行落とす\n",
        "s.drop(['A','D'])\n",
        "\n",
        "#S自体は不変\n",
        "print (s)"
      ],
      "execution_count": 34,
      "outputs": [
        {
          "output_type": "stream",
          "text": [
            "A    0.0\n",
            "B    1.0\n",
            "C    2.0\n",
            "E    4.0\n",
            "dtype: float64\n",
            "A    0.0\n",
            "B    1.0\n",
            "C    2.0\n",
            "D    3.0\n",
            "E    4.0\n",
            "dtype: float64\n"
          ],
          "name": "stdout"
        }
      ]
    },
    {
      "cell_type": "code",
      "metadata": {
        "id": "vmrBUHoKEzuo",
        "colab_type": "code",
        "colab": {
          "base_uri": "https://localhost:8080/",
          "height": 107
        },
        "outputId": "88c01bb0-34b0-4bd9-d6d4-0918820353e6"
      },
      "source": [
        "#pandas データフレームの場合\n",
        "data=pd.DataFrame(np.arange(16).reshape((4,4)),\n",
        "                                    index=['Tokyo','Kanagawa','Saitama','Chiba'],\n",
        "                                    columns=['one','two','three','four'])\n",
        "\n",
        "print (data)"
      ],
      "execution_count": 35,
      "outputs": [
        {
          "output_type": "stream",
          "text": [
            "          one  two  three  four\n",
            "Tokyo       0    1      2     3\n",
            "Kanagawa    4    5      6     7\n",
            "Saitama     8    9     10    11\n",
            "Chiba      12   13     14    15\n"
          ],
          "name": "stdout"
        }
      ]
    },
    {
      "cell_type": "code",
      "metadata": {
        "id": "h63oQ4TQE2ga",
        "colab_type": "code",
        "colab": {
          "base_uri": "https://localhost:8080/",
          "height": 161
        },
        "outputId": "065290cf-27c1-47dd-aca1-44b27e487782"
      },
      "source": [
        "#神奈川と東京列落とす\n",
        "print (data.drop(['Kanagawa','Tokyo']))\n",
        "\n",
        "#列を落とす。\n",
        "#twoという列と落とすにはaxis=1オプション付ける\n",
        "print (data.drop('two',axis=1))"
      ],
      "execution_count": 36,
      "outputs": [
        {
          "output_type": "stream",
          "text": [
            "         one  two  three  four\n",
            "Saitama    8    9     10    11\n",
            "Chiba     12   13     14    15\n",
            "          one  three  four\n",
            "Tokyo       0      2     3\n",
            "Kanagawa    4      6     7\n",
            "Saitama     8     10    11\n",
            "Chiba      12     14    15\n"
          ],
          "name": "stdout"
        }
      ]
    },
    {
      "cell_type": "code",
      "metadata": {
        "id": "434rIwS1E5t3",
        "colab_type": "code",
        "colab": {
          "base_uri": "https://localhost:8080/",
          "height": 107
        },
        "outputId": "69536d17-962a-4ef2-f8d1-eba1f38185b3"
      },
      "source": [
        "#two four 落とすにはリストでくくる\n",
        "print (data.drop(['two','four'],axis=1))"
      ],
      "execution_count": 38,
      "outputs": [
        {
          "output_type": "stream",
          "text": [
            "          one  three\n",
            "Tokyo       0      2\n",
            "Kanagawa    4      6\n",
            "Saitama     8     10\n",
            "Chiba      12     14\n"
          ],
          "name": "stdout"
        }
      ]
    },
    {
      "cell_type": "code",
      "metadata": {
        "id": "aE9Ax2v4E8y_",
        "colab_type": "code",
        "colab": {
          "base_uri": "https://localhost:8080/",
          "height": 89
        },
        "outputId": "62a8d53d-ac35-40da-cf69-ce3b03e24628"
      },
      "source": [
        "#inplaceを使うと、削除したデータは完全になくなる。\n",
        "data.drop('Tokyo',inplace=True)\n",
        "\n",
        "print (data)"
      ],
      "execution_count": 39,
      "outputs": [
        {
          "output_type": "stream",
          "text": [
            "          one  two  three  four\n",
            "Kanagawa    4    5      6     7\n",
            "Saitama     8    9     10    11\n",
            "Chiba      12   13     14    15\n"
          ],
          "name": "stdout"
        }
      ]
    },
    {
      "cell_type": "markdown",
      "metadata": {
        "id": "j17Xuj0zFDdS",
        "colab_type": "text"
      },
      "source": [
        "###2.6.2 条件で指定する"
      ]
    },
    {
      "cell_type": "code",
      "metadata": {
        "id": "xYhZQn6FE_uR",
        "colab_type": "code",
        "colab": {
          "base_uri": "https://localhost:8080/",
          "height": 233
        },
        "outputId": "afdb8f3d-067e-48b8-9d42-6e89a4f2dcd0"
      },
      "source": [
        "#性別男性の行に対してTrueを返す。\n",
        "print (titanic.loc[:,'Sex']=='male')"
      ],
      "execution_count": 40,
      "outputs": [
        {
          "output_type": "stream",
          "text": [
            "0       True\n",
            "1      False\n",
            "2      False\n",
            "3      False\n",
            "4       True\n",
            "       ...  \n",
            "886     True\n",
            "887    False\n",
            "888    False\n",
            "889     True\n",
            "890     True\n",
            "Name: Sex, Length: 891, dtype: bool\n"
          ],
          "name": "stdout"
        }
      ]
    },
    {
      "cell_type": "code",
      "metadata": {
        "id": "KHFU0HBSFHH7",
        "colab_type": "code",
        "colab": {
          "base_uri": "https://localhost:8080/",
          "height": 269
        },
        "outputId": "38e30cd7-63b8-4688-c3e8-1bbd959ad2c0"
      },
      "source": [
        "#上記のboole値を利用して性別男性のみ取得する\n",
        "print (titanic[titanic.loc[:,'Sex']=='male'])"
      ],
      "execution_count": 41,
      "outputs": [
        {
          "output_type": "stream",
          "text": [
            "     PassengerId  Survived  Pclass  ...     Fare Cabin  Embarked\n",
            "0              1         0       3  ...   7.2500   NaN         S\n",
            "4              5         0       3  ...   8.0500   NaN         S\n",
            "5              6         0       3  ...   8.4583   NaN         Q\n",
            "6              7         0       1  ...  51.8625   E46         S\n",
            "7              8         0       3  ...  21.0750   NaN         S\n",
            "..           ...       ...     ...  ...      ...   ...       ...\n",
            "883          884         0       2  ...  10.5000   NaN         S\n",
            "884          885         0       3  ...   7.0500   NaN         S\n",
            "886          887         0       2  ...  13.0000   NaN         S\n",
            "889          890         1       1  ...  30.0000  C148         C\n",
            "890          891         0       3  ...   7.7500   NaN         Q\n",
            "\n",
            "[577 rows x 12 columns]\n"
          ],
          "name": "stdout"
        }
      ]
    },
    {
      "cell_type": "code",
      "metadata": {
        "id": "SWD12djzFJkZ",
        "colab_type": "code",
        "colab": {
          "base_uri": "https://localhost:8080/",
          "height": 89
        },
        "outputId": "d3e0bb09-9a2d-4c76-d6c0-a99a3d71a158"
      },
      "source": [
        "#GDP1兆ドル以上の国のみ抽出\n",
        "print (gdp[gdp.loc[:,'GDP']>=1000000])"
      ],
      "execution_count": 42,
      "outputs": [
        {
          "output_type": "stream",
          "text": [
            "         GDP  GDP/pop\n",
            "日本   4892255    38313\n",
            "インド  1281330     1085\n",
            "中国   4416104     3360\n"
          ],
          "name": "stdout"
        }
      ]
    },
    {
      "cell_type": "code",
      "metadata": {
        "id": "6-U0drRtFLZI",
        "colab_type": "code",
        "colab": {
          "base_uri": "https://localhost:8080/",
          "height": 125
        },
        "outputId": "bc763329-fccf-4e4b-8bd1-022f78d5f821"
      },
      "source": [
        "#平均より1人当たりGDPが高い国抽出\n",
        "#平均算出 mに代入\n",
        "m = np.mean(gdp['GDP/pop'].values)\n",
        "print (gdp[gdp.loc[:,'GDP/pop']>=m])"
      ],
      "execution_count": 43,
      "outputs": [
        {
          "output_type": "stream",
          "text": [
            "             GDP  GDP/pop\n",
            "日本       4892255    38313\n",
            "韓国        931405    19343\n",
            "サウジアラビア   475094    18853\n",
            "シンガポール    188261    40793\n",
            "香港        215354    30843\n"
          ],
          "name": "stdout"
        }
      ]
    },
    {
      "cell_type": "code",
      "metadata": {
        "id": "aTPvBWldFNfB",
        "colab_type": "code",
        "colab": {
          "base_uri": "https://localhost:8080/",
          "height": 233
        },
        "outputId": "496f67e0-ba91-4daf-d21f-d8bbc76708b1"
      },
      "source": [
        "#女性のみのデータフレーム作成\n",
        "titanic_female = titanic.loc[:,'Sex']=='female'\n",
        "print (titanic_female)"
      ],
      "execution_count": 44,
      "outputs": [
        {
          "output_type": "stream",
          "text": [
            "0      False\n",
            "1       True\n",
            "2       True\n",
            "3       True\n",
            "4      False\n",
            "       ...  \n",
            "886    False\n",
            "887     True\n",
            "888     True\n",
            "889    False\n",
            "890    False\n",
            "Name: Sex, Length: 891, dtype: bool\n"
          ],
          "name": "stdout"
        }
      ]
    },
    {
      "cell_type": "code",
      "metadata": {
        "id": "_l54x5v9FRmj",
        "colab_type": "code",
        "colab": {
          "base_uri": "https://localhost:8080/",
          "height": 233
        },
        "outputId": "2301c6b5-21c3-4ca0-97e6-d4b9c7f35392"
      },
      "source": [
        "#指定した条件にあてはまったものに値を代入\n",
        "#locの行参照にboole値を返す条件判定、列に指定列名\n",
        "titanic_copy = titanic.copy()\n",
        "titanic_copy.loc[titanic_copy.Age<20,'Age'] = 'Child'\n",
        "print (titanic_copy['Age'])"
      ],
      "execution_count": 45,
      "outputs": [
        {
          "output_type": "stream",
          "text": [
            "0         22\n",
            "1         38\n",
            "2         26\n",
            "3         35\n",
            "4         35\n",
            "       ...  \n",
            "886       27\n",
            "887    Child\n",
            "888      NaN\n",
            "889       26\n",
            "890       32\n",
            "Name: Age, Length: 891, dtype: object\n"
          ],
          "name": "stdout"
        }
      ]
    },
    {
      "cell_type": "markdown",
      "metadata": {
        "id": "HjrbC-HoFXU1",
        "colab_type": "text"
      },
      "source": [
        "##2.7. 算術関数と要約統計量"
      ]
    },
    {
      "cell_type": "markdown",
      "metadata": {
        "id": "z40PegX7FZ8Z",
        "colab_type": "text"
      },
      "source": [
        "###2.7.1. 算術関数"
      ]
    },
    {
      "cell_type": "code",
      "metadata": {
        "id": "bAZ1WKLKFVfd",
        "colab_type": "code",
        "colab": {
          "base_uri": "https://localhost:8080/",
          "height": 71
        },
        "outputId": "24165fb5-87b2-4aac-b170-42ead07496ed"
      },
      "source": [
        "#サンプルデータとしてGDP/一人当たりGDP (100万ドル)作成\n",
        "data = np.array([[4892255,38313],\n",
        "                [1281330,1085],\n",
        "                [510504,2246],\n",
        "                [931405,19343],\n",
        "                [475094\t,18853],\n",
        "                 [188261\t,40793],\n",
        "                  [272429\t,4043],\n",
        "                  [4416104,\t3360],\n",
        "                  [730325\t,9881],\n",
        "                  [146068\t,825],\n",
        "                  [79568\t,497],\n",
        "                  [167479\t,1854],\n",
        "                  [215354\t,30843],\n",
        "                  [221437\t,8197]])\n",
        "\n",
        "gdp = pd.DataFrame(data,columns=['GDP','GDP/pop'],\n",
        "             index=['日本' ,'インド' ,'インドネシア','韓国', 'サウジアラビア','シンガポール', 'タイ',\n",
        "'中国','トルコ', 'パキスタン','バングラデシュ', 'フィリピン','香港', 'マレーシア'])\n",
        "\n",
        "#sum()メソッドで和を計算\n",
        "print (gdp.sum())"
      ],
      "execution_count": 46,
      "outputs": [
        {
          "output_type": "stream",
          "text": [
            "GDP        14527613\n",
            "GDP/pop      180133\n",
            "dtype: int64\n"
          ],
          "name": "stdout"
        }
      ]
    },
    {
      "cell_type": "code",
      "metadata": {
        "id": "141zn-AGFePQ",
        "colab_type": "code",
        "colab": {
          "base_uri": "https://localhost:8080/",
          "height": 287
        },
        "outputId": "6aec48d6-0c38-42e0-f664-6d7c0b4e9c07"
      },
      "source": [
        "#列方向に和を計算\n",
        "print (gdp.sum(axis=1))"
      ],
      "execution_count": 47,
      "outputs": [
        {
          "output_type": "stream",
          "text": [
            "日本         4930568\n",
            "インド        1282415\n",
            "インドネシア      512750\n",
            "韓国          950748\n",
            "サウジアラビア     493947\n",
            "シンガポール      229054\n",
            "タイ          276472\n",
            "中国         4419464\n",
            "トルコ         740206\n",
            "パキスタン       146893\n",
            "バングラデシュ      80065\n",
            "フィリピン       169333\n",
            "香港          246197\n",
            "マレーシア       229634\n",
            "dtype: int64\n"
          ],
          "name": "stdout"
        }
      ]
    },
    {
      "cell_type": "code",
      "metadata": {
        "id": "xMoUM-lPFgPB",
        "colab_type": "code",
        "colab": {
          "base_uri": "https://localhost:8080/",
          "height": 341
        },
        "outputId": "baafd040-6ffe-4819-fee0-b176ecd503bd"
      },
      "source": [
        "#平均計算\n",
        "print (gdp.mean())\n",
        "#平均列方向\n",
        "print (gdp.mean(axis=1))"
      ],
      "execution_count": 48,
      "outputs": [
        {
          "output_type": "stream",
          "text": [
            "GDP        1.037687e+06\n",
            "GDP/pop    1.286664e+04\n",
            "dtype: float64\n",
            "日本         2465284.0\n",
            "インド         641207.5\n",
            "インドネシア      256375.0\n",
            "韓国          475374.0\n",
            "サウジアラビア     246973.5\n",
            "シンガポール      114527.0\n",
            "タイ          138236.0\n",
            "中国         2209732.0\n",
            "トルコ         370103.0\n",
            "パキスタン        73446.5\n",
            "バングラデシュ      40032.5\n",
            "フィリピン        84666.5\n",
            "香港          123098.5\n",
            "マレーシア       114817.0\n",
            "dtype: float64\n"
          ],
          "name": "stdout"
        }
      ]
    },
    {
      "cell_type": "code",
      "metadata": {
        "id": "RC8hk427FiF0",
        "colab_type": "code",
        "colab": {
          "base_uri": "https://localhost:8080/",
          "height": 125
        },
        "outputId": "5f099db8-5dba-48c8-89b6-6f26724f782c"
      },
      "source": [
        "#最大値最小値 行方向\n",
        "print (gdp.max())\n",
        "print (gdp.min())"
      ],
      "execution_count": 49,
      "outputs": [
        {
          "output_type": "stream",
          "text": [
            "GDP        4892255\n",
            "GDP/pop      40793\n",
            "dtype: int64\n",
            "GDP        79568\n",
            "GDP/pop      497\n",
            "dtype: int64\n"
          ],
          "name": "stdout"
        }
      ]
    },
    {
      "cell_type": "code",
      "metadata": {
        "id": "BQZcs-QJFkQ8",
        "colab_type": "code",
        "colab": {
          "base_uri": "https://localhost:8080/",
          "height": 125
        },
        "outputId": "1514f286-a245-40a4-ef89-31c5c7b08d95"
      },
      "source": [
        "#最大の国は？ 行方向\n",
        "print (gdp.idxmax())\n",
        "#最小の国は？ 列方向\n",
        "print (gdp.idxmin())"
      ],
      "execution_count": 50,
      "outputs": [
        {
          "output_type": "stream",
          "text": [
            "GDP            日本\n",
            "GDP/pop    シンガポール\n",
            "dtype: object\n",
            "GDP        バングラデシュ\n",
            "GDP/pop    バングラデシュ\n",
            "dtype: object\n"
          ],
          "name": "stdout"
        }
      ]
    },
    {
      "cell_type": "markdown",
      "metadata": {
        "id": "Pbh_isZqFtdD",
        "colab_type": "text"
      },
      "source": [
        "###2.7.2. 加減乗除"
      ]
    },
    {
      "cell_type": "code",
      "metadata": {
        "id": "8MZmQAdcFqvT",
        "colab_type": "code",
        "colab": {
          "base_uri": "https://localhost:8080/",
          "height": 287
        },
        "outputId": "e0a67d51-a1d8-498d-8a64-0d2768dc21b4"
      },
      "source": [
        "df = pd.DataFrame(np.array([[0,4,4],[3,1,1]]),\n",
        "                   index=['A','B'],columns=['a','b','c'])\n",
        "print (df)\n",
        "\n",
        "#列同士の計算（行同士は滅多にやらない）\n",
        "#足し算\n",
        "print (df.a + df.b) \n",
        "#引き算\n",
        "print (df.a - df.b)\n",
        "#掛け算\n",
        "print (df.a * df.b)\n",
        "#割り算\n",
        "print (df.a / df.b)"
      ],
      "execution_count": 52,
      "outputs": [
        {
          "output_type": "stream",
          "text": [
            "   a  b  c\n",
            "A  0  4  4\n",
            "B  3  1  1\n",
            "A    4\n",
            "B    4\n",
            "dtype: int64\n",
            "A   -4\n",
            "B    2\n",
            "dtype: int64\n",
            "A    0\n",
            "B    3\n",
            "dtype: int64\n",
            "A    0.0\n",
            "B    3.0\n",
            "dtype: float64\n"
          ],
          "name": "stdout"
        }
      ]
    },
    {
      "cell_type": "code",
      "metadata": {
        "id": "KMpwzIPfFwr5",
        "colab_type": "code",
        "colab": {
          "base_uri": "https://localhost:8080/",
          "height": 478
        },
        "outputId": "8f3aca89-8039-418b-a94e-95cedad7d428"
      },
      "source": [
        "#ドルを1ドル100円でJPYに直す\n",
        "gdp*100"
      ],
      "execution_count": 53,
      "outputs": [
        {
          "output_type": "execute_result",
          "data": {
            "text/html": [
              "<div>\n",
              "<style scoped>\n",
              "    .dataframe tbody tr th:only-of-type {\n",
              "        vertical-align: middle;\n",
              "    }\n",
              "\n",
              "    .dataframe tbody tr th {\n",
              "        vertical-align: top;\n",
              "    }\n",
              "\n",
              "    .dataframe thead th {\n",
              "        text-align: right;\n",
              "    }\n",
              "</style>\n",
              "<table border=\"1\" class=\"dataframe\">\n",
              "  <thead>\n",
              "    <tr style=\"text-align: right;\">\n",
              "      <th></th>\n",
              "      <th>GDP</th>\n",
              "      <th>GDP/pop</th>\n",
              "    </tr>\n",
              "  </thead>\n",
              "  <tbody>\n",
              "    <tr>\n",
              "      <th>日本</th>\n",
              "      <td>489225500</td>\n",
              "      <td>3831300</td>\n",
              "    </tr>\n",
              "    <tr>\n",
              "      <th>インド</th>\n",
              "      <td>128133000</td>\n",
              "      <td>108500</td>\n",
              "    </tr>\n",
              "    <tr>\n",
              "      <th>インドネシア</th>\n",
              "      <td>51050400</td>\n",
              "      <td>224600</td>\n",
              "    </tr>\n",
              "    <tr>\n",
              "      <th>韓国</th>\n",
              "      <td>93140500</td>\n",
              "      <td>1934300</td>\n",
              "    </tr>\n",
              "    <tr>\n",
              "      <th>サウジアラビア</th>\n",
              "      <td>47509400</td>\n",
              "      <td>1885300</td>\n",
              "    </tr>\n",
              "    <tr>\n",
              "      <th>シンガポール</th>\n",
              "      <td>18826100</td>\n",
              "      <td>4079300</td>\n",
              "    </tr>\n",
              "    <tr>\n",
              "      <th>タイ</th>\n",
              "      <td>27242900</td>\n",
              "      <td>404300</td>\n",
              "    </tr>\n",
              "    <tr>\n",
              "      <th>中国</th>\n",
              "      <td>441610400</td>\n",
              "      <td>336000</td>\n",
              "    </tr>\n",
              "    <tr>\n",
              "      <th>トルコ</th>\n",
              "      <td>73032500</td>\n",
              "      <td>988100</td>\n",
              "    </tr>\n",
              "    <tr>\n",
              "      <th>パキスタン</th>\n",
              "      <td>14606800</td>\n",
              "      <td>82500</td>\n",
              "    </tr>\n",
              "    <tr>\n",
              "      <th>バングラデシュ</th>\n",
              "      <td>7956800</td>\n",
              "      <td>49700</td>\n",
              "    </tr>\n",
              "    <tr>\n",
              "      <th>フィリピン</th>\n",
              "      <td>16747900</td>\n",
              "      <td>185400</td>\n",
              "    </tr>\n",
              "    <tr>\n",
              "      <th>香港</th>\n",
              "      <td>21535400</td>\n",
              "      <td>3084300</td>\n",
              "    </tr>\n",
              "    <tr>\n",
              "      <th>マレーシア</th>\n",
              "      <td>22143700</td>\n",
              "      <td>819700</td>\n",
              "    </tr>\n",
              "  </tbody>\n",
              "</table>\n",
              "</div>"
            ],
            "text/plain": [
              "               GDP  GDP/pop\n",
              "日本       489225500  3831300\n",
              "インド      128133000   108500\n",
              "インドネシア    51050400   224600\n",
              "韓国        93140500  1934300\n",
              "サウジアラビア   47509400  1885300\n",
              "シンガポール    18826100  4079300\n",
              "タイ        27242900   404300\n",
              "中国       441610400   336000\n",
              "トルコ       73032500   988100\n",
              "パキスタン     14606800    82500\n",
              "バングラデシュ    7956800    49700\n",
              "フィリピン     16747900   185400\n",
              "香港        21535400  3084300\n",
              "マレーシア     22143700   819700"
            ]
          },
          "metadata": {
            "tags": []
          },
          "execution_count": 53
        }
      ]
    },
    {
      "cell_type": "markdown",
      "metadata": {
        "id": "74-78TlSF2fv",
        "colab_type": "text"
      },
      "source": [
        "###2.7.3. 要約統計量"
      ]
    },
    {
      "cell_type": "code",
      "metadata": {
        "id": "HUVpnapTF04W",
        "colab_type": "code",
        "colab": {
          "base_uri": "https://localhost:8080/",
          "height": 294
        },
        "outputId": "041c8041-fbfd-4187-9573-ab3009b0aa12"
      },
      "source": [
        "#min max などを一気に計算する\n",
        "#データフレームのdescribeメソッド\n",
        "gdp.describe()"
      ],
      "execution_count": 54,
      "outputs": [
        {
          "output_type": "execute_result",
          "data": {
            "text/html": [
              "<div>\n",
              "<style scoped>\n",
              "    .dataframe tbody tr th:only-of-type {\n",
              "        vertical-align: middle;\n",
              "    }\n",
              "\n",
              "    .dataframe tbody tr th {\n",
              "        vertical-align: top;\n",
              "    }\n",
              "\n",
              "    .dataframe thead th {\n",
              "        text-align: right;\n",
              "    }\n",
              "</style>\n",
              "<table border=\"1\" class=\"dataframe\">\n",
              "  <thead>\n",
              "    <tr style=\"text-align: right;\">\n",
              "      <th></th>\n",
              "      <th>GDP</th>\n",
              "      <th>GDP/pop</th>\n",
              "    </tr>\n",
              "  </thead>\n",
              "  <tbody>\n",
              "    <tr>\n",
              "      <th>count</th>\n",
              "      <td>1.400000e+01</td>\n",
              "      <td>14.000000</td>\n",
              "    </tr>\n",
              "    <tr>\n",
              "      <th>mean</th>\n",
              "      <td>1.037687e+06</td>\n",
              "      <td>12866.642857</td>\n",
              "    </tr>\n",
              "    <tr>\n",
              "      <th>std</th>\n",
              "      <td>1.572622e+06</td>\n",
              "      <td>14406.656734</td>\n",
              "    </tr>\n",
              "    <tr>\n",
              "      <th>min</th>\n",
              "      <td>7.956800e+04</td>\n",
              "      <td>497.000000</td>\n",
              "    </tr>\n",
              "    <tr>\n",
              "      <th>25%</th>\n",
              "      <td>1.950342e+05</td>\n",
              "      <td>1952.000000</td>\n",
              "    </tr>\n",
              "    <tr>\n",
              "      <th>50%</th>\n",
              "      <td>3.737615e+05</td>\n",
              "      <td>6120.000000</td>\n",
              "    </tr>\n",
              "    <tr>\n",
              "      <th>75%</th>\n",
              "      <td>8.811350e+05</td>\n",
              "      <td>19220.500000</td>\n",
              "    </tr>\n",
              "    <tr>\n",
              "      <th>max</th>\n",
              "      <td>4.892255e+06</td>\n",
              "      <td>40793.000000</td>\n",
              "    </tr>\n",
              "  </tbody>\n",
              "</table>\n",
              "</div>"
            ],
            "text/plain": [
              "                GDP       GDP/pop\n",
              "count  1.400000e+01     14.000000\n",
              "mean   1.037687e+06  12866.642857\n",
              "std    1.572622e+06  14406.656734\n",
              "min    7.956800e+04    497.000000\n",
              "25%    1.950342e+05   1952.000000\n",
              "50%    3.737615e+05   6120.000000\n",
              "75%    8.811350e+05  19220.500000\n",
              "max    4.892255e+06  40793.000000"
            ]
          },
          "metadata": {
            "tags": []
          },
          "execution_count": 54
        }
      ]
    },
    {
      "cell_type": "code",
      "metadata": {
        "id": "Ver19aUvF5RL",
        "colab_type": "code",
        "colab": {
          "base_uri": "https://localhost:8080/",
          "height": 294
        },
        "outputId": "8e218cb1-9833-46a1-afdd-103416c41828"
      },
      "source": [
        "#文字列数値混合しているデータフレームはデフォルトでは数値のみ\n",
        "titanic.describe()"
      ],
      "execution_count": 55,
      "outputs": [
        {
          "output_type": "execute_result",
          "data": {
            "text/html": [
              "<div>\n",
              "<style scoped>\n",
              "    .dataframe tbody tr th:only-of-type {\n",
              "        vertical-align: middle;\n",
              "    }\n",
              "\n",
              "    .dataframe tbody tr th {\n",
              "        vertical-align: top;\n",
              "    }\n",
              "\n",
              "    .dataframe thead th {\n",
              "        text-align: right;\n",
              "    }\n",
              "</style>\n",
              "<table border=\"1\" class=\"dataframe\">\n",
              "  <thead>\n",
              "    <tr style=\"text-align: right;\">\n",
              "      <th></th>\n",
              "      <th>PassengerId</th>\n",
              "      <th>Survived</th>\n",
              "      <th>Pclass</th>\n",
              "      <th>Age</th>\n",
              "      <th>SibSp</th>\n",
              "      <th>Parch</th>\n",
              "      <th>Fare</th>\n",
              "    </tr>\n",
              "  </thead>\n",
              "  <tbody>\n",
              "    <tr>\n",
              "      <th>count</th>\n",
              "      <td>891.000000</td>\n",
              "      <td>891.000000</td>\n",
              "      <td>891.000000</td>\n",
              "      <td>714.000000</td>\n",
              "      <td>891.000000</td>\n",
              "      <td>891.000000</td>\n",
              "      <td>891.000000</td>\n",
              "    </tr>\n",
              "    <tr>\n",
              "      <th>mean</th>\n",
              "      <td>446.000000</td>\n",
              "      <td>0.383838</td>\n",
              "      <td>2.308642</td>\n",
              "      <td>29.699118</td>\n",
              "      <td>0.523008</td>\n",
              "      <td>0.381594</td>\n",
              "      <td>32.204208</td>\n",
              "    </tr>\n",
              "    <tr>\n",
              "      <th>std</th>\n",
              "      <td>257.353842</td>\n",
              "      <td>0.486592</td>\n",
              "      <td>0.836071</td>\n",
              "      <td>14.526497</td>\n",
              "      <td>1.102743</td>\n",
              "      <td>0.806057</td>\n",
              "      <td>49.693429</td>\n",
              "    </tr>\n",
              "    <tr>\n",
              "      <th>min</th>\n",
              "      <td>1.000000</td>\n",
              "      <td>0.000000</td>\n",
              "      <td>1.000000</td>\n",
              "      <td>0.420000</td>\n",
              "      <td>0.000000</td>\n",
              "      <td>0.000000</td>\n",
              "      <td>0.000000</td>\n",
              "    </tr>\n",
              "    <tr>\n",
              "      <th>25%</th>\n",
              "      <td>223.500000</td>\n",
              "      <td>0.000000</td>\n",
              "      <td>2.000000</td>\n",
              "      <td>20.125000</td>\n",
              "      <td>0.000000</td>\n",
              "      <td>0.000000</td>\n",
              "      <td>7.910400</td>\n",
              "    </tr>\n",
              "    <tr>\n",
              "      <th>50%</th>\n",
              "      <td>446.000000</td>\n",
              "      <td>0.000000</td>\n",
              "      <td>3.000000</td>\n",
              "      <td>28.000000</td>\n",
              "      <td>0.000000</td>\n",
              "      <td>0.000000</td>\n",
              "      <td>14.454200</td>\n",
              "    </tr>\n",
              "    <tr>\n",
              "      <th>75%</th>\n",
              "      <td>668.500000</td>\n",
              "      <td>1.000000</td>\n",
              "      <td>3.000000</td>\n",
              "      <td>38.000000</td>\n",
              "      <td>1.000000</td>\n",
              "      <td>0.000000</td>\n",
              "      <td>31.000000</td>\n",
              "    </tr>\n",
              "    <tr>\n",
              "      <th>max</th>\n",
              "      <td>891.000000</td>\n",
              "      <td>1.000000</td>\n",
              "      <td>3.000000</td>\n",
              "      <td>80.000000</td>\n",
              "      <td>8.000000</td>\n",
              "      <td>6.000000</td>\n",
              "      <td>512.329200</td>\n",
              "    </tr>\n",
              "  </tbody>\n",
              "</table>\n",
              "</div>"
            ],
            "text/plain": [
              "       PassengerId    Survived      Pclass  ...       SibSp       Parch        Fare\n",
              "count   891.000000  891.000000  891.000000  ...  891.000000  891.000000  891.000000\n",
              "mean    446.000000    0.383838    2.308642  ...    0.523008    0.381594   32.204208\n",
              "std     257.353842    0.486592    0.836071  ...    1.102743    0.806057   49.693429\n",
              "min       1.000000    0.000000    1.000000  ...    0.000000    0.000000    0.000000\n",
              "25%     223.500000    0.000000    2.000000  ...    0.000000    0.000000    7.910400\n",
              "50%     446.000000    0.000000    3.000000  ...    0.000000    0.000000   14.454200\n",
              "75%     668.500000    1.000000    3.000000  ...    1.000000    0.000000   31.000000\n",
              "max     891.000000    1.000000    3.000000  ...    8.000000    6.000000  512.329200\n",
              "\n",
              "[8 rows x 7 columns]"
            ]
          },
          "metadata": {
            "tags": []
          },
          "execution_count": 55
        }
      ]
    },
    {
      "cell_type": "code",
      "metadata": {
        "id": "8T6TdPcUF7jt",
        "colab_type": "code",
        "colab": {
          "base_uri": "https://localhost:8080/",
          "height": 171
        },
        "outputId": "11573e7f-dcf1-4bb4-f204-9da8fcc485e5"
      },
      "source": [
        "#文字列の場合 include='O'オプション\n",
        "#文字列は数値と出力されるものが違う\n",
        "titanic.describe(include='O')"
      ],
      "execution_count": 56,
      "outputs": [
        {
          "output_type": "execute_result",
          "data": {
            "text/html": [
              "<div>\n",
              "<style scoped>\n",
              "    .dataframe tbody tr th:only-of-type {\n",
              "        vertical-align: middle;\n",
              "    }\n",
              "\n",
              "    .dataframe tbody tr th {\n",
              "        vertical-align: top;\n",
              "    }\n",
              "\n",
              "    .dataframe thead th {\n",
              "        text-align: right;\n",
              "    }\n",
              "</style>\n",
              "<table border=\"1\" class=\"dataframe\">\n",
              "  <thead>\n",
              "    <tr style=\"text-align: right;\">\n",
              "      <th></th>\n",
              "      <th>Name</th>\n",
              "      <th>Sex</th>\n",
              "      <th>Ticket</th>\n",
              "      <th>Cabin</th>\n",
              "      <th>Embarked</th>\n",
              "    </tr>\n",
              "  </thead>\n",
              "  <tbody>\n",
              "    <tr>\n",
              "      <th>count</th>\n",
              "      <td>891</td>\n",
              "      <td>891</td>\n",
              "      <td>891</td>\n",
              "      <td>204</td>\n",
              "      <td>889</td>\n",
              "    </tr>\n",
              "    <tr>\n",
              "      <th>unique</th>\n",
              "      <td>891</td>\n",
              "      <td>2</td>\n",
              "      <td>681</td>\n",
              "      <td>147</td>\n",
              "      <td>3</td>\n",
              "    </tr>\n",
              "    <tr>\n",
              "      <th>top</th>\n",
              "      <td>Backstrom, Mr. Karl Alfred</td>\n",
              "      <td>male</td>\n",
              "      <td>CA. 2343</td>\n",
              "      <td>G6</td>\n",
              "      <td>S</td>\n",
              "    </tr>\n",
              "    <tr>\n",
              "      <th>freq</th>\n",
              "      <td>1</td>\n",
              "      <td>577</td>\n",
              "      <td>7</td>\n",
              "      <td>4</td>\n",
              "      <td>644</td>\n",
              "    </tr>\n",
              "  </tbody>\n",
              "</table>\n",
              "</div>"
            ],
            "text/plain": [
              "                              Name   Sex    Ticket Cabin Embarked\n",
              "count                          891   891       891   204      889\n",
              "unique                         891     2       681   147        3\n",
              "top     Backstrom, Mr. Karl Alfred  male  CA. 2343    G6        S\n",
              "freq                             1   577         7     4      644"
            ]
          },
          "metadata": {
            "tags": []
          },
          "execution_count": 56
        }
      ]
    },
    {
      "cell_type": "code",
      "metadata": {
        "id": "eYQUxFfCF9Wr",
        "colab_type": "code",
        "colab": {
          "base_uri": "https://localhost:8080/",
          "height": 417
        },
        "outputId": "63aa345a-7b19-45fc-d2ee-795b890653af"
      },
      "source": [
        "#数値文字列一緒に出力\n",
        "#みやすいように.Tで転置させる\n",
        "titanic.describe(include='all').T"
      ],
      "execution_count": 57,
      "outputs": [
        {
          "output_type": "execute_result",
          "data": {
            "text/html": [
              "<div>\n",
              "<style scoped>\n",
              "    .dataframe tbody tr th:only-of-type {\n",
              "        vertical-align: middle;\n",
              "    }\n",
              "\n",
              "    .dataframe tbody tr th {\n",
              "        vertical-align: top;\n",
              "    }\n",
              "\n",
              "    .dataframe thead th {\n",
              "        text-align: right;\n",
              "    }\n",
              "</style>\n",
              "<table border=\"1\" class=\"dataframe\">\n",
              "  <thead>\n",
              "    <tr style=\"text-align: right;\">\n",
              "      <th></th>\n",
              "      <th>count</th>\n",
              "      <th>unique</th>\n",
              "      <th>top</th>\n",
              "      <th>freq</th>\n",
              "      <th>mean</th>\n",
              "      <th>std</th>\n",
              "      <th>min</th>\n",
              "      <th>25%</th>\n",
              "      <th>50%</th>\n",
              "      <th>75%</th>\n",
              "      <th>max</th>\n",
              "    </tr>\n",
              "  </thead>\n",
              "  <tbody>\n",
              "    <tr>\n",
              "      <th>PassengerId</th>\n",
              "      <td>891</td>\n",
              "      <td>NaN</td>\n",
              "      <td>NaN</td>\n",
              "      <td>NaN</td>\n",
              "      <td>446</td>\n",
              "      <td>257.354</td>\n",
              "      <td>1</td>\n",
              "      <td>223.5</td>\n",
              "      <td>446</td>\n",
              "      <td>668.5</td>\n",
              "      <td>891</td>\n",
              "    </tr>\n",
              "    <tr>\n",
              "      <th>Survived</th>\n",
              "      <td>891</td>\n",
              "      <td>NaN</td>\n",
              "      <td>NaN</td>\n",
              "      <td>NaN</td>\n",
              "      <td>0.383838</td>\n",
              "      <td>0.486592</td>\n",
              "      <td>0</td>\n",
              "      <td>0</td>\n",
              "      <td>0</td>\n",
              "      <td>1</td>\n",
              "      <td>1</td>\n",
              "    </tr>\n",
              "    <tr>\n",
              "      <th>Pclass</th>\n",
              "      <td>891</td>\n",
              "      <td>NaN</td>\n",
              "      <td>NaN</td>\n",
              "      <td>NaN</td>\n",
              "      <td>2.30864</td>\n",
              "      <td>0.836071</td>\n",
              "      <td>1</td>\n",
              "      <td>2</td>\n",
              "      <td>3</td>\n",
              "      <td>3</td>\n",
              "      <td>3</td>\n",
              "    </tr>\n",
              "    <tr>\n",
              "      <th>Name</th>\n",
              "      <td>891</td>\n",
              "      <td>891</td>\n",
              "      <td>Backstrom, Mr. Karl Alfred</td>\n",
              "      <td>1</td>\n",
              "      <td>NaN</td>\n",
              "      <td>NaN</td>\n",
              "      <td>NaN</td>\n",
              "      <td>NaN</td>\n",
              "      <td>NaN</td>\n",
              "      <td>NaN</td>\n",
              "      <td>NaN</td>\n",
              "    </tr>\n",
              "    <tr>\n",
              "      <th>Sex</th>\n",
              "      <td>891</td>\n",
              "      <td>2</td>\n",
              "      <td>male</td>\n",
              "      <td>577</td>\n",
              "      <td>NaN</td>\n",
              "      <td>NaN</td>\n",
              "      <td>NaN</td>\n",
              "      <td>NaN</td>\n",
              "      <td>NaN</td>\n",
              "      <td>NaN</td>\n",
              "      <td>NaN</td>\n",
              "    </tr>\n",
              "    <tr>\n",
              "      <th>Age</th>\n",
              "      <td>714</td>\n",
              "      <td>NaN</td>\n",
              "      <td>NaN</td>\n",
              "      <td>NaN</td>\n",
              "      <td>29.6991</td>\n",
              "      <td>14.5265</td>\n",
              "      <td>0.42</td>\n",
              "      <td>20.125</td>\n",
              "      <td>28</td>\n",
              "      <td>38</td>\n",
              "      <td>80</td>\n",
              "    </tr>\n",
              "    <tr>\n",
              "      <th>SibSp</th>\n",
              "      <td>891</td>\n",
              "      <td>NaN</td>\n",
              "      <td>NaN</td>\n",
              "      <td>NaN</td>\n",
              "      <td>0.523008</td>\n",
              "      <td>1.10274</td>\n",
              "      <td>0</td>\n",
              "      <td>0</td>\n",
              "      <td>0</td>\n",
              "      <td>1</td>\n",
              "      <td>8</td>\n",
              "    </tr>\n",
              "    <tr>\n",
              "      <th>Parch</th>\n",
              "      <td>891</td>\n",
              "      <td>NaN</td>\n",
              "      <td>NaN</td>\n",
              "      <td>NaN</td>\n",
              "      <td>0.381594</td>\n",
              "      <td>0.806057</td>\n",
              "      <td>0</td>\n",
              "      <td>0</td>\n",
              "      <td>0</td>\n",
              "      <td>0</td>\n",
              "      <td>6</td>\n",
              "    </tr>\n",
              "    <tr>\n",
              "      <th>Ticket</th>\n",
              "      <td>891</td>\n",
              "      <td>681</td>\n",
              "      <td>CA. 2343</td>\n",
              "      <td>7</td>\n",
              "      <td>NaN</td>\n",
              "      <td>NaN</td>\n",
              "      <td>NaN</td>\n",
              "      <td>NaN</td>\n",
              "      <td>NaN</td>\n",
              "      <td>NaN</td>\n",
              "      <td>NaN</td>\n",
              "    </tr>\n",
              "    <tr>\n",
              "      <th>Fare</th>\n",
              "      <td>891</td>\n",
              "      <td>NaN</td>\n",
              "      <td>NaN</td>\n",
              "      <td>NaN</td>\n",
              "      <td>32.2042</td>\n",
              "      <td>49.6934</td>\n",
              "      <td>0</td>\n",
              "      <td>7.9104</td>\n",
              "      <td>14.4542</td>\n",
              "      <td>31</td>\n",
              "      <td>512.329</td>\n",
              "    </tr>\n",
              "    <tr>\n",
              "      <th>Cabin</th>\n",
              "      <td>204</td>\n",
              "      <td>147</td>\n",
              "      <td>G6</td>\n",
              "      <td>4</td>\n",
              "      <td>NaN</td>\n",
              "      <td>NaN</td>\n",
              "      <td>NaN</td>\n",
              "      <td>NaN</td>\n",
              "      <td>NaN</td>\n",
              "      <td>NaN</td>\n",
              "      <td>NaN</td>\n",
              "    </tr>\n",
              "    <tr>\n",
              "      <th>Embarked</th>\n",
              "      <td>889</td>\n",
              "      <td>3</td>\n",
              "      <td>S</td>\n",
              "      <td>644</td>\n",
              "      <td>NaN</td>\n",
              "      <td>NaN</td>\n",
              "      <td>NaN</td>\n",
              "      <td>NaN</td>\n",
              "      <td>NaN</td>\n",
              "      <td>NaN</td>\n",
              "      <td>NaN</td>\n",
              "    </tr>\n",
              "  </tbody>\n",
              "</table>\n",
              "</div>"
            ],
            "text/plain": [
              "            count unique                         top  ...      50%    75%      max\n",
              "PassengerId   891    NaN                         NaN  ...      446  668.5      891\n",
              "Survived      891    NaN                         NaN  ...        0      1        1\n",
              "Pclass        891    NaN                         NaN  ...        3      3        3\n",
              "Name          891    891  Backstrom, Mr. Karl Alfred  ...      NaN    NaN      NaN\n",
              "Sex           891      2                        male  ...      NaN    NaN      NaN\n",
              "Age           714    NaN                         NaN  ...       28     38       80\n",
              "SibSp         891    NaN                         NaN  ...        0      1        8\n",
              "Parch         891    NaN                         NaN  ...        0      0        6\n",
              "Ticket        891    681                    CA. 2343  ...      NaN    NaN      NaN\n",
              "Fare          891    NaN                         NaN  ...  14.4542     31  512.329\n",
              "Cabin         204    147                          G6  ...      NaN    NaN      NaN\n",
              "Embarked      889      3                           S  ...      NaN    NaN      NaN\n",
              "\n",
              "[12 rows x 11 columns]"
            ]
          },
          "metadata": {
            "tags": []
          },
          "execution_count": 57
        }
      ]
    },
    {
      "cell_type": "markdown",
      "metadata": {
        "id": "A4YhO8gyGCZ9",
        "colab_type": "text"
      },
      "source": [
        "##2.8. 新しいカラムを作成する"
      ]
    },
    {
      "cell_type": "code",
      "metadata": {
        "id": "ZRETeXjNGAgH",
        "colab_type": "code",
        "colab": {
          "base_uri": "https://localhost:8080/",
          "height": 287
        },
        "outputId": "313d10ae-3bef-478f-c9ee-5aeb012c67da"
      },
      "source": [
        "#新しいカラムを作成 適当な値を代入\n",
        "gdp['NewCol'] = 100\n",
        "print (gdp)"
      ],
      "execution_count": 58,
      "outputs": [
        {
          "output_type": "stream",
          "text": [
            "             GDP  GDP/pop  NewCol\n",
            "日本       4892255    38313     100\n",
            "インド      1281330     1085     100\n",
            "インドネシア    510504     2246     100\n",
            "韓国        931405    19343     100\n",
            "サウジアラビア   475094    18853     100\n",
            "シンガポール    188261    40793     100\n",
            "タイ        272429     4043     100\n",
            "中国       4416104     3360     100\n",
            "トルコ       730325     9881     100\n",
            "パキスタン     146068      825     100\n",
            "バングラデシュ    79568      497     100\n",
            "フィリピン     167479     1854     100\n",
            "香港        215354    30843     100\n",
            "マレーシア     221437     8197     100\n"
          ],
          "name": "stdout"
        }
      ]
    },
    {
      "cell_type": "code",
      "metadata": {
        "id": "u--Hiow0GF5O",
        "colab_type": "code",
        "colab": {
          "base_uri": "https://localhost:8080/",
          "height": 287
        },
        "outputId": "98964448-becc-4407-c990-90a5a529e21d"
      },
      "source": [
        "#一人当たりGDPとGDPから人口計算しpopカラムを作成\n",
        "gdp['pop'] = gdp['GDP'] / gdp[('GDP/pop')]\n",
        "print (gdp)"
      ],
      "execution_count": 59,
      "outputs": [
        {
          "output_type": "stream",
          "text": [
            "             GDP  GDP/pop  NewCol          pop\n",
            "日本       4892255    38313     100   127.691776\n",
            "インド      1281330     1085     100  1180.949309\n",
            "インドネシア    510504     2246     100   227.294746\n",
            "韓国        931405    19343     100    48.152045\n",
            "サウジアラビア   475094    18853     100    25.199915\n",
            "シンガポール    188261    40793     100     4.615032\n",
            "タイ        272429     4043     100    67.382884\n",
            "中国       4416104     3360     100  1314.316667\n",
            "トルコ       730325     9881     100    73.912053\n",
            "パキスタン     146068      825     100   177.052121\n",
            "バングラデシュ    79568      497     100   160.096579\n",
            "フィリピン     167479     1854     100    90.333873\n",
            "香港        215354    30843     100     6.982265\n",
            "マレーシア     221437     8197     100    27.014396\n"
          ],
          "name": "stdout"
        }
      ]
    },
    {
      "cell_type": "code",
      "metadata": {
        "id": "fvzfey0hGHvR",
        "colab_type": "code",
        "colab": {}
      },
      "source": [
        "#popの単位を100万人から1人に戻す\n",
        "gdp['pop'] = gdp['pop'] * 1000000"
      ],
      "execution_count": 0,
      "outputs": []
    },
    {
      "cell_type": "code",
      "metadata": {
        "id": "ngdJc113GJht",
        "colab_type": "code",
        "colab": {
          "base_uri": "https://localhost:8080/",
          "height": 287
        },
        "outputId": "95d424fb-c7b9-4fdb-e8da-6801ca1882b7"
      },
      "source": [
        "#GDPの全体平均に対しての比率\n",
        "gdp['GDPMeanRatio'] = gdp['GDP'] / gdp['GDP'].mean()\n",
        "print (gdp)"
      ],
      "execution_count": 61,
      "outputs": [
        {
          "output_type": "stream",
          "text": [
            "             GDP  GDP/pop  NewCol           pop  GDPMeanRatio\n",
            "日本       4892255    38313     100  1.276918e+08      4.714578\n",
            "インド      1281330     1085     100  1.180949e+09      1.234795\n",
            "インドネシア    510504     2246     100  2.272947e+08      0.491964\n",
            "韓国        931405    19343     100  4.815204e+07      0.897578\n",
            "サウジアラビア   475094    18853     100  2.519992e+07      0.457840\n",
            "シンガポール    188261    40793     100  4.615032e+06      0.181424\n",
            "タイ        272429     4043     100  6.738288e+07      0.262535\n",
            "中国       4416104     3360     100  1.314317e+09      4.255720\n",
            "トルコ       730325     9881     100  7.391205e+07      0.703801\n",
            "パキスタン     146068      825     100  1.770521e+08      0.140763\n",
            "バングラデシュ    79568      497     100  1.600966e+08      0.076678\n",
            "フィリピン     167479     1854     100  9.033387e+07      0.161397\n",
            "香港        215354    30843     100  6.982265e+06      0.207533\n",
            "マレーシア     221437     8197     100  2.701440e+07      0.213395\n"
          ],
          "name": "stdout"
        }
      ]
    },
    {
      "cell_type": "code",
      "metadata": {
        "id": "ZK-XUPOfGLbO",
        "colab_type": "code",
        "colab": {
          "base_uri": "https://localhost:8080/",
          "height": 287
        },
        "outputId": "3386dbe7-60e5-4d6c-ed22-786d8ccb266c"
      },
      "source": [
        "#人口1億人以上の国は1 それ以外0とするフラグカラム作成\n",
        "#True/Falseをastype(int)でTrue→1 False→0とする\n",
        "gdp['PopFlg'] = (gdp['pop']>=100000000).astype(int)\n",
        "print (gdp)"
      ],
      "execution_count": 62,
      "outputs": [
        {
          "output_type": "stream",
          "text": [
            "             GDP  GDP/pop  NewCol           pop  GDPMeanRatio  PopFlg\n",
            "日本       4892255    38313     100  1.276918e+08      4.714578       1\n",
            "インド      1281330     1085     100  1.180949e+09      1.234795       1\n",
            "インドネシア    510504     2246     100  2.272947e+08      0.491964       1\n",
            "韓国        931405    19343     100  4.815204e+07      0.897578       0\n",
            "サウジアラビア   475094    18853     100  2.519992e+07      0.457840       0\n",
            "シンガポール    188261    40793     100  4.615032e+06      0.181424       0\n",
            "タイ        272429     4043     100  6.738288e+07      0.262535       0\n",
            "中国       4416104     3360     100  1.314317e+09      4.255720       1\n",
            "トルコ       730325     9881     100  7.391205e+07      0.703801       0\n",
            "パキスタン     146068      825     100  1.770521e+08      0.140763       1\n",
            "バングラデシュ    79568      497     100  1.600966e+08      0.076678       1\n",
            "フィリピン     167479     1854     100  9.033387e+07      0.161397       0\n",
            "香港        215354    30843     100  6.982265e+06      0.207533       0\n",
            "マレーシア     221437     8197     100  2.701440e+07      0.213395       0\n"
          ],
          "name": "stdout"
        }
      ]
    },
    {
      "cell_type": "code",
      "metadata": {
        "id": "G-IPohqKGObl",
        "colab_type": "code",
        "colab": {}
      },
      "source": [
        ""
      ],
      "execution_count": 0,
      "outputs": []
    }
  ]
}